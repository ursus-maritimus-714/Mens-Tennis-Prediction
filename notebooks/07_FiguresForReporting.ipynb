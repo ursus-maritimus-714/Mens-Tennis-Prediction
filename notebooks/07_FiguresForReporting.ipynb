{
 "cells": [
  {
   "cell_type": "markdown",
   "id": "364156ba",
   "metadata": {},
   "source": [
    "## Introduction to Detailed Modeling Analyses For Reporting "
   ]
  },
  {
   "cell_type": "markdown",
   "id": "10ac0ff6",
   "metadata": {},
   "source": [
    "In this workbook, the figures for the Final Report were generated"
   ]
  },
  {
   "cell_type": "code",
   "execution_count": 1,
   "id": "c6da232d",
   "metadata": {},
   "outputs": [],
   "source": [
    "import pandas as pd\n",
    "import numpy as np\n",
    "import os\n",
    "import matplotlib.pyplot as plt\n",
    "import seaborn as sns"
   ]
  },
  {
   "cell_type": "markdown",
   "id": "c5778642",
   "metadata": {},
   "source": [
    "## Load Data"
   ]
  },
  {
   "cell_type": "code",
   "execution_count": 355,
   "id": "719e3bc1",
   "metadata": {},
   "outputs": [
    {
     "data": {
      "text/html": [
       "<div>\n",
       "<style scoped>\n",
       "    .dataframe tbody tr th:only-of-type {\n",
       "        vertical-align: middle;\n",
       "    }\n",
       "\n",
       "    .dataframe tbody tr th {\n",
       "        vertical-align: top;\n",
       "    }\n",
       "\n",
       "    .dataframe thead th {\n",
       "        text-align: right;\n",
       "    }\n",
       "</style>\n",
       "<table border=\"1\" class=\"dataframe\">\n",
       "  <thead>\n",
       "    <tr style=\"text-align: right;\">\n",
       "      <th></th>\n",
       "      <th>t_id</th>\n",
       "      <th>t_ident</th>\n",
       "      <th>t_nm</th>\n",
       "      <th>t_co</th>\n",
       "      <th>t_GMT_diff</th>\n",
       "      <th>t_surf</th>\n",
       "      <th>t_ind</th>\n",
       "      <th>t_alt</th>\n",
       "      <th>t_draw_sz</th>\n",
       "      <th>t_lvl</th>\n",
       "      <th>...</th>\n",
       "      <th>p_df_SvPtsWon%_ratio_l60_tw_ss_IO_diff</th>\n",
       "      <th>p_df_SvPtsWon%_ratio_l10_tw_ss_IO_diff</th>\n",
       "      <th>p_df_SvPtsWon%_ratio_l60_tw_ss_SOS_adj_diff</th>\n",
       "      <th>p_df_SvPtsWon%_ratio_l10_tw_ss_SOS_adj_diff</th>\n",
       "      <th>p_df_SvPtsWon%_ratio_l60_tw_ss_IO_SOS_adj_diff</th>\n",
       "      <th>p_df_SvPtsWon%_ratio_l10_tw_ss_IO_SOS_adj_diff</th>\n",
       "      <th>p_df_SvPtsWon%_ratio_l60_tw_ss_SOS_adj_csp_diff</th>\n",
       "      <th>p_df_SvPtsWon%_ratio_l10_tw_ss_SOS_adj_csp_diff</th>\n",
       "      <th>p_df_SvPtsWon%_ratio_l60_tw_ss_IO_SOS_adj_csp_diff</th>\n",
       "      <th>p_df_SvPtsWon%_ratio_l10_tw_ss_IO_SOS_adj_csp_diff</th>\n",
       "    </tr>\n",
       "  </thead>\n",
       "  <tbody>\n",
       "    <tr>\n",
       "      <th>0</th>\n",
       "      <td>20190605</td>\n",
       "      <td>91</td>\n",
       "      <td>Tour Finals</td>\n",
       "      <td>GBR</td>\n",
       "      <td>1</td>\n",
       "      <td>2</td>\n",
       "      <td>1</td>\n",
       "      <td>0</td>\n",
       "      <td>8</td>\n",
       "      <td>3</td>\n",
       "      <td>...</td>\n",
       "      <td>-0.02</td>\n",
       "      <td>-0.01</td>\n",
       "      <td>-0.01</td>\n",
       "      <td>-0.01</td>\n",
       "      <td>-0.02</td>\n",
       "      <td>-0.01</td>\n",
       "      <td>-0.02</td>\n",
       "      <td>0.00</td>\n",
       "      <td>-0.02</td>\n",
       "      <td>0.00</td>\n",
       "    </tr>\n",
       "    <tr>\n",
       "      <th>1</th>\n",
       "      <td>20190605</td>\n",
       "      <td>91</td>\n",
       "      <td>Tour Finals</td>\n",
       "      <td>GBR</td>\n",
       "      <td>1</td>\n",
       "      <td>2</td>\n",
       "      <td>1</td>\n",
       "      <td>0</td>\n",
       "      <td>8</td>\n",
       "      <td>3</td>\n",
       "      <td>...</td>\n",
       "      <td>0.02</td>\n",
       "      <td>0.01</td>\n",
       "      <td>0.01</td>\n",
       "      <td>0.01</td>\n",
       "      <td>0.02</td>\n",
       "      <td>0.01</td>\n",
       "      <td>0.02</td>\n",
       "      <td>0.00</td>\n",
       "      <td>0.02</td>\n",
       "      <td>0.00</td>\n",
       "    </tr>\n",
       "    <tr>\n",
       "      <th>2</th>\n",
       "      <td>20190605</td>\n",
       "      <td>91</td>\n",
       "      <td>Tour Finals</td>\n",
       "      <td>GBR</td>\n",
       "      <td>1</td>\n",
       "      <td>2</td>\n",
       "      <td>1</td>\n",
       "      <td>0</td>\n",
       "      <td>8</td>\n",
       "      <td>3</td>\n",
       "      <td>...</td>\n",
       "      <td>-0.01</td>\n",
       "      <td>0.01</td>\n",
       "      <td>0.00</td>\n",
       "      <td>0.01</td>\n",
       "      <td>-0.01</td>\n",
       "      <td>0.01</td>\n",
       "      <td>0.00</td>\n",
       "      <td>0.01</td>\n",
       "      <td>-0.01</td>\n",
       "      <td>0.00</td>\n",
       "    </tr>\n",
       "    <tr>\n",
       "      <th>3</th>\n",
       "      <td>20190605</td>\n",
       "      <td>91</td>\n",
       "      <td>Tour Finals</td>\n",
       "      <td>GBR</td>\n",
       "      <td>1</td>\n",
       "      <td>2</td>\n",
       "      <td>1</td>\n",
       "      <td>0</td>\n",
       "      <td>8</td>\n",
       "      <td>3</td>\n",
       "      <td>...</td>\n",
       "      <td>0.01</td>\n",
       "      <td>-0.01</td>\n",
       "      <td>0.00</td>\n",
       "      <td>-0.01</td>\n",
       "      <td>0.01</td>\n",
       "      <td>-0.01</td>\n",
       "      <td>0.00</td>\n",
       "      <td>-0.01</td>\n",
       "      <td>0.01</td>\n",
       "      <td>0.00</td>\n",
       "    </tr>\n",
       "    <tr>\n",
       "      <th>4</th>\n",
       "      <td>20190605</td>\n",
       "      <td>91</td>\n",
       "      <td>Tour Finals</td>\n",
       "      <td>GBR</td>\n",
       "      <td>1</td>\n",
       "      <td>2</td>\n",
       "      <td>1</td>\n",
       "      <td>0</td>\n",
       "      <td>8</td>\n",
       "      <td>3</td>\n",
       "      <td>...</td>\n",
       "      <td>-0.03</td>\n",
       "      <td>-0.02</td>\n",
       "      <td>-0.05</td>\n",
       "      <td>-0.03</td>\n",
       "      <td>-0.03</td>\n",
       "      <td>-0.02</td>\n",
       "      <td>-0.05</td>\n",
       "      <td>-0.03</td>\n",
       "      <td>-0.04</td>\n",
       "      <td>-0.03</td>\n",
       "    </tr>\n",
       "  </tbody>\n",
       "</table>\n",
       "<p>5 rows × 689 columns</p>\n",
       "</div>"
      ],
      "text/plain": [
       "       t_id  t_ident         t_nm t_co  t_GMT_diff  t_surf  t_ind  t_alt  \\\n",
       "0  20190605       91  Tour Finals  GBR           1       2      1      0   \n",
       "1  20190605       91  Tour Finals  GBR           1       2      1      0   \n",
       "2  20190605       91  Tour Finals  GBR           1       2      1      0   \n",
       "3  20190605       91  Tour Finals  GBR           1       2      1      0   \n",
       "4  20190605       91  Tour Finals  GBR           1       2      1      0   \n",
       "\n",
       "   t_draw_sz  t_lvl  ...  p_df_SvPtsWon%_ratio_l60_tw_ss_IO_diff  \\\n",
       "0          8      3  ...                                   -0.02   \n",
       "1          8      3  ...                                    0.02   \n",
       "2          8      3  ...                                   -0.01   \n",
       "3          8      3  ...                                    0.01   \n",
       "4          8      3  ...                                   -0.03   \n",
       "\n",
       "   p_df_SvPtsWon%_ratio_l10_tw_ss_IO_diff  \\\n",
       "0                                   -0.01   \n",
       "1                                    0.01   \n",
       "2                                    0.01   \n",
       "3                                   -0.01   \n",
       "4                                   -0.02   \n",
       "\n",
       "  p_df_SvPtsWon%_ratio_l60_tw_ss_SOS_adj_diff  \\\n",
       "0                                       -0.01   \n",
       "1                                        0.01   \n",
       "2                                        0.00   \n",
       "3                                        0.00   \n",
       "4                                       -0.05   \n",
       "\n",
       "   p_df_SvPtsWon%_ratio_l10_tw_ss_SOS_adj_diff  \\\n",
       "0                                        -0.01   \n",
       "1                                         0.01   \n",
       "2                                         0.01   \n",
       "3                                        -0.01   \n",
       "4                                        -0.03   \n",
       "\n",
       "   p_df_SvPtsWon%_ratio_l60_tw_ss_IO_SOS_adj_diff  \\\n",
       "0                                           -0.02   \n",
       "1                                            0.02   \n",
       "2                                           -0.01   \n",
       "3                                            0.01   \n",
       "4                                           -0.03   \n",
       "\n",
       "   p_df_SvPtsWon%_ratio_l10_tw_ss_IO_SOS_adj_diff  \\\n",
       "0                                           -0.01   \n",
       "1                                            0.01   \n",
       "2                                            0.01   \n",
       "3                                           -0.01   \n",
       "4                                           -0.02   \n",
       "\n",
       "   p_df_SvPtsWon%_ratio_l60_tw_ss_SOS_adj_csp_diff  \\\n",
       "0                                            -0.02   \n",
       "1                                             0.02   \n",
       "2                                             0.00   \n",
       "3                                             0.00   \n",
       "4                                            -0.05   \n",
       "\n",
       "   p_df_SvPtsWon%_ratio_l10_tw_ss_SOS_adj_csp_diff  \\\n",
       "0                                             0.00   \n",
       "1                                             0.00   \n",
       "2                                             0.01   \n",
       "3                                            -0.01   \n",
       "4                                            -0.03   \n",
       "\n",
       "   p_df_SvPtsWon%_ratio_l60_tw_ss_IO_SOS_adj_csp_diff  \\\n",
       "0                                              -0.02    \n",
       "1                                               0.02    \n",
       "2                                              -0.01    \n",
       "3                                               0.01    \n",
       "4                                              -0.04    \n",
       "\n",
       "  p_df_SvPtsWon%_ratio_l10_tw_ss_IO_SOS_adj_csp_diff  \n",
       "0                                               0.00  \n",
       "1                                               0.00  \n",
       "2                                               0.00  \n",
       "3                                               0.00  \n",
       "4                                              -0.03  \n",
       "\n",
       "[5 rows x 689 columns]"
      ]
     },
     "execution_count": 355,
     "metadata": {},
     "output_type": "execute_result"
    }
   ],
   "source": [
    "df = pd.read_csv('../data/processed_data/df_player_all_for_EDA.csv')\n",
    "df.head()"
   ]
  },
  {
   "cell_type": "code",
   "execution_count": null,
   "id": "af7613ef",
   "metadata": {},
   "outputs": [],
   "source": [
    "df.info()"
   ]
  },
  {
   "cell_type": "markdown",
   "id": "b0c0d0f3",
   "metadata": {},
   "source": [
    "### Figure 3. Best Model Prediction Quality vs Benchmark Models\n",
    "Data imported from 04_Preprocessing_Training_ClayCourt, 04_Preprocessing_Training_HardCourt, 05_Modeling_HardSurface and 05_Modeling_ClaySurface"
   ]
  },
  {
   "cell_type": "code",
   "execution_count": 87,
   "id": "725e7ced",
   "metadata": {},
   "outputs": [
    {
     "data": {
      "text/html": [
       "<div>\n",
       "<style scoped>\n",
       "    .dataframe tbody tr th:only-of-type {\n",
       "        vertical-align: middle;\n",
       "    }\n",
       "\n",
       "    .dataframe tbody tr th {\n",
       "        vertical-align: top;\n",
       "    }\n",
       "\n",
       "    .dataframe thead th {\n",
       "        text-align: right;\n",
       "    }\n",
       "</style>\n",
       "<table border=\"1\" class=\"dataframe\">\n",
       "  <thead>\n",
       "    <tr style=\"text-align: right;\">\n",
       "      <th></th>\n",
       "      <th>Model_Inclusion</th>\n",
       "      <th>Training_Error</th>\n",
       "      <th>Training_SD</th>\n",
       "      <th>Testing_Error</th>\n",
       "    </tr>\n",
       "  </thead>\n",
       "  <tbody>\n",
       "    <tr>\n",
       "      <th>0</th>\n",
       "      <td>Closing_IWP</td>\n",
       "      <td>5.323221</td>\n",
       "      <td>0.048986</td>\n",
       "      <td>5.185088</td>\n",
       "    </tr>\n",
       "    <tr>\n",
       "      <th>1</th>\n",
       "      <td>Opening_IWP</td>\n",
       "      <td>5.363244</td>\n",
       "      <td>0.046869</td>\n",
       "      <td>5.216757</td>\n",
       "    </tr>\n",
       "    <tr>\n",
       "      <th>2</th>\n",
       "      <td>Full_Model</td>\n",
       "      <td>5.392070</td>\n",
       "      <td>0.038954</td>\n",
       "      <td>5.299039</td>\n",
       "    </tr>\n",
       "    <tr>\n",
       "      <th>3</th>\n",
       "      <td>Rankings_Features</td>\n",
       "      <td>5.596866</td>\n",
       "      <td>0.060046</td>\n",
       "      <td>5.522078</td>\n",
       "    </tr>\n",
       "    <tr>\n",
       "      <th>4</th>\n",
       "      <td>Dummy_Model</td>\n",
       "      <td>6.206023</td>\n",
       "      <td>0.000000</td>\n",
       "      <td>6.110753</td>\n",
       "    </tr>\n",
       "  </tbody>\n",
       "</table>\n",
       "</div>"
      ],
      "text/plain": [
       "     Model_Inclusion  Training_Error  Training_SD  Testing_Error\n",
       "0        Closing_IWP        5.323221     0.048986       5.185088\n",
       "1        Opening_IWP        5.363244     0.046869       5.216757\n",
       "2         Full_Model        5.392070     0.038954       5.299039\n",
       "3  Rankings_Features        5.596866     0.060046       5.522078\n",
       "4        Dummy_Model        6.206023     0.000000       6.110753"
      ]
     },
     "execution_count": 87,
     "metadata": {},
     "output_type": "execute_result"
    }
   ],
   "source": [
    "#Hard Court\n",
    "#Player Performance Features\n",
    "data = [[\"Closing_IWP\", 5.323220909987259, 0.048986239595699026, 5.1850876932956025], [\"Opening_IWP\", 5.363244080641314, 0.0468693698251834, 5.216757254068465], [\"Full_Model\", 5.3920702375117795, 0.038953743799929906, 5.299038777366098], [\"Rankings_Features\", 5.596866460785084, 0.06004629063494603, 5.5220775390240595], [\"Dummy_Model\", 6.2060230096206705, 0, 6.110752533766476]]\n",
    "df = pd.DataFrame(data, columns=[\"Model_Inclusion\", \"Training_Error\", \"Training_SD\", \"Testing_Error\"])\n",
    "df"
   ]
  },
  {
   "cell_type": "code",
   "execution_count": 88,
   "id": "c102ef19",
   "metadata": {},
   "outputs": [
    {
     "data": {
      "text/plain": [
       "(5.1, 6.5)"
      ]
     },
     "execution_count": 88,
     "metadata": {},
     "output_type": "execute_result"
    },
    {
     "data": {
      "image/png": "[encoded data removed]",
      "text/plain": [
       "<Figure size 432x288 with 1 Axes>"
      ]
     },
     "metadata": {
      "needs_background": "light"
     },
     "output_type": "display_data"
    }
   ],
   "source": [
    "#Hard Court plot\n",
    "#plt.figure(figsize=(20, 10))\n",
    "g = sns.barplot(x=\"Model_Inclusion\",y=\"Training_Error\",data=df, palette = [\"black\", \"grey\", \"blue\", \"rosybrown\", \"tan\"], yerr=df[\"Training_SD\"]*1)\n",
    "g.set_ylabel(\"training_error (mean + se)\")\n",
    "#g.set(xticklabels=[\"\", \"\"])\n",
    "g.set_xlabel(\"Model_Error\")\n",
    "g.set_ylim(5.1,6.5)"
   ]
  },
  {
   "cell_type": "code",
   "execution_count": 89,
   "id": "5bb03d0d",
   "metadata": {},
   "outputs": [
    {
     "data": {
      "text/html": [
       "<div>\n",
       "<style scoped>\n",
       "    .dataframe tbody tr th:only-of-type {\n",
       "        vertical-align: middle;\n",
       "    }\n",
       "\n",
       "    .dataframe tbody tr th {\n",
       "        vertical-align: top;\n",
       "    }\n",
       "\n",
       "    .dataframe thead th {\n",
       "        text-align: right;\n",
       "    }\n",
       "</style>\n",
       "<table border=\"1\" class=\"dataframe\">\n",
       "  <thead>\n",
       "    <tr style=\"text-align: right;\">\n",
       "      <th></th>\n",
       "      <th>Model_Inclusion</th>\n",
       "      <th>Training_Error</th>\n",
       "      <th>Training_SD</th>\n",
       "      <th>Testing_Error</th>\n",
       "    </tr>\n",
       "  </thead>\n",
       "  <tbody>\n",
       "    <tr>\n",
       "      <th>0</th>\n",
       "      <td>Closing_IWP</td>\n",
       "      <td>5.614965</td>\n",
       "      <td>0.125581</td>\n",
       "      <td>5.658880</td>\n",
       "    </tr>\n",
       "    <tr>\n",
       "      <th>1</th>\n",
       "      <td>Opening_IWP</td>\n",
       "      <td>5.638170</td>\n",
       "      <td>0.128929</td>\n",
       "      <td>5.659932</td>\n",
       "    </tr>\n",
       "    <tr>\n",
       "      <th>2</th>\n",
       "      <td>Full_Model</td>\n",
       "      <td>5.713487</td>\n",
       "      <td>0.143111</td>\n",
       "      <td>5.768176</td>\n",
       "    </tr>\n",
       "    <tr>\n",
       "      <th>3</th>\n",
       "      <td>Rankings_Features</td>\n",
       "      <td>5.927366</td>\n",
       "      <td>0.152643</td>\n",
       "      <td>6.011292</td>\n",
       "    </tr>\n",
       "    <tr>\n",
       "      <th>4</th>\n",
       "      <td>Dummy_Model</td>\n",
       "      <td>6.463570</td>\n",
       "      <td>0.000000</td>\n",
       "      <td>6.538321</td>\n",
       "    </tr>\n",
       "  </tbody>\n",
       "</table>\n",
       "</div>"
      ],
      "text/plain": [
       "     Model_Inclusion  Training_Error  Training_SD  Testing_Error\n",
       "0        Closing_IWP        5.614965     0.125581       5.658880\n",
       "1        Opening_IWP        5.638170     0.128929       5.659932\n",
       "2         Full_Model        5.713487     0.143111       5.768176\n",
       "3  Rankings_Features        5.927366     0.152643       6.011292\n",
       "4        Dummy_Model        6.463570     0.000000       6.538321"
      ]
     },
     "execution_count": 89,
     "metadata": {},
     "output_type": "execute_result"
    }
   ],
   "source": [
    "#Clay Court\n",
    "#Player Performance Features\n",
    "data = [[\"Closing_IWP\", 5.614965118530511, 0.1255807733963566, 5.658879760386544], [\"Opening_IWP\", 5.6381697224086125, 0.12892907032710038, 5.659931515858962], [\"Full_Model\", 5.713487018914067, 0.14311069424948566, 5.768175835845324], [\"Rankings_Features\", 5.927366019292868, 0.15264293734627524, 6.011291934855334], [\"Dummy_Model\", 6.463569629861292, 0, 6.538320961304883]]\n",
    "df = pd.DataFrame(data, columns=[\"Model_Inclusion\", \"Training_Error\", \"Training_SD\", \"Testing_Error\"])\n",
    "df"
   ]
  },
  {
   "cell_type": "code",
   "execution_count": 90,
   "id": "a58c3e60",
   "metadata": {},
   "outputs": [
    {
     "data": {
      "text/plain": [
       "(5.1, 6.5)"
      ]
     },
     "execution_count": 90,
     "metadata": {},
     "output_type": "execute_result"
    },
    {
     "data": {
      "image/png": "[encoded data removed]",
      "text/plain": [
       "<Figure size 432x288 with 1 Axes>"
      ]
     },
     "metadata": {
      "needs_background": "light"
     },
     "output_type": "display_data"
    }
   ],
   "source": [
    "#Clay Court plot\n",
    "#plt.figure(figsize=(20, 10))\n",
    "g = sns.barplot(x=\"Model_Inclusion\",y=\"Training_Error\",data=df, palette = [\"black\", \"grey\", \"maroon\", \"rosybrown\", \"tan\"], yerr=df[\"Training_SD\"]*1)\n",
    "g.set_ylabel(\"training_error (mean + se)\")\n",
    "#g.set(xticklabels=[\"\", \"\"])\n",
    "g.set_xlabel(\"Model_Error\")\n",
    "g.set_ylim(5.1,6.5)"
   ]
  },
  {
   "cell_type": "markdown",
   "id": "238ab678",
   "metadata": {},
   "source": [
    "### Figure 4. Best Model Prediction Quality By Surface"
   ]
  },
  {
   "cell_type": "markdown",
   "id": "535c4f35",
   "metadata": {},
   "source": [
    "Non-Equal Samples Per Surface\n",
    "Sources: 05_Modeling_HardSurface, 05_Modeling_ClaySurface, and 05_Modeling_Clay_Hard_Hybrid_Model"
   ]
  },
  {
   "cell_type": "code",
   "execution_count": 91,
   "id": "9cbbee50",
   "metadata": {},
   "outputs": [
    {
     "data": {
      "text/html": [
       "<div>\n",
       "<style scoped>\n",
       "    .dataframe tbody tr th:only-of-type {\n",
       "        vertical-align: middle;\n",
       "    }\n",
       "\n",
       "    .dataframe tbody tr th {\n",
       "        vertical-align: top;\n",
       "    }\n",
       "\n",
       "    .dataframe thead th {\n",
       "        text-align: right;\n",
       "    }\n",
       "</style>\n",
       "<table border=\"1\" class=\"dataframe\">\n",
       "  <thead>\n",
       "    <tr style=\"text-align: right;\">\n",
       "      <th></th>\n",
       "      <th>Model_Surface_Inclusion</th>\n",
       "      <th>Training_Error</th>\n",
       "      <th>Training_SD</th>\n",
       "      <th>Testing_Error</th>\n",
       "    </tr>\n",
       "  </thead>\n",
       "  <tbody>\n",
       "    <tr>\n",
       "      <th>0</th>\n",
       "      <td>Hard_Court</td>\n",
       "      <td>5.392070</td>\n",
       "      <td>0.038954</td>\n",
       "      <td>5.299039</td>\n",
       "    </tr>\n",
       "    <tr>\n",
       "      <th>1</th>\n",
       "      <td>Clay_Court</td>\n",
       "      <td>5.713487</td>\n",
       "      <td>0.143111</td>\n",
       "      <td>5.768176</td>\n",
       "    </tr>\n",
       "    <tr>\n",
       "      <th>2</th>\n",
       "      <td>All_Surface</td>\n",
       "      <td>5.616525</td>\n",
       "      <td>0.044220</td>\n",
       "      <td>5.578247</td>\n",
       "    </tr>\n",
       "  </tbody>\n",
       "</table>\n",
       "</div>"
      ],
      "text/plain": [
       "  Model_Surface_Inclusion  Training_Error  Training_SD  Testing_Error\n",
       "0              Hard_Court        5.392070     0.038954       5.299039\n",
       "1              Clay_Court        5.713487     0.143111       5.768176\n",
       "2             All_Surface        5.616525     0.044220       5.578247"
      ]
     },
     "execution_count": 91,
     "metadata": {},
     "output_type": "execute_result"
    }
   ],
   "source": [
    "data = [[\"Hard_Court\", 5.3920702375117795, 0.038953743799929906, 5.299038777366098], [\"Clay_Court\", 5.713487018914067, 0.14311069424948566, 5.768175835845324], [\"All_Surface\", 5.616524506466524, 0.04422023576678061, 5.578247149415557]]\n",
    "df = pd.DataFrame(data, columns=[\"Model_Surface_Inclusion\", \"Training_Error\", \"Training_SD\", \"Testing_Error\"])\n",
    "df"
   ]
  },
  {
   "cell_type": "code",
   "execution_count": 92,
   "id": "5f508b31",
   "metadata": {},
   "outputs": [
    {
     "data": {
      "text/plain": [
       "(5.1, 6.0)"
      ]
     },
     "execution_count": 92,
     "metadata": {},
     "output_type": "execute_result"
    },
    {
     "data": {
      "image/png": "[encoded data removed]",
      "text/plain": [
       "<Figure size 432x288 with 1 Axes>"
      ]
     },
     "metadata": {
      "needs_background": "light"
     },
     "output_type": "display_data"
    }
   ],
   "source": [
    "#plt.figure(figsize=(20, 10))\n",
    "g = sns.barplot(x=\"Model_Surface_Inclusion\",y=\"Training_Error\",data=df, palette = [\"blue\",\"maroon\",\"indigo\"], yerr=df[\"Training_SD\"]*1)\n",
    "g.set_ylabel(\"training_error (mean + se)\")\n",
    "#g.set(xticklabels=[\"\", \"\"])\n",
    "g.set_xlabel(\"Model_Error\")\n",
    "g.set_ylim(5.1,6)"
   ]
  },
  {
   "cell_type": "code",
   "execution_count": 231,
   "id": "385cdc59",
   "metadata": {},
   "outputs": [
    {
     "data": {
      "text/plain": [
       "(5494.0, 2265.0, 7759.0)"
      ]
     },
     "execution_count": 231,
     "metadata": {},
     "output_type": "execute_result"
    }
   ],
   "source": [
    "# Hard Court No. Matches\n",
    "x = (8241.0 + 2747.0)/2\n",
    "\n",
    "\n",
    "#Clay Court No. Matches\n",
    "y = (3397.5 + 1132.5)/2\n",
    "\n",
    "# Clay + Hard No. Matches\n",
    "z = x + y\n",
    "\n",
    "x,y,z"
   ]
  },
  {
   "cell_type": "markdown",
   "id": "5be34dfe",
   "metadata": {},
   "source": [
    "Equal samples per surface\n",
    "Sources: 05_Modeling_VariableTimeRangeAnalysis, 05_Modeling_Clay_Hard_Hybrid_Model"
   ]
  },
  {
   "cell_type": "code",
   "execution_count": 93,
   "id": "48930765",
   "metadata": {},
   "outputs": [
    {
     "data": {
      "text/html": [
       "<div>\n",
       "<style scoped>\n",
       "    .dataframe tbody tr th:only-of-type {\n",
       "        vertical-align: middle;\n",
       "    }\n",
       "\n",
       "    .dataframe tbody tr th {\n",
       "        vertical-align: top;\n",
       "    }\n",
       "\n",
       "    .dataframe thead th {\n",
       "        text-align: right;\n",
       "    }\n",
       "</style>\n",
       "<table border=\"1\" class=\"dataframe\">\n",
       "  <thead>\n",
       "    <tr style=\"text-align: right;\">\n",
       "      <th></th>\n",
       "      <th>Model_Surface_Inclusion</th>\n",
       "      <th>Training_Error</th>\n",
       "      <th>Training_SD</th>\n",
       "      <th>Testing_Error</th>\n",
       "    </tr>\n",
       "  </thead>\n",
       "  <tbody>\n",
       "    <tr>\n",
       "      <th>0</th>\n",
       "      <td>Hard_Court</td>\n",
       "      <td>5.42</td>\n",
       "      <td>0.12</td>\n",
       "      <td>5.38</td>\n",
       "    </tr>\n",
       "    <tr>\n",
       "      <th>1</th>\n",
       "      <td>Clay_Court</td>\n",
       "      <td>5.71</td>\n",
       "      <td>0.14</td>\n",
       "      <td>5.77</td>\n",
       "    </tr>\n",
       "    <tr>\n",
       "      <th>2</th>\n",
       "      <td>All_Surface</td>\n",
       "      <td>5.58</td>\n",
       "      <td>0.08</td>\n",
       "      <td>5.52</td>\n",
       "    </tr>\n",
       "  </tbody>\n",
       "</table>\n",
       "</div>"
      ],
      "text/plain": [
       "  Model_Surface_Inclusion  Training_Error  Training_SD  Testing_Error\n",
       "0              Hard_Court            5.42         0.12           5.38\n",
       "1              Clay_Court            5.71         0.14           5.77\n",
       "2             All_Surface            5.58         0.08           5.52"
      ]
     },
     "execution_count": 93,
     "metadata": {},
     "output_type": "execute_result"
    }
   ],
   "source": [
    "data = [[\"Hard_Court\", 5.42, 0.12, 5.38], [\"Clay_Court\", 5.71, 0.14, 5.77], [\"All_Surface\", 5.58, 0.08, 5.52]]\n",
    "df = pd.DataFrame(data, columns=[\"Model_Surface_Inclusion\", \"Training_Error\", \"Training_SD\", \"Testing_Error\"])\n",
    "df"
   ]
  },
  {
   "cell_type": "code",
   "execution_count": 94,
   "id": "51956428",
   "metadata": {},
   "outputs": [
    {
     "data": {
      "text/plain": [
       "(5.1, 6.0)"
      ]
     },
     "execution_count": 94,
     "metadata": {},
     "output_type": "execute_result"
    },
    {
     "data": {
      "image/png": "[encoded data removed]",
      "text/plain": [
       "<Figure size 432x288 with 1 Axes>"
      ]
     },
     "metadata": {
      "needs_background": "light"
     },
     "output_type": "display_data"
    }
   ],
   "source": [
    "#plt.figure(figsize=(20, 10))\n",
    "g = sns.barplot(x=\"Model_Surface_Inclusion\",y=\"Training_Error\",data=df, palette = [\"blue\",\"maroon\",\"indigo\"], yerr=df[\"Training_SD\"]*1)\n",
    "g.set_ylabel(\"training_error (mean + se)\")\n",
    "#g.set(xticklabels=[\"\", \"\"])\n",
    "g.set_xlabel(\"Model_Error\")\n",
    "g.set_ylim(5.1,6)"
   ]
  },
  {
   "cell_type": "code",
   "execution_count": 232,
   "id": "2a758e4b",
   "metadata": {},
   "outputs": [
    {
     "data": {
      "text/plain": [
       "(2265.0, 2265.0, 4530.0)"
      ]
     },
     "execution_count": 232,
     "metadata": {},
     "output_type": "execute_result"
    }
   ],
   "source": [
    "# Hard Court No. Matches\n",
    "x = (3397.5 + 1132.5)/2\n",
    "\n",
    "\n",
    "#Clay Court No. Matches\n",
    "y = (3397.5 + 1132.5)/2\n",
    "\n",
    "# Clay + Hard No. Matches\n",
    "z = x + y\n",
    "\n",
    "x,y,z"
   ]
  },
  {
   "cell_type": "markdown",
   "id": "39a99648",
   "metadata": {},
   "source": [
    "### Figure 5.  Hard Court Best Model Best of 3 vs Best of 5 Matches - 2011-2019\n",
    "Sources: 04_Preprocessing_Training_Bestof3_vs_Bestof5_Analysis, 05_Modeling_Bestof3_vs_Bestof5_Analysis (see Supp. Fig. 1 for All Matches Data for this time range-copied in here for both surfaces)"
   ]
  },
  {
   "cell_type": "markdown",
   "id": "fa507cd9",
   "metadata": {},
   "source": [
    "Hard Court Sample N's (2011-2019) (20 match threshold for BOTH players in match)\n",
    "All Matches\n",
    "(14565.0, 4855.0)\n",
    "\n",
    "Best of 3\n",
    "(12214.5, 4071.5)\n",
    "\n",
    "Best of 5\n",
    "(2350.5, 783.5)"
   ]
  },
  {
   "cell_type": "code",
   "execution_count": null,
   "id": "aaef3ed5",
   "metadata": {},
   "outputs": [],
   "source": [
    "df = pd.DataFrame([['All Matches', 5.472486454526398, 0.03335998762076141, 5.418638726155855, 0.050092583495323646], ['Best of 3', 5.5655650903173255, 0.04949183162151715, 5.5100104141909485, 0.05180726306084491], ['Best of 5', 4.831553707519485, 0.19921464869443262, 4.70556624530562, 0.14688978541840148]], columns = [\"Match Inclusion\", \"mean_1\", \"std_1\", \"mean_2\", \"std_2\"])\n",
    "\n",
    "#convert std columns to array for plotting\n",
    "yerr = df[[\"std_1\", \"std_2\"]].to_numpy().T"
   ]
  },
  {
   "cell_type": "code",
   "execution_count": null,
   "id": "07005519",
   "metadata": {},
   "outputs": [],
   "source": [
    "plt.figure(figsize=(20, 10))\n",
    "df[['mean_1', 'mean_2']].plot(kind='bar', yerr = yerr, stacked=False, color = [['blue', 'mediumblue', 'darkblue'], ['Black']])\n",
    "plt.xlabel('Match Inclusions')\n",
    "plt.ylabel('training_error (mean +- sd)')\n",
    "plt.ylim(4.25, 6.25)\n",
    "plt.legend(labels = [\"Best Model\", \"Closing IWP Model\"], loc = \"upper right\")\n",
    "x = [0, 1, 2]\n",
    "labels = [\"All Matches\", \"Best of 3\", \"Best of 5\"]\n",
    "plt.xticks(x, labels, rotation=\"horizontal\");"
   ]
  },
  {
   "cell_type": "code",
   "execution_count": null,
   "id": "93a74465",
   "metadata": {},
   "outputs": [],
   "source": [
    "#Compute number of matches per match inclusion \n",
    "x = (2350.5 + 783.5)/2\n",
    "x"
   ]
  },
  {
   "cell_type": "markdown",
   "id": "0e5e7c71",
   "metadata": {},
   "source": [
    "Clay Court Sample N's (2011-2019) (20 match threshold for BOTH players in match)\n",
    "All Matches\n",
    "(5928.0, 1976.0)\n",
    "\n",
    "Best of 3\n",
    "(4993.5, 1664.5)\n",
    "\n",
    "Best of 5\n",
    "(934.5, 311.5)"
   ]
  },
  {
   "cell_type": "code",
   "execution_count": null,
   "id": "645abc98",
   "metadata": {},
   "outputs": [],
   "source": [
    "df = pd.DataFrame([['All Matches', 5.805303549126235, 0.15613181002358473, 5.672096323311585, 0.1536423755100191], ['Best of 3', 6.032672973537631, 0.10806263238364583, 5.920730695098488, 0.11251430143158273], ['Best of 5', 4.606380775533118, 0.24002028949591656, 4.528369283063503, 0.27959935661755875]], columns = [\"Match Inclusion\", \"mean_1\", \"std_1\", \"mean_2\", \"std_2\"])\n",
    "\n",
    "#convert std columns to array for plotting\n",
    "yerr = df[[\"std_1\", \"std_2\"]].to_numpy().T"
   ]
  },
  {
   "cell_type": "code",
   "execution_count": null,
   "id": "69fdc648",
   "metadata": {},
   "outputs": [],
   "source": [
    "plt.figure(figsize=(20, 10))\n",
    "df[['mean_1', 'mean_2']].plot(kind='bar', yerr = yerr, stacked=False, color = [['maroon', 'firebrick', 'brown'], ['Black']])\n",
    "plt.xlabel('Match Inclusions')\n",
    "plt.ylabel('training_error (mean +- sd)')\n",
    "plt.ylim(4.25, 6.25)\n",
    "plt.legend(labels = [\"Best Model\", \"Closing IWP Model\"], loc = \"upper right\")\n",
    "x = [0, 1, 2]\n",
    "labels = [\"All Matches\", \"Best of 3\", \"Best of 5\"]\n",
    "plt.xticks(x, labels, rotation=\"horizontal\");"
   ]
  },
  {
   "cell_type": "code",
   "execution_count": null,
   "id": "4551629c",
   "metadata": {},
   "outputs": [],
   "source": [
    "#Compute number of matches per match inclusion \n",
    "x = (934.5 + 311.5)/2\n",
    "x"
   ]
  },
  {
   "cell_type": "markdown",
   "id": "3f653cd3",
   "metadata": {},
   "source": [
    "### Figure 6. Best Model Prediction Quality By Opening to Closing IWP Movement Threshold\n",
    "Source Notebooks: 04_Preprocessing_Training_ClayCourt_IWP_Movement_Analysis, 04_Preprocessing_Training_HardCourt_IWP_Movement_Analysis 05_Modeling_OddsMovementAnalysis"
   ]
  },
  {
   "cell_type": "markdown",
   "id": "c01bb8bf",
   "metadata": {},
   "source": [
    "#### Hard Court"
   ]
  },
  {
   "cell_type": "markdown",
   "id": "dcb3c3e7",
   "metadata": {},
   "source": [
    "Hard Court Gradient Boosting Regressor - RMSE Train(STD)/Test with best hyperparameters\n",
    "Different IWP Opening to Closing movement filter levels\n",
    "2015-2019 in model (2009-2014 for stats accrual only) \n",
    "\n",
    "All matches included (8241.0, 2747.0)\n",
    "(5.3920702375117795, 0.038953743799929906), 5.299038777366098\n",
    "\n",
    "Filter out matches with movement >10% (8005.5, 2668.5)\n",
    "(5.386220403547629, 0.08947386536655269), 5.307046385217312\n",
    "\n",
    "Filter out matches with movement >7.5% (7572.0, 2524.0)\n",
    "(5.368716582686552, 0.1471107342023909), 5.275708019851824 \n",
    "\n",
    "Filter out matches with movement >5% (6451.5, 2150.5)\n",
    "(5.345860318351832, 0.0758092820889194), 5.319251424294432\n",
    "\n",
    "Filter out matches with movement >4% (5577.0, 1859.0)\n",
    "(5.252960445114428, 0.09135028563317132), 5.453645609589488\n",
    "\n",
    "Filter out matches with movement >3% (4534.5, 1511.5)\n",
    "(5.244755708416761, 0.13221474167720548), 5.403873277770953 \n",
    "\n",
    "Filter out matches with movement >2.5% (3915.75, 1305.25)\n",
    "(5.276954011570096, 0.10712474624495678), 5.375349825953019\n",
    "\n",
    "Filter out matches with movement >2% (3184.5, 1061.5)\n",
    "(5.276868998364162, 0.11326675542188339), 5.426328000606418 \n",
    "\n",
    "Filter out matches with movement >1.25% (2073.0, 691.0)\n",
    "(5.352231618736324, 0.20662754803144975), 5.344678429792831"
   ]
  },
  {
   "cell_type": "code",
   "execution_count": 17,
   "id": "65fc2f9a",
   "metadata": {},
   "outputs": [],
   "source": [
    "#Hard Court\n",
    "#Reorganizing training mean and sd to use Matplotlib because of Seaborn limitations with using pre-computed error bars per condition (very annoying that they can't address this)\n",
    "#see https://stackoverflow.com/questions/23144784/plotting-error-bars-on-grouped-bars-in-pandas\n",
    "\n",
    "df = pd.DataFrame([[\"All_Matches\", 5.3920702375117795, 5.32, 0.038953743799929906, .05], [\"<7.5%\", 5.368716582686552, 5.29, 0.1471107342023909, .14], [\"<5%\", 5.345860318351832, 5.28, 0.0758092820889194, .06], [\"<4%\", 5.252960445114428, 5.18, 0.09135028563317132, .08], [\"<3%\", 5.244755708416761, 5.20, 0.13221474167720548, .14], [\"<2.5%\", 5.276954011570096, 5.23, 0.10712474624495678, .09], [\"<2%\", 5.276868998364162, 5.22 , 0.11326675542188339, .13]], columns = [\"IWP_Cutoff\", \"mean_1\", \"mean_2\", \"std_1\", \"std_2\"])\n",
    "\n",
    "#convert std columns to array for plotting\n",
    "yerr = df[[\"std_1\", \"std_2\"]].to_numpy().T"
   ]
  },
  {
   "cell_type": "code",
   "execution_count": 18,
   "id": "b833918c",
   "metadata": {},
   "outputs": [
    {
     "data": {
      "image/png": "[encoded data removed]",
      "text/plain": [
       "<Figure size 432x288 with 1 Axes>"
      ]
     },
     "metadata": {
      "needs_background": "light"
     },
     "output_type": "display_data"
    }
   ],
   "source": [
    "#Hard Court plot\n",
    "df[['mean_1', 'mean_2']].plot(kind='bar', yerr = yerr, stacked=False, color= ['Blue', 'Black'], error_kw=dict(ecolor='k'))\n",
    "plt.xlabel('IWP_Cutoff')\n",
    "plt.ylabel('training_error (mean +- sd)')\n",
    "plt.ylim(5.1,6.3)\n",
    "plt.legend(labels = [\"Best Model\", \"Closing IWP Model\"])\n",
    "x = [0, 1, 2, 3, 4, 5, 6]\n",
    "labels = [\"All_Matches\", \"<7.5%\", \"<5%\", \"<4%\", \"<3%\", \"<2.5%\", \"<2%\"]\n",
    "plt.xticks(x, labels, rotation=\"horizontal\");"
   ]
  },
  {
   "cell_type": "code",
   "execution_count": 19,
   "id": "ba00489b",
   "metadata": {},
   "outputs": [
    {
     "data": {
      "text/plain": [
       "(0.4331111019800786,\n",
       " 0.8569977230354371,\n",
       " 2.579895777870007,\n",
       " 2.7320587938594403,\n",
       " 2.134917033180284,\n",
       " 2.1364936670553796,\n",
       " 0.5639097744360949,\n",
       " 0.7518796992481209,\n",
       " 2.6315789473684315,\n",
       " 2.2556390977443628,\n",
       " 1.6917293233082678,\n",
       " 1.8796992481203108)"
      ]
     },
     "execution_count": 19,
     "metadata": {},
     "output_type": "execute_result"
    }
   ],
   "source": [
    "# Hard Court\n",
    "# Percentigized changes from \"all matches\" for Fig. 5\n",
    "\n",
    "#Full Model\n",
    "#delta10_FM = ((5.3920702375117795 - 5.386220403547629)/5.3920702375117795)*100\n",
    "delta75_FM = ((5.3920702375117795 - 5.368716582686552)/5.3920702375117795)*100\n",
    "delta5_FM = ((5.3920702375117795 - 5.345860318351832)/5.3920702375117795)*100\n",
    "delta4_FM = ((5.3920702375117795 - 5.252960445114428)/5.3920702375117795)*100\n",
    "delta3_FM = ((5.3920702375117795 - 5.244755708416761)/5.3920702375117795)*100                                                                   \n",
    "delta25_FM = ((5.3920702375117795 - 5.276954011570096)/5.3920702375117795)*100\n",
    "delta2_FM = ((5.3920702375117795 - 5.276868998364162)/5.3920702375117795)*100\n",
    "#delta125_FM = ((5.3920702375117795 - 5.352231618736324)/5.3920702375117795)*100\n",
    "\n",
    "#Closing IWP Model\n",
    "#delta10_IWP = ((5.32 - )/5.32)*100\n",
    "delta75_IWP = ((5.32 - 5.29)/5.32)*100\n",
    "delta5_IWP = ((5.32 - 5.28)/5.32)*100\n",
    "delta4_IWP = ((5.32 - 5.18)/5.32)*100\n",
    "delta3_IWP = ((5.32 - 5.2)/5.32)*100\n",
    "delta25_IWP = ((5.32 - 5.23)/5.32)*100\n",
    "delta2_IWP = ((5.32 - 5.22)/5.32)*100\n",
    "#delta125_IWP = ((5.32 - )/5.32)*100\n",
    "\n",
    "delta75_FM,delta5_FM,delta4_FM,delta3_FM,delta25_FM,delta2_FM,delta75_IWP,delta5_IWP,delta4_IWP,delta3_IWP,delta25_IWP,delta2_IWP "
   ]
  },
  {
   "cell_type": "code",
   "execution_count": null,
   "id": "478847ab",
   "metadata": {},
   "outputs": [],
   "source": [
    "#Calculate n of N% at different filter thresholds for figure for hard court\n",
    "x = (()/(8241.0 + 2747.0))*100\n",
    "x"
   ]
  },
  {
   "cell_type": "code",
   "execution_count": 346,
   "id": "782dd09a",
   "metadata": {},
   "outputs": [
    {
     "data": {
      "text/plain": [
       "2123.0"
      ]
     },
     "execution_count": 346,
     "metadata": {},
     "output_type": "execute_result"
    }
   ],
   "source": [
    "#Calculate n of N at different filter thresholds for figure for hard court\n",
    "x = (3184.5 + 1061.5)/2\n",
    "x"
   ]
  },
  {
   "cell_type": "markdown",
   "id": "d262afeb",
   "metadata": {},
   "source": [
    "#### Clay Court"
   ]
  },
  {
   "cell_type": "markdown",
   "id": "a65c6668",
   "metadata": {},
   "source": [
    "Clay Court Gradient Boosting Regressor - RMSE Train(STD)/Test with best hyperparameters\n",
    "Different IWP Opening to Closing movement filter levels\n",
    "2012-2019 in model (2009-2011 for stats accrual only) \n",
    "\n",
    "All matches included (5410.5, 1803.5)\n",
    "(5.8295350518898434, 0.06035952193269781), 5.7805549325786885\n",
    "\n",
    "Filter out matches with movement >10% (5205.0, 1735.0)\n",
    "(5.705156322411054, 0.1196786322261165), 6.010500931726751\n",
    "\n",
    "Filter out matches with movement >7.5% (4887.0, 1629.0)\n",
    "(5.764393275369576, 0.11040028039931808), 5.792018178570522\n",
    "\n",
    "Filter out matches with movement >5% (4084.5, 1361.5)\n",
    "(5.805716897667308, 0.13977817995371952), 5.634782071665985\n",
    "\n",
    "Filter out matches with movement >4% (3561.75, 1187.25)\n",
    "(5.798275735221569, 0.06692228952308785), 5.6713375369145185\n",
    "\n",
    "Filter out matches with movement >3% (2896.5, 965.5)\n",
    "(5.687456684134477, 0.20140078802327502), 6.034778732902343   \n",
    "\n",
    "Filter out matches with movement >2.5% (2542.5, 847.5)\n",
    "(5.805042732000238, 0.2054246963573721), 5.701201128435683\n",
    "\n",
    "Filter out matches with movement >2% (2078.25, 692.75)\n",
    "(5.799972800064292, 0.23100089024213047), 5.84270004623748\n",
    "\n",
    "Filter out matches with movement >1.25% (1369.5, 456.5)\n",
    "(5.823412377825655, 0.37699645965896295), 5.7103840892406"
   ]
  },
  {
   "cell_type": "code",
   "execution_count": 27,
   "id": "bec48ca2",
   "metadata": {},
   "outputs": [],
   "source": [
    "#Clay Court\n",
    "#Reorganizing training mean and sd to use Matplotlib because of Seaborn limitations with using pre-computed error bars per condition (very annoying that they can't address this)\n",
    "#see https://stackoverflow.com/questions/23144784/plotting-error-bars-on-grouped-bars-in-pandas\n",
    "\n",
    "df = pd.DataFrame([[\"All_Matches\", 5.8295350518898434, 5.72, 0.06035952193269781, .09], [\"<7.5%\", 5.764393275369576, 5.65, 0.11040028039931808, .14], [\"<5%\", 5.805716897667308, 5.68, 0.13977817995371952, .14], [\"<4%\", 5.798275735221569, 5.66, 0.06692228952308785, .07], [\"<3%\", 5.687456684134477, 5.52, 0.20140078802327502,.18], [\"<2.5%\", 5.805042732000238, 5.65, 0.2054246963573721, .22], [\"<2%\", 5.799972800064292, 5.64, 0.23100089024213047, .24]], columns = [\"IWP_Cutoff\", \"mean_1\", \"mean_2\", \"std_1\", \"std_2\"])\n",
    "\n",
    "#convert std columns to array for plotting\n",
    "yerr = df[[\"std_1\", \"std_2\"]].to_numpy().T"
   ]
  },
  {
   "cell_type": "code",
   "execution_count": 28,
   "id": "fd5d30ac",
   "metadata": {},
   "outputs": [
    {
     "data": {
      "image/png": "[encoded data removed]",
      "text/plain": [
       "<Figure size 432x288 with 1 Axes>"
      ]
     },
     "metadata": {
      "needs_background": "light"
     },
     "output_type": "display_data"
    }
   ],
   "source": [
    "#Clay Court plot\n",
    "df[['mean_1', 'mean_2']].plot(kind='bar', yerr = yerr, stacked=False, color= ['Maroon', 'Black'], error_kw=dict(ecolor='k'))\n",
    "plt.xlabel('IWP_Cutoff')\n",
    "plt.ylabel('training_error (mean +- sd)')\n",
    "plt.ylim(5.1,6.3)\n",
    "plt.legend(labels = [\"Best Model\", \"Closing IWP Model\"])\n",
    "x = [0, 1, 2, 3, 4, 5, 6]\n",
    "labels = [\"All_Matches\", \"<7.5%\", \"<5%\", \"<4%\", \"<3%\", \"<2.5%\", \"<2%\"]\n",
    "plt.xticks(x, labels, rotation=\"horizontal\");"
   ]
  },
  {
   "cell_type": "code",
   "execution_count": null,
   "id": "57b95392",
   "metadata": {},
   "outputs": [],
   "source": [
    "# Clay Court\n",
    "# Percentigized changes from \"all matches\" for Fig. 5\n",
    "\n",
    "#Full Model\n",
    "#delta10_FM = ((5.8295350518898434 - )/5.8295350518898434)*100  \n",
    "delta75_FM = ((5.8295350518898434 - )/5.8295350518898434)*100\n",
    "delta5_FM = ((5.8295350518898434 - )/5.8295350518898434)*100\n",
    "delta4_FM = ((5.8295350518898434 - )/5.8295350518898434)*100\n",
    "delta3_FM = ((5.8295350518898434 - )/5.8295350518898434)*100                                                                   \n",
    "delta25_FM = ((5.8295350518898434 - )/5.8295350518898434)*100\n",
    "delta2_FM = ((5.8295350518898434 - )/5.8295350518898434)*100\n",
    "#delta125_FM = ((5.8295350518898434 - )/5.8295350518898434)*100\n",
    "\n",
    "#Closing IWP Model\n",
    "#delta10_IWP = ((5.72 - )/5.72)*100\n",
    "delta75_IWP = ((5.72 - 5.65)/5.72)*100\n",
    "delta5_IWP = ((5.72 - 5.68)/5.72)*100\n",
    "delta4_IWP = ((5.72 - 5.66)/5.72)*100\n",
    "delta3_IWP = ((5.72 - 5.52)/5.72)*100\n",
    "delta25_IWP = ((5.72 - 5.65)/5.72)*100\n",
    "delta2_IWP = ((5.72 - 5.64)/5.72)*100\n",
    "#delta125_IWP = ((5.72 - )/5.72)*100\n",
    "\n",
    "delta75_FM,delta5_FM,delta4_FM,delta3_FM,delta25_FM,delta2_FM,delta75_IWP,delta5_IWP,delta4_IWP,delta3_IWP,delta25_IWP,delta2_IWP "
   ]
  },
  {
   "cell_type": "code",
   "execution_count": 32,
   "id": "eedaf36c",
   "metadata": {},
   "outputs": [
    {
     "data": {
      "text/plain": [
       "38.41142223454394"
      ]
     },
     "execution_count": 32,
     "metadata": {},
     "output_type": "execute_result"
    }
   ],
   "source": [
    "#Calculate n of N% at different filter thresholds for figure for clay court\n",
    "x = ((2078.25 + 692.75)/(5410.5 + 1803.5))*100\n",
    "x"
   ]
  },
  {
   "cell_type": "code",
   "execution_count": 354,
   "id": "e477eab5",
   "metadata": {},
   "outputs": [
    {
     "data": {
      "text/plain": [
       "1385.5"
      ]
     },
     "execution_count": 354,
     "metadata": {},
     "output_type": "execute_result"
    }
   ],
   "source": [
    "# calculate number of matches per threshold for figure\n",
    "n = (2078.25 + 692.75)/2\n",
    "n"
   ]
  },
  {
   "cell_type": "markdown",
   "id": "69b293e0",
   "metadata": {},
   "source": [
    "### Figure 7. Best Model Prediction Quality With or Without First Round Matches\n",
    "Source Notebooks: 04_Preprocessing_Training_HardCourt_First_Round_Analysis, 04_Preprocessing_Training_ClayCourt_First_Round_Analysis, 05_Modeling_NoFirstRoundMatches"
   ]
  },
  {
   "cell_type": "markdown",
   "id": "dc42cb57",
   "metadata": {},
   "source": [
    "Hard Court Gradient Boosting Regressor - RMSE Train(STD)/Test with best hyperparameters\n",
    "\n",
    "All matches \n",
    "2015-2019 in model (2009-2014 for stats accrual only) (8241.0, 2747.0)\n",
    "(5.3920702375117795, 0.038953743799929906), 5.299038777366098\n",
    "\n",
    "First Round Removed\n",
    "2015-2019 in model (2009-2014 for stats accrual only) (5164.5, 1721.5)\n",
    "(5.255106603477612, 0.13314144195750927), 5.351387410191803\n",
    "\n",
    "First Round ONLY\n",
    "2015-2019 in model (2009-2014 for stats accrual only) (3076.5, 1025.5)\n",
    "(5.583104890487422, 0.09627436636270731), 5.470626248110167"
   ]
  },
  {
   "cell_type": "code",
   "execution_count": 33,
   "id": "8dd7f7a0",
   "metadata": {},
   "outputs": [],
   "source": [
    "#Hard Court\n",
    "df = pd.DataFrame([[\"All_Matches\", 5.3920702375117795, 5.32, 0.038953743799929906, .05], [\"No 1st Round\", 5.255106603477612, 5.18, 0.13314144195750927, .13], [\"1st Round Only\", 5.583104890487422, 5.46, 0.09627436636270731, .12]], columns = [\"Round Inclusion\", \"mean_1\", \"mean_2\", \"std_1\", \"std_2\"])\n",
    "\n",
    "#convert std columns to array for plotting\n",
    "yerr = df[[\"std_1\", \"std_2\"]].to_numpy().T"
   ]
  },
  {
   "cell_type": "code",
   "execution_count": 34,
   "id": "586a8d2d",
   "metadata": {},
   "outputs": [
    {
     "data": {
      "image/png": "[encoded data removed]",
      "text/plain": [
       "<Figure size 432x288 with 1 Axes>"
      ]
     },
     "metadata": {
      "needs_background": "light"
     },
     "output_type": "display_data"
    }
   ],
   "source": [
    "#Hard Court plot\n",
    "df[['mean_1', 'mean_2']].plot(kind='bar', yerr = yerr, stacked=False, color= ['Blue', 'Black'], error_kw=dict(ecolor='k'))\n",
    "plt.xlabel('Round_Inclusion')\n",
    "plt.ylabel('training_error (mean +- sd)')\n",
    "plt.ylim(5.1,6.3)\n",
    "plt.legend(labels = [\"Best Model\", \"Closing IWP Model\"])\n",
    "x = [0, 1, 2]\n",
    "labels = [\"All_Matches\", \"No_1st_Rd\", \"1st_Rd_Only\"]\n",
    "plt.xticks(x, labels, rotation=\"horizontal\");"
   ]
  },
  {
   "cell_type": "code",
   "execution_count": null,
   "id": "b2ba3032",
   "metadata": {},
   "outputs": [],
   "source": [
    "#Calculate n of N at different filter thresholds for figure\n",
    "x = ((5164.5 + 1721.5)/(8241 + 2747))*100\n",
    "x"
   ]
  },
  {
   "cell_type": "markdown",
   "id": "2bce4d80",
   "metadata": {},
   "source": [
    "Clay Court Gradient Boosting Regressor - RMSE Train(STD)/Test with best hyperparameters\n",
    "\n",
    "All matches \n",
    "2012-2019 in model (2009-2011 for stats accrual only) (5410.5, 1803.5)\n",
    "(5.8295350518898434, 0.06035952193269781), 5.7805549325786885\n",
    "\n",
    "First Round Removed\n",
    "2012-2019 in model (2009-2011 for stats accrual only) (3601.5, 1200.5)\n",
    "(5.657519320269591, 0.14142765685455963), 5.88254474198036\n",
    "\n",
    "First Round ONLY\n",
    "2012-2019 in model (2009-2011 for stats accrual only) (1809.0, 603.0)\n",
    "(6.026766170463891, 0.3022037309309227), 6.046086660105138"
   ]
  },
  {
   "cell_type": "code",
   "execution_count": 35,
   "id": "77b41513",
   "metadata": {},
   "outputs": [],
   "source": [
    "#Clay Court\n",
    "df = pd.DataFrame([[\"All_Matches\", 5.8295350518898434, 5.72, 0.06035952193269781, .09], [\"No 1st Round\", 5.657519320269591, 5.55, 0.14142765685455963, .12], [\"1st Round Only\", 6.026766170463891, 5.87, 0.3022037309309227, .27]], columns = [\"Round Inclusion\", \"mean_1\", \"mean_2\", \"std_1\", \"std_2\"])\n",
    "\n",
    "#convert std columns to array for plotting\n",
    "yerr = df[[\"std_1\", \"std_2\"]].to_numpy().T"
   ]
  },
  {
   "cell_type": "code",
   "execution_count": 36,
   "id": "8d145eb3",
   "metadata": {},
   "outputs": [
    {
     "data": {
      "image/png": "[encoded data removed]",
      "text/plain": [
       "<Figure size 432x288 with 1 Axes>"
      ]
     },
     "metadata": {
      "needs_background": "light"
     },
     "output_type": "display_data"
    }
   ],
   "source": [
    "#Clay Court plot\n",
    "df[['mean_1', 'mean_2']].plot(kind='bar', yerr = yerr, stacked=False, color= ['Maroon', 'Black'], error_kw=dict(ecolor='k'))\n",
    "plt.xlabel('Round_Inclusion')\n",
    "plt.ylabel('training_error (mean +- sd)')\n",
    "plt.ylim(5.1,6.3)\n",
    "plt.legend(labels = [\"Best Model\", \"Closing IWP Model\"])\n",
    "x = [0, 1, 2]\n",
    "labels = [\"All_Matches\", \"No_1st_Rd\", \"1st_Rd_Only\"]\n",
    "plt.xticks(x, labels, rotation=\"horizontal\");"
   ]
  },
  {
   "cell_type": "code",
   "execution_count": null,
   "id": "60d3c04d",
   "metadata": {},
   "outputs": [],
   "source": [
    "#Calculate n of N at different filter thresholds for figure\n",
    "x = ((3601.5 + 1200.5)/(5410.5 + 1803.5))*100\n",
    "x"
   ]
  },
  {
   "cell_type": "markdown",
   "id": "9eb2e104",
   "metadata": {},
   "source": [
    "Figure 6B - Calculate Mean and std of IWP Per Tournament Round (both surfaces in one bar chart)"
   ]
  },
  {
   "cell_type": "code",
   "execution_count": 65,
   "id": "d16e0008",
   "metadata": {},
   "outputs": [],
   "source": [
    "# Hard Court\n",
    "# First get down to same matches as in Fig. 6A\n",
    "df_filter = df.loc[(df[\"t_surf\"] == 2)] #hard\n",
    "df_filter = df_filter.loc[(df_filter[\"m_yr\"] == 2019) | (df_filter[\"m_yr\"] == 2018) | (df_filter[\"m_yr\"] == 2017) | (df_filter[\"m_yr\"] == 2016) | (df_filter[\"m_yr\"] == 2015)]\n",
    "df_low_pass = df_filter.loc[df_filter['p_matches_ss'] <= 20, 'm_num']\n",
    "df_filter = df_filter[~df_filter['m_num'].isin(df_low_pass)]"
   ]
  },
  {
   "cell_type": "code",
   "execution_count": 66,
   "id": "e9a9a3ee",
   "metadata": {},
   "outputs": [
    {
     "data": {
      "text/plain": [
       "34.370000000000005"
      ]
     },
     "execution_count": 66,
     "metadata": {},
     "output_type": "execute_result"
    }
   ],
   "source": [
    "# Create column with absolute IWP movement for each player, from Opening to Closing (Pinnacle Sports Lines)\n",
    "df_filter[\"IWP_change\"] = abs(df_filter[\"p_PS_C_IP\"] - df_filter[\"p_PS_O_IP\"])\n",
    "df_filter[\"IWP_change\"].max()"
   ]
  },
  {
   "cell_type": "code",
   "execution_count": 67,
   "id": "07d0f50e",
   "metadata": {},
   "outputs": [
    {
     "data": {
      "text/plain": [
       "(3.308160248220465,\n",
       " 2.824143075621699,\n",
       " 3.5799117647058827,\n",
       " 3.0501594076250025,\n",
       " 3.266131961259086,\n",
       " 2.7643736909577066,\n",
       " 3.1907733050847558,\n",
       " 2.740088064739939,\n",
       " 2.955900000000007,\n",
       " 2.47557060893844,\n",
       " 2.7731372549019584,\n",
       " 2.1987321674521687,\n",
       " 2.727205882352942,\n",
       " 2.085332086947792,\n",
       " 2.2049999999999996,\n",
       " 2.0593514039930634)"
      ]
     },
     "execution_count": 67,
     "metadata": {},
     "output_type": "execute_result"
    }
   ],
   "source": [
    "# Get mean and std per round\n",
    "mean_all = df_filter.loc[df_filter[\"m_rd_num\"] != 0, \"IWP_change\"].mean()\n",
    "std_all = df_filter.loc[df_filter[\"m_rd_num\"] != 0, \"IWP_change\"].std()\n",
    "mean_1 = df_filter.loc[df_filter[\"m_rd_num\"] == 1, \"IWP_change\"].mean()\n",
    "std_1 = df_filter.loc[df_filter[\"m_rd_num\"] == 1, \"IWP_change\"].std()\n",
    "mean_2 = df_filter.loc[df_filter[\"m_rd_num\"] == 2, \"IWP_change\"].mean()\n",
    "std_2 = df_filter.loc[df_filter[\"m_rd_num\"] == 2, \"IWP_change\"].std()\n",
    "mean_3 = df_filter.loc[df_filter[\"m_rd_num\"] == 3, \"IWP_change\"].mean()\n",
    "std_3 = df_filter.loc[df_filter[\"m_rd_num\"] == 3, \"IWP_change\"].std()\n",
    "mean_4 = df_filter.loc[df_filter[\"m_rd_num\"] == 4, \"IWP_change\"].mean()\n",
    "std_4 = df_filter.loc[df_filter[\"m_rd_num\"] == 4, \"IWP_change\"].std()\n",
    "mean_5 = df_filter.loc[df_filter[\"m_rd_num\"] == 5, \"IWP_change\"].mean()\n",
    "std_5 = df_filter.loc[df_filter[\"m_rd_num\"] == 5, \"IWP_change\"].std()\n",
    "mean_6 = df_filter.loc[df_filter[\"m_rd_num\"] == 6, \"IWP_change\"].mean()\n",
    "std_6 = df_filter.loc[df_filter[\"m_rd_num\"] == 6, \"IWP_change\"].std()\n",
    "mean_7 = df_filter.loc[df_filter[\"m_rd_num\"] == 7, \"IWP_change\"].mean()\n",
    "std_7 = df_filter.loc[df_filter[\"m_rd_num\"] == 7, \"IWP_change\"].std()\n",
    "\n",
    "mean_all, std_all, mean_1, std_1, mean_2, std_2, mean_3, std_3, mean_4, std_4, mean_5, std_5, mean_6, std_6, mean_7, std_7"
   ]
  },
  {
   "cell_type": "code",
   "execution_count": 68,
   "id": "6fe54d14",
   "metadata": {},
   "outputs": [
    {
     "data": {
      "text/plain": [
       "(10958, 4080, 3304, 1888, 1000, 510, 136, 40)"
      ]
     },
     "execution_count": 68,
     "metadata": {},
     "output_type": "execute_result"
    }
   ],
   "source": [
    "# Record counts per round (divide by two to get number of matches)\n",
    "count_all = df_filter.loc[df_filter[\"m_rd_num\"] != 0, \"IWP_change\"].count()\n",
    "count_1 = df_filter.loc[df_filter[\"m_rd_num\"] == 1, \"IWP_change\"].count()\n",
    "count_2 = df_filter.loc[df_filter[\"m_rd_num\"] == 2, \"IWP_change\"].count()\n",
    "count_3 = df_filter.loc[df_filter[\"m_rd_num\"] == 3, \"IWP_change\"].count()\n",
    "count_4 = df_filter.loc[df_filter[\"m_rd_num\"] == 4, \"IWP_change\"].count()\n",
    "count_5 = df_filter.loc[df_filter[\"m_rd_num\"] == 5, \"IWP_change\"].count()\n",
    "count_6 = df_filter.loc[df_filter[\"m_rd_num\"] == 6, \"IWP_change\"].count()\n",
    "count_7 = df_filter.loc[df_filter[\"m_rd_num\"] == 7, \"IWP_change\"].count()\n",
    "\n",
    "count_all, count_1, count_2, count_3, count_4, count_5, count_6, count_7"
   ]
  },
  {
   "cell_type": "code",
   "execution_count": 108,
   "id": "bc686732",
   "metadata": {},
   "outputs": [
    {
     "data": {
      "text/plain": [
       "0.003650301149844862"
      ]
     },
     "execution_count": 108,
     "metadata": {},
     "output_type": "execute_result"
    }
   ],
   "source": [
    "# Calculate proportion of matches per round\n",
    "x = 40/10958\n",
    "x"
   ]
  },
  {
   "cell_type": "code",
   "execution_count": 69,
   "id": "ed922697",
   "metadata": {},
   "outputs": [],
   "source": [
    "# Clay Court\n",
    "# First get down to same matches as in Fig. 6A\n",
    "df_filter = df.loc[(df[\"t_surf\"] == 1)] #clay\n",
    "df_filter = df_filter.loc[(df_filter[\"m_yr\"] == 2019) | (df_filter[\"m_yr\"] == 2018) | (df_filter[\"m_yr\"] == 2017) | (df_filter[\"m_yr\"] == 2016) | (df_filter[\"m_yr\"] == 2015) | (df_filter[\"m_yr\"] == 2014) | (df_filter[\"m_yr\"] == 2013) | (df_filter[\"m_yr\"] == 2012)]\n",
    "df_low_pass = df_filter.loc[df_filter['p_matches_ss'] <= 20, 'm_num']\n",
    "df_filter = df_filter[~df_filter['m_num'].isin(df_low_pass)]"
   ]
  },
  {
   "cell_type": "code",
   "execution_count": 70,
   "id": "c5ac587a",
   "metadata": {},
   "outputs": [
    {
     "data": {
      "text/plain": [
       "31.470000000000006"
      ]
     },
     "execution_count": 70,
     "metadata": {},
     "output_type": "execute_result"
    }
   ],
   "source": [
    "# Create column with absolute IWP movement for each player, from Opening to Closing (Pinnacle Sports Lines)\n",
    "df_filter[\"IWP_change\"] = abs(df_filter[\"p_PS_C_IP\"] - df_filter[\"p_PS_O_IP\"])\n",
    "df_filter[\"IWP_change\"].max()"
   ]
  },
  {
   "cell_type": "code",
   "execution_count": 82,
   "id": "9b669c59",
   "metadata": {},
   "outputs": [
    {
     "data": {
      "text/plain": [
       "(3.473820505696007,\n",
       " 3.008702877004839,\n",
       " 3.9600583819849753,\n",
       " 3.3679378958568953,\n",
       " 3.2713739763421277,\n",
       " 2.8029488057315364,\n",
       " 3.398696296296296,\n",
       " 2.9896099923256045,\n",
       " 3.121945205479455,\n",
       " 2.5791697598147136,\n",
       " 2.9284803921568665,\n",
       " 2.4041778020336797,\n",
       " 2.2969387755102035,\n",
       " 1.8954054094879051,\n",
       " 1.917500000000001,\n",
       " 1.655534153478367)"
      ]
     },
     "execution_count": 82,
     "metadata": {},
     "output_type": "execute_result"
    }
   ],
   "source": [
    "# Get mean and std per round - clay\n",
    "mean_all = df_filter.loc[df_filter[\"m_rd_num\"] != 0, \"IWP_change\"].mean()\n",
    "std_all = df_filter.loc[df_filter[\"m_rd_num\"] != 0, \"IWP_change\"].std()\n",
    "mean_1 = df_filter.loc[df_filter[\"m_rd_num\"] == 1, \"IWP_change\"].mean()\n",
    "std_1 = df_filter.loc[df_filter[\"m_rd_num\"] == 1, \"IWP_change\"].std()\n",
    "mean_2 = df_filter.loc[df_filter[\"m_rd_num\"] == 2, \"IWP_change\"].mean()\n",
    "std_2 = df_filter.loc[df_filter[\"m_rd_num\"] == 2, \"IWP_change\"].std()\n",
    "mean_3 = df_filter.loc[df_filter[\"m_rd_num\"] == 3, \"IWP_change\"].mean()\n",
    "std_3 = df_filter.loc[df_filter[\"m_rd_num\"] == 3, \"IWP_change\"].std()\n",
    "mean_4 = df_filter.loc[df_filter[\"m_rd_num\"] == 4, \"IWP_change\"].mean()\n",
    "std_4 = df_filter.loc[df_filter[\"m_rd_num\"] == 4, \"IWP_change\"].std()\n",
    "mean_5 = df_filter.loc[df_filter[\"m_rd_num\"] == 5, \"IWP_change\"].mean()\n",
    "std_5 = df_filter.loc[df_filter[\"m_rd_num\"] == 5, \"IWP_change\"].std()\n",
    "mean_6 = df_filter.loc[df_filter[\"m_rd_num\"] == 6, \"IWP_change\"].mean()\n",
    "std_6 = df_filter.loc[df_filter[\"m_rd_num\"] == 6, \"IWP_change\"].std()\n",
    "mean_7 = df_filter.loc[df_filter[\"m_rd_num\"] == 7, \"IWP_change\"].mean()\n",
    "std_7 = df_filter.loc[df_filter[\"m_rd_num\"] == 7, \"IWP_change\"].std()\n",
    "\n",
    "mean_all, std_all, mean_1, std_1, mean_2, std_2, mean_3, std_3, mean_4, std_4, mean_5, std_5, mean_6, std_6, mean_7, std_7"
   ]
  },
  {
   "cell_type": "code",
   "execution_count": 72,
   "id": "6156ae83",
   "metadata": {},
   "outputs": [
    {
     "data": {
      "text/plain": [
       "(7198, 2398, 2198, 1350, 730, 408, 98, 16)"
      ]
     },
     "execution_count": 72,
     "metadata": {},
     "output_type": "execute_result"
    }
   ],
   "source": [
    "# Record counts per round (divide by two to get number of matches) - clay\n",
    "count_all = df_filter.loc[df_filter[\"m_rd_num\"] != 0, \"IWP_change\"].count()\n",
    "count_1 = df_filter.loc[df_filter[\"m_rd_num\"] == 1, \"IWP_change\"].count()\n",
    "count_2 = df_filter.loc[df_filter[\"m_rd_num\"] == 2, \"IWP_change\"].count()\n",
    "count_3 = df_filter.loc[df_filter[\"m_rd_num\"] == 3, \"IWP_change\"].count()\n",
    "count_4 = df_filter.loc[df_filter[\"m_rd_num\"] == 4, \"IWP_change\"].count()\n",
    "count_5 = df_filter.loc[df_filter[\"m_rd_num\"] == 5, \"IWP_change\"].count()\n",
    "count_6 = df_filter.loc[df_filter[\"m_rd_num\"] == 6, \"IWP_change\"].count()\n",
    "count_7 = df_filter.loc[df_filter[\"m_rd_num\"] == 7, \"IWP_change\"].count()\n",
    "\n",
    "count_all, count_1, count_2, count_3, count_4, count_5, count_6, count_7"
   ]
  },
  {
   "cell_type": "code",
   "execution_count": 101,
   "id": "c57cf014",
   "metadata": {},
   "outputs": [
    {
     "data": {
      "text/plain": [
       "0.0022228396776882466"
      ]
     },
     "execution_count": 101,
     "metadata": {},
     "output_type": "execute_result"
    }
   ],
   "source": [
    "# Calculate proportion of matches per round\n",
    "x = 16/7198\n",
    "x"
   ]
  },
  {
   "cell_type": "code",
   "execution_count": 76,
   "id": "d83ac403",
   "metadata": {},
   "outputs": [],
   "source": [
    "# make figure with both surfaces included\n",
    "df = pd.DataFrame([[\"All_Matches\", 3.308160248220465, 3.473820505696007, 2.824143075621699,3.008702877004839], [\"1st Round\", 3.5799117647058827, 3.9600583819849753, 3.0501594076250025, 3.3679378958568953], [\"2nd Round\", 3.266131961259086, 3.2713739763421277,  2.7643736909577066, 2.8029488057315364], \n",
    "                   [\"3rd Round\", 3.1907733050847558, 3.398696296296296, 2.740088064739939, 2.9896099923256045], [\"4th Round\", 2.955900000000007, 3.121945205479455, 2.47557060893844, 2.5791697598147136], [\"5th Round\", 2.7731372549019584, 2.9284803921568665, 2.1987321674521687, 2.4041778020336797], [\"6th Round\", 2.727205882352942, 2.2969387755102035, 2.085332086947792, 1.8954054094879051], [\"7th Round\", 2.2049999999999996, 1.917500000000001, 2.0593514039930634, 1.655534153478367]], columns = [\"Round Inclusion\", \"mean_1\", \"mean_2\", \"std_1\", \"std_2\"])\n",
    "\n",
    "#convert std columns to array for plotting\n",
    "yerr = df[[\"std_1\", \"std_2\"]].to_numpy().T"
   ]
  },
  {
   "cell_type": "code",
   "execution_count": 86,
   "id": "c046e588",
   "metadata": {},
   "outputs": [
    {
     "data": {
      "text/plain": [
       "<Figure size 1440x720 with 0 Axes>"
      ]
     },
     "metadata": {},
     "output_type": "display_data"
    },
    {
     "data": {
      "image/png": "[encoded data removed]",
      "text/plain": [
       "<Figure size 432x288 with 1 Axes>"
      ]
     },
     "metadata": {
      "needs_background": "light"
     },
     "output_type": "display_data"
    }
   ],
   "source": [
    "#Both Surfaces Plot\n",
    "plt.figure(figsize=(20, 10))\n",
    "df[['mean_1', 'mean_2']].plot(kind='bar', yerr = yerr, stacked=False, color= ['Blue', 'Maroon'], error_kw=dict(ecolor='k'))\n",
    "plt.xlabel('Round_Inclusion')\n",
    "plt.ylabel('training_error (mean +- sd)')\n",
    "plt.ylim(0, 8.1)\n",
    "plt.legend(labels = [\"Hard Court\", \"Clay Court\"])\n",
    "x = [0, 1, 2, 3, 4, 5, 6, 7]\n",
    "labels = [\"All_Matches\", \"1st Round\", \"2nd Round\", \"3rd Round\", \"4th Round\", \"5th Round\", \"6th Round\", \"7th Round\"]\n",
    "plt.xticks(x, labels, rotation=\"horizontal\");"
   ]
  },
  {
   "cell_type": "code",
   "execution_count": null,
   "id": "f068e7a6",
   "metadata": {},
   "outputs": [],
   "source": []
  },
  {
   "cell_type": "markdown",
   "id": "846af587",
   "metadata": {},
   "source": [
    "### Figure 7. Hard Court Best Model Subtraction Analysis\n",
    "Source Notebooks: Subtraction Analysis notebook subfolder (one notebook per subtraction)"
   ]
  },
  {
   "cell_type": "code",
   "execution_count": 109,
   "id": "c9bfce8b",
   "metadata": {},
   "outputs": [
    {
     "data": {
      "text/html": [
       "<div>\n",
       "<style scoped>\n",
       "    .dataframe tbody tr th:only-of-type {\n",
       "        vertical-align: middle;\n",
       "    }\n",
       "\n",
       "    .dataframe tbody tr th {\n",
       "        vertical-align: top;\n",
       "    }\n",
       "\n",
       "    .dataframe thead th {\n",
       "        text-align: right;\n",
       "    }\n",
       "</style>\n",
       "<table border=\"1\" class=\"dataframe\">\n",
       "  <thead>\n",
       "    <tr style=\"text-align: right;\">\n",
       "      <th></th>\n",
       "      <th>Model Inclusion</th>\n",
       "      <th>Training Error</th>\n",
       "      <th>Training SD</th>\n",
       "    </tr>\n",
       "  </thead>\n",
       "  <tbody>\n",
       "    <tr>\n",
       "      <th>0</th>\n",
       "      <td>Best Model</td>\n",
       "      <td>5.392070</td>\n",
       "      <td>0.038954</td>\n",
       "    </tr>\n",
       "    <tr>\n",
       "      <th>1</th>\n",
       "      <td>-Player Long Term</td>\n",
       "      <td>5.392846</td>\n",
       "      <td>0.041981</td>\n",
       "    </tr>\n",
       "    <tr>\n",
       "      <th>2</th>\n",
       "      <td>-Player Head-to-Head</td>\n",
       "      <td>5.395454</td>\n",
       "      <td>0.046462</td>\n",
       "    </tr>\n",
       "    <tr>\n",
       "      <th>3</th>\n",
       "      <td>-Court Conditions</td>\n",
       "      <td>5.396725</td>\n",
       "      <td>0.044244</td>\n",
       "    </tr>\n",
       "    <tr>\n",
       "      <th>4</th>\n",
       "      <td>-Rankings-Derived</td>\n",
       "      <td>5.399880</td>\n",
       "      <td>0.037362</td>\n",
       "    </tr>\n",
       "    <tr>\n",
       "      <th>5</th>\n",
       "      <td>-Player Conditioning</td>\n",
       "      <td>5.408096</td>\n",
       "      <td>0.042827</td>\n",
       "    </tr>\n",
       "    <tr>\n",
       "      <th>6</th>\n",
       "      <td>-Player Past IWP</td>\n",
       "      <td>5.415759</td>\n",
       "      <td>0.044391</td>\n",
       "    </tr>\n",
       "    <tr>\n",
       "      <th>7</th>\n",
       "      <td>-Decay Time Weighting</td>\n",
       "      <td>5.421238</td>\n",
       "      <td>0.052309</td>\n",
       "    </tr>\n",
       "    <tr>\n",
       "      <th>8</th>\n",
       "      <td>-SOS Adjustment</td>\n",
       "      <td>5.431204</td>\n",
       "      <td>0.052094</td>\n",
       "    </tr>\n",
       "    <tr>\n",
       "      <th>9</th>\n",
       "      <td>-Player Short Term</td>\n",
       "      <td>5.515158</td>\n",
       "      <td>0.029241</td>\n",
       "    </tr>\n",
       "  </tbody>\n",
       "</table>\n",
       "</div>"
      ],
      "text/plain": [
       "         Model Inclusion  Training Error  Training SD\n",
       "0             Best Model        5.392070     0.038954\n",
       "1      -Player Long Term        5.392846     0.041981\n",
       "2   -Player Head-to-Head        5.395454     0.046462\n",
       "3      -Court Conditions        5.396725     0.044244\n",
       "4      -Rankings-Derived        5.399880     0.037362\n",
       "5   -Player Conditioning        5.408096     0.042827\n",
       "6       -Player Past IWP        5.415759     0.044391\n",
       "7  -Decay Time Weighting        5.421238     0.052309\n",
       "8        -SOS Adjustment        5.431204     0.052094\n",
       "9     -Player Short Term        5.515158     0.029241"
      ]
     },
     "execution_count": 109,
     "metadata": {},
     "output_type": "execute_result"
    }
   ],
   "source": [
    "data = [[\"Best Model\", 5.3920702375117795, 0.038953743799929906], [\"-Player Long Term\", 5.392846435521714, 0.04198063618593294], [\"-Player Head-to-Head\", 5.395454417696486, 0.04646206833546143], [\"-Court Conditions\", 5.396724966787649, 0.044244348099151454], [\"-Rankings-Derived\", 5.39988044129819, 0.03736195830386619], [\"-Player Conditioning\", 5.408096040504917, 0.04282717224758523], [\"-Player Past IWP\", 5.415759289271845, 0.044390831567590036], [\"-Decay Time Weighting\", 5.421238156564083, 0.05230940070048705], [\"-SOS Adjustment\", 5.4312035500946365, 0.05209400082054645], [\"-Player Short Term\", 5.515157940445482, 0.02924137449876572]]\n",
    "df = pd.DataFrame(data, columns=[\"Model Inclusion\", \"Training Error\", \"Training SD\"])\n",
    "df"
   ]
  },
  {
   "cell_type": "code",
   "execution_count": 110,
   "id": "f9b4d9de",
   "metadata": {},
   "outputs": [
    {
     "data": {
      "image/png": "[encoded data removed]",
      "text/plain": [
       "<Figure size 1440x720 with 1 Axes>"
      ]
     },
     "metadata": {
      "needs_background": "light"
     },
     "output_type": "display_data"
    }
   ],
   "source": [
    "#Hard Court plot\n",
    "plt.figure(figsize=(20, 10))\n",
    "g = sns.barplot(x=\"Model Inclusion\",y=\"Training Error\",data=df, palette = [\"blue\",\"lightblue\", \"cornflowerblue\", \"purple\", \"rosybrown\", \"slateblue\", \"black\", \"lavender\", \"red\", \"skyblue\"], yerr=df[\"Training SD\"]*1)\n",
    "g.set_ylabel(\"training_error (mean +- sd)\")\n",
    "#g.set(xticklabels=[\"\", \"\"])\n",
    "g.set_xlabel(\"Model_Error\")\n",
    "g.set_ylim(5.3,5.6);\n",
    "\n",
    "# Define some hatches\n",
    "hatches = ['', '', '', '\\\\', '', '', '', '\\\\', '\\\\','','']\n",
    "\n",
    "# Loop over the bars\n",
    "for i,thisbar in enumerate(g.patches):\n",
    "    # Set a different hatch for each bar\n",
    "    thisbar.set_hatch(hatches[i])"
   ]
  },
  {
   "cell_type": "markdown",
   "id": "e7e7db50",
   "metadata": {},
   "source": [
    "### Supplementary Figures"
   ]
  },
  {
   "cell_type": "markdown",
   "id": "383e8f17",
   "metadata": {},
   "source": [
    "#### Supp Fig. 1 Effect of Time Range Inclusion on Best Model Accuracy\n",
    "Sources: 05_Modeling_VariableTimeRangeAnalysis, 04_Preprocessing_Training_TimeRangeAnalysis"
   ]
  },
  {
   "cell_type": "markdown",
   "id": "4feeaa68",
   "metadata": {},
   "source": [
    "Hard Court Gradient Boosting Regressor RMSE Train(STD)/Test for different explored hyperparameter values (summarized below)\n",
    "2011-2019 in model (2009-2010 for stats accrual only) (14565.0, 4855.0)\n",
    "(5.472486454526398, 0.03335998762076141), \n",
    "\n",
    "2012-2019 in model (2009-2011 for stats accrual only) (13096.5, 4365.5)\n",
    "(5.439054792467773, 0.08363046353666986), 5.390679473982662\n",
    "\n",
    "2013-2019 in model (2009-2012 for stats accrual only) (11544.0, 3848.0)\n",
    "(5.4469463942752885, 0.03107365021748769), 5.352891947776072\n",
    "\n",
    "2014-2019 in model (2009-2013 for stats accrual only) (9832.5, 3277.5)\n",
    "(5.415556011472619, 0.0675076062651321), 5.4014166931206695\n",
    "\n",
    "2015-2019 in model (2009-2014 for stats accrual only) (8241.0, 2747.0)\n",
    "(5.3920702375117795, 0.038953743799929906), 5.299038777366098\n",
    "\n",
    "2016-2019 in model (2009-2015 for stats accrual only) (6520.5, 2173.5)\n",
    "(5.416878369899388, 0.09559359538293885), 5.39250292632072 \n",
    "\n",
    "2017-2019 in model (2009-2016 for stats accrual only) (4861.5, 1620.5)\n",
    "(5.399512044420796, 0.15477443577190086), 5.4551860725568755\n",
    "\n",
    "2018-2019 in model (2009-2017 for stats accrual only) (3217.5, 1072.5)\n",
    "(5.3899361362094576, 0.16155596785055396), 5.4732984543400995 \n",
    "\n",
    "2019 in model (2009-2018 for stats accrual only) (1608.0, 536.0)\n",
    "(5.429597479389953, 0.21529840015087046), 5.42555877736585 \n",
    "\n",
    "\n",
    "Hard Court Linear Model (IWP_AVG_Closing)\n",
    "2011-2019 in model (2009-2010 for stats accrual only) (14565.0, 4855.0)\n",
    "(5.418638726155855, 0.050092583495323646), 5.390742559375268 \n",
    "\n",
    "2012-2019 in model (2009-2011 for stats accrual only) (13096.5, 4365.5)\n",
    "(5.383579628238555, 0.07140247802799847), 5.323832387183662\n",
    "\n",
    "2013-2019 in model (2009-2012 for stats accrual only) (11544.0, 3848.0)\n",
    "(5.367462188700597, 0.022920852800898117), 5.287859332647092 \n",
    "\n",
    "2014-2019 in model (2009-2013 for stats accrual only) (9832.5, 3277.5)\n",
    "(5.341713822098685, 0.0710198500449993), 5.319465397677877 \n",
    "\n",
    "2015-2019 in model (2009-2014 for stats accrual only) (8241.0, 2747.0)\n",
    "(5.323220909987259, 0.048986239595699026), 5.1850876932956025\n",
    "\n",
    "2016-2019 in model (2009-2015 for stats accrual only) (6520.5, 2173.5)\n",
    "(5.344964630594659, 0.08253105498019776), 5.28649601744377 \n",
    "\n",
    "2017-2019 in model (2009-2016 for stats accrual only) (4861.5, 1620.5)\n",
    "(5.309114923062616, 0.11729504887111461), 5.324673511104365 \n",
    "\n",
    "2018-2019 in model (2009-2017 for stats accrual only) (3217.5, 1072.5)\n",
    "(5.254748995442718, 0.16330639793297796), 5.3765883157586005  \n",
    "\n",
    "2019 in model (2009-2018 for stats accrual only) (1608.0, 536.0)\n",
    "(5.31342622296731, 0.22346374424136733), 5.23260236764602"
   ]
  },
  {
   "cell_type": "code",
   "execution_count": 259,
   "id": "155b83fb",
   "metadata": {},
   "outputs": [],
   "source": [
    "df = pd.DataFrame([['2011', 5.472486454526398, 0.03335998762076141, 5.418638726155855, 0.050092583495323646], ['2012', 5.439054792467773, 0.08363046353666986, 5.383579628238555, 0.07140247802799847], ['2013', 5.4469463942752885, 0.03107365021748769, 5.367462188700597, 0.022920852800898117], ['2014', 5.415556011472619, 0.0675076062651321, 5.341713822098685, 0.0710198500449993], ['2015', 5.3920702375117795, 0.038953743799929906, 5.323220909987259, 0.048986239595699026], ['2016', 5.416878369899388, 0.09559359538293885, 5.344964630594659, 0.08253105498019776], ['2017', 5.399512044420796, 0.15477443577190086, 5.309114923062616, 0.11729504887111461], ['2018', 5.3899361362094576, 0.16155596785055396, 5.254748995442718, 0.16330639793297796], ['2019', 5.429597479389953, 0.21529840015087046, 5.31342622296731, 0.22346374424136733]], columns = [\"First Year in Model\", \"mean_1\", \"std_1\", \"mean_2\", \"std_2\"])\n",
    "\n",
    "#convert std columns to array for plotting\n",
    "yerr = df[[\"std_1\", \"std_2\"]].to_numpy().T"
   ]
  },
  {
   "cell_type": "code",
   "execution_count": 265,
   "id": "0d91cd0e",
   "metadata": {},
   "outputs": [
    {
     "data": {
      "text/plain": [
       "<Figure size 1440x720 with 0 Axes>"
      ]
     },
     "metadata": {},
     "output_type": "display_data"
    },
    {
     "data": {
      "image/png": "[encoded data removed]",
      "text/plain": [
       "<Figure size 432x288 with 1 Axes>"
      ]
     },
     "metadata": {
      "needs_background": "light"
     },
     "output_type": "display_data"
    }
   ],
   "source": [
    "plt.figure(figsize=(20, 10))\n",
    "df[['mean_1', 'mean_2']].plot(kind='line', yerr = yerr, stacked=False, color= ['Blue', 'Black'], marker='o')\n",
    "plt.xlabel('First_Year')\n",
    "plt.ylabel('training_error (mean +- sd)')\n",
    "plt.ylim(5.0, 6.0)\n",
    "plt.legend(labels = [\"Best Model\", \"Closing IWP Model\"])\n",
    "x = [0, 1, 2, 3, 4, 5, 6, 7, 8]\n",
    "labels = [\"2011\", \"2012\", \"2013\", \"2014\", \"2015\", \"2016\", \"2017\", \"2018\", \"2019\"]\n",
    "plt.xticks(x, labels, rotation=\"horizontal\");"
   ]
  },
  {
   "cell_type": "code",
   "execution_count": 128,
   "id": "24a2b4e3",
   "metadata": {},
   "outputs": [
    {
     "data": {
      "text/plain": [
       "1072.0"
      ]
     },
     "execution_count": 128,
     "metadata": {},
     "output_type": "execute_result"
    }
   ],
   "source": [
    "#Compute number of matches per year range inclusion\n",
    "x = (1608.0 + 536.0)/2\n",
    "x"
   ]
  },
  {
   "cell_type": "markdown",
   "id": "e54251ec",
   "metadata": {},
   "source": [
    "Clay Court Gradient Boosting Regressor RMSE Train(STD)/Test for different explored hyperparameter values (summarized below)\n",
    "\n",
    "2011-2019 in model (2009-2010 for stats accrual only) (5928.0, 1976.0)\n",
    "(5.805303549126235, 0.15613181002358473), 5.8327119277272095\n",
    "\n",
    "2012-2019 in model (2009-2011 for stats accrual only) (5410.5, 1803.5)\n",
    "(5.829713670326005, 0.059850613008956506), 5.781183560506892\n",
    "\n",
    "2013-2019 in model (2009-2012 for stats accrual only) (4836.0, 1612.0)\n",
    "(5.800545490892093, 0.07226249521904501), 5.798055738939806\n",
    "\n",
    "2014-2019 in model (2009-2013 for stats accrual only) (4104.0, 1368.0)\n",
    "(5.8066296869564225, 0.04842887725287453), 5.697537251087153\n",
    "\n",
    "2015-2019 in model (2009-2014 for stats accrual only) (3397.5, 1132.5)\n",
    "(5.719366981832602, 0.147108911756477), 5.765405103015179 \n",
    "\n",
    "2016-2019 in model (2009-2015 for stats accrual only) (2680.5, 893.5)\n",
    "(5.639657496780264, 0.1767754650461491), 6.082706098811934\n",
    "\n",
    "2017-2019 in model (2009-2016 for stats accrual only) (1993.5, 664.5)\n",
    "(5.722806801417818, 0.1614204075446546), 5.89522997207242\n",
    "\n",
    "2018-2019 in model (2009-2017 for stats accrual only) (1269.0, 423.0)\n",
    "(5.769527992759469, 0.2579516250630349), 5.631147241300099\n",
    "\n",
    "2019 in model (2009-2018 for stats accrual only) (642.0, 214.0)\n",
    "(5.745369671110399, 0.2130969711436037), 5.884620707079567\n",
    "\n",
    "\n",
    "Clay Court Linear Model (IWP_AVG_Closing)\n",
    "\n",
    "2011-2019 in model (2009-2010 for stats accrual only) (5928.0, 1976.0)\n",
    "(5.672096323311585, 0.1536423755100191), 5.763876109487916 \n",
    "\n",
    "2012-2019 in model (2009-2011 for stats accrual only) (5410.5, 1803.5)\n",
    "(5.720254334276802, 0.08618727755274995), 5.65655462441532\n",
    "\n",
    "2013-2019 in model (2009-2012 for stats accrual only) (4836.0, 1612.0)\n",
    "(5.682636680280483, 0.1148433647016679), 5.748946838113824\n",
    "\n",
    "2014-2019 in model (2009-2013 for stats accrual only) (4104.0, 1368.0)\n",
    "(5.690769753449554, 0.03916285476788418), 5.649826939413824\n",
    "\n",
    "2015-2019 in model (2009-2014 for stats accrual only) (3397.5, 1132.5)\n",
    "(5.614965118530511, 0.1255807733963566), 5.658879760386544  \n",
    "\n",
    "2016-2019 in model (2009-2015 for stats accrual only) (2680.5, 893.5)\n",
    "(5.541405393275494, 0.21868531309910963), 5.8836019206479175\n",
    "\n",
    "2017-2019 in model (2009-2016 for stats accrual only) (1993.5, 664.5)\n",
    "(5.593006794156599, 0.18975755766498822), 5.7752225445665335\n",
    "\n",
    "2018-2019 in model (2009-2017 for stats accrual only) (1269.0, 423.0)\n",
    "(5.63207789396936, 0.31130037890044254), 5.442743601555018 \n",
    "\n",
    "2019 in model (2009-2018 for stats accrual only) (642.0, 214.0)\n",
    "(5.5252844905122585, 0.36798145302416574), 5.6393288475739425"
   ]
  },
  {
   "cell_type": "code",
   "execution_count": 266,
   "id": "ffd9e56c",
   "metadata": {},
   "outputs": [],
   "source": [
    "df = pd.DataFrame([['2011', 5.805303549126235, 0.15613181002358473, 5.672096323311585, 0.1536423755100191], ['2012', 5.829713670326005, 0.059850613008956506, 5.720254334276802, 0.08618727755274995], ['2013', 5.800545490892093, 0.07226249521904501, 5.682636680280483, 0.1148433647016679], ['2014', 5.8066296869564225, 0.04842887725287453, 5.690769753449554, 0.03916285476788418], ['2015', 5.719366981832602, 0.147108911756477, 5.614965118530511, 0.1255807733963566], ['2016', 5.639657496780264, 0.1767754650461491, 5.541405393275494, 0.21868531309910963], ['2017', 5.722806801417818, 0.1614204075446546,5.593006794156599, 0.18975755766498822], ['2018', 5.769527992759469, 0.2579516250630349, 5.63207789396936, 0.31130037890044254], ['2019', 5.745369671110399, 0.2130969711436037, 5.5252844905122585, 0.36798145302416574]], columns = [\"First Year in Model\", \"mean_1\", \"std_1\", \"mean_2\", \"std_2\"])\n",
    "\n",
    "#convert std columns to array for plotting\n",
    "yerr = df[[\"std_1\", \"std_2\"]].to_numpy().T"
   ]
  },
  {
   "cell_type": "code",
   "execution_count": 276,
   "id": "76ab6ebe",
   "metadata": {},
   "outputs": [
    {
     "data": {
      "text/plain": [
       "<Figure size 1440x720 with 0 Axes>"
      ]
     },
     "metadata": {},
     "output_type": "display_data"
    },
    {
     "data": {
      "image/png": "[encoded data removed]",
      "text/plain": [
       "<Figure size 432x288 with 1 Axes>"
      ]
     },
     "metadata": {
      "needs_background": "light"
     },
     "output_type": "display_data"
    }
   ],
   "source": [
    "plt.figure(figsize=(20, 10))\n",
    "df[['mean_1', 'mean_2']].plot(kind='line', yerr = yerr, stacked=False, color= ['Maroon', 'Black'], marker='o')\n",
    "plt.xlabel('First_Year')\n",
    "plt.ylabel('training_error (mean +- sd)')\n",
    "plt.ylim(5.0, 6.0)\n",
    "plt.legend(labels = [\"Best Model\", \"Closing IWP Model\"], loc = \"lower left\")\n",
    "x = [0, 1, 2, 3, 4, 5, 6, 7, 8]\n",
    "labels = [\"2011\", \"2012\", \"2013\", \"2014\", \"2015\", \"2016\", \"2017\", \"2018\", \"2019\"]\n",
    "plt.xticks(x, labels, rotation=\"horizontal\");"
   ]
  },
  {
   "cell_type": "code",
   "execution_count": 140,
   "id": "51e4aa14",
   "metadata": {},
   "outputs": [
    {
     "data": {
      "text/plain": [
       "428.0"
      ]
     },
     "execution_count": 140,
     "metadata": {},
     "output_type": "execute_result"
    }
   ],
   "source": [
    "#Compute number of matches per year range inclusion\n",
    "x = (642.0 + 214.0)/2\n",
    "x"
   ]
  },
  {
   "cell_type": "markdown",
   "id": "c255b106",
   "metadata": {},
   "source": [
    "#### Supp Fig. 2 Effect of Previous Matches Played Threshold on Best Model Accuracy\n",
    "Sources: 05_Modeling_VariablePastMatchesThreshold, "
   ]
  },
  {
   "cell_type": "markdown",
   "id": "db5ff054",
   "metadata": {},
   "source": [
    "Hard Court Gradient Boosting Regressor RMSE Train(STD)/Test for different explored hyperparameter values (summarized below)\n",
    "All include 2015-2019 for modeling (2009-2014 for feature accrual only)\n",
    "\n",
    "Minimum 0 Previous Matches For Both Players in Given Predicted Match (11148.0, 3716.0)\n",
    "(5.5232190715106935, 0.05178847347734308), 5.577546996799976\n",
    "\n",
    "Minimum 10 Previous Matches For Both Players in Given Predicted Match (9337.5, 3112.5)\n",
    "(5.411036687476175, 0.08567142462061067), 5.4102208444960275\n",
    "\n",
    "Minimum 20 Previous Matches For Both Players in Given Predicted Match (8241.0, 2747.0)\n",
    "(5.3920702375117795, 0.038953743799929906), 5.299038777366098\n",
    "\n",
    "Minimum 30 Previous Matches For Both Players in Given Predicted Match (7345.5, 2448.5)\n",
    "(5.393183802578447, 0.09202037962041101), 5.353901221080959 \n",
    "\n",
    "Minimum 40 Previous Matches For Both Players in Given Predicted Match (6633.0, 2211.0)\n",
    "(5.308222444301732, 0.019948665519313038), 5.506965112920414\n",
    "\n",
    "Minimum 50 Previous Matches For Both Players in Given Predicted Match (5985.0, 1995.0)\n",
    "(5.358702661026149, 0.09431490872495402), 5.258053345791651 \n",
    "\n",
    "Minimum 60 Previous Matches For Both Players in Given Predicted Match (5376.0, 1792.0)\n",
    "(5.283604253393746, 0.08331729485992619), 5.472373546055903 \n",
    "\n",
    "Minimum 70 Previous Matches For Both Players in Given Predicted Match (4777.5, 1592.5)\n",
    "(5.319017307353107, 0.1522390639464628), 5.218383640445961\n",
    "\n",
    "Minimum 80 Previous Matches For Both Players in Given Predicted Match (4221.0, 1407.0)\n",
    "(5.260832255793376, 0.22852793272371022), 5.380865448921883\n",
    "\n",
    "Minimum 90 Previous Matches For Both Players in Given Predicted Match (3709.5, 1236.5)\n",
    "(5.2650285871741005, 0.10921395032869305), 5.294282221031962 \n",
    "\n",
    "Minimum 100 Previous Matches For Both Players in Given Predicted Match (3283.5, 1094.5)\n",
    "(5.3044853546718365, 0.06340972030840145), 5.123318177199523 \n",
    "\n",
    "Minimum 110 Previous Matches For Both Players in Given Predicted Match (2869.5, 956.5)\n",
    "(5.229659372438809, 0.15756347219607234), 5.32891388304254 \n",
    "\n",
    "Minimum 120 Previous Matches For Both Players in Given Predicted Match (2518.5, 839.5)    \n",
    "(5.303898768268871, 0.06395267299090532), 5.016652890650645\n",
    "\n",
    "Minimum 130 Previous Matches For Both Players in Given Predicted Match (2248.5, 749.5)\n",
    "(5.193178899343301, 0.1972515507283188), 5.263572132413637 \n",
    "\n",
    "Minimum 140 Previous Matches For Both Players in Given Predicted Match (2005.5, 668.5)\n",
    "(5.171163853831088, 0.11012676911026408), 5.257769723436452\n",
    "\n",
    "Minimum 150 Previous Matches For Both Players in Given Predicted Match (1800.0, 600.0)\n",
    "(5.2488080398584325, 0.15943833918306813), 5.1062705820041305\n",
    "\n",
    "\n",
    "Hard Court (Avg_Closing_IWP)\n",
    "All include 2015-2019 for modeling (2009-2014 for feature accrual only)\n",
    "\n",
    "Minimum 0 Previous Matches For Both Players in Given Predicted Match (11148.0, 3716.0)\n",
    "(5.373391992596539, 0.06674551035660797), 5.412094229804874\n",
    "\n",
    "Minimum 10 Previous Matches For Both Players in Given Predicted Match (9337.5, 3112.5)\n",
    "(5.328438881637604, 0.08311198442905562), 5.3515566740341995\n",
    "\n",
    "Minimum 20 Previous Matches For Both Players in Given Predicted Match (8241.0, 2747.0)\n",
    "(5.323220909987259, 0.048986239595699026), 5.1850876932956025\n",
    "\n",
    "Minimum 30 Previous Matches For Both Players in Given Predicted Match (7345.5, 2448.5)\n",
    "(5.299793025058887, 0.06826605120692954), 5.267640815242024  \n",
    "\n",
    "Minimum 40 Previous Matches For Both Players in Given Predicted Match (6633.0, 2211.0)\n",
    "(5.218485846453741, 0.033070848389211954), 5.392813341068434\n",
    "\n",
    "Minimum 50 Previous Matches For Both Players in Given Predicted Match (5985.0, 1995.0)\n",
    "(5.261187218855249, 0.0886535651311456), 5.12680062607016\n",
    "\n",
    "Minimum 60 Previous Matches For Both Players in Given Predicted Match (5376.0, 1792.0)\n",
    "(5.187319270239896, 0.11434535404219988), 5.3281263618456896\n",
    "\n",
    "Minimum 70 Previous Matches For Both Players in Given Predicted Match (4777.5, 1592.5)\n",
    "(5.220205522130999, 0.1267346515131012), 5.133032775166966  \n",
    "\n",
    "Minimum 80 Previous Matches For Both Players in Given Predicted Match (4221.0, 1407.0)\n",
    "(5.15713728971039, 0.18016386864910783), 5.273151395940397\n",
    "\n",
    "Minimum 90 Previous Matches For Both Players in Given Predicted Match (3709.5, 1236.5)\n",
    "(5.146155862716234, 0.08503705379339456), 5.232338057116614 \n",
    "\n",
    "Minimum 100 Previous Matches For Both Players in Given Predicted Match (3283.5, 1094.5)\n",
    "(5.206616547992783, 0.08308923218518639), 4.982470435176425  \n",
    "\n",
    "Minimum 110 Previous Matches For Both Players in Given Predicted Match (2869.5, 956.5)\n",
    "(5.079764657591099, 0.19518146957530674), 5.258407758813695 \n",
    "\n",
    "Minimum 120 Previous Matches For Both Players in Given Predicted Match (2518.5, 839.5)    \n",
    "(5.151593531840004, 0.06401644967257587), 4.87015153256333 \n",
    "\n",
    "Minimum 130 Previous Matches For Both Players in Given Predicted Match (2248.5, 749.5)\n",
    "(5.059369661626766, 0.20124888608194275), 5.102263824301227 \n",
    "\n",
    "Minimum 140 Previous Matches For Both Players in Given Predicted Match (2005.5, 668.5)\n",
    "(5.077399554392832, 0.15016937339827502), 5.068202781675658 \n",
    "\n",
    "Minimum 150 Previous Matches For Both Players in Given Predicted Match (1800.0, 600.0)\n",
    "(5.0918535376885705, 0.18248362906643487), 4.949667167319126\n"
   ]
  },
  {
   "cell_type": "code",
   "execution_count": 278,
   "id": "bcaa99e1",
   "metadata": {},
   "outputs": [],
   "source": [
    "df = pd.DataFrame([[0, 5.5232190715106935, 0.05178847347734308, 5.373391992596539, 0.06674551035660797], [10, 5.411036687476175, 0.08567142462061067, 5.328438881637604, 0.08311198442905562], [20, 5.3920702375117795, 0.038953743799929906, 5.323220909987259, 0.048986239595699026], [30, 5.393183802578447, 0.09202037962041101, 5.299793025058887, 0.06826605120692954], [40, 5.308222444301732, 0.019948665519313038, 5.218485846453741, 0.033070848389211954], [50, 5.358702661026149, 0.09431490872495402, 5.261187218855249, 0.0886535651311456], [60, 5.283604253393746, 0.08331729485992619, 5.187319270239896, 0.11434535404219988], [70, 5.319017307353107, 0.1522390639464628, 5.220205522130999, 0.1267346515131012], [80, 5.260832255793376, 0.22852793272371022, 5.15713728971039, 0.18016386864910783], [90, 5.2650285871741005, 0.10921395032869305, 5.146155862716234, 0.08503705379339456], [100, 5.3044853546718365, 0.06340972030840145, 5.206616547992783, 0.08308923218518639], [110, 5.229659372438809, 0.15756347219607234, 5.079764657591099, 0.19518146957530674], [120, 5.303898768268871, 0.06395267299090532, 5.151593531840004, 0.06401644967257587], [130, 5.193178899343301, 0.1972515507283188, 5.059369661626766, 0.20124888608194275], [140, 5.171163853831088, 0.11012676911026408, 5.077399554392832, 0.15016937339827502], [150, 5.2488080398584325, 0.15943833918306813, 5.0918535376885705, 0.18248362906643487]], columns = [\"Match Threshold\", \"mean_1\", \"std_1\", \"mean_2\", \"std_2\"])\n",
    "\n",
    "#convert std columns to array for plotting\n",
    "yerr = df[[\"std_1\", \"std_2\"]].to_numpy().T"
   ]
  },
  {
   "cell_type": "code",
   "execution_count": 281,
   "id": "1a12f4ea",
   "metadata": {},
   "outputs": [
    {
     "data": {
      "text/plain": [
       "<Figure size 1440x720 with 0 Axes>"
      ]
     },
     "metadata": {},
     "output_type": "display_data"
    },
    {
     "data": {
      "image/png": "[encoded data removed]",
      "text/plain": [
       "<Figure size 432x288 with 1 Axes>"
      ]
     },
     "metadata": {
      "needs_background": "light"
     },
     "output_type": "display_data"
    }
   ],
   "source": [
    "plt.figure(figsize=(20, 10))\n",
    "df[['mean_1', 'mean_2']].plot(kind='line', yerr = yerr, stacked=False, color= ['Blue', 'Black'], marker='o')\n",
    "plt.xlabel('Match Threshold')\n",
    "plt.ylabel('training_error (mean +- sd)')\n",
    "plt.ylim(4.8, 7.0)\n",
    "plt.legend(labels = [\"Best Model\", \"Closing IWP Model\"])\n",
    "x = [0, 1, 2, 3, 4, 5, 6, 7, 8, 9, 10, 11, 12, 13, 14, 15]\n",
    "labels = [\"0\", \"10\", \"20\", \"30\", \"40\", \"50\", \"60\", \"70\", \"80\", \"90\", \"100\", \"110\", \"120\", \"130\", \"140\", \"150\"]\n",
    "plt.xticks(x, labels, rotation=\"horizontal\");"
   ]
  },
  {
   "cell_type": "code",
   "execution_count": 173,
   "id": "87bd8d3a",
   "metadata": {},
   "outputs": [
    {
     "data": {
      "text/plain": [
       "1337.0"
      ]
     },
     "execution_count": 173,
     "metadata": {},
     "output_type": "execute_result"
    }
   ],
   "source": [
    "#Compute number of matches per threshold inclusion\n",
    "x = (2005.5 + 668.5)/2\n",
    "x"
   ]
  },
  {
   "cell_type": "markdown",
   "id": "e0a8f39f",
   "metadata": {},
   "source": [
    "Clay Court Gradient Boosting Regressor RMSE Train(STD)/Test for different explored hyperparameter values (summarized below)\n",
    "All include 2012-2019 for modeling (2009-2011 for feature accrual only)\n",
    "\n",
    "Minimum 0 Previous Matches For Both Players in Given Predicted Match (9546.0, 3182.0)\n",
    "5.959651413958468, 0.09438009231875734, 5.842615077534552\n",
    "\n",
    "Minimum 10 Previous Matches For Both Players in Given Predicted Match (6949.5, 2316.5)\n",
    "(5.906025309296566, 0.12808465252758108), 5.747806707064705\n",
    "\n",
    "Minimum 20 Previous Matches For Both Players in Given Predicted Match (5410.5, 1803.5)\n",
    "(5.836553305316985, 0.05649196986757704), 5.775017797154069\n",
    "\n",
    "Minimum 30 Previous Matches For Both Players in Given Predicted Match (4227.0, 1409.0)\n",
    "(5.877190407442512, 0.13809009883395437), 5.767448578096307\n",
    "\n",
    "Minimum 40 Previous Matches For Both Players in Given Predicted Match (3348.0, 1116.0)\n",
    "(5.783955452203488, 0.14320397069645208), 5.741598344256716\n",
    "\n",
    "Minimum 50 Previous Matches For Both Players in Given Predicted Match (2677.5, 892.5)\n",
    "(5.777721832743323, 0.23473280183844544), 5.604923899563143\n",
    "\n",
    "Minimum 60 Previous Matches For Both Players in Given Predicted Match (2146.5, 715.5)\n",
    "(5.621874696648467, 0.09190774834372786), 5.7496966698560765\n",
    "\n",
    "Minimum 70 Previous Matches For Both Players in Given Predicted Match (1683.0, 561.0)\n",
    "(5.726269995824807, 0.2958847006929105), 5.838580839072533 \n",
    "\n",
    "Minimum 80 Previous Matches For Both Players in Given Predicted Match (1309.5, 436.5)\n",
    "(5.7493988601763135, 0.24650180607352715), 5.428425451790737\n",
    "\n",
    "Minimum 90 Previous Matches For Both Players in Given Predicted Match (991.5, 330.5)\n",
    "(5.858616032412801, 0.11829191585038183), 5.420762506898841 \n",
    "\n",
    "Minimum 100 Previous Matches For Both Players in Given Predicted Match (741.0, 247.0)\n",
    "(5.995246265338885, 0.16991946580947528), 5.491839521195637 \n",
    "\n",
    "Minimum 110 Previous Matches For Both Players in Given Predicted Match (534.0, 178.0)\n",
    "(5.757686158409602, 0.214998267970478), 6.088822796684123\n",
    "\n",
    "Minimum 120 Previous Matches For Both Players in Given Predicted Match (393.0, 131.0)    \n",
    "(5.629430698578358, 0.4808376745323761), 6.005708174713229\n",
    "\n",
    "Minimum 130 Previous Matches For Both Players in Given Predicted Match (279.0, 93.0)\n",
    "(5.888849839645934, 0.43705194375857137), 6.031453721323027 \n",
    "\n",
    "Minimum 140 Previous Matches For Both Players in Given Predicted Match (199.5, 66.5)\n",
    "(6.254561663353773, 0.5874012696352114), 5.661180672657073\n",
    "\n",
    "Minimum 150 Previous Matches For Both Players in Given Predicted Match (144.0, 48.0)\n",
    "(6.006944209332855, 0.22816637985084823), 5.981181497495987\n",
    "\n",
    "\n",
    "Clay Court (Avg_Closing_IWP)\n",
    "All include 2012-2019 for modeling (2009-2011 for feature accrual only)\n",
    "\n",
    "Minimum 0 Previous Matches For Both Players in Given Predicted Match (9546.0, 3182.0)\n",
    "(5.747458747382763, 0.10039439776701652), 5.665579770297288 \n",
    "\n",
    "Minimum 10 Previous Matches For Both Players in Given Predicted Match (6949.5, 2316.5)\n",
    "(5.781022625422123, 0.11072886939995126), 5.637584313566813\n",
    "\n",
    "Minimum 20 Previous Matches For Both Players in Given Predicted Match (5410.5, 1803.5)\n",
    "(5.720254334276802, 0.08618727755274995), 5.65655462441532 \n",
    "\n",
    "Minimum 30 Previous Matches For Both Players in Given Predicted Match (4227.0, 1409.0)\n",
    "(5.7419949701104605, 0.1474440925197911), 5.595191779666222 \n",
    "\n",
    "Minimum 40 Previous Matches For Both Players in Given Predicted Match (3348.0, 1116.0)\n",
    "(5.669327976541762, 0.09834632925816006), 5.629387559138842 \n",
    "\n",
    "Minimum 50 Previous Matches For Both Players in Given Predicted Match (2677.5, 892.5)\n",
    "(5.661554212550113, 0.1870445721606545), 5.491234189298868 \n",
    "\n",
    "Minimum 60 Previous Matches For Both Players in Given Predicted Match (2146.5, 715.5)\n",
    "(5.493226341379515, 0.09761358140265376), 5.703722133635298\n",
    "\n",
    "Minimum 70 Previous Matches For Both Players in Given Predicted Match (1683.0, 561.0)\n",
    "(5.60107804250728, 0.2618784672729556), 5.833094220262904 \n",
    "\n",
    "Minimum 80 Previous Matches For Both Players in Given Predicted Match (1309.5, 436.5)\n",
    "(5.622006353585834, 0.2293524631292829), 5.247167028924071\n",
    "\n",
    "Minimum 90 Previous Matches For Both Players in Given Predicted Match (991.5, 330.5)\n",
    "(5.666805772287368, 0.10193520972174369), 5.292453243976522  \n",
    "\n",
    "Minimum 100 Previous Matches For Both Players in Given Predicted Match (741.0, 247.0)\n",
    "(5.794282742845889, 0.24375959358234478), 5.285215085815711 \n",
    "\n",
    "Minimum 110 Previous Matches For Both Players in Given Predicted Match (534.0, 178.0)\n",
    "(5.5340825364575945, 0.1655057405496067), 5.847286027589555 \n",
    "\n",
    "Minimum 120 Previous Matches For Both Players in Given Predicted Match (393.0, 131.0)    \n",
    "(5.494885700332568, 0.37760414260701974), 5.629744040356515 \n",
    "\n",
    "Minimum 130 Previous Matches For Both Players in Given Predicted Match (279.0, 93.0)\n",
    "(5.582803986491416, 0.4320352372477443), 5.829720236705859 \n",
    "\n",
    "Minimum 140 Previous Matches For Both Players in Given Predicted Match (199.5, 66.5)\n",
    "(5.841659720856621, 0.6033329933811094), 5.251561370910162\n",
    "\n",
    "Minimum 150 Previous Matches For Both Players in Given Predicted Match (144.0, 48.0)\n",
    "(5.666251787604111, 0.46151384957509833), 5.128563506227326"
   ]
  },
  {
   "cell_type": "code",
   "execution_count": 282,
   "id": "74746c51",
   "metadata": {},
   "outputs": [],
   "source": [
    "df = pd.DataFrame([[0, 5.959651413958468, 0.09438009231875734, 5.747458747382763, 0.10039439776701652], [10, 5.906025309296566, 0.12808465252758108, 5.781022625422123, 0.11072886939995126], [20, 5.836553305316985, 0.05649196986757704, 5.720254334276802, 0.08618727755274995], [30, 5.877190407442512, 0.13809009883395437, 5.7419949701104605, 0.1474440925197911], [40, 5.783955452203488, 0.14320397069645208, 5.669327976541762, 0.09834632925816006], [50, 5.777721832743323, 0.23473280183844544, 5.661554212550113, 0.1870445721606545], [60, 5.621874696648467, 0.09190774834372786, 5.493226341379515, 0.09761358140265376], [70, 5.726269995824807, 0.2958847006929105, 5.60107804250728, 0.2618784672729556], [80, 5.7493988601763135, 0.24650180607352715, 5.622006353585834, 0.2293524631292829], [90, 5.858616032412801, 0.11829191585038183, 5.666805772287368, 0.10193520972174369], [100, 5.995246265338885, 0.16991946580947528, 5.794282742845889, 0.24375959358234478], [110, 5.757686158409602, 0.214998267970478, 5.5340825364575945, 0.1655057405496067], [120, 5.629430698578358, 0.4808376745323761, 5.494885700332568, 0.37760414260701974], [130, 5.888849839645934, 0.43705194375857137, 5.582803986491416, 0.4320352372477443], [140, 6.254561663353773, 0.5874012696352114, 5.841659720856621, 0.6033329933811094], [150, 6.006944209332855, 0.22816637985084823, 5.666251787604111, 0.46151384957509833]], columns = [\"Match Threshold\", \"mean_1\", \"std_1\", \"mean_2\", \"std_2\"]) \n",
    "\n",
    "#convert std columns to array for plotting\n",
    "yerr = df[[\"std_1\", \"std_2\"]].to_numpy().T"
   ]
  },
  {
   "cell_type": "code",
   "execution_count": 284,
   "id": "db1f7dd2",
   "metadata": {},
   "outputs": [
    {
     "data": {
      "text/plain": [
       "<Figure size 1440x720 with 0 Axes>"
      ]
     },
     "metadata": {},
     "output_type": "display_data"
    },
    {
     "data": {
      "image/png": "[encoded data removed]",
      "text/plain": [
       "<Figure size 432x288 with 1 Axes>"
      ]
     },
     "metadata": {
      "needs_background": "light"
     },
     "output_type": "display_data"
    }
   ],
   "source": [
    "plt.figure(figsize=(20, 10))\n",
    "df[['mean_1', 'mean_2']].plot(kind='line', yerr = yerr, stacked=False, color= ['Maroon', 'Black'], marker='o')\n",
    "plt.xlabel('Match Threshold')\n",
    "plt.ylabel('training_error (mean +- sd)')\n",
    "plt.ylim(4.8, 7.0)\n",
    "plt.legend(labels = [\"Best Model\", \"Closing IWP Model\"], loc = \"lower left\")\n",
    "x = [0, 1, 2, 3, 4, 5, 6, 7, 8, 9, 10, 11, 12, 13, 14, 15]\n",
    "labels = [\"0\", \"10\", \"20\", \"30\", \"40\", \"50\", \"60\", \"70\", \"80\", \"90\", \"100\", \"110\", \"120\", \"130\", \"140\", \"150\"]\n",
    "plt.xticks(x, labels, rotation=\"horizontal\");"
   ]
  },
  {
   "cell_type": "code",
   "execution_count": 182,
   "id": "2f20b3d8",
   "metadata": {},
   "outputs": [
    {
     "data": {
      "text/plain": [
       "133.0"
      ]
     },
     "execution_count": 182,
     "metadata": {},
     "output_type": "execute_result"
    }
   ],
   "source": [
    "#Compute number of matches per year range inclusion\n",
    "x = (199.5 + 66.5)/2\n",
    "x"
   ]
  },
  {
   "cell_type": "markdown",
   "id": "f289787a",
   "metadata": {},
   "source": [
    "#### Supp Fig. 3.  Aggregate Match Statistics for Hard Court vs Clay Court Tennis"
   ]
  },
  {
   "cell_type": "code",
   "execution_count": 200,
   "id": "ee379fa8",
   "metadata": {},
   "outputs": [],
   "source": [
    "df = pd.read_csv('../data/processed_data/df_player_all_for_EDA.csv')\n",
    "df.head()\n",
    "\n",
    "#Filter down the full df to 2015-2019 (clay and hard) and threshold of 20 previous matches per player in a given match\n",
    "df = df.loc[(df[\"t_surf\"] != 3)] #remove grass\n",
    "df_filter = df.loc[(df[\"m_yr\"] == 2019) | (df[\"m_yr\"] == 2018) | (df[\"m_yr\"] == 2017) | (df[\"m_yr\"] == 2016) | (df[\"m_yr\"] == 2015)]\n",
    "df_low_pass = df_filter.loc[df_filter['p_matches_ss'] <= 20, 'm_num']\n",
    "df_filter = df_filter[~df_filter['m_num'].isin(df_low_pass)]"
   ]
  },
  {
   "cell_type": "code",
   "execution_count": 201,
   "id": "ecd6b423",
   "metadata": {},
   "outputs": [
    {
     "data": {
      "text/html": [
       "<div>\n",
       "<style scoped>\n",
       "    .dataframe tbody tr th:only-of-type {\n",
       "        vertical-align: middle;\n",
       "    }\n",
       "\n",
       "    .dataframe tbody tr th {\n",
       "        vertical-align: top;\n",
       "    }\n",
       "\n",
       "    .dataframe thead th {\n",
       "        text-align: right;\n",
       "    }\n",
       "</style>\n",
       "<table border=\"1\" class=\"dataframe\">\n",
       "  <thead>\n",
       "    <tr style=\"text-align: right;\">\n",
       "      <th></th>\n",
       "      <th>t_surf</th>\n",
       "      <th>t_id</th>\n",
       "      <th>p_ace%</th>\n",
       "    </tr>\n",
       "  </thead>\n",
       "  <tbody>\n",
       "    <tr>\n",
       "      <th>0</th>\n",
       "      <td>1</td>\n",
       "      <td>2015308</td>\n",
       "      <td>6.647143</td>\n",
       "    </tr>\n",
       "    <tr>\n",
       "      <th>1</th>\n",
       "      <td>1</td>\n",
       "      <td>2015314</td>\n",
       "      <td>5.863684</td>\n",
       "    </tr>\n",
       "    <tr>\n",
       "      <th>2</th>\n",
       "      <td>1</td>\n",
       "      <td>2015316</td>\n",
       "      <td>5.058667</td>\n",
       "    </tr>\n",
       "    <tr>\n",
       "      <th>3</th>\n",
       "      <td>1</td>\n",
       "      <td>2015319</td>\n",
       "      <td>6.705476</td>\n",
       "    </tr>\n",
       "    <tr>\n",
       "      <th>4</th>\n",
       "      <td>1</td>\n",
       "      <td>2015322</td>\n",
       "      <td>3.951667</td>\n",
       "    </tr>\n",
       "    <tr>\n",
       "      <th>...</th>\n",
       "      <td>...</td>\n",
       "      <td>...</td>\n",
       "      <td>...</td>\n",
       "    </tr>\n",
       "    <tr>\n",
       "      <th>292</th>\n",
       "      <td>2</td>\n",
       "      <td>201910014</td>\n",
       "      <td>10.376765</td>\n",
       "    </tr>\n",
       "    <tr>\n",
       "      <th>293</th>\n",
       "      <td>2</td>\n",
       "      <td>201910015</td>\n",
       "      <td>9.986667</td>\n",
       "    </tr>\n",
       "    <tr>\n",
       "      <th>294</th>\n",
       "      <td>2</td>\n",
       "      <td>201910020</td>\n",
       "      <td>13.701250</td>\n",
       "    </tr>\n",
       "    <tr>\n",
       "      <th>295</th>\n",
       "      <td>2</td>\n",
       "      <td>201910024</td>\n",
       "      <td>9.473667</td>\n",
       "    </tr>\n",
       "    <tr>\n",
       "      <th>296</th>\n",
       "      <td>2</td>\n",
       "      <td>201910035</td>\n",
       "      <td>12.628167</td>\n",
       "    </tr>\n",
       "  </tbody>\n",
       "</table>\n",
       "<p>297 rows × 3 columns</p>\n",
       "</div>"
      ],
      "text/plain": [
       "     t_surf       t_id     p_ace%\n",
       "0         1    2015308   6.647143\n",
       "1         1    2015314   5.863684\n",
       "2         1    2015316   5.058667\n",
       "3         1    2015319   6.705476\n",
       "4         1    2015322   3.951667\n",
       "..      ...        ...        ...\n",
       "292       2  201910014  10.376765\n",
       "293       2  201910015   9.986667\n",
       "294       2  201910020  13.701250\n",
       "295       2  201910024   9.473667\n",
       "296       2  201910035  12.628167\n",
       "\n",
       "[297 rows x 3 columns]"
      ]
     },
     "execution_count": 201,
     "metadata": {},
     "output_type": "execute_result"
    }
   ],
   "source": [
    "ace_pct_by_surf = df_filter.groupby(['t_surf','t_id'], as_index=False)['p_ace%'].mean()\n",
    "ace_pct_by_surf"
   ]
  },
  {
   "cell_type": "code",
   "execution_count": 202,
   "id": "a4c6470e",
   "metadata": {},
   "outputs": [
    {
     "data": {
      "text/plain": [
       "Text(0.5, 0, 'Surface')"
      ]
     },
     "execution_count": 202,
     "metadata": {},
     "output_type": "execute_result"
    },
    {
     "data": {
      "image/png": "[encoded data removed]",
      "text/plain": [
       "<Figure size 432x288 with 1 Axes>"
      ]
     },
     "metadata": {
      "needs_background": "light"
     },
     "output_type": "display_data"
    }
   ],
   "source": [
    "g = sns.barplot(x=\"t_surf\",y=\"p_ace%\",data=ace_pct_by_surf, palette = [\"maroon\", \"blue\"])\n",
    "g.set_ylabel(\"ace % by tournament (mean + sd)\")\n",
    "g.set(xticklabels=[\"Clay\", \"Hard\"])\n",
    "g.set_xlabel(\"Surface\")"
   ]
  },
  {
   "cell_type": "code",
   "execution_count": 225,
   "id": "56d439e6",
   "metadata": {},
   "outputs": [
    {
     "data": {
      "text/html": [
       "<div>\n",
       "<style scoped>\n",
       "    .dataframe tbody tr th:only-of-type {\n",
       "        vertical-align: middle;\n",
       "    }\n",
       "\n",
       "    .dataframe tbody tr th {\n",
       "        vertical-align: top;\n",
       "    }\n",
       "\n",
       "    .dataframe thead th {\n",
       "        text-align: right;\n",
       "    }\n",
       "</style>\n",
       "<table border=\"1\" class=\"dataframe\">\n",
       "  <thead>\n",
       "    <tr style=\"text-align: right;\">\n",
       "      <th></th>\n",
       "      <th>t_surf</th>\n",
       "      <th>t_id</th>\n",
       "      <th>p_sv_pts_won%</th>\n",
       "    </tr>\n",
       "  </thead>\n",
       "  <tbody>\n",
       "    <tr>\n",
       "      <th>0</th>\n",
       "      <td>1</td>\n",
       "      <td>2015308</td>\n",
       "      <td>62.436786</td>\n",
       "    </tr>\n",
       "    <tr>\n",
       "      <th>1</th>\n",
       "      <td>1</td>\n",
       "      <td>2015314</td>\n",
       "      <td>62.182105</td>\n",
       "    </tr>\n",
       "    <tr>\n",
       "      <th>2</th>\n",
       "      <td>1</td>\n",
       "      <td>2015316</td>\n",
       "      <td>61.083667</td>\n",
       "    </tr>\n",
       "    <tr>\n",
       "      <th>3</th>\n",
       "      <td>1</td>\n",
       "      <td>2015319</td>\n",
       "      <td>60.616429</td>\n",
       "    </tr>\n",
       "    <tr>\n",
       "      <th>4</th>\n",
       "      <td>1</td>\n",
       "      <td>2015322</td>\n",
       "      <td>63.001667</td>\n",
       "    </tr>\n",
       "    <tr>\n",
       "      <th>...</th>\n",
       "      <td>...</td>\n",
       "      <td>...</td>\n",
       "      <td>...</td>\n",
       "    </tr>\n",
       "    <tr>\n",
       "      <th>292</th>\n",
       "      <td>2</td>\n",
       "      <td>201910014</td>\n",
       "      <td>65.039412</td>\n",
       "    </tr>\n",
       "    <tr>\n",
       "      <th>293</th>\n",
       "      <td>2</td>\n",
       "      <td>201910015</td>\n",
       "      <td>65.502778</td>\n",
       "    </tr>\n",
       "    <tr>\n",
       "      <th>294</th>\n",
       "      <td>2</td>\n",
       "      <td>201910020</td>\n",
       "      <td>65.872250</td>\n",
       "    </tr>\n",
       "    <tr>\n",
       "      <th>295</th>\n",
       "      <td>2</td>\n",
       "      <td>201910024</td>\n",
       "      <td>65.289111</td>\n",
       "    </tr>\n",
       "    <tr>\n",
       "      <th>296</th>\n",
       "      <td>2</td>\n",
       "      <td>201910035</td>\n",
       "      <td>66.392667</td>\n",
       "    </tr>\n",
       "  </tbody>\n",
       "</table>\n",
       "<p>297 rows × 3 columns</p>\n",
       "</div>"
      ],
      "text/plain": [
       "     t_surf       t_id  p_sv_pts_won%\n",
       "0         1    2015308      62.436786\n",
       "1         1    2015314      62.182105\n",
       "2         1    2015316      61.083667\n",
       "3         1    2015319      60.616429\n",
       "4         1    2015322      63.001667\n",
       "..      ...        ...            ...\n",
       "292       2  201910014      65.039412\n",
       "293       2  201910015      65.502778\n",
       "294       2  201910020      65.872250\n",
       "295       2  201910024      65.289111\n",
       "296       2  201910035      66.392667\n",
       "\n",
       "[297 rows x 3 columns]"
      ]
     },
     "execution_count": 225,
     "metadata": {},
     "output_type": "execute_result"
    }
   ],
   "source": [
    "svpts_won_pct_by_surf = df_filter.groupby(['t_surf','t_id'], as_index=False)['p_sv_pts_won%'].mean()\n",
    "svpts_won_pct_by_surf"
   ]
  },
  {
   "cell_type": "code",
   "execution_count": 226,
   "id": "e142a1b8",
   "metadata": {},
   "outputs": [
    {
     "data": {
      "text/plain": [
       "(30.0, 70.0)"
      ]
     },
     "execution_count": 226,
     "metadata": {},
     "output_type": "execute_result"
    },
    {
     "data": {
      "image/png": "[encoded data removed]",
      "text/plain": [
       "<Figure size 432x288 with 1 Axes>"
      ]
     },
     "metadata": {
      "needs_background": "light"
     },
     "output_type": "display_data"
    }
   ],
   "source": [
    "g = sns.barplot(x=\"t_surf\",y=\"p_sv_pts_won%\",data=svpts_won_pct_by_surf, palette = [\"maroon\", \"blue\"])\n",
    "g.set_ylabel(\"serve pts won % by tournament (mean + sd)\")\n",
    "g.set(xticklabels=[\"Clay\", \"Hard\"])\n",
    "g.set_xlabel(\"Surface\")\n",
    "g.set_ylim(30,70)\n",
    "#g.set_xlimit([30, 70])"
   ]
  },
  {
   "cell_type": "code",
   "execution_count": 227,
   "id": "51e9cead",
   "metadata": {},
   "outputs": [
    {
     "data": {
      "text/html": [
       "<div>\n",
       "<style scoped>\n",
       "    .dataframe tbody tr th:only-of-type {\n",
       "        vertical-align: middle;\n",
       "    }\n",
       "\n",
       "    .dataframe tbody tr th {\n",
       "        vertical-align: top;\n",
       "    }\n",
       "\n",
       "    .dataframe thead th {\n",
       "        text-align: right;\n",
       "    }\n",
       "</style>\n",
       "<table border=\"1\" class=\"dataframe\">\n",
       "  <thead>\n",
       "    <tr style=\"text-align: right;\">\n",
       "      <th></th>\n",
       "      <th>t_surf</th>\n",
       "      <th>t_id</th>\n",
       "      <th>p_ret_pts_won%</th>\n",
       "    </tr>\n",
       "  </thead>\n",
       "  <tbody>\n",
       "    <tr>\n",
       "      <th>0</th>\n",
       "      <td>1</td>\n",
       "      <td>2015308</td>\n",
       "      <td>37.563214</td>\n",
       "    </tr>\n",
       "    <tr>\n",
       "      <th>1</th>\n",
       "      <td>1</td>\n",
       "      <td>2015314</td>\n",
       "      <td>37.817895</td>\n",
       "    </tr>\n",
       "    <tr>\n",
       "      <th>2</th>\n",
       "      <td>1</td>\n",
       "      <td>2015316</td>\n",
       "      <td>38.916333</td>\n",
       "    </tr>\n",
       "    <tr>\n",
       "      <th>3</th>\n",
       "      <td>1</td>\n",
       "      <td>2015319</td>\n",
       "      <td>39.383571</td>\n",
       "    </tr>\n",
       "    <tr>\n",
       "      <th>4</th>\n",
       "      <td>1</td>\n",
       "      <td>2015322</td>\n",
       "      <td>36.998333</td>\n",
       "    </tr>\n",
       "    <tr>\n",
       "      <th>...</th>\n",
       "      <td>...</td>\n",
       "      <td>...</td>\n",
       "      <td>...</td>\n",
       "    </tr>\n",
       "    <tr>\n",
       "      <th>292</th>\n",
       "      <td>2</td>\n",
       "      <td>201910014</td>\n",
       "      <td>34.960588</td>\n",
       "    </tr>\n",
       "    <tr>\n",
       "      <th>293</th>\n",
       "      <td>2</td>\n",
       "      <td>201910015</td>\n",
       "      <td>34.497222</td>\n",
       "    </tr>\n",
       "    <tr>\n",
       "      <th>294</th>\n",
       "      <td>2</td>\n",
       "      <td>201910020</td>\n",
       "      <td>34.127750</td>\n",
       "    </tr>\n",
       "    <tr>\n",
       "      <th>295</th>\n",
       "      <td>2</td>\n",
       "      <td>201910024</td>\n",
       "      <td>34.710889</td>\n",
       "    </tr>\n",
       "    <tr>\n",
       "      <th>296</th>\n",
       "      <td>2</td>\n",
       "      <td>201910035</td>\n",
       "      <td>33.607333</td>\n",
       "    </tr>\n",
       "  </tbody>\n",
       "</table>\n",
       "<p>297 rows × 3 columns</p>\n",
       "</div>"
      ],
      "text/plain": [
       "     t_surf       t_id  p_ret_pts_won%\n",
       "0         1    2015308       37.563214\n",
       "1         1    2015314       37.817895\n",
       "2         1    2015316       38.916333\n",
       "3         1    2015319       39.383571\n",
       "4         1    2015322       36.998333\n",
       "..      ...        ...             ...\n",
       "292       2  201910014       34.960588\n",
       "293       2  201910015       34.497222\n",
       "294       2  201910020       34.127750\n",
       "295       2  201910024       34.710889\n",
       "296       2  201910035       33.607333\n",
       "\n",
       "[297 rows x 3 columns]"
      ]
     },
     "execution_count": 227,
     "metadata": {},
     "output_type": "execute_result"
    }
   ],
   "source": [
    "retpts_won_pct_by_surf = df_filter.groupby(['t_surf','t_id'], as_index=False)['p_ret_pts_won%'].mean()\n",
    "retpts_won_pct_by_surf"
   ]
  },
  {
   "cell_type": "code",
   "execution_count": 228,
   "id": "ffb89c08",
   "metadata": {},
   "outputs": [
    {
     "data": {
      "text/plain": [
       "(30.0, 70.0)"
      ]
     },
     "execution_count": 228,
     "metadata": {},
     "output_type": "execute_result"
    },
    {
     "data": {
      "image/png": "[encoded data removed]",
      "text/plain": [
       "<Figure size 432x288 with 1 Axes>"
      ]
     },
     "metadata": {
      "needs_background": "light"
     },
     "output_type": "display_data"
    }
   ],
   "source": [
    "g = sns.barplot(x=\"t_surf\",y=\"p_ret_pts_won%\",data=retpts_won_pct_by_surf, palette = [\"maroon\", \"blue\"])\n",
    "g.set_ylabel(\"return pts won % by tournament (mean + sd)\")\n",
    "g.set(xticklabels=[\"Clay\", \"Hard\"])\n",
    "g.set_xlabel(\"Surface\")\n",
    "g.set_ylim(30,70)\n",
    "#g.set_xlimit([30, 70])"
   ]
  },
  {
   "cell_type": "code",
   "execution_count": 207,
   "id": "93b358a3",
   "metadata": {},
   "outputs": [
    {
     "data": {
      "text/html": [
       "<div>\n",
       "<style scoped>\n",
       "    .dataframe tbody tr th:only-of-type {\n",
       "        vertical-align: middle;\n",
       "    }\n",
       "\n",
       "    .dataframe tbody tr th {\n",
       "        vertical-align: top;\n",
       "    }\n",
       "\n",
       "    .dataframe thead th {\n",
       "        text-align: right;\n",
       "    }\n",
       "</style>\n",
       "<table border=\"1\" class=\"dataframe\">\n",
       "  <thead>\n",
       "    <tr style=\"text-align: right;\">\n",
       "      <th></th>\n",
       "      <th>t_surf</th>\n",
       "      <th>t_id</th>\n",
       "      <th>p_bp_conv%</th>\n",
       "    </tr>\n",
       "  </thead>\n",
       "  <tbody>\n",
       "    <tr>\n",
       "      <th>0</th>\n",
       "      <td>1</td>\n",
       "      <td>2015308</td>\n",
       "      <td>32.483571</td>\n",
       "    </tr>\n",
       "    <tr>\n",
       "      <th>1</th>\n",
       "      <td>1</td>\n",
       "      <td>2015314</td>\n",
       "      <td>41.150000</td>\n",
       "    </tr>\n",
       "    <tr>\n",
       "      <th>2</th>\n",
       "      <td>1</td>\n",
       "      <td>2015316</td>\n",
       "      <td>37.822667</td>\n",
       "    </tr>\n",
       "    <tr>\n",
       "      <th>3</th>\n",
       "      <td>1</td>\n",
       "      <td>2015319</td>\n",
       "      <td>44.189286</td>\n",
       "    </tr>\n",
       "    <tr>\n",
       "      <th>4</th>\n",
       "      <td>1</td>\n",
       "      <td>2015322</td>\n",
       "      <td>40.676905</td>\n",
       "    </tr>\n",
       "    <tr>\n",
       "      <th>...</th>\n",
       "      <td>...</td>\n",
       "      <td>...</td>\n",
       "      <td>...</td>\n",
       "    </tr>\n",
       "    <tr>\n",
       "      <th>292</th>\n",
       "      <td>2</td>\n",
       "      <td>201910014</td>\n",
       "      <td>37.087059</td>\n",
       "    </tr>\n",
       "    <tr>\n",
       "      <th>293</th>\n",
       "      <td>2</td>\n",
       "      <td>201910015</td>\n",
       "      <td>33.381667</td>\n",
       "    </tr>\n",
       "    <tr>\n",
       "      <th>294</th>\n",
       "      <td>2</td>\n",
       "      <td>201910020</td>\n",
       "      <td>39.794500</td>\n",
       "    </tr>\n",
       "    <tr>\n",
       "      <th>295</th>\n",
       "      <td>2</td>\n",
       "      <td>201910024</td>\n",
       "      <td>39.914333</td>\n",
       "    </tr>\n",
       "    <tr>\n",
       "      <th>296</th>\n",
       "      <td>2</td>\n",
       "      <td>201910035</td>\n",
       "      <td>34.400667</td>\n",
       "    </tr>\n",
       "  </tbody>\n",
       "</table>\n",
       "<p>297 rows × 3 columns</p>\n",
       "</div>"
      ],
      "text/plain": [
       "     t_surf       t_id  p_bp_conv%\n",
       "0         1    2015308   32.483571\n",
       "1         1    2015314   41.150000\n",
       "2         1    2015316   37.822667\n",
       "3         1    2015319   44.189286\n",
       "4         1    2015322   40.676905\n",
       "..      ...        ...         ...\n",
       "292       2  201910014   37.087059\n",
       "293       2  201910015   33.381667\n",
       "294       2  201910020   39.794500\n",
       "295       2  201910024   39.914333\n",
       "296       2  201910035   34.400667\n",
       "\n",
       "[297 rows x 3 columns]"
      ]
     },
     "execution_count": 207,
     "metadata": {},
     "output_type": "execute_result"
    }
   ],
   "source": [
    "bpconvert_pct_by_surf = df_filter.groupby(['t_surf','t_id'], as_index=False)['p_bp_conv%'].mean()\n",
    "bpconvert_pct_by_surf"
   ]
  },
  {
   "cell_type": "code",
   "execution_count": 208,
   "id": "b35d1b47",
   "metadata": {},
   "outputs": [
    {
     "data": {
      "text/plain": [
       "(20.0, 45.0)"
      ]
     },
     "execution_count": 208,
     "metadata": {},
     "output_type": "execute_result"
    },
    {
     "data": {
      "image/png": "[encoded data removed]",
      "text/plain": [
       "<Figure size 432x288 with 1 Axes>"
      ]
     },
     "metadata": {
      "needs_background": "light"
     },
     "output_type": "display_data"
    }
   ],
   "source": [
    "g = sns.barplot(x=\"t_surf\",y=\"p_bp_conv%\",data=bpconvert_pct_by_surf, palette = [\"maroon\", \"blue\"])\n",
    "g.set_ylabel(\"break point convert % by tournament (mean + sd)\")\n",
    "g.set(xticklabels=[\"Clay\", \"Hard\"])\n",
    "g.set_xlabel(\"Surface\")\n",
    "g.set_ylim(20,45)\n",
    "#g.set_xlimit([30, 70])"
   ]
  },
  {
   "cell_type": "code",
   "execution_count": 217,
   "id": "87ebd263",
   "metadata": {},
   "outputs": [],
   "source": [
    "# Only GS\n",
    "df_filter2 = df_filter[df_filter['t_lvl'] == 4]"
   ]
  },
  {
   "cell_type": "code",
   "execution_count": 218,
   "id": "fe822a05",
   "metadata": {},
   "outputs": [
    {
     "data": {
      "text/html": [
       "<div>\n",
       "<style scoped>\n",
       "    .dataframe tbody tr th:only-of-type {\n",
       "        vertical-align: middle;\n",
       "    }\n",
       "\n",
       "    .dataframe tbody tr th {\n",
       "        vertical-align: top;\n",
       "    }\n",
       "\n",
       "    .dataframe thead th {\n",
       "        text-align: right;\n",
       "    }\n",
       "</style>\n",
       "<table border=\"1\" class=\"dataframe\">\n",
       "  <thead>\n",
       "    <tr style=\"text-align: right;\">\n",
       "      <th></th>\n",
       "      <th>t_surf</th>\n",
       "      <th>t_id</th>\n",
       "      <th>m_t(m)</th>\n",
       "    </tr>\n",
       "  </thead>\n",
       "  <tbody>\n",
       "    <tr>\n",
       "      <th>0</th>\n",
       "      <td>1</td>\n",
       "      <td>2015520</td>\n",
       "      <td>151.197183</td>\n",
       "    </tr>\n",
       "    <tr>\n",
       "      <th>1</th>\n",
       "      <td>1</td>\n",
       "      <td>2016520</td>\n",
       "      <td>151.182927</td>\n",
       "    </tr>\n",
       "    <tr>\n",
       "      <th>2</th>\n",
       "      <td>1</td>\n",
       "      <td>2017520</td>\n",
       "      <td>148.536585</td>\n",
       "    </tr>\n",
       "    <tr>\n",
       "      <th>3</th>\n",
       "      <td>1</td>\n",
       "      <td>2018520</td>\n",
       "      <td>158.271429</td>\n",
       "    </tr>\n",
       "    <tr>\n",
       "      <th>4</th>\n",
       "      <td>1</td>\n",
       "      <td>2019520</td>\n",
       "      <td>163.444444</td>\n",
       "    </tr>\n",
       "    <tr>\n",
       "      <th>5</th>\n",
       "      <td>2</td>\n",
       "      <td>2015560</td>\n",
       "      <td>144.164948</td>\n",
       "    </tr>\n",
       "    <tr>\n",
       "      <th>6</th>\n",
       "      <td>2</td>\n",
       "      <td>2015580</td>\n",
       "      <td>145.644444</td>\n",
       "    </tr>\n",
       "    <tr>\n",
       "      <th>7</th>\n",
       "      <td>2</td>\n",
       "      <td>2016560</td>\n",
       "      <td>156.054348</td>\n",
       "    </tr>\n",
       "    <tr>\n",
       "      <th>8</th>\n",
       "      <td>2</td>\n",
       "      <td>2016580</td>\n",
       "      <td>153.195652</td>\n",
       "    </tr>\n",
       "    <tr>\n",
       "      <th>9</th>\n",
       "      <td>2</td>\n",
       "      <td>2017560</td>\n",
       "      <td>147.717391</td>\n",
       "    </tr>\n",
       "    <tr>\n",
       "      <th>10</th>\n",
       "      <td>2</td>\n",
       "      <td>2017580</td>\n",
       "      <td>154.054945</td>\n",
       "    </tr>\n",
       "    <tr>\n",
       "      <th>11</th>\n",
       "      <td>2</td>\n",
       "      <td>2018560</td>\n",
       "      <td>158.155556</td>\n",
       "    </tr>\n",
       "    <tr>\n",
       "      <th>12</th>\n",
       "      <td>2</td>\n",
       "      <td>2018580</td>\n",
       "      <td>157.155556</td>\n",
       "    </tr>\n",
       "    <tr>\n",
       "      <th>13</th>\n",
       "      <td>2</td>\n",
       "      <td>2019560</td>\n",
       "      <td>168.390244</td>\n",
       "    </tr>\n",
       "    <tr>\n",
       "      <th>14</th>\n",
       "      <td>2</td>\n",
       "      <td>2019580</td>\n",
       "      <td>155.731183</td>\n",
       "    </tr>\n",
       "  </tbody>\n",
       "</table>\n",
       "</div>"
      ],
      "text/plain": [
       "    t_surf     t_id      m_t(m)\n",
       "0        1  2015520  151.197183\n",
       "1        1  2016520  151.182927\n",
       "2        1  2017520  148.536585\n",
       "3        1  2018520  158.271429\n",
       "4        1  2019520  163.444444\n",
       "5        2  2015560  144.164948\n",
       "6        2  2015580  145.644444\n",
       "7        2  2016560  156.054348\n",
       "8        2  2016580  153.195652\n",
       "9        2  2017560  147.717391\n",
       "10       2  2017580  154.054945\n",
       "11       2  2018560  158.155556\n",
       "12       2  2018580  157.155556\n",
       "13       2  2019560  168.390244\n",
       "14       2  2019580  155.731183"
      ]
     },
     "execution_count": 218,
     "metadata": {},
     "output_type": "execute_result"
    }
   ],
   "source": [
    "match_length_by_surf = df_filter2.groupby(['t_surf','t_id'], as_index=False)['m_t(m)'].mean()\n",
    "match_length_by_surf"
   ]
  },
  {
   "cell_type": "code",
   "execution_count": 221,
   "id": "17ec35b8",
   "metadata": {},
   "outputs": [
    {
     "data": {
      "text/plain": [
       "(80.0, 180.0)"
      ]
     },
     "execution_count": 221,
     "metadata": {},
     "output_type": "execute_result"
    },
    {
     "data": {
      "image/png": "[encoded data removed]",
      "text/plain": [
       "<Figure size 432x288 with 1 Axes>"
      ]
     },
     "metadata": {
      "needs_background": "light"
     },
     "output_type": "display_data"
    }
   ],
   "source": [
    "g = sns.barplot(x=\"t_surf\",y=\"m_t(m)\",data=match_length_by_surf, palette = [\"maroon\", \"blue\"])\n",
    "g.set_ylabel(\"match length in min (mean + sd)\")\n",
    "g.set(xticklabels=[\"Clay\", \"Hard\"])\n",
    "g.set_xlabel(\"Surface\")\n",
    "g.set_ylim(80,180)\n",
    "#g.set_xlimit([30, 70])"
   ]
  },
  {
   "cell_type": "code",
   "execution_count": 222,
   "id": "6fc7fac7",
   "metadata": {},
   "outputs": [],
   "source": [
    "# Only non-GS\n",
    "df_filter3 = df_filter[df_filter['t_lvl'] != 4]"
   ]
  },
  {
   "cell_type": "code",
   "execution_count": 223,
   "id": "8fe3fef8",
   "metadata": {},
   "outputs": [
    {
     "data": {
      "text/html": [
       "<div>\n",
       "<style scoped>\n",
       "    .dataframe tbody tr th:only-of-type {\n",
       "        vertical-align: middle;\n",
       "    }\n",
       "\n",
       "    .dataframe tbody tr th {\n",
       "        vertical-align: top;\n",
       "    }\n",
       "\n",
       "    .dataframe thead th {\n",
       "        text-align: right;\n",
       "    }\n",
       "</style>\n",
       "<table border=\"1\" class=\"dataframe\">\n",
       "  <thead>\n",
       "    <tr style=\"text-align: right;\">\n",
       "      <th></th>\n",
       "      <th>t_surf</th>\n",
       "      <th>t_id</th>\n",
       "      <th>m_t(m)</th>\n",
       "    </tr>\n",
       "  </thead>\n",
       "  <tbody>\n",
       "    <tr>\n",
       "      <th>0</th>\n",
       "      <td>1</td>\n",
       "      <td>2015308</td>\n",
       "      <td>93.857143</td>\n",
       "    </tr>\n",
       "    <tr>\n",
       "      <th>1</th>\n",
       "      <td>1</td>\n",
       "      <td>2015314</td>\n",
       "      <td>91.157895</td>\n",
       "    </tr>\n",
       "    <tr>\n",
       "      <th>2</th>\n",
       "      <td>1</td>\n",
       "      <td>2015316</td>\n",
       "      <td>86.333333</td>\n",
       "    </tr>\n",
       "    <tr>\n",
       "      <th>3</th>\n",
       "      <td>1</td>\n",
       "      <td>2015319</td>\n",
       "      <td>92.190476</td>\n",
       "    </tr>\n",
       "    <tr>\n",
       "      <th>4</th>\n",
       "      <td>1</td>\n",
       "      <td>2015322</td>\n",
       "      <td>96.000000</td>\n",
       "    </tr>\n",
       "    <tr>\n",
       "      <th>...</th>\n",
       "      <td>...</td>\n",
       "      <td>...</td>\n",
       "      <td>...</td>\n",
       "    </tr>\n",
       "    <tr>\n",
       "      <th>277</th>\n",
       "      <td>2</td>\n",
       "      <td>201910014</td>\n",
       "      <td>96.058824</td>\n",
       "    </tr>\n",
       "    <tr>\n",
       "      <th>278</th>\n",
       "      <td>2</td>\n",
       "      <td>201910015</td>\n",
       "      <td>108.333333</td>\n",
       "    </tr>\n",
       "    <tr>\n",
       "      <th>279</th>\n",
       "      <td>2</td>\n",
       "      <td>201910020</td>\n",
       "      <td>98.700000</td>\n",
       "    </tr>\n",
       "    <tr>\n",
       "      <th>280</th>\n",
       "      <td>2</td>\n",
       "      <td>201910024</td>\n",
       "      <td>103.200000</td>\n",
       "    </tr>\n",
       "    <tr>\n",
       "      <th>281</th>\n",
       "      <td>2</td>\n",
       "      <td>201910035</td>\n",
       "      <td>99.433333</td>\n",
       "    </tr>\n",
       "  </tbody>\n",
       "</table>\n",
       "<p>282 rows × 3 columns</p>\n",
       "</div>"
      ],
      "text/plain": [
       "     t_surf       t_id      m_t(m)\n",
       "0         1    2015308   93.857143\n",
       "1         1    2015314   91.157895\n",
       "2         1    2015316   86.333333\n",
       "3         1    2015319   92.190476\n",
       "4         1    2015322   96.000000\n",
       "..      ...        ...         ...\n",
       "277       2  201910014   96.058824\n",
       "278       2  201910015  108.333333\n",
       "279       2  201910020   98.700000\n",
       "280       2  201910024  103.200000\n",
       "281       2  201910035   99.433333\n",
       "\n",
       "[282 rows x 3 columns]"
      ]
     },
     "execution_count": 223,
     "metadata": {},
     "output_type": "execute_result"
    }
   ],
   "source": [
    "match_length_by_surf = df_filter3.groupby(['t_surf','t_id'], as_index=False)['m_t(m)'].mean()\n",
    "match_length_by_surf"
   ]
  },
  {
   "cell_type": "markdown",
   "id": "0d35d4b7",
   "metadata": {},
   "source": [
    "#### Supp Fig. 4A.  Hard Court Best Model Indoor vs Outdoor Matches - Full Sample\n",
    "Sources: 04_Preprocessing_Training_HardCourt_Indoor_Outdoor_Analysis, 05_Modeling_HardCourt_Indoor_vs_Outdoor"
   ]
  },
  {
   "cell_type": "markdown",
   "id": "3040442d",
   "metadata": {},
   "source": [
    "Hard Court Gradient Boosting Regressor RMSE Train(STD)/Test for different explored hyperparameter values (summarized below)\n",
    "\n",
    "All include 2015-2019 for modeling (2009-2014 for feature accrual only)\n",
    "\n",
    "Indoor and Outdoor (8241.0, 2747.0)\n",
    "(5.3920702375117795, 0.038953743799929906), 5.299038777366098\n",
    "{'gradientboostingregressor__learning_rate': 0.04,\n",
    " 'gradientboostingregressor__max_depth': 4,\n",
    " 'gradientboostingregressor__max_features': 11,\n",
    " 'gradientboostingregressor__n_estimators': 145,\n",
    " 'simpleimputer__strategy': 'median',\n",
    " 'standardscaler': None}\n",
    "\n",
    "Outdoor Only (6100.5, 2033.5)\n",
    "(5.3473892228159645, 0.08783337519419893), 5.487267155034572\n",
    "{'gradientboostingregressor__learning_rate': 0.03,\n",
    " 'gradientboostingregressor__max_depth': 3,\n",
    " 'gradientboostingregressor__max_features': 12,\n",
    " 'gradientboostingregressor__n_estimators': 150,\n",
    " 'simpleimputer__strategy': 'median',\n",
    " 'standardscaler': None}\n",
    "\n",
    "Indoor Only (2140.5, 713.5)\n",
    "(5.4358787386112715, 0.17717878829508216), 5.163196186665175\n",
    "{'gradientboostingregressor__learning_rate': 0.04,\n",
    " 'gradientboostingregressor__max_depth': 2,\n",
    " 'gradientboostingregressor__max_features': 13,\n",
    " 'gradientboostingregressor__n_estimators': 155,\n",
    " 'simpleimputer__strategy': 'median',\n",
    " 'standardscaler': None}\n",
    "\n",
    "\n",
    "Full Sample\n",
    "\n",
    "All Matches (8241.0, 2747.0)\n",
    "(5.323220909987259, 0.048986239595699026), 5.1850876932956025 \n",
    "\n",
    "Outdoor Only (6100.5, 2033.5)\n",
    "(5.269775991696809, 0.0786443673425596), 5.356129607109942\n",
    "\n",
    "Indoor Only (2140.5, 713.5)\n",
    "(5.357565996113584, 0.11332018470682023), 5.074126272163628"
   ]
  },
  {
   "cell_type": "code",
   "execution_count": 285,
   "id": "e64d11e5",
   "metadata": {},
   "outputs": [],
   "source": [
    "df = pd.DataFrame([['All Matches', 5.3920702375117795, 0.038953743799929906, 5.323220909987259, 0.048986239595699026], ['Outdoor Only', 5.3473892228159645, 0.08783337519419893, 5.269775991696809, 0.0786443673425596], ['Indoor Only', 5.4358787386112715, 0.17717878829508216, 5.357565996113584, 0.11332018470682023]], columns = [\"Match Inclusion\", \"mean_1\", \"std_1\", \"mean_2\", \"std_2\"])\n",
    "\n",
    "#convert std columns to array for plotting\n",
    "yerr = df[[\"std_1\", \"std_2\"]].to_numpy().T"
   ]
  },
  {
   "cell_type": "code",
   "execution_count": 302,
   "id": "8e3fd826",
   "metadata": {},
   "outputs": [
    {
     "data": {
      "text/plain": [
       "<Figure size 1440x720 with 0 Axes>"
      ]
     },
     "metadata": {},
     "output_type": "display_data"
    },
    {
     "data": {
      "image/png": "[encoded data removed]",
      "text/plain": [
       "<Figure size 432x288 with 1 Axes>"
      ]
     },
     "metadata": {
      "needs_background": "light"
     },
     "output_type": "display_data"
    }
   ],
   "source": [
    "plt.figure(figsize=(20, 10))\n",
    "df[['mean_1', 'mean_2']].plot(kind='bar', yerr = yerr, stacked=False, color = [['blue', 'royalblue', 'dodgerblue'], ['Black']])\n",
    "plt.xlabel('Match Inclusions')\n",
    "plt.ylabel('training_error (mean +- sd)')\n",
    "plt.ylim(5.0, 5.7)\n",
    "plt.legend(labels = [\"Best Model\", \"Closing IWP Model\"], loc = \"upper left\")\n",
    "x = [0, 1, 2]\n",
    "labels = [\"All Matches\", \"Outdoor Only\", \"Indoor Only\"]\n",
    "plt.xticks(x, labels, rotation=\"horizontal\");"
   ]
  },
  {
   "cell_type": "code",
   "execution_count": 305,
   "id": "5dd23a6f",
   "metadata": {},
   "outputs": [
    {
     "data": {
      "text/plain": [
       "1427.0"
      ]
     },
     "execution_count": 305,
     "metadata": {},
     "output_type": "execute_result"
    }
   ],
   "source": [
    "#Compute number of matches per match inclusion \n",
    "x = (2140.5 + 713.5)/2\n",
    "x"
   ]
  },
  {
   "cell_type": "markdown",
   "id": "5019bbec",
   "metadata": {},
   "source": [
    "#### Supp Fig. 4B.  Hard Court Best Model Indoor vs Outdoor Matches - Expanded Time Range Analysis (2011-2019)\n",
    "Sources: 04_Preprocessing_Training_HardCourt_Indoor_Outdoor_Analysis, 05_Modeling_HardCourt_Indoor_vs_Outdoor (see Supp. Fig. 1\n",
    "above for All Matches Data for this time range-copied in here)"
   ]
  },
  {
   "cell_type": "markdown",
   "id": "8702223f",
   "metadata": {},
   "source": [
    "Sample N's\n",
    "All Matches\n",
    "(14565.0, 4855.0)\n",
    "\n",
    "Outdoor Only\n",
    "(10630.5, 3543.5)\n",
    "\n",
    "Indoor Only\n",
    "(3934.5, 1311.5)"
   ]
  },
  {
   "cell_type": "code",
   "execution_count": 306,
   "id": "407cc57f",
   "metadata": {},
   "outputs": [],
   "source": [
    "df = pd.DataFrame([['All Matches', 5.472486454526398, 0.03335998762076141, 5.418638726155855, 0.050092583495323646], ['Outdoor Only', 5.5049386422866196, 0.055664912367203584, 5.433714280851073, 0.056695149559394926], ['Indoor Only', 5.402261063122084, 0.1228491031368427, 5.35910982467451, 0.11413266211871544]], columns = [\"Match Inclusion\", \"mean_1\", \"std_1\", \"mean_2\", \"std_2\"])\n",
    "\n",
    "#convert std columns to array for plotting\n",
    "yerr = df[[\"std_1\", \"std_2\"]].to_numpy().T"
   ]
  },
  {
   "cell_type": "code",
   "execution_count": 307,
   "id": "c42381e9",
   "metadata": {},
   "outputs": [
    {
     "data": {
      "text/plain": [
       "<Figure size 1440x720 with 0 Axes>"
      ]
     },
     "metadata": {},
     "output_type": "display_data"
    },
    {
     "data": {
      "image/png": "[encoded data removed]",
      "text/plain": [
       "<Figure size 432x288 with 1 Axes>"
      ]
     },
     "metadata": {
      "needs_background": "light"
     },
     "output_type": "display_data"
    }
   ],
   "source": [
    "plt.figure(figsize=(20, 10))\n",
    "df[['mean_1', 'mean_2']].plot(kind='bar', yerr = yerr, stacked=False, color = [['blue', 'royalblue', 'dodgerblue'], ['Black']])\n",
    "plt.xlabel('Match Inclusions')\n",
    "plt.ylabel('training_error (mean +- sd)')\n",
    "plt.ylim(5.0, 5.7)\n",
    "plt.legend(labels = [\"Best Model\", \"Closing IWP Model\"], loc = \"upper left\")\n",
    "x = [0, 1, 2]\n",
    "labels = [\"All Matches\", \"Outdoor Only\", \"Indoor Only\"]\n",
    "plt.xticks(x, labels, rotation=\"horizontal\");"
   ]
  },
  {
   "cell_type": "code",
   "execution_count": 310,
   "id": "8ec8c477",
   "metadata": {},
   "outputs": [
    {
     "data": {
      "text/plain": [
       "2623.0"
      ]
     },
     "execution_count": 310,
     "metadata": {},
     "output_type": "execute_result"
    }
   ],
   "source": [
    "#Compute number of matches per match inclusion \n",
    "x = (3934.5 + 1311.5)/2\n",
    "x"
   ]
  },
  {
   "cell_type": "markdown",
   "id": "e874d05b",
   "metadata": {},
   "source": [
    "#### Supp Fig. 5.  Aggregate Match Statistics for Hard Court vs Clay Court Tennis\n",
    "Sources: 04_Preprocessing_Training_HardCourt_Indoor_Outdoor_Analysis, 05_Modeling_HardCourt_Indoor_vs_Outdoor (see Supp. Fig. 1\n",
    "above for All Matches Data for this time range-copied in here)"
   ]
  },
  {
   "cell_type": "code",
   "execution_count": 398,
   "id": "40770af8",
   "metadata": {},
   "outputs": [],
   "source": [
    "df = pd.read_csv('../data/processed_data/df_player_all_for_EDA.csv')\n",
    "df.head()\n",
    "\n",
    "#We will keep time range of 2011-2019 to boost sample for indoor matches, which is a little thin for 2015-2019 only\n",
    "df = df.loc[(df[\"t_surf\"] == 2)] #hard court only\n",
    "df_filter = df.loc[(df[\"m_yr\"] == 2019) | (df[\"m_yr\"] == 2018) | (df[\"m_yr\"] == 2017) | (df[\"m_yr\"] == 2016) | (df[\"m_yr\"] == 2015) | (df[\"m_yr\"] == 2014) | (df[\"m_yr\"] == 2013) | (df[\"m_yr\"] == 2012) | (df[\"m_yr\"] == 2011)]\n",
    "df_low_pass = df_filter.loc[df_filter['p_matches_ss'] <= 20, 'm_num']\n",
    "df_filter = df_filter[~df_filter['m_num'].isin(df_low_pass)]"
   ]
  },
  {
   "cell_type": "code",
   "execution_count": 372,
   "id": "3b1d634e",
   "metadata": {},
   "outputs": [
    {
     "data": {
      "text/html": [
       "<div>\n",
       "<style scoped>\n",
       "    .dataframe tbody tr th:only-of-type {\n",
       "        vertical-align: middle;\n",
       "    }\n",
       "\n",
       "    .dataframe tbody tr th {\n",
       "        vertical-align: top;\n",
       "    }\n",
       "\n",
       "    .dataframe thead th {\n",
       "        text-align: right;\n",
       "    }\n",
       "</style>\n",
       "<table border=\"1\" class=\"dataframe\">\n",
       "  <thead>\n",
       "    <tr style=\"text-align: right;\">\n",
       "      <th></th>\n",
       "      <th>t_ind</th>\n",
       "      <th>t_id</th>\n",
       "      <th>p_ace%</th>\n",
       "    </tr>\n",
       "  </thead>\n",
       "  <tbody>\n",
       "    <tr>\n",
       "      <th>0</th>\n",
       "      <td>0</td>\n",
       "      <td>2011301</td>\n",
       "      <td>6.733148</td>\n",
       "    </tr>\n",
       "    <tr>\n",
       "      <th>1</th>\n",
       "      <td>0</td>\n",
       "      <td>2011329</td>\n",
       "      <td>7.273710</td>\n",
       "    </tr>\n",
       "    <tr>\n",
       "      <th>2</th>\n",
       "      <td>0</td>\n",
       "      <td>2011338</td>\n",
       "      <td>8.335192</td>\n",
       "    </tr>\n",
       "    <tr>\n",
       "      <th>3</th>\n",
       "      <td>0</td>\n",
       "      <td>2011339</td>\n",
       "      <td>12.216935</td>\n",
       "    </tr>\n",
       "    <tr>\n",
       "      <th>4</th>\n",
       "      <td>0</td>\n",
       "      <td>2011403</td>\n",
       "      <td>7.123226</td>\n",
       "    </tr>\n",
       "    <tr>\n",
       "      <th>...</th>\n",
       "      <td>...</td>\n",
       "      <td>...</td>\n",
       "      <td>...</td>\n",
       "    </tr>\n",
       "    <tr>\n",
       "      <th>330</th>\n",
       "      <td>1</td>\n",
       "      <td>20197696</td>\n",
       "      <td>8.428333</td>\n",
       "    </tr>\n",
       "    <tr>\n",
       "      <th>331</th>\n",
       "      <td>1</td>\n",
       "      <td>201610014</td>\n",
       "      <td>5.518000</td>\n",
       "    </tr>\n",
       "    <tr>\n",
       "      <th>332</th>\n",
       "      <td>1</td>\n",
       "      <td>201710014</td>\n",
       "      <td>6.966923</td>\n",
       "    </tr>\n",
       "    <tr>\n",
       "      <th>333</th>\n",
       "      <td>1</td>\n",
       "      <td>201810014</td>\n",
       "      <td>9.788824</td>\n",
       "    </tr>\n",
       "    <tr>\n",
       "      <th>334</th>\n",
       "      <td>1</td>\n",
       "      <td>201910014</td>\n",
       "      <td>10.376765</td>\n",
       "    </tr>\n",
       "  </tbody>\n",
       "</table>\n",
       "<p>335 rows × 3 columns</p>\n",
       "</div>"
      ],
      "text/plain": [
       "     t_ind       t_id     p_ace%\n",
       "0        0    2011301   6.733148\n",
       "1        0    2011329   7.273710\n",
       "2        0    2011338   8.335192\n",
       "3        0    2011339  12.216935\n",
       "4        0    2011403   7.123226\n",
       "..     ...        ...        ...\n",
       "330      1   20197696   8.428333\n",
       "331      1  201610014   5.518000\n",
       "332      1  201710014   6.966923\n",
       "333      1  201810014   9.788824\n",
       "334      1  201910014  10.376765\n",
       "\n",
       "[335 rows x 3 columns]"
      ]
     },
     "execution_count": 372,
     "metadata": {},
     "output_type": "execute_result"
    }
   ],
   "source": [
    "ace_pct_by_IO = df_filter.groupby(['t_ind','t_id'], as_index=False)['p_ace%'].mean()\n",
    "ace_pct_by_IO"
   ]
  },
  {
   "cell_type": "code",
   "execution_count": 373,
   "id": "5f36f861",
   "metadata": {},
   "outputs": [
    {
     "data": {
      "text/plain": [
       "(7.0, 10.0)"
      ]
     },
     "execution_count": 373,
     "metadata": {},
     "output_type": "execute_result"
    },
    {
     "data": {
      "image/png": "[encoded data removed]",
      "text/plain": [
       "<Figure size 432x288 with 1 Axes>"
      ]
     },
     "metadata": {
      "needs_background": "light"
     },
     "output_type": "display_data"
    }
   ],
   "source": [
    "g = sns.barplot(x=\"t_ind\",y=\"p_ace%\",data=ace_pct_by_IO, palette = [\"royalblue\", \"dodgerblue\"])\n",
    "g.set_ylabel(\"ace % by tournament (mean + sd)\")\n",
    "g.set(xticklabels=[\"Outdoor\", \"Indoor\"])\n",
    "g.set_xlabel(\"Hard Court Outdoor or Indoor\")\n",
    "plt.ylim(7.0, 10.0)"
   ]
  },
  {
   "cell_type": "code",
   "execution_count": 374,
   "id": "4363008d",
   "metadata": {},
   "outputs": [
    {
     "data": {
      "text/html": [
       "<div>\n",
       "<style scoped>\n",
       "    .dataframe tbody tr th:only-of-type {\n",
       "        vertical-align: middle;\n",
       "    }\n",
       "\n",
       "    .dataframe tbody tr th {\n",
       "        vertical-align: top;\n",
       "    }\n",
       "\n",
       "    .dataframe thead th {\n",
       "        text-align: right;\n",
       "    }\n",
       "</style>\n",
       "<table border=\"1\" class=\"dataframe\">\n",
       "  <thead>\n",
       "    <tr style=\"text-align: right;\">\n",
       "      <th></th>\n",
       "      <th>t_ind</th>\n",
       "      <th>t_id</th>\n",
       "      <th>p_sv_pts_won%</th>\n",
       "    </tr>\n",
       "  </thead>\n",
       "  <tbody>\n",
       "    <tr>\n",
       "      <th>0</th>\n",
       "      <td>0</td>\n",
       "      <td>2011301</td>\n",
       "      <td>64.246111</td>\n",
       "    </tr>\n",
       "    <tr>\n",
       "      <th>1</th>\n",
       "      <td>0</td>\n",
       "      <td>2011329</td>\n",
       "      <td>63.252903</td>\n",
       "    </tr>\n",
       "    <tr>\n",
       "      <th>2</th>\n",
       "      <td>0</td>\n",
       "      <td>2011338</td>\n",
       "      <td>62.730385</td>\n",
       "    </tr>\n",
       "    <tr>\n",
       "      <th>3</th>\n",
       "      <td>0</td>\n",
       "      <td>2011339</td>\n",
       "      <td>64.695323</td>\n",
       "    </tr>\n",
       "    <tr>\n",
       "      <th>4</th>\n",
       "      <td>0</td>\n",
       "      <td>2011403</td>\n",
       "      <td>62.863280</td>\n",
       "    </tr>\n",
       "    <tr>\n",
       "      <th>...</th>\n",
       "      <td>...</td>\n",
       "      <td>...</td>\n",
       "      <td>...</td>\n",
       "    </tr>\n",
       "    <tr>\n",
       "      <th>330</th>\n",
       "      <td>1</td>\n",
       "      <td>20197696</td>\n",
       "      <td>63.351667</td>\n",
       "    </tr>\n",
       "    <tr>\n",
       "      <th>331</th>\n",
       "      <td>1</td>\n",
       "      <td>201610014</td>\n",
       "      <td>61.635667</td>\n",
       "    </tr>\n",
       "    <tr>\n",
       "      <th>332</th>\n",
       "      <td>1</td>\n",
       "      <td>201710014</td>\n",
       "      <td>62.523077</td>\n",
       "    </tr>\n",
       "    <tr>\n",
       "      <th>333</th>\n",
       "      <td>1</td>\n",
       "      <td>201810014</td>\n",
       "      <td>63.358824</td>\n",
       "    </tr>\n",
       "    <tr>\n",
       "      <th>334</th>\n",
       "      <td>1</td>\n",
       "      <td>201910014</td>\n",
       "      <td>65.039412</td>\n",
       "    </tr>\n",
       "  </tbody>\n",
       "</table>\n",
       "<p>335 rows × 3 columns</p>\n",
       "</div>"
      ],
      "text/plain": [
       "     t_ind       t_id  p_sv_pts_won%\n",
       "0        0    2011301      64.246111\n",
       "1        0    2011329      63.252903\n",
       "2        0    2011338      62.730385\n",
       "3        0    2011339      64.695323\n",
       "4        0    2011403      62.863280\n",
       "..     ...        ...            ...\n",
       "330      1   20197696      63.351667\n",
       "331      1  201610014      61.635667\n",
       "332      1  201710014      62.523077\n",
       "333      1  201810014      63.358824\n",
       "334      1  201910014      65.039412\n",
       "\n",
       "[335 rows x 3 columns]"
      ]
     },
     "execution_count": 374,
     "metadata": {},
     "output_type": "execute_result"
    }
   ],
   "source": [
    "svpts_won_pct_by_IO = df_filter.groupby(['t_ind','t_id'], as_index=False)['p_sv_pts_won%'].mean()\n",
    "svpts_won_pct_by_IO"
   ]
  },
  {
   "cell_type": "code",
   "execution_count": 379,
   "id": "02e1a8bf",
   "metadata": {},
   "outputs": [
    {
     "data": {
      "text/plain": [
       "(60.0, 66.0)"
      ]
     },
     "execution_count": 379,
     "metadata": {},
     "output_type": "execute_result"
    },
    {
     "data": {
      "image/png": "[encoded data removed]",
      "text/plain": [
       "<Figure size 432x288 with 1 Axes>"
      ]
     },
     "metadata": {
      "needs_background": "light"
     },
     "output_type": "display_data"
    }
   ],
   "source": [
    "g = sns.barplot(x=\"t_ind\",y=\"p_sv_pts_won%\",data=svpts_won_pct_by_IO, palette = [\"royalblue\", \"dodgerblue\"])\n",
    "g.set_ylabel(\"serve pts won % by tournament (mean + sd)\")\n",
    "g.set(xticklabels=[\"Outdoor\", \"Indoor\"])\n",
    "g.set_xlabel(\"Hard Court Outdoor or Indoor\")\n",
    "g.set_ylim(60, 66)\n",
    "#g.set_xlimit([30, 70])"
   ]
  },
  {
   "cell_type": "code",
   "execution_count": 380,
   "id": "d3bb6750",
   "metadata": {},
   "outputs": [
    {
     "data": {
      "text/html": [
       "<div>\n",
       "<style scoped>\n",
       "    .dataframe tbody tr th:only-of-type {\n",
       "        vertical-align: middle;\n",
       "    }\n",
       "\n",
       "    .dataframe tbody tr th {\n",
       "        vertical-align: top;\n",
       "    }\n",
       "\n",
       "    .dataframe thead th {\n",
       "        text-align: right;\n",
       "    }\n",
       "</style>\n",
       "<table border=\"1\" class=\"dataframe\">\n",
       "  <thead>\n",
       "    <tr style=\"text-align: right;\">\n",
       "      <th></th>\n",
       "      <th>t_ind</th>\n",
       "      <th>t_id</th>\n",
       "      <th>p_ret_pts_won%</th>\n",
       "    </tr>\n",
       "  </thead>\n",
       "  <tbody>\n",
       "    <tr>\n",
       "      <th>0</th>\n",
       "      <td>0</td>\n",
       "      <td>2011301</td>\n",
       "      <td>35.753889</td>\n",
       "    </tr>\n",
       "    <tr>\n",
       "      <th>1</th>\n",
       "      <td>0</td>\n",
       "      <td>2011329</td>\n",
       "      <td>36.747097</td>\n",
       "    </tr>\n",
       "    <tr>\n",
       "      <th>2</th>\n",
       "      <td>0</td>\n",
       "      <td>2011338</td>\n",
       "      <td>37.269615</td>\n",
       "    </tr>\n",
       "    <tr>\n",
       "      <th>3</th>\n",
       "      <td>0</td>\n",
       "      <td>2011339</td>\n",
       "      <td>35.304677</td>\n",
       "    </tr>\n",
       "    <tr>\n",
       "      <th>4</th>\n",
       "      <td>0</td>\n",
       "      <td>2011403</td>\n",
       "      <td>37.136720</td>\n",
       "    </tr>\n",
       "    <tr>\n",
       "      <th>...</th>\n",
       "      <td>...</td>\n",
       "      <td>...</td>\n",
       "      <td>...</td>\n",
       "    </tr>\n",
       "    <tr>\n",
       "      <th>330</th>\n",
       "      <td>1</td>\n",
       "      <td>20197696</td>\n",
       "      <td>36.648333</td>\n",
       "    </tr>\n",
       "    <tr>\n",
       "      <th>331</th>\n",
       "      <td>1</td>\n",
       "      <td>201610014</td>\n",
       "      <td>38.364333</td>\n",
       "    </tr>\n",
       "    <tr>\n",
       "      <th>332</th>\n",
       "      <td>1</td>\n",
       "      <td>201710014</td>\n",
       "      <td>37.476923</td>\n",
       "    </tr>\n",
       "    <tr>\n",
       "      <th>333</th>\n",
       "      <td>1</td>\n",
       "      <td>201810014</td>\n",
       "      <td>36.641176</td>\n",
       "    </tr>\n",
       "    <tr>\n",
       "      <th>334</th>\n",
       "      <td>1</td>\n",
       "      <td>201910014</td>\n",
       "      <td>34.960588</td>\n",
       "    </tr>\n",
       "  </tbody>\n",
       "</table>\n",
       "<p>335 rows × 3 columns</p>\n",
       "</div>"
      ],
      "text/plain": [
       "     t_ind       t_id  p_ret_pts_won%\n",
       "0        0    2011301       35.753889\n",
       "1        0    2011329       36.747097\n",
       "2        0    2011338       37.269615\n",
       "3        0    2011339       35.304677\n",
       "4        0    2011403       37.136720\n",
       "..     ...        ...             ...\n",
       "330      1   20197696       36.648333\n",
       "331      1  201610014       38.364333\n",
       "332      1  201710014       37.476923\n",
       "333      1  201810014       36.641176\n",
       "334      1  201910014       34.960588\n",
       "\n",
       "[335 rows x 3 columns]"
      ]
     },
     "execution_count": 380,
     "metadata": {},
     "output_type": "execute_result"
    }
   ],
   "source": [
    "retpts_won_pct_by_IO = df_filter.groupby(['t_ind','t_id'], as_index=False)['p_ret_pts_won%'].mean()\n",
    "retpts_won_pct_by_IO"
   ]
  },
  {
   "cell_type": "code",
   "execution_count": 385,
   "id": "8f318aa3",
   "metadata": {},
   "outputs": [
    {
     "data": {
      "text/plain": [
       "(32.0, 38.0)"
      ]
     },
     "execution_count": 385,
     "metadata": {},
     "output_type": "execute_result"
    },
    {
     "data": {
      "image/png": "[encoded data removed]",
      "text/plain": [
       "<Figure size 432x288 with 1 Axes>"
      ]
     },
     "metadata": {
      "needs_background": "light"
     },
     "output_type": "display_data"
    }
   ],
   "source": [
    "g = sns.barplot(x=\"t_ind\",y=\"p_ret_pts_won%\",data=retpts_won_pct_by_IO, palette = [\"royalblue\", \"dodgerblue\"])\n",
    "g.set_ylabel(\"return pts won % by tournament (mean + sd)\")\n",
    "g.set(xticklabels=[\"Outdoor\", \"Indoor\"])\n",
    "g.set_xlabel(\"Hard Court Outdoor or Indoor\")\n",
    "g.set_ylim(32, 38)\n",
    "#g.set_xlimit([30, 70])"
   ]
  },
  {
   "cell_type": "code",
   "execution_count": 387,
   "id": "6cf9955b",
   "metadata": {},
   "outputs": [
    {
     "data": {
      "text/html": [
       "<div>\n",
       "<style scoped>\n",
       "    .dataframe tbody tr th:only-of-type {\n",
       "        vertical-align: middle;\n",
       "    }\n",
       "\n",
       "    .dataframe tbody tr th {\n",
       "        vertical-align: top;\n",
       "    }\n",
       "\n",
       "    .dataframe thead th {\n",
       "        text-align: right;\n",
       "    }\n",
       "</style>\n",
       "<table border=\"1\" class=\"dataframe\">\n",
       "  <thead>\n",
       "    <tr style=\"text-align: right;\">\n",
       "      <th></th>\n",
       "      <th>t_ind</th>\n",
       "      <th>t_id</th>\n",
       "      <th>p_bp_conv%</th>\n",
       "    </tr>\n",
       "  </thead>\n",
       "  <tbody>\n",
       "    <tr>\n",
       "      <th>0</th>\n",
       "      <td>0</td>\n",
       "      <td>2011301</td>\n",
       "      <td>43.478333</td>\n",
       "    </tr>\n",
       "    <tr>\n",
       "      <th>1</th>\n",
       "      <td>0</td>\n",
       "      <td>2011329</td>\n",
       "      <td>38.067903</td>\n",
       "    </tr>\n",
       "    <tr>\n",
       "      <th>2</th>\n",
       "      <td>0</td>\n",
       "      <td>2011338</td>\n",
       "      <td>39.263462</td>\n",
       "    </tr>\n",
       "    <tr>\n",
       "      <th>3</th>\n",
       "      <td>0</td>\n",
       "      <td>2011339</td>\n",
       "      <td>41.345645</td>\n",
       "    </tr>\n",
       "    <tr>\n",
       "      <th>4</th>\n",
       "      <td>0</td>\n",
       "      <td>2011403</td>\n",
       "      <td>40.675323</td>\n",
       "    </tr>\n",
       "    <tr>\n",
       "      <th>...</th>\n",
       "      <td>...</td>\n",
       "      <td>...</td>\n",
       "      <td>...</td>\n",
       "    </tr>\n",
       "    <tr>\n",
       "      <th>330</th>\n",
       "      <td>1</td>\n",
       "      <td>20197696</td>\n",
       "      <td>44.485000</td>\n",
       "    </tr>\n",
       "    <tr>\n",
       "      <th>331</th>\n",
       "      <td>1</td>\n",
       "      <td>201610014</td>\n",
       "      <td>40.224333</td>\n",
       "    </tr>\n",
       "    <tr>\n",
       "      <th>332</th>\n",
       "      <td>1</td>\n",
       "      <td>201710014</td>\n",
       "      <td>39.398462</td>\n",
       "    </tr>\n",
       "    <tr>\n",
       "      <th>333</th>\n",
       "      <td>1</td>\n",
       "      <td>201810014</td>\n",
       "      <td>46.443235</td>\n",
       "    </tr>\n",
       "    <tr>\n",
       "      <th>334</th>\n",
       "      <td>1</td>\n",
       "      <td>201910014</td>\n",
       "      <td>37.087059</td>\n",
       "    </tr>\n",
       "  </tbody>\n",
       "</table>\n",
       "<p>335 rows × 3 columns</p>\n",
       "</div>"
      ],
      "text/plain": [
       "     t_ind       t_id  p_bp_conv%\n",
       "0        0    2011301   43.478333\n",
       "1        0    2011329   38.067903\n",
       "2        0    2011338   39.263462\n",
       "3        0    2011339   41.345645\n",
       "4        0    2011403   40.675323\n",
       "..     ...        ...         ...\n",
       "330      1   20197696   44.485000\n",
       "331      1  201610014   40.224333\n",
       "332      1  201710014   39.398462\n",
       "333      1  201810014   46.443235\n",
       "334      1  201910014   37.087059\n",
       "\n",
       "[335 rows x 3 columns]"
      ]
     },
     "execution_count": 387,
     "metadata": {},
     "output_type": "execute_result"
    }
   ],
   "source": [
    "bpconvert_pct_by_IO = df_filter.groupby(['t_ind','t_id'], as_index=False)['p_bp_conv%'].mean()\n",
    "bpconvert_pct_by_IO"
   ]
  },
  {
   "cell_type": "code",
   "execution_count": 391,
   "id": "199fe2f2",
   "metadata": {},
   "outputs": [
    {
     "data": {
      "text/plain": [
       "(34.0, 40.0)"
      ]
     },
     "execution_count": 391,
     "metadata": {},
     "output_type": "execute_result"
    },
    {
     "data": {
      "image/png": "[encoded data removed]",
      "text/plain": [
       "<Figure size 432x288 with 1 Axes>"
      ]
     },
     "metadata": {
      "needs_background": "light"
     },
     "output_type": "display_data"
    }
   ],
   "source": [
    "g = sns.barplot(x=\"t_ind\",y=\"p_bp_conv%\",data=bpconvert_pct_by_IO, palette = [\"royalblue\", \"dodgerblue\"])\n",
    "g.set_ylabel(\"break point convert % by tournament (mean + sd)\")\n",
    "g.set(xticklabels=[\"Outdoor\", \"Indoor\"])\n",
    "g.set_xlabel(\"Hard Court Outdoor or Indoor\")\n",
    "g.set_ylim(34,40)\n",
    "#g.set_xlimit([30, 70])"
   ]
  },
  {
   "cell_type": "code",
   "execution_count": 399,
   "id": "4eaadecb",
   "metadata": {},
   "outputs": [
    {
     "data": {
      "text/html": [
       "<div>\n",
       "<style scoped>\n",
       "    .dataframe tbody tr th:only-of-type {\n",
       "        vertical-align: middle;\n",
       "    }\n",
       "\n",
       "    .dataframe tbody tr th {\n",
       "        vertical-align: top;\n",
       "    }\n",
       "\n",
       "    .dataframe thead th {\n",
       "        text-align: right;\n",
       "    }\n",
       "</style>\n",
       "<table border=\"1\" class=\"dataframe\">\n",
       "  <thead>\n",
       "    <tr style=\"text-align: right;\">\n",
       "      <th></th>\n",
       "      <th>t_ind</th>\n",
       "      <th>t_id</th>\n",
       "      <th>m_t(m)</th>\n",
       "    </tr>\n",
       "  </thead>\n",
       "  <tbody>\n",
       "    <tr>\n",
       "      <th>0</th>\n",
       "      <td>0</td>\n",
       "      <td>2011301</td>\n",
       "      <td>109.176471</td>\n",
       "    </tr>\n",
       "    <tr>\n",
       "      <th>1</th>\n",
       "      <td>0</td>\n",
       "      <td>2011329</td>\n",
       "      <td>116.541667</td>\n",
       "    </tr>\n",
       "    <tr>\n",
       "      <th>2</th>\n",
       "      <td>0</td>\n",
       "      <td>2011338</td>\n",
       "      <td>94.500000</td>\n",
       "    </tr>\n",
       "    <tr>\n",
       "      <th>3</th>\n",
       "      <td>0</td>\n",
       "      <td>2011339</td>\n",
       "      <td>92.842105</td>\n",
       "    </tr>\n",
       "    <tr>\n",
       "      <th>4</th>\n",
       "      <td>0</td>\n",
       "      <td>2011403</td>\n",
       "      <td>103.671429</td>\n",
       "    </tr>\n",
       "    <tr>\n",
       "      <th>...</th>\n",
       "      <td>...</td>\n",
       "      <td>...</td>\n",
       "      <td>...</td>\n",
       "    </tr>\n",
       "    <tr>\n",
       "      <th>330</th>\n",
       "      <td>1</td>\n",
       "      <td>20197696</td>\n",
       "      <td>86.333333</td>\n",
       "    </tr>\n",
       "    <tr>\n",
       "      <th>331</th>\n",
       "      <td>1</td>\n",
       "      <td>201610014</td>\n",
       "      <td>100.800000</td>\n",
       "    </tr>\n",
       "    <tr>\n",
       "      <th>332</th>\n",
       "      <td>1</td>\n",
       "      <td>201710014</td>\n",
       "      <td>99.307692</td>\n",
       "    </tr>\n",
       "    <tr>\n",
       "      <th>333</th>\n",
       "      <td>1</td>\n",
       "      <td>201810014</td>\n",
       "      <td>91.941176</td>\n",
       "    </tr>\n",
       "    <tr>\n",
       "      <th>334</th>\n",
       "      <td>1</td>\n",
       "      <td>201910014</td>\n",
       "      <td>96.058824</td>\n",
       "    </tr>\n",
       "  </tbody>\n",
       "</table>\n",
       "<p>335 rows × 3 columns</p>\n",
       "</div>"
      ],
      "text/plain": [
       "     t_ind       t_id      m_t(m)\n",
       "0        0    2011301  109.176471\n",
       "1        0    2011329  116.541667\n",
       "2        0    2011338   94.500000\n",
       "3        0    2011339   92.842105\n",
       "4        0    2011403  103.671429\n",
       "..     ...        ...         ...\n",
       "330      1   20197696   86.333333\n",
       "331      1  201610014  100.800000\n",
       "332      1  201710014   99.307692\n",
       "333      1  201810014   91.941176\n",
       "334      1  201910014   96.058824\n",
       "\n",
       "[335 rows x 3 columns]"
      ]
     },
     "execution_count": 399,
     "metadata": {},
     "output_type": "execute_result"
    }
   ],
   "source": [
    "match_length_by_IO = df_filter.groupby(['t_ind','t_id'], as_index=False)['m_t(m)'].mean()\n",
    "match_length_by_IO"
   ]
  },
  {
   "cell_type": "code",
   "execution_count": 401,
   "id": "c37b1e1a",
   "metadata": {},
   "outputs": [
    {
     "data": {
      "text/plain": [
       "(80.0, 110.0)"
      ]
     },
     "execution_count": 401,
     "metadata": {},
     "output_type": "execute_result"
    },
    {
     "data": {
      "image/png": "[encoded data removed]",
      "text/plain": [
       "<Figure size 432x288 with 1 Axes>"
      ]
     },
     "metadata": {
      "needs_background": "light"
     },
     "output_type": "display_data"
    }
   ],
   "source": [
    "g = sns.barplot(x=\"t_ind\",y=\"m_t(m)\",data=match_length_by_IO, palette = [\"royalblue\", \"dodgerblue\"])\n",
    "g.set_ylabel(\"match length in min (mean + sd)\")\n",
    "g.set(xticklabels=[\"Outdoor\", \"Indoor\"])\n",
    "g.set_xlabel(\"Hard Court Outdoor or Indoor\")\n",
    "g.set_ylim(80,110)\n",
    "#g.set_xlimit([30, 70])"
   ]
  },
  {
   "cell_type": "markdown",
   "id": "4070cdd3",
   "metadata": {},
   "source": [
    "### Not Used in Presentation"
   ]
  },
  {
   "cell_type": "markdown",
   "id": "23289df8",
   "metadata": {},
   "source": [
    "#### Hard Court Best Model Indoor vs Outdoor Matches - Equal Samples Analysis\n",
    "Sources: 04_Preprocessing_Training_HardCourt_Indoor_Outdoor_Analysis, 05_Modeling_HardCourt_Indoor_vs_Outdoor"
   ]
  },
  {
   "cell_type": "code",
   "execution_count": null,
   "id": "de350ede",
   "metadata": {},
   "outputs": [],
   "source": [
    "df = pd.DataFrame([['Outdoor Only', 5.42, 0.12, , ], ['Indoor Only', 5.4358787386112715, 0.17717878829508216, 5.357565996113584, 0.11332018470682023]], columns = [\"Match Inclusion\", \"mean_1\", \"std_1\", \"mean_2\", \"std_2\"])\n",
    "\n",
    "#convert std columns to array for plotting\n",
    "yerr = df[[\"std_1\", \"std_2\"]].to_numpy().T"
   ]
  },
  {
   "cell_type": "code",
   "execution_count": null,
   "id": "aef7e6dd",
   "metadata": {},
   "outputs": [],
   "source": [
    "plt.figure(figsize=(20, 10))\n",
    "df[['mean_1', 'mean_2']].plot(kind='bar', yerr = yerr, stacked=False, color = [['royalblue', 'dodgerblue'], ['Black']])\n",
    "plt.xlabel('Match Inclusions')\n",
    "plt.ylabel('training_error (mean +- sd)')\n",
    "plt.ylim(5.0, 5.7)\n",
    "plt.legend(labels = [\"Best Model\", \"Closing IWP Model\"], loc = \"upper left\")\n",
    "x = [0, 1, 2]\n",
    "labels = [\"Outdoor Only\", \"Indoor Only\"]\n",
    "plt.xticks(x, labels, rotation=\"horizontal\");"
   ]
  }
 ],
 "metadata": {
  "kernelspec": {
   "display_name": "Python 3",
   "language": "python",
   "name": "python3"
  },
  "language_info": {
   "codemirror_mode": {
    "name": "ipython",
    "version": 3
   },
   "file_extension": ".py",
   "mimetype": "text/x-python",
   "name": "python",
   "nbconvert_exporter": "python",
   "pygments_lexer": "ipython3",
   "version": "3.8.8"
  }
 },
 "nbformat": 4,
 "nbformat_minor": 5
}
