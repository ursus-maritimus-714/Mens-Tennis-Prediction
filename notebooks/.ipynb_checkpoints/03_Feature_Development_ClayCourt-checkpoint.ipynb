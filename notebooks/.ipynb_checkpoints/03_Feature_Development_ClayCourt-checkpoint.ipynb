{
 "cells": [
  {
   "cell_type": "markdown",
   "id": "e054b1db",
   "metadata": {},
   "source": [
    "## Overview of Feature Development - Clay Court"
   ]
  },
  {
   "cell_type": "markdown",
   "id": "11a1f07d",
   "metadata": {},
   "source": [
    "In the previous workbook (02_Data_Cleaning_Wrangling_ClayCourt), raw data were imported, clean and expanded upon. In this workbook, an extensive set of features is developed from the raw data (currently years 2009-2019). At a high level:\n",
    "* Target feature created per match to be predicted on (% total points won per player in match to be predicted on)\n",
    "* For each match to be predicted on, to assess long-term player performance as a predictor of performance in the next match under similar conditions, mean match stats-derived features from previous matches are accrued over the 60 matches previous to the match being predicted on. \n",
    "    * This accrual is surface-specific (hard or clay courts, with addtional features sensitive to indoor or outdoor match status) \n",
    "    * These past 60-match features are also decay weighted, such that matches occuring closer in time to the match being predicted on are weighted more than matches occuring less recently in time relative to the match being predicted on. Both the 60 match horizon, as well as the specific decay-weighting employed presently, have been derived (\"optimized\") empiricaly based on feedback from model performance with different parameters \n",
    "    * Decay-weighted past perfomance features (over the last 60 surface matches relative to a given match to be predicted on) have also been adjusted based on the relatively strong or weak past performance of the opponents faced during that 60 match stretch relative to a theoretical schedule of opponents of average past performance. \n",
    "        * This \"Strength of Schedule\" weighting makes a substantial improvement to prediction accuracy (I've determined this from running models with and without such adjustment). \n",
    "        * This weghting is also done with respect to time-decay weighting, ie opponent strength computation is subject to the same time decay weighting relative to the match being predicted on as the player's own performance being adjusted was\n",
    "* Apart from performance-based features, another set of features generated here deals with player stamina (derived from number of past matches played) and fatigue (points or minutes spent on court thus far in a given tournament). Stamina and fatigue are integrated into one \"body battery\" metric as well, which I've shown has more predictive value than considering fatigue or stamina in isolation. \n",
    "    * As with engineered performance features, fatigue features are fitted with empirically-derived, time decay-weighted curves\n",
    "* A number of other features are derived in this workbook, including on topics including head-to-head past performance between two players in a given match to be predicted on, handedness, height, \"home court advantage\" and court speed estimation (based on the past year's aggregate ace performance at the same tournament) and potential effects relative to individual player profiles\n",
    "* All player-level features generated in this workbook are formulated both in a \"raw\" version (ie, without respect to the opponent in the match to be predicted on) and a \"differential\" version (ie, WITH respect to the opponent in the match to be predicted on). Modeling shows that the differential versions of the features are MUCH more predictive than the raw versions. Though including the raw versions as well does yield a slight improvement in target feature prediction.\n",
    "* Currently, a data inclusion date range of 2009-2019 is delimited (this has been shaped by feedback from EDA and modeling), and matches played on grass (too low a sample size; also removed Davis up and Olympics matches for same reason as well as for their \"odd\" contexts) and matches where one player withdrew (usually for injury reason) either before the match or early on in the match were filtered out and NOT included in feature generation. Critically, matches filtered out beyond this point (see EDA and Modeling workbooks) WERE used for initial feature generation/accrual.\n",
    "    * For modeling clay court tennis specifically, where the sample is much smaller (by ~3-4x) over the same time frame as for hard court tennis, the sample has been expanded over 3 additional years (2009-2019) as compared to the hard court model. See reporting from the original Tennis Prediction Project for detailed analyses and discussion of this dichotomy. \n",
    "* A final general statement that is important to make is that pains are taken throughout to avoid \"data leakage\", which is to say to avoid incorporating into predictive features any information that would not have been available prior to the time a given match being predicted on was played. "
   ]
  },
  {
   "cell_type": "markdown",
   "id": "671afba3",
   "metadata": {},
   "source": [
    "### Imports"
   ]
  },
  {
   "cell_type": "code",
   "execution_count": 1,
   "id": "ad194731",
   "metadata": {},
   "outputs": [],
   "source": [
    "import pandas as pd\n",
    "import numpy as np\n",
    "import os\n",
    "import warnings\n",
    "warnings.filterwarnings('ignore')"
   ]
  },
  {
   "cell_type": "markdown",
   "id": "bba56de4",
   "metadata": {},
   "source": [
    "### Load Preprocessed Data"
   ]
  },
  {
   "cell_type": "code",
   "execution_count": 2,
   "id": "aae542e0",
   "metadata": {},
   "outputs": [],
   "source": [
    "#Load preprocessed\n",
    "df = pd.read_csv('../data/cleaned_data_for_FeatureDev_Clay.csv')"
   ]
  },
  {
   "cell_type": "code",
   "execution_count": null,
   "id": "0e8398f9",
   "metadata": {},
   "outputs": [],
   "source": [
    "df.info()"
   ]
  },
  {
   "cell_type": "code",
   "execution_count": null,
   "id": "ac021d06",
   "metadata": {},
   "outputs": [],
   "source": [
    "df.head()"
   ]
  },
  {
   "cell_type": "markdown",
   "id": "5cc47313",
   "metadata": {},
   "source": [
    "#### dataframe in by-match organization (first iteration)"
   ]
  },
  {
   "cell_type": "markdown",
   "id": "09560dc6",
   "metadata": {},
   "source": [
    "### Target Feature Creation: % Pts Won By Player in a Given Match"
   ]
  },
  {
   "cell_type": "code",
   "execution_count": 3,
   "id": "388d4d2c",
   "metadata": {},
   "outputs": [],
   "source": [
    "# Creation of target feature for each player in a given match: proportionalizing points played in the match appropriately between the two players.\n",
    "df[\"w_pts_won%\"] = round(((df[\"w_1stWon\"] + df[\"w_2ndWon\"] + (df[\"l_svpt\"] - (df[\"l_1stWon\"] + df[\"l_2ndWon\"])))/ (df[\"w_svpt\"] + df[\"l_svpt\"]))*100, 2)\n",
    "\n",
    "# Loser % pts won is simply 100 - w % pts won\n",
    "df[\"l_pts_won%\"] = 100 - df[\"w_pts_won%\"]"
   ]
  },
  {
   "cell_type": "code",
   "execution_count": 4,
   "id": "5f4e35eb",
   "metadata": {},
   "outputs": [],
   "source": [
    "# Target broken down into serving and returning \n",
    "\n",
    "# Winner % Serve pts won\n",
    "df[\"w_sv_pts_won%\"] = round((df[\"w_1stWon\"] + df[\"w_2ndWon\"]) / df[\"w_svpt\"]*100,2)\n",
    "\n",
    "# Winner % Return pts won\n",
    "df[\"w_ret_pts_won%\"] =round(((df[\"l_svpt\"] - (df[\"l_1stWon\"] + df[\"l_2ndWon\"]))/df[\"l_svpt\"])*100,2)\n",
    "\n",
    "# Loser % Serve pts won\n",
    "df[\"l_sv_pts_won%\"] = round((df[\"l_1stWon\"] + df[\"l_2ndWon\"]) / df[\"l_svpt\"]*100,2)\n",
    "\n",
    "# Loser % Return pts won\n",
    "df[\"l_ret_pts_won%\"] =round(((df[\"w_svpt\"] - (df[\"w_1stWon\"] + df[\"w_2ndWon\"]))/df[\"w_svpt\"])*100,2)"
   ]
  },
  {
   "cell_type": "code",
   "execution_count": 5,
   "id": "4738fe0f",
   "metadata": {},
   "outputs": [],
   "source": [
    "# Not a target feature, but useful for generating predictive features: Total Points Played In Match\n",
    "df[\"tot_pts\"] = df[\"l_svpt\"] + df[\"w_svpt\"]"
   ]
  },
  {
   "cell_type": "markdown",
   "id": "43c578d2",
   "metadata": {},
   "source": [
    "#### dataframe in by-player organization (first iteration)"
   ]
  },
  {
   "cell_type": "code",
   "execution_count": null,
   "id": "d1619032",
   "metadata": {},
   "outputs": [],
   "source": [
    "df.info()"
   ]
  },
  {
   "cell_type": "markdown",
   "id": "e3beb827",
   "metadata": {},
   "source": [
    "### Retrospective, Surface-Specific Performance Prediction Features by Player per Match"
   ]
  },
  {
   "cell_type": "markdown",
   "id": "f8fcdd62",
   "metadata": {},
   "source": [
    "The goal in this section is to generate, for a given player relative to a given match to be played, backward-looking predictors of performance in the match to be predicted on. A number of early experiments (including feedback from EDA and simple modeling) I conducted with integration windows and various decay weights have driven me to land on the values currently present here (though more optimization surely will follow in post-complex modeling iterations)."
   ]
  },
  {
   "cell_type": "code",
   "execution_count": 6,
   "id": "8dc4ec31",
   "metadata": {},
   "outputs": [],
   "source": [
    "df_winners = df.drop([\"l_name\", \"l_rank\", \"l_rank_pts\", \"l_ioc\", \"l_ent\", \"l_hd\", \"l_ht\", \"l_age\", \"l_1stWon\", \"l_2ndWon\", \"l_SvGms\", \"AvgL_C_IP_NV\", \"PSL_O_IP_NV\", \"PSL_C_IP_NV\", \"l_pts_won%\", \"l_sv_pts_won%\", \"l_ret_pts_won%\", ], axis = 1)\n",
    "df_winners[\"m_outcome\"] = 1\n",
    "df_losers =  df.drop([\"w_name\", \"w_rank\", \"w_rank_pts\", \"w_ioc\", \"w_ent\", \"w_hd\", \"w_ht\", \"w_age\", \"w_1stWon\", \"w_2ndWon\", \"w_SvGms\", \"AvgW_C_IP_NV\", \"PSW_O_IP_NV\", \"PSW_C_IP_NV\", \"w_pts_won%\", \"w_sv_pts_won%\", \"w_ret_pts_won%\"], axis = 1)\n",
    "df_losers[\"m_outcome\"] = 0"
   ]
  },
  {
   "cell_type": "code",
   "execution_count": null,
   "id": "0a2c1d32",
   "metadata": {},
   "outputs": [],
   "source": [
    "df_winners.info()"
   ]
  },
  {
   "cell_type": "code",
   "execution_count": null,
   "id": "76a4a7cd",
   "metadata": {},
   "outputs": [],
   "source": [
    "df_losers.info()"
   ]
  },
  {
   "cell_type": "code",
   "execution_count": 7,
   "id": "9748465c",
   "metadata": {},
   "outputs": [],
   "source": [
    "# Split out winners and losers from by-match organization and concatenate into a per player organization\n",
    "df_winners = df_winners.set_axis([\"t_id\", \"t_date\", \"tour_day\", \"tour_wk\", \"t_name\", \"t_country\", \"t_surf\", \"t_indoor\", \"t_alt\", \"t_lvl\", \"t_draw_size\", \"m_num\", \"t_round\", \"t_rd_num\", \"m_best_of\", \"m_score\", \"m_time(m)\", \"p_id\", \"p_name\",\"p_rank\", \"p_rank_pts\", \"p_country\", \"p_ent\", \"p_hd\", \"p_ht\", \"p_age\", \"p_svpt\", \"p_1stWon\",\"p_2ndWon\",\"p_SvGms\",\"p_ace\",\"p_bpSaved\",\"p_bpFaced\",\"opp_id\",\"opp_svpt\",\"opp_ace\",\"opp_bpSaved\",\"opp_bpFaced\", \"p_AVG_C_IP_NV\", \"p_PS_O_IP_NV\", \"p_PS_C_IP_NV\", \"p_pts_won%\",\"p_sv_pts_won%\",\"p_ret_pts_won%\", \"m_tot_pts\", \"m_outcome\"], axis=1)\n",
    "df_losers = df_losers.set_axis([\"t_id\", \"t_date\", \"tour_day\", \"tour_wk\", \"t_name\", \"t_country\", \"t_surf\", \"t_indoor\", \"t_alt\", \"t_lvl\", \"t_draw_size\", \"m_num\", \"t_round\", \"t_rd_num\", \"m_best_of\", \"m_score\", \"m_time(m)\", \"opp_id\", \"opp_svpt\",\"opp_ace\",\"opp_bpSaved\",\"opp_bpFaced\",\"p_id\",\"p_name\",\"p_rank\", \"p_rank_pts\", \"p_country\", \"p_ent\", \"p_hd\", \"p_ht\", \"p_age\", \"p_svpt\", \"p_1stWon\",\"p_2ndWon\",\"p_SvGms\", \"p_ace\",\"p_bpSaved\",\"p_bpFaced\",\"p_AVG_C_IP_NV\", \"p_PS_O_IP_NV\", \"p_PS_C_IP_NV\", \"p_pts_won%\",\"p_sv_pts_won%\",\"p_ret_pts_won%\", \"m_tot_pts\", \"m_outcome\"], axis=1)\n",
    "df_player1 = pd.concat([df_winners, df_losers], ignore_index=True)\n",
    "df_player1 = df_player1.sort_values(by=['p_id','tour_wk','t_rd_num'], ascending = False)"
   ]
  },
  {
   "cell_type": "markdown",
   "id": "0191deee",
   "metadata": {},
   "source": [
    "Generated below are a number of retrospective (relative to the match being predicted on) predictive performance features. Aggregations are surface specific in this workstream (though some filtering components remain in the code form the cross-surface workbook at this stage of analysis in the original Tennis Prediction Project)."
   ]
  },
  {
   "cell_type": "code",
   "execution_count": 8,
   "id": "9b7d1704",
   "metadata": {},
   "outputs": [],
   "source": [
    "#Sorting as such helps visually verify the complicated, backward-looking stat accrual calculations we will make below\n",
    "df_player1 = df_player1.sort_values(by=['p_id','tour_wk','t_rd_num'], ascending = False)"
   ]
  },
  {
   "cell_type": "code",
   "execution_count": null,
   "id": "6845e9de",
   "metadata": {},
   "outputs": [],
   "source": [
    "df_player1.head(20)"
   ]
  },
  {
   "cell_type": "code",
   "execution_count": 9,
   "id": "9c06811c",
   "metadata": {},
   "outputs": [],
   "source": [
    "# % total points won over up to the last 60 surface-specific matches for a given player prior to a match to be predicted on\n",
    "# In EDA and modeling, we will require a minimum # of matches in the past relative to a match being predicted on FOR BOTH PLAYERS IN THE MATCH\n",
    "# Therefore, we do not need to go to extremes to backfill NaNs here when a window to compute on doesn't meet the min period requirement.\n",
    "\n",
    "df_player1 = df_player1.iloc[::-1]\n",
    "\n",
    "df_player1['p_pts_won%_1to10'] = df_player1.groupby(['p_id','t_surf'])['p_pts_won%'].transform(lambda x: x.rolling(window=10, min_periods = 1).mean().round(2).shift(1))\n",
    "\n",
    "df_player1['p_pts_won%_11to20'] = df_player1.groupby(['p_id','t_surf'])['p_pts_won%'].transform(lambda x: x.rolling(window=10, min_periods = 3).mean().round(2).shift(11))\n",
    "df_player1['p_pts_won%_11to20'] = df_player1['p_pts_won%_11to20'].fillna(df_player1['p_pts_won%_1to10'])\n",
    "\n",
    "df_player1['p_pts_won%_21to30'] = df_player1.groupby(['p_id','t_surf'])['p_pts_won%'].transform(lambda x: x.rolling(window=10, min_periods = 3).mean().round(2).shift(21))\n",
    "df_player1['p_pts_won%_21to30'] = df_player1['p_pts_won%_21to30'].fillna(df_player1['p_pts_won%_11to20'])\n",
    "\n",
    "df_player1['p_pts_won%_31to40'] = df_player1.groupby(['p_id','t_surf'])['p_pts_won%'].transform(lambda x: x.rolling(window=10, min_periods = 3).mean().round(2).shift(31))\n",
    "df_player1['p_pts_won%_31to40'] = df_player1['p_pts_won%_31to40'].fillna(df_player1['p_pts_won%_21to30'])\n",
    "\n",
    "df_player1['p_pts_won%_41to50'] = df_player1.groupby(['p_id','t_surf'])['p_pts_won%'].transform(lambda x: x.rolling(window=10, min_periods = 3).mean().round(2).shift(41))\n",
    "df_player1['p_pts_won%_41to50'] = df_player1['p_pts_won%_41to50'].fillna(df_player1['p_pts_won%_31to40'])\n",
    "\n",
    "df_player1['p_pts_won%_51to60'] = df_player1.groupby(['p_id','t_surf'])['p_pts_won%'].transform(lambda x: x.rolling(window=10, min_periods = 3).mean().round(2).shift(51))\n",
    "df_player1['p_pts_won%_51to60'] = df_player1['p_pts_won%_51to60'].fillna(df_player1['p_pts_won%_41to50'])\n",
    "\n",
    "#df_player1['p_pts_won%_61to70'] = df_player1.groupby(['p_id','t_surf'])['p_pts_won%'].transform(lambda x: x.rolling(window=10, min_periods = 3).mean().round(2).shift(61))\n",
    "#df_player1['p_pts_won%_61to70'] = df_player1['p_pts_won%_61to70'].fillna(df_player1['p_pts_won%_51to60'])\n",
    "\n",
    "#df_player1['p_pts_won%_71to80'] = df_player1.groupby(['p_id','t_surf'])['p_pts_won%'].transform(lambda x: x.rolling(window=10, min_periods = 3).mean().round(2).shift(71))\n",
    "#df_player1['p_pts_won%_71to80'] = df_player1['p_pts_won%_71to80'].fillna(df_player1['p_pts_won%_61to70'])\n",
    "\n",
    "df_player1 = df_player1.iloc[::-1]"
   ]
  },
  {
   "cell_type": "code",
   "execution_count": 10,
   "id": "9676dd4e",
   "metadata": {},
   "outputs": [],
   "source": [
    "# Time-decay weighting the total pts won % by player result from above.\n",
    "#  Core version\n",
    "df_player1[\"p_pts_won%_l60_decay\"] = (((df_player1['p_pts_won%_1to10'] * 14) + (df_player1['p_pts_won%_11to20'] * 8) + (df_player1['p_pts_won%_21to30'] * 5) \n",
    "+ (df_player1['p_pts_won%_31to40'] * 3) + (df_player1['p_pts_won%_41to50'] * 2) + (df_player1['p_pts_won%_51to60'] * 1))/33).round(2)\n",
    "\n",
    "#Dropping the transient columns used for the decay calculations\n",
    "df_player1.drop([\"p_pts_won%_11to20\",\"p_pts_won%_21to30\",\"p_pts_won%_31to40\",\"p_pts_won%_41to50\",\"p_pts_won%_51to60\"],axis=1, inplace=True)\n",
    "#df_player1"
   ]
  },
  {
   "cell_type": "code",
   "execution_count": 11,
   "id": "1fa52b35",
   "metadata": {},
   "outputs": [],
   "source": [
    "# Short term total points won% perfomance\n",
    "df_player1[\"p_pts_won%_l10\"] = df_player1[\"p_pts_won%_1to10\"]\n",
    "\n",
    "df_player1.drop([\"p_pts_won%_1to10\"],axis=1, inplace=True)"
   ]
  },
  {
   "cell_type": "code",
   "execution_count": 12,
   "id": "b042baeb",
   "metadata": {},
   "outputs": [],
   "source": [
    "# Total points won% over the last 60 surface-specific matches taking indoor vs outdoor into consideration\n",
    "\n",
    "# In EDA and modeling, we will require a minimum # of matches in the past relative to a match being predicted on FOR BOTH PLAYERS IN THE MATCH\n",
    "# Therefore, we do not need to go to extremes to backfill NaNs here when a window to compute on doesn't meet the min period requirement.\n",
    "\n",
    "df_player1 = df_player1.iloc[::-1]\n",
    "\n",
    "df_player1['p_pts_won%_1to10_IO'] = df_player1.groupby(['p_id','t_surf','t_indoor'])['p_pts_won%'].transform(lambda x: x.rolling(window=10, min_periods = 1).mean().round(2).shift(1))\n",
    "\n",
    "df_player1['p_pts_won%_11to20_IO'] = df_player1.groupby(['p_id','t_surf','t_indoor'])['p_pts_won%'].transform(lambda x: x.rolling(window=10, min_periods = 3).mean().round(2).shift(11))\n",
    "df_player1['p_pts_won%_11to20_IO'] = df_player1['p_pts_won%_11to20_IO'].fillna(df_player1['p_pts_won%_1to10_IO'])\n",
    "\n",
    "df_player1['p_pts_won%_21to30_IO'] = df_player1.groupby(['p_id','t_surf','t_indoor'])['p_pts_won%'].transform(lambda x: x.rolling(window=10, min_periods = 3).mean().round(2).shift(21))\n",
    "df_player1['p_pts_won%_21to30_IO'] = df_player1['p_pts_won%_21to30_IO'].fillna(df_player1['p_pts_won%_11to20_IO'])\n",
    "\n",
    "df_player1['p_pts_won%_31to40_IO'] = df_player1.groupby(['p_id','t_surf','t_indoor'])['p_pts_won%'].transform(lambda x: x.rolling(window=10, min_periods = 3).mean().round(2).shift(31))\n",
    "df_player1['p_pts_won%_31to40_IO'] = df_player1['p_pts_won%_31to40_IO'].fillna(df_player1['p_pts_won%_21to30_IO'])\n",
    "\n",
    "df_player1['p_pts_won%_41to50_IO'] = df_player1.groupby(['p_id','t_surf','t_indoor'])['p_pts_won%'].transform(lambda x: x.rolling(window=10, min_periods = 3).mean().round(2).shift(41))\n",
    "df_player1['p_pts_won%_41to50_IO'] = df_player1['p_pts_won%_41to50_IO'].fillna(df_player1['p_pts_won%_31to40_IO'])\n",
    "\n",
    "df_player1['p_pts_won%_51to60_IO'] = df_player1.groupby(['p_id','t_surf','t_indoor'])['p_pts_won%'].transform(lambda x: x.rolling(window=10, min_periods = 3).mean().round(2).shift(51))\n",
    "df_player1['p_pts_won%_51to60_IO'] = df_player1['p_pts_won%_51to60_IO'].fillna(df_player1['p_pts_won%_41to50_IO'])\n",
    "\n",
    "#df_player1['p_pts_won%_61to70_IO'] = df_player1.groupby(['p_id','t_surf','t_indoor'])['p_pts_won%'].transform(lambda x: x.rolling(window=10, min_periods = 3).mean().round(2).shift(61))\n",
    "#df_player1['p_pts_won%_61to70_IO'] = df_player1['p_pts_won%_61to70_IO'].fillna(df_player1['p_pts_won%_51to60_IO'])\n",
    "\n",
    "#df_player1['p_pts_won%_71to80'] = df_player1.groupby(['p_id','t_surf'])['p_pts_won%'].transform(lambda x: x.rolling(window=10, min_periods = 3).mean().round(2).shift(71))\n",
    "#df_player1['p_pts_won%_71to80'] = df_player1['p_pts_won%_71to80'].fillna(df_player1['p_pts_won%_61to70'])\n",
    "\n",
    "df_player1 = df_player1.iloc[::-1]"
   ]
  },
  {
   "cell_type": "code",
   "execution_count": 13,
   "id": "c4cd3918",
   "metadata": {},
   "outputs": [],
   "source": [
    "# Time-decay weighting the total pts won % by player result from above.\n",
    "df_player1[\"p_pts_won%_l60_decay_IO\"] = (((df_player1['p_pts_won%_1to10_IO'] * 14) + (df_player1['p_pts_won%_11to20_IO'] * 8) + (df_player1['p_pts_won%_21to30_IO'] * 5) \n",
    "+ (df_player1['p_pts_won%_31to40_IO'] * 3) + (df_player1['p_pts_won%_41to50_IO'] * 2) + (df_player1['p_pts_won%_51to60_IO'] * 1))/33).round(2)\n",
    "\n",
    "#Dropping the transient columns used for the decay calculations\n",
    "df_player1.drop([\"p_pts_won%_1to10_IO\",\"p_pts_won%_11to20_IO\",\"p_pts_won%_21to30_IO\",\"p_pts_won%_31to40_IO\",\"p_pts_won%_41to50_IO\",\"p_pts_won%_51to60_IO\"],axis=1, inplace=True)\n",
    "#df_player1"
   ]
  },
  {
   "cell_type": "code",
   "execution_count": 14,
   "id": "71f42580",
   "metadata": {},
   "outputs": [],
   "source": [
    "# % SERVE points won over up to the last 60 surface-specific matches for a given player prior to a match to be predicted on\n",
    "# In EDA and modeling, we will require a minimum # of matches in the past relative to a match being predicted on FOR BOTH PLAYERS IN THE MATCH\n",
    "# Therefore, we do not need to go to extremes to backfill NaNs here when a window to compute on doesn't meet the min period requirement.\n",
    "\n",
    "df_player1 = df_player1.iloc[::-1]\n",
    "\n",
    "df_player1['p_sv_pts_won%_1to10'] = df_player1.groupby(['p_id','t_surf'])['p_sv_pts_won%'].transform(lambda x: x.rolling(window=10, min_periods = 1).mean().round(2).shift(1))\n",
    "\n",
    "df_player1['p_sv_pts_won%_11to20'] = df_player1.groupby(['p_id','t_surf'])['p_sv_pts_won%'].transform(lambda x: x.rolling(window=10, min_periods = 3).mean().round(2).shift(11))\n",
    "df_player1['p_sv_pts_won%_11to20'] = df_player1['p_sv_pts_won%_11to20'].fillna(df_player1['p_sv_pts_won%_1to10'])\n",
    "\n",
    "df_player1['p_sv_pts_won%_21to30'] = df_player1.groupby(['p_id','t_surf'])['p_sv_pts_won%'].transform(lambda x: x.rolling(window=10, min_periods = 3).mean().round(2).shift(21))\n",
    "df_player1['p_sv_pts_won%_21to30'] = df_player1['p_sv_pts_won%_21to30'].fillna(df_player1['p_sv_pts_won%_11to20'])\n",
    "\n",
    "df_player1['p_sv_pts_won%_31to40'] = df_player1.groupby(['p_id','t_surf'])['p_sv_pts_won%'].transform(lambda x: x.rolling(window=10, min_periods = 3).mean().round(2).shift(31))\n",
    "df_player1['p_sv_pts_won%_31to40'] = df_player1['p_sv_pts_won%_31to40'].fillna(df_player1['p_sv_pts_won%_21to30'])\n",
    "\n",
    "df_player1['p_sv_pts_won%_41to50'] = df_player1.groupby(['p_id','t_surf'])['p_sv_pts_won%'].transform(lambda x: x.rolling(window=10, min_periods = 3).mean().round(2).shift(41))\n",
    "df_player1['p_sv_pts_won%_41to50'] = df_player1['p_sv_pts_won%_41to50'].fillna(df_player1['p_sv_pts_won%_31to40'])\n",
    "\n",
    "df_player1['p_sv_pts_won%_51to60'] = df_player1.groupby(['p_id','t_surf'])['p_sv_pts_won%'].transform(lambda x: x.rolling(window=10, min_periods = 3).mean().round(2).shift(51))\n",
    "df_player1['p_sv_pts_won%_51to60'] = df_player1['p_sv_pts_won%_51to60'].fillna(df_player1['p_sv_pts_won%_41to50'])\n",
    "\n",
    "#df_player1['p_sv_pts_won%_61to70'] = df_player1.groupby(['p_id','t_surf'])['p_sv_pts_won%'].transform(lambda x: x.rolling(window=10, min_periods = 3).mean().round(2).shift(61))\n",
    "#df_player1['p_sv_pts_won%_61to70'] = df_player1['p_sv_pts_won%_61to70'].fillna(df_player1['p_sv_pts_won%_51to60'])\n",
    "\n",
    "df_player1 = df_player1.iloc[::-1]\n"
   ]
  },
  {
   "cell_type": "code",
   "execution_count": 15,
   "id": "d4dee1fa",
   "metadata": {},
   "outputs": [],
   "source": [
    "# Time-decay weighting the SERVE pts won % by player result from above.\n",
    "df_player1[\"p_sv_pts_won%_l60_decay\"] = (((df_player1['p_sv_pts_won%_1to10'] * 14) + (df_player1['p_sv_pts_won%_11to20'] * 8) + (df_player1['p_sv_pts_won%_21to30'] * 5) \n",
    "+ (df_player1['p_sv_pts_won%_31to40'] * 3) + (df_player1['p_sv_pts_won%_41to50'] * 2) + (df_player1['p_sv_pts_won%_51to60'] * 1))/33).round(2)\n",
    "\n",
    "#Dropping the transient columns used for the decay calculations\n",
    "df_player1.drop([\"p_sv_pts_won%_11to20\",\"p_sv_pts_won%_21to30\",\"p_sv_pts_won%_31to40\",\"p_sv_pts_won%_41to50\",\"p_sv_pts_won%_51to60\"],axis=1, inplace=True)\n"
   ]
  },
  {
   "cell_type": "code",
   "execution_count": 16,
   "id": "3f5aa87c",
   "metadata": {},
   "outputs": [],
   "source": [
    "# Short term serve points won% perfomance\n",
    "df_player1[\"p_sv_pts_won%_l10\"] = df_player1[\"p_sv_pts_won%_1to10\"]\n",
    "\n",
    "df_player1.drop([\"p_sv_pts_won%_1to10\"],axis=1, inplace=True)"
   ]
  },
  {
   "cell_type": "code",
   "execution_count": 17,
   "id": "540639b8",
   "metadata": {},
   "outputs": [],
   "source": [
    "# % RETURN points won over up to the last 60 surface-specific matches for a given player prior to a match to be predicted on\n",
    "# In EDA and modeling, we will require a minimum # of matches in the past relative to a match being predicted on FOR BOTH PLAYERS IN THE MATCH\n",
    "# Therefore, we do not need to go to extremes to backfill NaNs here when a window to compute on doesn't meet the min period requirement.\n",
    "\n",
    "df_player1 = df_player1.iloc[::-1]\n",
    "\n",
    "df_player1['p_ret_pts_won%_1to10'] = df_player1.groupby(['p_id','t_surf'])['p_ret_pts_won%'].transform(lambda x: x.rolling(window=10, min_periods = 1).mean().round(2).shift(1))\n",
    "\n",
    "df_player1['p_ret_pts_won%_11to20'] = df_player1.groupby(['p_id','t_surf'])['p_ret_pts_won%'].transform(lambda x: x.rolling(window=10, min_periods = 3).mean().round(2).shift(11))\n",
    "df_player1['p_ret_pts_won%_11to20'] = df_player1['p_ret_pts_won%_11to20'].fillna(df_player1['p_ret_pts_won%_1to10'])\n",
    "\n",
    "df_player1['p_ret_pts_won%_21to30'] = df_player1.groupby(['p_id','t_surf'])['p_ret_pts_won%'].transform(lambda x: x.rolling(window=10, min_periods = 3).mean().round(2).shift(21))\n",
    "df_player1['p_ret_pts_won%_21to30'] = df_player1['p_ret_pts_won%_21to30'].fillna(df_player1['p_ret_pts_won%_11to20'])\n",
    "\n",
    "df_player1['p_ret_pts_won%_31to40'] = df_player1.groupby(['p_id','t_surf'])['p_ret_pts_won%'].transform(lambda x: x.rolling(window=10, min_periods = 3).mean().round(2).shift(31))\n",
    "df_player1['p_ret_pts_won%_31to40'] = df_player1['p_ret_pts_won%_31to40'].fillna(df_player1['p_ret_pts_won%_21to30'])\n",
    "\n",
    "df_player1['p_ret_pts_won%_41to50'] = df_player1.groupby(['p_id','t_surf'])['p_ret_pts_won%'].transform(lambda x: x.rolling(window=10, min_periods = 3).mean().round(2).shift(41))\n",
    "df_player1['p_ret_pts_won%_41to50'] = df_player1['p_ret_pts_won%_41to50'].fillna(df_player1['p_ret_pts_won%_31to40'])\n",
    "\n",
    "df_player1['p_ret_pts_won%_51to60'] = df_player1.groupby(['p_id','t_surf'])['p_ret_pts_won%'].transform(lambda x: x.rolling(window=10, min_periods = 3).mean().round(2).shift(51))\n",
    "df_player1['p_ret_pts_won%_51to60'] = df_player1['p_ret_pts_won%_51to60'].fillna(df_player1['p_ret_pts_won%_41to50'])\n",
    "\n",
    "#df_player1['p_ret_pts_won%_61to70'] = df_player1.groupby(['p_id','t_surf'])['p_ret_pts_won%'].transform(lambda x: x.rolling(window=10, min_periods = 3).mean().round(2).shift(61))\n",
    "#df_player1['p_ret_pts_won%_61to70'] = df_player1['p_ret_pts_won%_61to70'].fillna(df_player1['p_ret_pts_won%_51to60'])\n",
    "\n",
    "df_player1 = df_player1.iloc[::-1]\n"
   ]
  },
  {
   "cell_type": "code",
   "execution_count": 18,
   "id": "54757624",
   "metadata": {},
   "outputs": [],
   "source": [
    "# Time-decay weighting the RETURN pts won % by player result from above.\n",
    "df_player1[\"p_ret_pts_won%_l60_decay\"] = (((df_player1['p_ret_pts_won%_1to10'] * 14) + (df_player1['p_ret_pts_won%_11to20'] * 8) + (df_player1['p_ret_pts_won%_21to30'] * 5) \n",
    "+ (df_player1['p_ret_pts_won%_31to40'] * 3) + (df_player1['p_ret_pts_won%_41to50'] * 2) + (df_player1['p_ret_pts_won%_51to60'] * 1))/33).round(2)\n",
    "\n",
    "#Dropping the transient columns used for the decay calculations\n",
    "df_player1.drop([\"p_ret_pts_won%_11to20\",\"p_ret_pts_won%_21to30\",\"p_ret_pts_won%_31to40\",\"p_ret_pts_won%_41to50\",\"p_ret_pts_won%_51to60\"],axis=1, inplace=True)\n"
   ]
  },
  {
   "cell_type": "code",
   "execution_count": 19,
   "id": "2d930ed3",
   "metadata": {},
   "outputs": [],
   "source": [
    "# Short term return points won% perfomance\n",
    "df_player1[\"p_ret_pts_won%_l10\"] = df_player1[\"p_ret_pts_won%_1to10\"]\n",
    "\n",
    "df_player1.drop([\"p_ret_pts_won%_1to10\"],axis=1, inplace=True)"
   ]
  },
  {
   "cell_type": "code",
   "execution_count": null,
   "id": "53af2f8d",
   "metadata": {},
   "outputs": [],
   "source": [
    "#Save to review\n",
    "#df_player1.to_csv('../data/df_player1.csv', index=False)"
   ]
  },
  {
   "cell_type": "code",
   "execution_count": 20,
   "id": "a6a305c2",
   "metadata": {},
   "outputs": [],
   "source": [
    "# player ace% over up to the last 60 surface-specific matches for a given player prior to a match to be predicted on\n",
    "# In EDA and modeling, we will require a minimum # of matches in the past relative to a match being predicted on FOR BOTH PLAYERS IN THE MATCH\n",
    "# Therefore, we do not need to go to extremes to backfill NaNs here when a window to compute on doesn't meet the min period requirement.\n",
    "\n",
    "# decay-weighted player ace % over up to the last 60 matches (surface-specific)\n",
    "df_player1[\"p_ace%\"] = ((df_player1[\"p_ace\"]/df_player1[\"p_svpt\"])*100).round(2)\n",
    "\n",
    "df_player1 = df_player1.iloc[::-1]\n",
    "\n",
    "df_player1['p_ace%_1to10'] = df_player1.groupby(['p_id','t_surf'])['p_ace%'].transform(lambda x: x.rolling(window=10, min_periods = 1).mean().round(2).shift(1))\n",
    "\n",
    "df_player1['p_ace%_11to20'] = df_player1.groupby(['p_id','t_surf'])['p_ace%'].transform(lambda x: x.rolling(window=10, min_periods = 3).mean().round(2).shift(11))\n",
    "df_player1['p_ace%_11to20'] = df_player1['p_ace%_11to20'].fillna(df_player1['p_ace%_1to10'])\n",
    "\n",
    "df_player1['p_ace%_21to30'] = df_player1.groupby(['p_id','t_surf'])['p_ace%'].transform(lambda x: x.rolling(window=10, min_periods = 3).mean().round(2).shift(21))\n",
    "df_player1['p_ace%_21to30'] = df_player1['p_ace%_21to30'].fillna(df_player1['p_ace%_11to20'])\n",
    "\n",
    "df_player1['p_ace%_31to40'] = df_player1.groupby(['p_id','t_surf'])['p_ace%'].transform(lambda x: x.rolling(window=10, min_periods = 3).mean().round(2).shift(31))\n",
    "df_player1['p_ace%_31to40'] = df_player1['p_ace%_31to40'].fillna(df_player1['p_ace%_21to30'])\n",
    "\n",
    "df_player1['p_ace%_41to50'] = df_player1.groupby(['p_id','t_surf'])['p_ace%'].transform(lambda x: x.rolling(window=10, min_periods = 3).mean().round(2).shift(41))\n",
    "df_player1['p_ace%_41to50'] = df_player1['p_ace%_41to50'].fillna(df_player1['p_ace%_31to40'])\n",
    "\n",
    "df_player1['p_ace%_51to60'] = df_player1.groupby(['p_id','t_surf'])['p_ace%'].transform(lambda x: x.rolling(window=10, min_periods = 3).mean().round(2).shift(51))\n",
    "df_player1['p_ace%_51to60'] = df_player1['p_ace%_51to60'].fillna(df_player1['p_ace%_41to50'])\n",
    "\n",
    "#df_player1['p_ace%_61to70'] = df_player1.groupby(['p_id','t_surf'])['p_ace%'].transform(lambda x: x.rolling(window=10, min_periods = 3).mean().round(2).shift(61))\n",
    "#df_player1['p_ace%_61to70'] = df_player1['p_ace%_61to70'].fillna(df_player1['p_ace%_51to60'])\n",
    "\n",
    "df_player1 = df_player1.iloc[::-1]"
   ]
  },
  {
   "cell_type": "code",
   "execution_count": 21,
   "id": "84e3ca98",
   "metadata": {},
   "outputs": [],
   "source": [
    "# Time-decay weighting the ace% by player result from above.\n",
    "df_player1[\"p_ace%_l60_decay\"] = (((df_player1['p_ace%_1to10'] * 14) + (df_player1['p_ace%_11to20'] * 8) + (df_player1['p_ace%_21to30'] * 5) \n",
    "+ (df_player1['p_ace%_31to40'] * 3) + (df_player1['p_ace%_41to50'] * 2) + (df_player1['p_ace%_51to60'] * 1))/33).round(2)\n",
    "\n",
    "#Dropping the transient columns used for the decay calculations\n",
    "df_player1.drop([\"p_ace%_11to20\",\"p_ace%_21to30\",\"p_ace%_31to40\",\"p_ace%_41to50\",\"p_ace%_51to60\"],axis=1, inplace=True)"
   ]
  },
  {
   "cell_type": "code",
   "execution_count": 22,
   "id": "4d1d0661",
   "metadata": {},
   "outputs": [],
   "source": [
    "# Short term ace% perfomance\n",
    "df_player1[\"p_ace%_l10\"] = df_player1[\"p_ace%_1to10\"]\n",
    "df_player1.drop([\"p_ace%_1to10\"],axis=1, inplace=True)"
   ]
  },
  {
   "cell_type": "code",
   "execution_count": 23,
   "id": "de9df498",
   "metadata": {},
   "outputs": [],
   "source": [
    "# player aced% (as a returner) over up to the last 60 surface-specific matches for a given player prior to a match to be predicted on\n",
    "# In EDA and modeling, we will require a minimum # of matches in the past relative to a match being predicted on FOR BOTH PLAYERS IN THE MATCH\n",
    "# Therefore, we do not need to go to extremes to backfill NaNs here when a window to compute on doesn't meet the min period requirement.\n",
    "\n",
    "df_player1[\"p_aced%\"] = ((df_player1[\"opp_ace\"]/df_player1[\"opp_svpt\"])*100).round(2)\n",
    "\n",
    "df_player1 = df_player1.iloc[::-1]\n",
    "\n",
    "df_player1['p_aced%_1to10'] = df_player1.groupby(['p_id','t_surf'])['p_aced%'].transform(lambda x: x.rolling(window=10, min_periods = 1).mean().round(2).shift(1))\n",
    "\n",
    "df_player1['p_aced%_11to20'] = df_player1.groupby(['p_id','t_surf'])['p_aced%'].transform(lambda x: x.rolling(window=10, min_periods = 3).mean().round(2).shift(11))\n",
    "df_player1['p_aced%_11to20'] = df_player1['p_aced%_11to20'].fillna(df_player1['p_aced%_1to10'])\n",
    "\n",
    "df_player1['p_aced%_21to30'] = df_player1.groupby(['p_id','t_surf'])['p_aced%'].transform(lambda x: x.rolling(window=10, min_periods = 3).mean().round(2).shift(21))\n",
    "df_player1['p_aced%_21to30'] = df_player1['p_aced%_21to30'].fillna(df_player1['p_aced%_11to20'])\n",
    "\n",
    "df_player1['p_aced%_31to40'] = df_player1.groupby(['p_id','t_surf'])['p_aced%'].transform(lambda x: x.rolling(window=10, min_periods = 3).mean().round(2).shift(31))\n",
    "df_player1['p_aced%_31to40'] = df_player1['p_aced%_31to40'].fillna(df_player1['p_aced%_21to30'])\n",
    "\n",
    "df_player1['p_aced%_41to50'] = df_player1.groupby(['p_id','t_surf'])['p_aced%'].transform(lambda x: x.rolling(window=10, min_periods = 3).mean().round(2).shift(41))\n",
    "df_player1['p_aced%_41to50'] = df_player1['p_aced%_41to50'].fillna(df_player1['p_aced%_31to40'])\n",
    "\n",
    "df_player1['p_aced%_51to60'] = df_player1.groupby(['p_id','t_surf'])['p_aced%'].transform(lambda x: x.rolling(window=10, min_periods = 3).mean().round(2).shift(51))\n",
    "df_player1['p_aced%_51to60'] = df_player1['p_aced%_51to60'].fillna(df_player1['p_aced%_41to50'])\n",
    "\n",
    "#df_player1['p_aced%_61to70'] = df_player1.groupby(['p_id','t_surf'])['p_aced%'].transform(lambda x: x.rolling(window=10, min_periods = 3).mean().round(2).shift(61))\n",
    "#df_player1['p_aced%_61to70'] = df_player1['p_aced%_61to70'].fillna(df_player1['p_aced%_51to60'])\n",
    "\n",
    "df_player1 = df_player1.iloc[::-1]"
   ]
  },
  {
   "cell_type": "code",
   "execution_count": 24,
   "id": "7a388991",
   "metadata": {},
   "outputs": [],
   "source": [
    "# Time-decay weighting the aced% by player result from above.\n",
    "df_player1[\"p_aced%_l60_decay\"] = (((df_player1['p_aced%_1to10'] * 14) + (df_player1['p_aced%_11to20'] * 8) + (df_player1['p_aced%_21to30'] * 5) \n",
    "+ (df_player1['p_aced%_31to40'] * 3) + (df_player1['p_aced%_41to50'] * 2) + (df_player1['p_aced%_51to60'] * 1))/33).round(2)\n",
    "\n",
    "#Dropping the transient columns used for the decay calculations\n",
    "df_player1.drop([\"p_aced%_11to20\",\"p_aced%_21to30\",\"p_aced%_31to40\",\"p_aced%_41to50\",\"p_aced%_51to60\"],axis=1, inplace=True)"
   ]
  },
  {
   "cell_type": "code",
   "execution_count": 25,
   "id": "c38319c7",
   "metadata": {},
   "outputs": [],
   "source": [
    "# Short term aced% perfomance\n",
    "df_player1[\"p_aced%_l10\"] = df_player1[\"p_aced%_1to10\"]\n",
    "df_player1.drop([\"p_aced%_1to10\"],axis=1, inplace=True)"
   ]
  },
  {
   "cell_type": "code",
   "execution_count": null,
   "id": "81ed7c5a",
   "metadata": {},
   "outputs": [],
   "source": [
    "#df_player1.to_csv('../data/df_player1.csv', index=False)"
   ]
  },
  {
   "cell_type": "code",
   "execution_count": 26,
   "id": "95fb4a90",
   "metadata": {},
   "outputs": [],
   "source": [
    "# player break point save % (as a server) over up to the last 60 matches (surface-specific)\n",
    "# I played around with a weighted version of this, but it didn't work as well as unweighted just due to the rareness of the events\n",
    "\n",
    "df_player1[\"p_bp_save%\"] = ((df_player1[\"p_bpSaved\"]/df_player1[\"p_bpFaced\"])*100).round(2)\n",
    "df_player1['p_bp_save%'] = df_player1['p_bp_save%'].fillna(100) #covers the cases where a player faced 0 break pts in the match\n",
    "\n",
    "df_player1 = df_player1.iloc[::-1]\n",
    "df_player1['p_bp_save%_l60'] = df_player1.groupby(['p_id','t_surf'])['p_bp_save%'].transform(lambda x: x.rolling(window=60, min_periods = 1).mean().round(2).shift(1))\n",
    "df_player1 = df_player1.iloc[::-1]"
   ]
  },
  {
   "cell_type": "code",
   "execution_count": 27,
   "id": "8470c247",
   "metadata": {},
   "outputs": [],
   "source": [
    "# player break point save% (as a server) over the short term (last 10 matches) (surface-specific)\n",
    "df_player1 = df_player1.iloc[::-1]\n",
    "df_player1['p_bp_save%_l10'] = df_player1.groupby(['p_id','t_surf'])['p_bp_save%'].transform(lambda x: x.rolling(window=10, min_periods = 1).mean().round(2).shift(1))\n",
    "df_player1 = df_player1.iloc[::-1]"
   ]
  },
  {
   "cell_type": "code",
   "execution_count": 28,
   "id": "9edc0aa3",
   "metadata": {},
   "outputs": [],
   "source": [
    "# player break point conversion % (as a returner) over up to the last 60 matches (surface-specific)\n",
    "# I played around with a weighted version of this, but it didn't work as well as unweighted just due to the rareness of the events\n",
    "\n",
    "df_player1[\"p_bp_convert%\"] = ((1 - (df_player1[\"opp_bpSaved\"]/df_player1[\"opp_bpFaced\"]))*100).round(2)\n",
    "df_player1['p_bp_convert%'] = df_player1['p_bp_convert%'].fillna(0) #covers the cases where a player generated 0 break point opportunities in a match\n",
    "\n",
    "df_player1 = df_player1.iloc[::-1]\n",
    "df_player1['p_bp_convert%_l60'] = df_player1.groupby(['p_id','t_surf'])['p_bp_convert%'].transform(lambda x: x.rolling(window=60, min_periods = 1).mean().round(2).shift(1))\n",
    "df_player1 = df_player1.iloc[::-1]"
   ]
  },
  {
   "cell_type": "code",
   "execution_count": 29,
   "id": "ced7bd26",
   "metadata": {},
   "outputs": [],
   "source": [
    "# player break point convert% (as a returner) over the short term (last 10 matches) (surface-specific)\n",
    "df_player1 = df_player1.iloc[::-1]\n",
    "df_player1['p_bp_convert%_l10'] = df_player1.groupby(['p_id','t_surf'])['p_bp_convert%'].transform(lambda x: x.rolling(window=10, min_periods = 1).mean().round(2).shift(1))\n",
    "df_player1 = df_player1.iloc[::-1]"
   ]
  },
  {
   "cell_type": "markdown",
   "id": "f6b660e6",
   "metadata": {},
   "source": [
    "We can also use the \"wisdom of the markets\" from previous matches involving a given player to create putatiely predictive features. In practice, here we will use the implied win probability (derived from averaged, vig-removed closing lines across a number of sports books) to build these features."
   ]
  },
  {
   "cell_type": "code",
   "execution_count": 30,
   "id": "05ae1d36",
   "metadata": {},
   "outputs": [],
   "source": [
    "# Mean Implied Win Probability (based on Closing Line with vig removed across a number of sports books) in up to the last 60 surface-specific matches for a given player prior to a match to be predicted on\n",
    "# In EDA and modeling, we will require a minimum # of matches in the past relative to a match being predicted on FOR BOTH PLAYERS IN THE MATCH\n",
    "# Therefore, we do not need to go to extremes to backfill NaNs here when a window to compute on doesn't meet the min period requirement.\n",
    "\n",
    "df_player1 = df_player1.iloc[::-1]\n",
    "\n",
    "df_player1['p_IWP_1to10'] = df_player1.groupby(['p_id','t_surf'])['p_AVG_C_IP_NV'].transform(lambda x: x.rolling(window=10, min_periods = 1).mean().round(2).shift(1))\n",
    "\n",
    "df_player1['p_IWP_11to20'] = df_player1.groupby(['p_id','t_surf'])['p_AVG_C_IP_NV'].transform(lambda x: x.rolling(window=10, min_periods = 3).mean().round(2).shift(11))\n",
    "df_player1['p_IWP_11to20'] = df_player1['p_IWP_11to20'].fillna(df_player1['p_IWP_1to10'])\n",
    "\n",
    "df_player1['p_IWP_21to30'] = df_player1.groupby(['p_id','t_surf'])['p_AVG_C_IP_NV'].transform(lambda x: x.rolling(window=10, min_periods = 3).mean().round(2).shift(21))\n",
    "df_player1['p_IWP_21to30'] = df_player1['p_IWP_21to30'].fillna(df_player1['p_IWP_11to20'])\n",
    "\n",
    "df_player1['p_IWP_31to40'] = df_player1.groupby(['p_id','t_surf'])['p_AVG_C_IP_NV'].transform(lambda x: x.rolling(window=10, min_periods = 3).mean().round(2).shift(31))\n",
    "df_player1['p_IWP_31to40'] = df_player1['p_IWP_31to40'].fillna(df_player1['p_IWP_21to30'])\n",
    "\n",
    "df_player1['p_IWP_41to50'] = df_player1.groupby(['p_id','t_surf'])['p_AVG_C_IP_NV'].transform(lambda x: x.rolling(window=10, min_periods = 3).mean().round(2).shift(41))\n",
    "df_player1['p_IWP_41to50'] = df_player1['p_IWP_41to50'].fillna(df_player1['p_IWP_31to40'])\n",
    "\n",
    "df_player1['p_IWP_51to60'] = df_player1.groupby(['p_id','t_surf'])['p_AVG_C_IP_NV'].transform(lambda x: x.rolling(window=10, min_periods = 3).mean().round(2).shift(51))\n",
    "df_player1['p_IWP_51to60'] = df_player1['p_IWP_51to60'].fillna(df_player1['p_IWP_41to50'])\n",
    "\n",
    "df_player1 = df_player1.iloc[::-1]"
   ]
  },
  {
   "cell_type": "code",
   "execution_count": 31,
   "id": "30a3eb30",
   "metadata": {},
   "outputs": [],
   "source": [
    "# Time-decay weighting the Implied Win Probability % by player result from above.\n",
    "#  Core version\n",
    "df_player1[\"p_IWP_l60_decay\"] = (((df_player1['p_IWP_1to10'] * 14) + (df_player1['p_IWP_11to20'] * 8) + (df_player1['p_IWP_21to30'] * 5) \n",
    "+ (df_player1['p_IWP_31to40'] * 3) + (df_player1['p_IWP_41to50'] * 2) + (df_player1['p_IWP_51to60'] * 1))/33).round(2)\n",
    "\n",
    "#Dropping the transient columns used for the decay calculations\n",
    "df_player1.drop([\"p_IWP_11to20\",\"p_IWP_21to30\",\"p_IWP_31to40\",\"p_IWP_41to50\",\"p_IWP_51to60\"],axis=1, inplace=True)\n",
    "#df_player1"
   ]
  },
  {
   "cell_type": "code",
   "execution_count": 32,
   "id": "c21b0e10",
   "metadata": {},
   "outputs": [],
   "source": [
    "# Short term player mean Implied Win Percentage\n",
    "df_player1[\"p_IWP_l10\"] = df_player1[\"p_IWP_1to10\"]\n",
    "\n",
    "df_player1.drop([\"p_IWP_1to10\"],axis=1, inplace=True)"
   ]
  },
  {
   "cell_type": "markdown",
   "id": "c7a231e7",
   "metadata": {},
   "source": [
    "In previous model iterations I looked pretty closely at whether variability in past performance, when accounting for strength of schedule, resulted in a set of useful predictive feature and these features had turned out to have extremely little impact on model performance. So I've jettisoned for now, but left commented out code in below. "
   ]
  },
  {
   "cell_type": "code",
   "execution_count": null,
   "id": "33dae5d0",
   "metadata": {},
   "outputs": [],
   "source": [
    "# Variability (standard deviation) in total pts won% over the previous 60 surface-specific matches (decay weighted)\n",
    "#df_player1 = df_player1.iloc[::-1]\n",
    "\n",
    "#df_player1['p_pts_won%_std_1to10'] = df_player1.groupby(['p_id','t_surf'])['p_pts_won%'].transform(lambda x: x.rolling(window=10, min_periods = 1).std().round(2).shift(1))\n",
    "\n",
    "#df_player1['p_pts_won%_std_11to20'] = df_player1.groupby(['p_id','t_surf'])['p_pts_won%'].transform(lambda x: x.rolling(window=10, min_periods = 3).std().round(2).shift(11))\n",
    "#df_player1['p_pts_won%_std_11to20'] = df_player1['p_pts_won%_std_11to20'].fillna(df_player1['p_pts_won%_std_1to10'])\n",
    "\n",
    "#df_player1['p_pts_won%_std_21to30'] = df_player1.groupby(['p_id','t_surf'])['p_pts_won%'].transform(lambda x: x.rolling(window=10, min_periods = 3).std().round(2).shift(21))\n",
    "#df_player1['p_pts_won%_std_21to30'] = df_player1['p_pts_won%_std_21to30'].fillna(df_player1['p_pts_won%_std_11to20'])\n",
    "\n",
    "#df_player1['p_pts_won%_std_31to40'] = df_player1.groupby(['p_id','t_surf'])['p_pts_won%'].transform(lambda x: x.rolling(window=10, min_periods = 3).std().round(2).shift(31))\n",
    "#df_player1['p_pts_won%_std_31to40'] = df_player1['p_pts_won%_std_31to40'].fillna(df_player1['p_pts_won%_std_21to30'])\n",
    "\n",
    "#df_player1['p_pts_won%_std_41to50'] = df_player1.groupby(['p_id','t_surf'])['p_pts_won%'].transform(lambda x: x.rolling(window=10, min_periods = 3).std().round(2).shift(41))\n",
    "#df_player1['p_pts_won%_std_41to50'] = df_player1['p_pts_won%_std_41to50'].fillna(df_player1['p_pts_won%_std_31to40'])\n",
    "\n",
    "#df_player1['p_pts_won%_std_51to60'] = df_player1.groupby(['p_id','t_surf'])['p_pts_won%'].transform(lambda x: x.rolling(window=10, min_periods = 3).std().round(2).shift(51))\n",
    "#df_player1['p_pts_won%_std_51to60'] = df_player1['p_pts_won%_std_51to60'].fillna(df_player1['p_pts_won%_std_41to50'])\n",
    "\n",
    "#df_player1 = df_player1.iloc[::-1]"
   ]
  },
  {
   "cell_type": "code",
   "execution_count": null,
   "id": "a8ca872e",
   "metadata": {},
   "outputs": [],
   "source": [
    "# Time-decay weighting the total pts won % by player result from above.\n",
    "\n",
    "#df_player1[\"p_pts_won%_std_l60_decay\"] = (((df_player1['p_pts_won%_std_1to10'] * 14) + (df_player1['p_pts_won%_std_11to20'] * 8) + (df_player1['p_pts_won%_std_21to30'] * 5) \n",
    "#+ (df_player1['p_pts_won%_std_31to40'] * 3) + (df_player1['p_pts_won%_std_41to50'] * 2) + (df_player1['p_pts_won%_std_51to60'] * 1))/33).round(2)\n",
    "\n",
    "#Dropping the transient columns used for the decay calculations\n",
    "#df_player1.drop([\"p_pts_won%_std_1to10\", \"p_pts_won%_std_11to20\",\"p_pts_won%_std_21to30\",\"p_pts_won%_std_31to40\",\"p_pts_won%_std_41to50\",\"p_pts_won%_std_51to60\"],axis=1, inplace=True)\n"
   ]
  },
  {
   "cell_type": "code",
   "execution_count": null,
   "id": "0eec6305",
   "metadata": {},
   "outputs": [],
   "source": [
    "# Variability (standard deviation) in serve pts won% over the previous 60 surface-specific matches (decay weighted)\n",
    "#df_player1 = df_player1.iloc[::-1]\n",
    "\n",
    "#df_player1['p_sv_pts_won%_std_1to10'] = df_player1.groupby(['p_id','t_surf'])['p_sv_pts_won%'].transform(lambda x: x.rolling(window=10, min_periods = 1).std().round(2).shift(1))\n",
    "\n",
    "#df_player1['p_sv_pts_won%_std_11to20'] = df_player1.groupby(['p_id','t_surf'])['p_sv_pts_won%'].transform(lambda x: x.rolling(window=10, min_periods = 3).std().round(2).shift(11))\n",
    "#df_player1['p_sv_pts_won%_std_11to20'] = df_player1['p_sv_pts_won%_std_11to20'].fillna(df_player1['p_sv_pts_won%_std_1to10'])\n",
    "\n",
    "#df_player1['p_sv_pts_won%_std_21to30'] = df_player1.groupby(['p_id','t_surf'])['p_sv_pts_won%'].transform(lambda x: x.rolling(window=10, min_periods = 3).std().round(2).shift(21))\n",
    "#df_player1['p_sv_pts_won%_std_21to30'] = df_player1['p_sv_pts_won%_std_21to30'].fillna(df_player1['p_sv_pts_won%_std_11to20'])\n",
    "\n",
    "#df_player1['p_sv_pts_won%_std_31to40'] = df_player1.groupby(['p_id','t_surf'])['p_sv_pts_won%'].transform(lambda x: x.rolling(window=10, min_periods = 3).std().round(2).shift(31))\n",
    "#df_player1['p_sv_pts_won%_std_31to40'] = df_player1['p_sv_pts_won%_std_31to40'].fillna(df_player1['p_sv_pts_won%_std_21to30'])\n",
    "\n",
    "#df_player1['p_sv_pts_won%_std_41to50'] = df_player1.groupby(['p_id','t_surf'])['p_sv_pts_won%'].transform(lambda x: x.rolling(window=10, min_periods = 3).std().round(2).shift(41))\n",
    "#df_player1['p_sv_pts_won%_std_41to50'] = df_player1['p_sv_pts_won%_std_41to50'].fillna(df_player1['p_sv_pts_won%_std_31to40'])\n",
    "\n",
    "#df_player1['p_sv_pts_won%_std_51to60'] = df_player1.groupby(['p_id','t_surf'])['p_sv_pts_won%'].transform(lambda x: x.rolling(window=10, min_periods = 3).std().round(2).shift(51))\n",
    "#df_player1['p_sv_pts_won%_std_51to60'] = df_player1['p_sv_pts_won%_std_51to60'].fillna(df_player1['p_sv_pts_won%_std_41to50'])\n",
    "\n",
    "#df_player1 = df_player1.iloc[::-1]"
   ]
  },
  {
   "cell_type": "code",
   "execution_count": null,
   "id": "9a39f3e6",
   "metadata": {},
   "outputs": [],
   "source": [
    "# Time-decay weighting the serve pts won % by player result from above.\n",
    "\n",
    "#df_player1[\"p_sv_pts_won%_std_l60_decay\"] = (((df_player1['p_sv_pts_won%_std_1to10'] * 14) + (df_player1['p_sv_pts_won%_std_11to20'] * 8) + (df_player1['p_sv_pts_won%_std_21to30'] * 5) \n",
    "#+ (df_player1['p_sv_pts_won%_std_31to40'] * 3) + (df_player1['p_sv_pts_won%_std_41to50'] * 2) + (df_player1['p_sv_pts_won%_std_51to60'] * 1))/33).round(2)\n",
    "\n",
    "#Dropping the transient columns used for the decay calculations\n",
    "#df_player1.drop([\"p_sv_pts_won%_std_1to10\", \"p_sv_pts_won%_std_11to20\",\"p_sv_pts_won%_std_21to30\",\"p_sv_pts_won%_std_31to40\",\"p_sv_pts_won%_std_41to50\",\"p_sv_pts_won%_std_51to60\"],axis=1, inplace=True)\n"
   ]
  },
  {
   "cell_type": "code",
   "execution_count": null,
   "id": "6ec99138",
   "metadata": {},
   "outputs": [],
   "source": [
    "# Variability (standard deviation) in return pts won% over the previous 60 surface-specific matches (decay weighted)\n",
    "#df_player1 = df_player1.iloc[::-1]\n",
    "\n",
    "#df_player1['p_ret_pts_won%_std_1to10'] = df_player1.groupby(['p_id','t_surf'])['p_ret_pts_won%'].transform(lambda x: x.rolling(window=10, min_periods = 1).std().round(2).shift(1))\n",
    "\n",
    "#df_player1['p_ret_pts_won%_std_11to20'] = df_player1.groupby(['p_id','t_surf'])['p_ret_pts_won%'].transform(lambda x: x.rolling(window=10, min_periods = 3).std().round(2).shift(11))\n",
    "#df_player1['p_ret_pts_won%_std_11to20'] = df_player1['p_ret_pts_won%_std_11to20'].fillna(df_player1['p_ret_pts_won%_std_1to10'])\n",
    "\n",
    "#df_player1['p_ret_pts_won%_std_21to30'] = df_player1.groupby(['p_id','t_surf'])['p_ret_pts_won%'].transform(lambda x: x.rolling(window=10, min_periods = 3).std().round(2).shift(21))\n",
    "#df_player1['p_ret_pts_won%_std_21to30'] = df_player1['p_ret_pts_won%_std_21to30'].fillna(df_player1['p_ret_pts_won%_std_11to20'])\n",
    "\n",
    "#df_player1['p_ret_pts_won%_std_31to40'] = df_player1.groupby(['p_id','t_surf'])['p_ret_pts_won%'].transform(lambda x: x.rolling(window=10, min_periods = 3).std().round(2).shift(31))\n",
    "#df_player1['p_ret_pts_won%_std_31to40'] = df_player1['p_ret_pts_won%_std_31to40'].fillna(df_player1['p_ret_pts_won%_std_21to30'])\n",
    "\n",
    "#df_player1['p_ret_pts_won%_std_41to50'] = df_player1.groupby(['p_id','t_surf'])['p_ret_pts_won%'].transform(lambda x: x.rolling(window=10, min_periods = 3).std().round(2).shift(41))\n",
    "#df_player1['p_ret_pts_won%_std_41to50'] = df_player1['p_ret_pts_won%_std_41to50'].fillna(df_player1['p_ret_pts_won%_std_31to40'])\n",
    "\n",
    "#df_player1['p_ret_pts_won%_std_51to60'] = df_player1.groupby(['p_id','t_surf'])['p_ret_pts_won%'].transform(lambda x: x.rolling(window=10, min_periods = 3).std().round(2).shift(51))\n",
    "#df_player1['p_ret_pts_won%_std_51to60'] = df_player1['p_ret_pts_won%_std_51to60'].fillna(df_player1['p_ret_pts_won%_std_41to50'])\n",
    "\n",
    "#df_player1 = df_player1.iloc[::-1]"
   ]
  },
  {
   "cell_type": "code",
   "execution_count": null,
   "id": "f02e3a2f",
   "metadata": {},
   "outputs": [],
   "source": [
    "# Time-decay weighting the return pts won % by player result from above.\n",
    "\n",
    "#df_player1[\"p_ret_pts_won%_std_l60_decay\"] = (((df_player1['p_ret_pts_won%_std_1to10'] * 14) + (df_player1['p_ret_pts_won%_std_11to20'] * 8) + (df_player1['p_ret_pts_won%_std_21to30'] * 5) \n",
    "#+ (df_player1['p_ret_pts_won%_std_31to40'] * 3) + (df_player1['p_ret_pts_won%_std_41to50'] * 2) + (df_player1['p_ret_pts_won%_std_51to60'] * 1))/33).round(2)\n",
    "\n",
    "#Dropping the transient columns used for the decay calculations\n",
    "#df_player1.drop([\"p_ret_pts_won%_std_1to10\", \"p_ret_pts_won%_std_11to20\",\"p_ret_pts_won%_std_21to30\",\"p_ret_pts_won%_std_31to40\",\"p_ret_pts_won%_std_41to50\",\"p_ret_pts_won%_std_51to60\"],axis=1, inplace=True)\n"
   ]
  },
  {
   "cell_type": "code",
   "execution_count": null,
   "id": "af1bb420",
   "metadata": {},
   "outputs": [],
   "source": [
    "#df_player1.to_csv('../data/df_player1.csv', index=False)"
   ]
  },
  {
   "cell_type": "code",
   "execution_count": null,
   "id": "525726aa",
   "metadata": {},
   "outputs": [],
   "source": [
    "df_player1.info()"
   ]
  },
  {
   "cell_type": "markdown",
   "id": "02601d9f",
   "metadata": {},
   "source": [
    "### Fatigue and Stamina Predictive Features"
   ]
  },
  {
   "cell_type": "code",
   "execution_count": 33,
   "id": "ec293ab1",
   "metadata": {},
   "outputs": [],
   "source": [
    "# Computes number of matches on clay surface previous to the one being predicted on a player has played AND is contained in the sample\n",
    "\n",
    "df_player1 = df_player1.iloc[::-1]\n",
    "df_player1['p_matches_surf'] = df_player1.groupby(['p_id','t_surf'])['p_id'].transform(lambda x: x.rolling(window = 1000, min_periods=1).count().shift(1))\n",
    "df_player1 = df_player1.iloc[::-1]\n",
    "\n",
    "# If this is the first match in the sample for the player, the NaN will become 1 (these matches will be filtered out before modeling anyhow)\n",
    "df_player1['p_matches_surf'] = df_player1['p_matches_surf'].fillna(1)"
   ]
  },
  {
   "cell_type": "code",
   "execution_count": 34,
   "id": "cf7786e1",
   "metadata": {},
   "outputs": [],
   "source": [
    "# Computes decay-weighted time spent on court for a player across up to his prior 6 matches within the same tournament (the most possible prior matchesin one tournament a player can have).\n",
    "\n",
    "# For the sake of fatigue computation, time spent on court is weighted by the number of days between the match at hand and a given previous match \n",
    "\n",
    "#Fatigue weighting factors based on time since a given match played within the same tournament\n",
    "#FF = [1, .67, .45, .3, .2, .14, .09, .06, .04, .03, .02, .01, .005, .004]\n",
    "#FF = [1, .75, .56, .42, .32, .24, .18, .13, .1, .08, .06, .04, .03, .02,.01]\n",
    "FF = [1, 1, 1, 1, 1, 1, 1, 1, 1, 1, 1, 1, 1, 1, 1]\n",
    "\n",
    "df_player1[\"p_m_time_last\"] = df_player1.groupby(['p_id','tour_wk'])['m_time(m)'].shift(-1)\n",
    "df_player1['p_m_time_last'] = df_player1['p_m_time_last'].fillna(15)\n",
    "\n",
    "df_player1[\"p_m_day\"] = df_player1.groupby(['p_id','tour_wk'])['tour_day'].shift(0)\n",
    "df_player1[\"p_m_day_last\"] = df_player1.groupby(['p_id','tour_wk'])['tour_day'].shift(-1)\n",
    "df_player1.loc[((df_player1[\"p_m_day\"] - df_player1[\"p_m_day_last\"]) == 0), \"p_m_time_last_w\"] = df_player1['p_m_time_last'] * FF[0]\n",
    "df_player1.loc[((df_player1[\"p_m_day\"] - df_player1[\"p_m_day_last\"]) == 1), \"p_m_time_last_w\"] = df_player1['p_m_time_last'] * FF[1]\n",
    "df_player1.loc[((df_player1[\"p_m_day\"] - df_player1[\"p_m_day_last\"]) == 2), \"p_m_time_last_w\"] = df_player1['p_m_time_last'] * FF[2]\n",
    "df_player1.loc[((df_player1[\"p_m_day\"] - df_player1[\"p_m_day_last\"]) == 3), \"p_m_time_last_w\"] = df_player1['p_m_time_last'] * FF[3]\n",
    "df_player1.loc[((df_player1[\"p_m_day\"] - df_player1[\"p_m_day_last\"]) == 4), \"p_m_time_last_w\"] = df_player1['p_m_time_last'] * FF[4]\n",
    "df_player1.loc[((df_player1[\"p_m_day\"] - df_player1[\"p_m_day_last\"]) == 5), \"p_m_time_last_w\"] = df_player1['p_m_time_last'] * FF[5]\n",
    "df_player1.loc[((df_player1[\"p_m_day\"] - df_player1[\"p_m_day_last\"]) == 6), \"p_m_time_last_w\"] = df_player1['p_m_time_last'] * FF[6]\n",
    "df_player1.loc[((df_player1[\"p_m_day\"] - df_player1[\"p_m_day_last\"]) == 7), \"p_m_time_last_w\"] = df_player1['p_m_time_last'] * FF[7]\n",
    "df_player1.loc[((df_player1[\"p_m_day\"] - df_player1[\"p_m_day_last\"]) == 8), \"p_m_time_last_w\"] = df_player1['p_m_time_last'] * FF[8]\n",
    "df_player1.loc[((df_player1[\"p_m_day\"] - df_player1[\"p_m_day_last\"]) == 9), \"p_m_time_last_w\"] = df_player1['p_m_time_last'] * FF[9]\n",
    "df_player1.loc[((df_player1[\"p_m_day\"] - df_player1[\"p_m_day_last\"]) == 10), \"p_m_time_last_w\"] = df_player1['p_m_time_last'] * FF[10]\n",
    "df_player1.loc[((df_player1[\"p_m_day\"] - df_player1[\"p_m_day_last\"]) == 11), \"p_m_time_last_w\"] = df_player1['p_m_time_last'] * FF[11]\n",
    "df_player1.loc[((df_player1[\"p_m_day\"] - df_player1[\"p_m_day_last\"]) == 12), \"p_m_time_last_w\"] = df_player1['p_m_time_last'] * FF[12]\n",
    "df_player1.loc[((df_player1[\"p_m_day\"] - df_player1[\"p_m_day_last\"]) == 13), \"p_m_time_last_w\"] = df_player1['p_m_time_last'] * FF[13]\n",
    "df_player1.loc[((df_player1[\"p_m_day\"] - df_player1[\"p_m_day_last\"]) == 14), \"p_m_time_last_w\"] = df_player1['p_m_time_last'] * FF[14]\n",
    "df_player1['p_m_time_last_w'] = df_player1['p_m_time_last_w'].fillna(df_player1['p_m_time_last'])\n",
    "\n",
    "\n",
    "df_player1[\"p_m_time_2ago\"] = df_player1.groupby(['p_id','tour_wk'])['m_time(m)'].shift(-2)\n",
    "df_player1['p_m_time_2ago'] = df_player1['p_m_time_2ago'].fillna(15)\n",
    "\n",
    "df_player1[\"p_m_day_2ago\"] = df_player1.groupby(['p_id','tour_wk'])['tour_day'].shift(-2)\n",
    "df_player1.loc[((df_player1[\"p_m_day\"] - df_player1[\"p_m_day_2ago\"]) == 0), \"p_m_time_2ago_w\"] = df_player1['p_m_time_2ago'] * FF[0]\n",
    "df_player1.loc[((df_player1[\"p_m_day\"] - df_player1[\"p_m_day_2ago\"]) == 1), \"p_m_time_2ago_w\"] = df_player1['p_m_time_2ago'] * FF[1]\n",
    "df_player1.loc[((df_player1[\"p_m_day\"] - df_player1[\"p_m_day_2ago\"]) == 2), \"p_m_time_2ago_w\"] = df_player1['p_m_time_2ago'] * FF[2]\n",
    "df_player1.loc[((df_player1[\"p_m_day\"] - df_player1[\"p_m_day_2ago\"]) == 3), \"p_m_time_2ago_w\"] = df_player1['p_m_time_2ago'] * FF[3]\n",
    "df_player1.loc[((df_player1[\"p_m_day\"] - df_player1[\"p_m_day_2ago\"]) == 4), \"p_m_time_2ago_w\"] = df_player1['p_m_time_2ago'] * FF[4]\n",
    "df_player1.loc[((df_player1[\"p_m_day\"] - df_player1[\"p_m_day_2ago\"]) == 5), \"p_m_time_2ago_w\"] = df_player1['p_m_time_2ago'] * FF[5]\n",
    "df_player1.loc[((df_player1[\"p_m_day\"] - df_player1[\"p_m_day_2ago\"]) == 6), \"p_m_time_2ago_w\"] = df_player1['p_m_time_2ago'] * FF[6]\n",
    "df_player1.loc[((df_player1[\"p_m_day\"] - df_player1[\"p_m_day_2ago\"]) == 7), \"p_m_time_2ago_w\"] = df_player1['p_m_time_2ago'] * FF[7]\n",
    "df_player1.loc[((df_player1[\"p_m_day\"] - df_player1[\"p_m_day_2ago\"]) == 8), \"p_m_time_2ago_w\"] = df_player1['p_m_time_2ago'] * FF[8]\n",
    "df_player1.loc[((df_player1[\"p_m_day\"] - df_player1[\"p_m_day_2ago\"]) == 9), \"p_m_time_2ago_w\"] = df_player1['p_m_time_2ago'] * FF[9]\n",
    "df_player1.loc[((df_player1[\"p_m_day\"] - df_player1[\"p_m_day_2ago\"]) == 10), \"p_m_time_2ago_w\"] = df_player1['p_m_time_2ago'] * FF[10]\n",
    "df_player1.loc[((df_player1[\"p_m_day\"] - df_player1[\"p_m_day_2ago\"]) == 11), \"p_m_time_2ago_w\"] = df_player1['p_m_time_2ago'] * FF[11]\n",
    "df_player1.loc[((df_player1[\"p_m_day\"] - df_player1[\"p_m_day_2ago\"]) == 12), \"p_m_time_2ago_w\"] = df_player1['p_m_time_2ago'] * FF[12]\n",
    "df_player1.loc[((df_player1[\"p_m_day\"] - df_player1[\"p_m_day_2ago\"]) == 13), \"p_m_time_2ago_w\"] = df_player1['p_m_time_2ago'] * FF[13]\n",
    "df_player1.loc[((df_player1[\"p_m_day\"] - df_player1[\"p_m_day_2ago\"]) == 14), \"p_m_time_2ago_w\"] = df_player1['p_m_time_2ago'] * FF[14]\n",
    "df_player1['p_m_time_2ago_w'] = df_player1['p_m_time_2ago_w'].fillna(15)\n",
    "\n",
    "\n",
    "df_player1[\"p_m_time_3ago\"] = df_player1.groupby(['p_id','tour_wk'])['m_time(m)'].shift(-3)\n",
    "df_player1['p_m_time_3ago'] = df_player1['p_m_time_3ago'].fillna(15)\n",
    "\n",
    "df_player1[\"p_m_day_3ago\"] = df_player1.groupby(['p_id','tour_wk'])['tour_day'].shift(-3)\n",
    "df_player1.loc[((df_player1[\"p_m_day\"] - df_player1[\"p_m_day_3ago\"]) == 0), \"p_m_time_3ago_w\"] = df_player1['p_m_time_3ago'] * FF[0]\n",
    "df_player1.loc[((df_player1[\"p_m_day\"] - df_player1[\"p_m_day_3ago\"]) == 1), \"p_m_time_3ago_w\"] = df_player1['p_m_time_3ago'] * FF[1]\n",
    "df_player1.loc[((df_player1[\"p_m_day\"] - df_player1[\"p_m_day_3ago\"]) == 2), \"p_m_time_3ago_w\"] = df_player1['p_m_time_3ago'] * FF[2]\n",
    "df_player1.loc[((df_player1[\"p_m_day\"] - df_player1[\"p_m_day_3ago\"]) == 3), \"p_m_time_3ago_w\"] = df_player1['p_m_time_3ago'] * FF[3]\n",
    "df_player1.loc[((df_player1[\"p_m_day\"] - df_player1[\"p_m_day_3ago\"]) == 4), \"p_m_time_3ago_w\"] = df_player1['p_m_time_3ago'] * FF[4]\n",
    "df_player1.loc[((df_player1[\"p_m_day\"] - df_player1[\"p_m_day_3ago\"]) == 5), \"p_m_time_3ago_w\"] = df_player1['p_m_time_3ago'] * FF[5]\n",
    "df_player1.loc[((df_player1[\"p_m_day\"] - df_player1[\"p_m_day_3ago\"]) == 6), \"p_m_time_3ago_w\"] = df_player1['p_m_time_3ago'] * FF[6]\n",
    "df_player1.loc[((df_player1[\"p_m_day\"] - df_player1[\"p_m_day_3ago\"]) == 7), \"p_m_time_3ago_w\"] = df_player1['p_m_time_3ago'] * FF[7]\n",
    "df_player1.loc[((df_player1[\"p_m_day\"] - df_player1[\"p_m_day_3ago\"]) == 8), \"p_m_time_3ago_w\"] = df_player1['p_m_time_3ago'] * FF[8]\n",
    "df_player1.loc[((df_player1[\"p_m_day\"] - df_player1[\"p_m_day_3ago\"]) == 9), \"p_m_time_3ago_w\"] = df_player1['p_m_time_3ago'] * FF[9]\n",
    "df_player1.loc[((df_player1[\"p_m_day\"] - df_player1[\"p_m_day_3ago\"]) == 10), \"p_m_time_3ago_w\"] = df_player1['p_m_time_3ago'] * FF[10]\n",
    "df_player1.loc[((df_player1[\"p_m_day\"] - df_player1[\"p_m_day_3ago\"]) == 11), \"p_m_time_3ago_w\"] = df_player1['p_m_time_3ago'] * FF[11]\n",
    "df_player1.loc[((df_player1[\"p_m_day\"] - df_player1[\"p_m_day_3ago\"]) == 12), \"p_m_time_3ago_w\"] = df_player1['p_m_time_3ago'] * FF[12]\n",
    "df_player1.loc[((df_player1[\"p_m_day\"] - df_player1[\"p_m_day_3ago\"]) == 13), \"p_m_time_3ago_w\"] = df_player1['p_m_time_3ago'] * FF[13]\n",
    "df_player1.loc[((df_player1[\"p_m_day\"] - df_player1[\"p_m_day_3ago\"]) == 14), \"p_m_time_3ago_w\"] = df_player1['p_m_time_3ago'] * FF[14]\n",
    "df_player1['p_m_time_3ago_w'] = df_player1['p_m_time_3ago_w'].fillna(15)\n",
    "\n",
    "\n",
    "df_player1[\"p_m_time_4ago\"] = df_player1.groupby(['p_id','tour_wk'])['m_time(m)'].shift(-4)\n",
    "df_player1['p_m_time_4ago'] = df_player1['p_m_time_4ago'].fillna(15)\n",
    "\n",
    "df_player1[\"p_m_day_4ago\"] = df_player1.groupby(['p_id','tour_wk'])['tour_day'].shift(-4)\n",
    "df_player1.loc[((df_player1[\"p_m_day\"] - df_player1[\"p_m_day_4ago\"]) == 0), \"p_m_time_4ago_w\"] = df_player1['p_m_time_4ago'] * FF[0]\n",
    "df_player1.loc[((df_player1[\"p_m_day\"] - df_player1[\"p_m_day_4ago\"]) == 1), \"p_m_time_4ago_w\"] = df_player1['p_m_time_4ago'] * FF[1]\n",
    "df_player1.loc[((df_player1[\"p_m_day\"] - df_player1[\"p_m_day_4ago\"]) == 2), \"p_m_time_4ago_w\"] = df_player1['p_m_time_4ago'] * FF[2]\n",
    "df_player1.loc[((df_player1[\"p_m_day\"] - df_player1[\"p_m_day_4ago\"]) == 3), \"p_m_time_4ago_w\"] = df_player1['p_m_time_4ago'] * FF[3]\n",
    "df_player1.loc[((df_player1[\"p_m_day\"] - df_player1[\"p_m_day_4ago\"]) == 4), \"p_m_time_4ago_w\"] = df_player1['p_m_time_4ago'] * FF[4]\n",
    "df_player1.loc[((df_player1[\"p_m_day\"] - df_player1[\"p_m_day_4ago\"]) == 5), \"p_m_time_4ago_w\"] = df_player1['p_m_time_4ago'] * FF[5]\n",
    "df_player1.loc[((df_player1[\"p_m_day\"] - df_player1[\"p_m_day_4ago\"]) == 6), \"p_m_time_4ago_w\"] = df_player1['p_m_time_4ago'] * FF[6]\n",
    "df_player1.loc[((df_player1[\"p_m_day\"] - df_player1[\"p_m_day_4ago\"]) == 7), \"p_m_time_4ago_w\"] = df_player1['p_m_time_4ago'] * FF[7]\n",
    "df_player1.loc[((df_player1[\"p_m_day\"] - df_player1[\"p_m_day_4ago\"]) == 8), \"p_m_time_4ago_w\"] = df_player1['p_m_time_4ago'] * FF[8]\n",
    "df_player1.loc[((df_player1[\"p_m_day\"] - df_player1[\"p_m_day_4ago\"]) == 9), \"p_m_time_4ago_w\"] = df_player1['p_m_time_4ago'] * FF[9]\n",
    "df_player1.loc[((df_player1[\"p_m_day\"] - df_player1[\"p_m_day_4ago\"]) == 10), \"p_m_time_4ago_w\"] = df_player1['p_m_time_4ago'] * FF[10]\n",
    "df_player1.loc[((df_player1[\"p_m_day\"] - df_player1[\"p_m_day_4ago\"]) == 11), \"p_m_time_4ago_w\"] = df_player1['p_m_time_4ago'] * FF[11]\n",
    "df_player1.loc[((df_player1[\"p_m_day\"] - df_player1[\"p_m_day_4ago\"]) == 12), \"p_m_time_4ago_w\"] = df_player1['p_m_time_4ago'] * FF[12]\n",
    "df_player1.loc[((df_player1[\"p_m_day\"] - df_player1[\"p_m_day_4ago\"]) == 13), \"p_m_time_4ago_w\"] = df_player1['p_m_time_4ago'] * FF[13]\n",
    "df_player1.loc[((df_player1[\"p_m_day\"] - df_player1[\"p_m_day_4ago\"]) == 14), \"p_m_time_4ago_w\"] = df_player1['p_m_time_4ago'] * FF[14]\n",
    "df_player1['p_m_time_4ago_w'] = df_player1['p_m_time_4ago_w'].fillna(15)\n",
    "\n",
    "\n",
    "df_player1[\"p_m_time_5ago\"] = df_player1.groupby(['p_id','tour_wk'])['m_time(m)'].shift(-5)\n",
    "df_player1['p_m_time_5ago'] = df_player1['p_m_time_5ago'].fillna(15)\n",
    "\n",
    "df_player1[\"p_m_day_5ago\"] = df_player1.groupby(['p_id','tour_wk'])['tour_day'].shift(-5)\n",
    "df_player1.loc[((df_player1[\"p_m_day\"] - df_player1[\"p_m_day_5ago\"]) == 0), \"p_m_time_5ago_w\"] = df_player1['p_m_time_5ago'] * FF[0]\n",
    "df_player1.loc[((df_player1[\"p_m_day\"] - df_player1[\"p_m_day_5ago\"]) == 1), \"p_m_time_5ago_w\"] = df_player1['p_m_time_5ago'] * FF[1]\n",
    "df_player1.loc[((df_player1[\"p_m_day\"] - df_player1[\"p_m_day_5ago\"]) == 2), \"p_m_time_5ago_w\"] = df_player1['p_m_time_5ago'] * FF[2]\n",
    "df_player1.loc[((df_player1[\"p_m_day\"] - df_player1[\"p_m_day_5ago\"]) == 3), \"p_m_time_5ago_w\"] = df_player1['p_m_time_5ago'] * FF[3]\n",
    "df_player1.loc[((df_player1[\"p_m_day\"] - df_player1[\"p_m_day_5ago\"]) == 4), \"p_m_time_5ago_w\"] = df_player1['p_m_time_5ago'] * FF[4]\n",
    "df_player1.loc[((df_player1[\"p_m_day\"] - df_player1[\"p_m_day_5ago\"]) == 5), \"p_m_time_5ago_w\"] = df_player1['p_m_time_5ago'] * FF[5]\n",
    "df_player1.loc[((df_player1[\"p_m_day\"] - df_player1[\"p_m_day_5ago\"]) == 6), \"p_m_time_5ago_w\"] = df_player1['p_m_time_5ago'] * FF[6]\n",
    "df_player1.loc[((df_player1[\"p_m_day\"] - df_player1[\"p_m_day_5ago\"]) == 7), \"p_m_time_5ago_w\"] = df_player1['p_m_time_5ago'] * FF[7]\n",
    "df_player1.loc[((df_player1[\"p_m_day\"] - df_player1[\"p_m_day_5ago\"]) == 8), \"p_m_time_5ago_w\"] = df_player1['p_m_time_5ago'] * FF[8]\n",
    "df_player1.loc[((df_player1[\"p_m_day\"] - df_player1[\"p_m_day_5ago\"]) == 9), \"p_m_time_5ago_w\"] = df_player1['p_m_time_5ago'] * FF[9]\n",
    "df_player1.loc[((df_player1[\"p_m_day\"] - df_player1[\"p_m_day_5ago\"]) == 10), \"p_m_time_5ago_w\"] = df_player1['p_m_time_5ago'] * FF[10]\n",
    "df_player1.loc[((df_player1[\"p_m_day\"] - df_player1[\"p_m_day_5ago\"]) == 11), \"p_m_time_5ago_w\"] = df_player1['p_m_time_5ago'] * FF[11]\n",
    "df_player1.loc[((df_player1[\"p_m_day\"] - df_player1[\"p_m_day_5ago\"]) == 12), \"p_m_time_5ago_w\"] = df_player1['p_m_time_5ago'] * FF[12]\n",
    "df_player1.loc[((df_player1[\"p_m_day\"] - df_player1[\"p_m_day_5ago\"]) == 13), \"p_m_time_5ago_w\"] = df_player1['p_m_time_5ago'] * FF[13]\n",
    "df_player1.loc[((df_player1[\"p_m_day\"] - df_player1[\"p_m_day_5ago\"]) == 14), \"p_m_time_5ago_w\"] = df_player1['p_m_time_5ago'] * FF[14]\n",
    "df_player1['p_m_time_5ago_w'] = df_player1['p_m_time_5ago_w'].fillna(15)\n",
    "\n",
    "\n",
    "df_player1[\"p_m_time_6ago\"] = df_player1.groupby(['p_id','tour_wk'])['m_time(m)'].shift(-6)\n",
    "df_player1['p_m_time_6ago'] = df_player1['p_m_time_6ago'].fillna(15)\n",
    "\n",
    "df_player1[\"p_m_day_6ago\"] = df_player1.groupby(['p_id','tour_wk'])['tour_day'].shift(-6)\n",
    "df_player1.loc[((df_player1[\"p_m_day\"] - df_player1[\"p_m_day_6ago\"]) == 0), \"p_m_time_6ago_w\"] = df_player1['p_m_time_6ago'] * FF[0]\n",
    "df_player1.loc[((df_player1[\"p_m_day\"] - df_player1[\"p_m_day_6ago\"]) == 1), \"p_m_time_6ago_w\"] = df_player1['p_m_time_6ago'] * FF[1]\n",
    "df_player1.loc[((df_player1[\"p_m_day\"] - df_player1[\"p_m_day_6ago\"]) == 2), \"p_m_time_6ago_w\"] = df_player1['p_m_time_6ago'] * FF[2]\n",
    "df_player1.loc[((df_player1[\"p_m_day\"] - df_player1[\"p_m_day_6ago\"]) == 3), \"p_m_time_6ago_w\"] = df_player1['p_m_time_6ago'] * FF[3]\n",
    "df_player1.loc[((df_player1[\"p_m_day\"] - df_player1[\"p_m_day_6ago\"]) == 4), \"p_m_time_6ago_w\"] = df_player1['p_m_time_6ago'] * FF[4]\n",
    "df_player1.loc[((df_player1[\"p_m_day\"] - df_player1[\"p_m_day_6ago\"]) == 5), \"p_m_time_6ago_w\"] = df_player1['p_m_time_6ago'] * FF[5]\n",
    "df_player1.loc[((df_player1[\"p_m_day\"] - df_player1[\"p_m_day_6ago\"]) == 6), \"p_m_time_6ago_w\"] = df_player1['p_m_time_6ago'] * FF[6]\n",
    "df_player1.loc[((df_player1[\"p_m_day\"] - df_player1[\"p_m_day_6ago\"]) == 7), \"p_m_time_6ago_w\"] = df_player1['p_m_time_6ago'] * FF[7]\n",
    "df_player1.loc[((df_player1[\"p_m_day\"] - df_player1[\"p_m_day_6ago\"]) == 8), \"p_m_time_6ago_w\"] = df_player1['p_m_time_6ago'] * FF[8]\n",
    "df_player1.loc[((df_player1[\"p_m_day\"] - df_player1[\"p_m_day_6ago\"]) == 9), \"p_m_time_6ago_w\"] = df_player1['p_m_time_6ago'] * FF[9]\n",
    "df_player1.loc[((df_player1[\"p_m_day\"] - df_player1[\"p_m_day_6ago\"]) == 10), \"p_m_time_6ago_w\"] = df_player1['p_m_time_6ago'] * FF[10]\n",
    "df_player1.loc[((df_player1[\"p_m_day\"] - df_player1[\"p_m_day_6ago\"]) == 11), \"p_m_time_6ago_w\"] = df_player1['p_m_time_6ago'] * FF[11]\n",
    "df_player1.loc[((df_player1[\"p_m_day\"] - df_player1[\"p_m_day_6ago\"]) == 12), \"p_m_time_6ago_w\"] = df_player1['p_m_time_6ago'] * FF[12]\n",
    "df_player1.loc[((df_player1[\"p_m_day\"] - df_player1[\"p_m_day_6ago\"]) == 13), \"p_m_time_6ago_w\"] = df_player1['p_m_time_6ago'] * FF[13]\n",
    "df_player1.loc[((df_player1[\"p_m_day\"] - df_player1[\"p_m_day_6ago\"]) == 14), \"p_m_time_6ago_w\"] = df_player1['p_m_time_6ago'] * FF[14]\n",
    "df_player1['p_m_time_6ago_w'] = df_player1['p_m_time_6ago_w'].fillna(15)\n",
    "\n",
    "\n",
    "# Summing latency-weighted time on court across previous matches within the tourny\n",
    "df_player1['p_tot_time_l6_decay'] = ((df_player1['p_m_time_last_w']) + (df_player1['p_m_time_2ago_w']) + (df_player1['p_m_time_3ago_w']) + (df_player1['p_m_time_4ago_w']) + (df_player1['p_m_time_5ago_w']) + (df_player1['p_m_time_6ago_w']))\n",
    "\n",
    "# Dropping transient columns \n",
    "df_player1 = df_player1.drop(['p_m_day', 'p_m_day_last', 'p_m_day_2ago', 'p_m_day_3ago','p_m_day_4ago', 'p_m_day_5ago', 'p_m_day_6ago','p_m_time_last', 'p_m_time_last_w', 'p_m_time_2ago', 'p_m_time_2ago_w','p_m_time_3ago', 'p_m_time_3ago_w','p_m_time_4ago', 'p_m_time_4ago_w','p_m_time_5ago', 'p_m_time_5ago_w', 'p_m_time_6ago', 'p_m_time_6ago_w'],axis=1)"
   ]
  },
  {
   "cell_type": "code",
   "execution_count": null,
   "id": "de3161a5",
   "metadata": {},
   "outputs": [],
   "source": [
    "#df_player1.to_csv('../data/df_player1.csv', index=False)"
   ]
  },
  {
   "cell_type": "code",
   "execution_count": 35,
   "id": "f9935ca5",
   "metadata": {},
   "outputs": [],
   "source": [
    "# Computes decay-weighted total points played for a player across up to his prior 6 matches within the same tournament (the most possible prior matchesin one tournament a player can have).\n",
    "\n",
    "# For the sake of fatigue computation, total points played are weighted by the number of days between the match at hand and a given previous match \n",
    "\n",
    "#Fatigue weighting factors based on time since a given match played within the same tournament\n",
    "\n",
    "#FF = [1, .67, .45, .3, .2, .14, .09, .06, .04, .03, .02, .01, .005, .004]\n",
    "#FF = [1, .75, .56, .42, .32, .24, .18, .13, .1, .08, .06, .04, .03, .02, .01]\n",
    "FF = [1, 1, 1, 1, 1, 1, 1, 1, 1, 1, 1, 1, 1, 1, 1]\n",
    "\n",
    "df_player1[\"p_tot_pts_last\"] = df_player1.groupby(['p_id','tour_wk'])['m_tot_pts'].shift(-1)\n",
    "df_player1['p_tot_pts_last'] = df_player1['p_tot_pts_last'].fillna(40)\n",
    "\n",
    "df_player1[\"p_m_day\"] = df_player1.groupby(['p_id','tour_wk'])['tour_day'].shift(0)\n",
    "df_player1[\"p_m_day_last\"] = df_player1.groupby(['p_id','tour_wk'])['tour_day'].shift(-1)\n",
    "df_player1.loc[((df_player1[\"p_m_day\"] - df_player1[\"p_m_day_last\"]) == 0), \"p_tot_pts_last_w\"] = df_player1['p_tot_pts_last'] * FF[0]\n",
    "df_player1.loc[((df_player1[\"p_m_day\"] - df_player1[\"p_m_day_last\"]) == 1), \"p_tot_pts_last_w\"] = df_player1['p_tot_pts_last'] * FF[1]\n",
    "df_player1.loc[((df_player1[\"p_m_day\"] - df_player1[\"p_m_day_last\"]) == 2), \"p_tot_pts_last_w\"] = df_player1['p_tot_pts_last'] * FF[2]\n",
    "df_player1.loc[((df_player1[\"p_m_day\"] - df_player1[\"p_m_day_last\"]) == 3), \"p_tot_pts_last_w\"] = df_player1['p_tot_pts_last'] * FF[3]\n",
    "df_player1.loc[((df_player1[\"p_m_day\"] - df_player1[\"p_m_day_last\"]) == 4), \"p_tot_pts_last_w\"] = df_player1['p_tot_pts_last'] * FF[4]\n",
    "df_player1.loc[((df_player1[\"p_m_day\"] - df_player1[\"p_m_day_last\"]) == 5), \"p_tot_pts_last_w\"] = df_player1['p_tot_pts_last'] * FF[5]\n",
    "df_player1.loc[((df_player1[\"p_m_day\"] - df_player1[\"p_m_day_last\"]) == 6), \"p_tot_pts_last_w\"] = df_player1['p_tot_pts_last'] * FF[6]\n",
    "df_player1.loc[((df_player1[\"p_m_day\"] - df_player1[\"p_m_day_last\"]) == 7), \"p_tot_pts_last_w\"] = df_player1['p_tot_pts_last'] * FF[7]\n",
    "df_player1.loc[((df_player1[\"p_m_day\"] - df_player1[\"p_m_day_last\"]) == 8), \"p_tot_pts_last_w\"] = df_player1['p_tot_pts_last'] * FF[8]\n",
    "df_player1.loc[((df_player1[\"p_m_day\"] - df_player1[\"p_m_day_last\"]) == 9), \"p_tot_pts_last_w\"] = df_player1['p_tot_pts_last'] * FF[9]\n",
    "df_player1.loc[((df_player1[\"p_m_day\"] - df_player1[\"p_m_day_last\"]) == 10), \"p_tot_pts_last_w\"] = df_player1['p_tot_pts_last'] * FF[10]\n",
    "df_player1.loc[((df_player1[\"p_m_day\"] - df_player1[\"p_m_day_last\"]) == 11), \"p_tot_pts_last_w\"] = df_player1['p_tot_pts_last'] * FF[11]\n",
    "df_player1.loc[((df_player1[\"p_m_day\"] - df_player1[\"p_m_day_last\"]) == 12), \"p_tot_pts_last_w\"] = df_player1['p_tot_pts_last'] * FF[12]\n",
    "df_player1.loc[((df_player1[\"p_m_day\"] - df_player1[\"p_m_day_last\"]) == 13), \"p_tot_pts_last_w\"] = df_player1['p_tot_pts_last'] * FF[13]\n",
    "df_player1.loc[((df_player1[\"p_m_day\"] - df_player1[\"p_m_day_last\"]) == 14), \"p_tot_pts_last_w\"] = df_player1['p_tot_pts_last'] * FF[14]\n",
    "df_player1['p_tot_pts_last_w'] = df_player1['p_tot_pts_last_w'].fillna(df_player1['p_tot_pts_last'])\n",
    "\n",
    "\n",
    "df_player1[\"p_tot_pts_2ago\"] = df_player1.groupby(['p_id','tour_wk'])['m_tot_pts'].shift(-2)\n",
    "df_player1['p_tot_pts_2ago'] = df_player1['p_tot_pts_2ago'].fillna(40)\n",
    "\n",
    "df_player1[\"p_m_day_2ago\"] = df_player1.groupby(['p_id','tour_wk'])['tour_day'].shift(-2)\n",
    "df_player1.loc[((df_player1[\"p_m_day\"] - df_player1[\"p_m_day_2ago\"]) == 0), \"p_tot_pts_2ago_w\"] = df_player1['p_tot_pts_2ago'] * FF[0]\n",
    "df_player1.loc[((df_player1[\"p_m_day\"] - df_player1[\"p_m_day_2ago\"]) == 1), \"p_tot_pts_2ago_w\"] = df_player1['p_tot_pts_2ago'] * FF[1]\n",
    "df_player1.loc[((df_player1[\"p_m_day\"] - df_player1[\"p_m_day_2ago\"]) == 2), \"p_tot_pts_2ago_w\"] = df_player1['p_tot_pts_2ago'] * FF[2]\n",
    "df_player1.loc[((df_player1[\"p_m_day\"] - df_player1[\"p_m_day_2ago\"]) == 3), \"p_tot_pts_2ago_w\"] = df_player1['p_tot_pts_2ago'] * FF[3]\n",
    "df_player1.loc[((df_player1[\"p_m_day\"] - df_player1[\"p_m_day_2ago\"]) == 4), \"p_tot_pts_2ago_w\"] = df_player1['p_tot_pts_2ago'] * FF[4]\n",
    "df_player1.loc[((df_player1[\"p_m_day\"] - df_player1[\"p_m_day_2ago\"]) == 5), \"p_tot_pts_2ago_w\"] = df_player1['p_tot_pts_2ago'] * FF[5]\n",
    "df_player1.loc[((df_player1[\"p_m_day\"] - df_player1[\"p_m_day_2ago\"]) == 6), \"p_tot_pts_2ago_w\"] = df_player1['p_tot_pts_2ago'] * FF[6]\n",
    "df_player1.loc[((df_player1[\"p_m_day\"] - df_player1[\"p_m_day_2ago\"]) == 7), \"p_tot_pts_2ago_w\"] = df_player1['p_tot_pts_2ago'] * FF[7]\n",
    "df_player1.loc[((df_player1[\"p_m_day\"] - df_player1[\"p_m_day_2ago\"]) == 8), \"p_tot_pts_2ago_w\"] = df_player1['p_tot_pts_2ago'] * FF[8]\n",
    "df_player1.loc[((df_player1[\"p_m_day\"] - df_player1[\"p_m_day_2ago\"]) == 9), \"p_tot_pts_2ago_w\"] = df_player1['p_tot_pts_2ago'] * FF[9]\n",
    "df_player1.loc[((df_player1[\"p_m_day\"] - df_player1[\"p_m_day_2ago\"]) == 10), \"p_tot_pts_2ago_w\"] = df_player1['p_tot_pts_2ago'] * FF[10]\n",
    "df_player1.loc[((df_player1[\"p_m_day\"] - df_player1[\"p_m_day_2ago\"]) == 11), \"p_tot_pts_2ago_w\"] = df_player1['p_tot_pts_2ago'] * FF[11]\n",
    "df_player1.loc[((df_player1[\"p_m_day\"] - df_player1[\"p_m_day_2ago\"]) == 12), \"p_tot_pts_2ago_w\"] = df_player1['p_tot_pts_2ago'] * FF[12]\n",
    "df_player1.loc[((df_player1[\"p_m_day\"] - df_player1[\"p_m_day_2ago\"]) == 13), \"p_tot_pts_2ago_w\"] = df_player1['p_tot_pts_2ago'] * FF[13]\n",
    "df_player1.loc[((df_player1[\"p_m_day\"] - df_player1[\"p_m_day_2ago\"]) == 14), \"p_tot_pts_2ago_w\"] = df_player1['p_tot_pts_2ago'] * FF[14]\n",
    "df_player1['p_tot_pts_2ago_w'] = df_player1['p_tot_pts_2ago_w'].fillna(40)\n",
    "\n",
    "\n",
    "df_player1[\"p_tot_pts_3ago\"] = df_player1.groupby(['p_id','tour_wk'])['m_tot_pts'].shift(-3)\n",
    "df_player1['p_tot_pts_3ago'] = df_player1['p_tot_pts_3ago'].fillna(40)\n",
    "\n",
    "df_player1[\"p_m_day_3ago\"] = df_player1.groupby(['p_id','tour_wk'])['tour_day'].shift(-3)\n",
    "df_player1.loc[((df_player1[\"p_m_day\"] - df_player1[\"p_m_day_3ago\"]) == 0), \"p_tot_pts_3ago_w\"] = df_player1['p_tot_pts_3ago'] * FF[0]\n",
    "df_player1.loc[((df_player1[\"p_m_day\"] - df_player1[\"p_m_day_3ago\"]) == 1), \"p_tot_pts_3ago_w\"] = df_player1['p_tot_pts_3ago'] * FF[1]\n",
    "df_player1.loc[((df_player1[\"p_m_day\"] - df_player1[\"p_m_day_3ago\"]) == 2), \"p_tot_pts_3ago_w\"] = df_player1['p_tot_pts_3ago'] * FF[2]\n",
    "df_player1.loc[((df_player1[\"p_m_day\"] - df_player1[\"p_m_day_3ago\"]) == 3), \"p_tot_pts_3ago_w\"] = df_player1['p_tot_pts_3ago'] * FF[3]\n",
    "df_player1.loc[((df_player1[\"p_m_day\"] - df_player1[\"p_m_day_3ago\"]) == 4), \"p_tot_pts_3ago_w\"] = df_player1['p_tot_pts_3ago'] * FF[4]\n",
    "df_player1.loc[((df_player1[\"p_m_day\"] - df_player1[\"p_m_day_3ago\"]) == 5), \"p_tot_pts_3ago_w\"] = df_player1['p_tot_pts_3ago'] * FF[5]\n",
    "df_player1.loc[((df_player1[\"p_m_day\"] - df_player1[\"p_m_day_3ago\"]) == 6), \"p_tot_pts_3ago_w\"] = df_player1['p_tot_pts_3ago'] * FF[6]\n",
    "df_player1.loc[((df_player1[\"p_m_day\"] - df_player1[\"p_m_day_3ago\"]) == 7), \"p_tot_pts_3ago_w\"] = df_player1['p_tot_pts_3ago'] * FF[7]\n",
    "df_player1.loc[((df_player1[\"p_m_day\"] - df_player1[\"p_m_day_3ago\"]) == 8), \"p_tot_pts_3ago_w\"] = df_player1['p_tot_pts_3ago'] * FF[8]\n",
    "df_player1.loc[((df_player1[\"p_m_day\"] - df_player1[\"p_m_day_3ago\"]) == 9), \"p_tot_pts_3ago_w\"] = df_player1['p_tot_pts_3ago'] * FF[9]\n",
    "df_player1.loc[((df_player1[\"p_m_day\"] - df_player1[\"p_m_day_3ago\"]) == 10), \"p_tot_pts_3ago_w\"] = df_player1['p_tot_pts_3ago'] * FF[10]\n",
    "df_player1.loc[((df_player1[\"p_m_day\"] - df_player1[\"p_m_day_3ago\"]) == 11), \"p_tot_pts_3ago_w\"] = df_player1['p_tot_pts_3ago'] * FF[11]\n",
    "df_player1.loc[((df_player1[\"p_m_day\"] - df_player1[\"p_m_day_3ago\"]) == 12), \"p_tot_pts_3ago_w\"] = df_player1['p_tot_pts_3ago'] * FF[12]\n",
    "df_player1.loc[((df_player1[\"p_m_day\"] - df_player1[\"p_m_day_3ago\"]) == 13), \"p_tot_pts_3ago_w\"] = df_player1['p_tot_pts_3ago'] * FF[13]\n",
    "df_player1.loc[((df_player1[\"p_m_day\"] - df_player1[\"p_m_day_3ago\"]) == 14), \"p_tot_pts_3ago_w\"] = df_player1['p_tot_pts_3ago'] * FF[14]\n",
    "df_player1['p_tot_pts_3ago_w'] = df_player1['p_tot_pts_3ago_w'].fillna(40)\n",
    "\n",
    "\n",
    "df_player1[\"p_tot_pts_4ago\"] = df_player1.groupby(['p_id','tour_wk'])['m_tot_pts'].shift(-4)\n",
    "df_player1['p_tot_pts_4ago'] = df_player1['p_tot_pts_4ago'].fillna(40)\n",
    "\n",
    "df_player1[\"p_m_day_4ago\"] = df_player1.groupby(['p_id','tour_wk'])['tour_day'].shift(-4)\n",
    "df_player1.loc[((df_player1[\"p_m_day\"] - df_player1[\"p_m_day_4ago\"]) == 0), \"p_tot_pts_4ago_w\"] = df_player1['p_tot_pts_4ago'] * FF[0]\n",
    "df_player1.loc[((df_player1[\"p_m_day\"] - df_player1[\"p_m_day_4ago\"]) == 1), \"p_tot_pts_4ago_w\"] = df_player1['p_tot_pts_4ago'] * FF[1]\n",
    "df_player1.loc[((df_player1[\"p_m_day\"] - df_player1[\"p_m_day_4ago\"]) == 2), \"p_tot_pts_4ago_w\"] = df_player1['p_tot_pts_4ago'] * FF[2]\n",
    "df_player1.loc[((df_player1[\"p_m_day\"] - df_player1[\"p_m_day_4ago\"]) == 3), \"p_tot_pts_4ago_w\"] = df_player1['p_tot_pts_4ago'] * FF[3]\n",
    "df_player1.loc[((df_player1[\"p_m_day\"] - df_player1[\"p_m_day_4ago\"]) == 4), \"p_tot_pts_4ago_w\"] = df_player1['p_tot_pts_4ago'] * FF[4]\n",
    "df_player1.loc[((df_player1[\"p_m_day\"] - df_player1[\"p_m_day_4ago\"]) == 5), \"p_tot_pts_4ago_w\"] = df_player1['p_tot_pts_4ago'] * FF[5]\n",
    "df_player1.loc[((df_player1[\"p_m_day\"] - df_player1[\"p_m_day_4ago\"]) == 6), \"p_tot_pts_4ago_w\"] = df_player1['p_tot_pts_4ago'] * FF[6]\n",
    "df_player1.loc[((df_player1[\"p_m_day\"] - df_player1[\"p_m_day_4ago\"]) == 7), \"p_tot_pts_4ago_w\"] = df_player1['p_tot_pts_4ago'] * FF[7]\n",
    "df_player1.loc[((df_player1[\"p_m_day\"] - df_player1[\"p_m_day_4ago\"]) == 8), \"p_tot_pts_4ago_w\"] = df_player1['p_tot_pts_4ago'] * FF[8]\n",
    "df_player1.loc[((df_player1[\"p_m_day\"] - df_player1[\"p_m_day_4ago\"]) == 9), \"p_tot_pts_4ago_w\"] = df_player1['p_tot_pts_4ago'] * FF[9]\n",
    "df_player1.loc[((df_player1[\"p_m_day\"] - df_player1[\"p_m_day_4ago\"]) == 10), \"p_tot_pts_4ago_w\"] = df_player1['p_tot_pts_4ago'] * FF[10]\n",
    "df_player1.loc[((df_player1[\"p_m_day\"] - df_player1[\"p_m_day_4ago\"]) == 11), \"p_tot_pts_4ago_w\"] = df_player1['p_tot_pts_4ago'] * FF[11]\n",
    "df_player1.loc[((df_player1[\"p_m_day\"] - df_player1[\"p_m_day_4ago\"]) == 12), \"p_tot_pts_4ago_w\"] = df_player1['p_tot_pts_4ago'] * FF[12]\n",
    "df_player1.loc[((df_player1[\"p_m_day\"] - df_player1[\"p_m_day_4ago\"]) == 13), \"p_tot_pts_4ago_w\"] = df_player1['p_tot_pts_4ago'] * FF[13]\n",
    "df_player1.loc[((df_player1[\"p_m_day\"] - df_player1[\"p_m_day_4ago\"]) == 14), \"p_tot_pts_4ago_w\"] = df_player1['p_tot_pts_4ago'] * FF[14]\n",
    "df_player1['p_tot_pts_4ago_w'] = df_player1['p_tot_pts_4ago_w'].fillna(40)\n",
    "\n",
    "\n",
    "df_player1[\"p_tot_pts_5ago\"] = df_player1.groupby(['p_id','tour_wk'])['m_tot_pts'].shift(-5)\n",
    "df_player1['p_tot_pts_5ago'] = df_player1['p_tot_pts_5ago'].fillna(40)\n",
    "\n",
    "df_player1[\"p_m_day_5ago\"] = df_player1.groupby(['p_id','tour_wk'])['tour_day'].shift(-5)\n",
    "df_player1.loc[((df_player1[\"p_m_day\"] - df_player1[\"p_m_day_5ago\"]) == 0), \"p_tot_pts_5ago_w\"] = df_player1['p_tot_pts_5ago'] * FF[0]\n",
    "df_player1.loc[((df_player1[\"p_m_day\"] - df_player1[\"p_m_day_5ago\"]) == 1), \"p_tot_pts_5ago_w\"] = df_player1['p_tot_pts_5ago'] * FF[1]\n",
    "df_player1.loc[((df_player1[\"p_m_day\"] - df_player1[\"p_m_day_5ago\"]) == 2), \"p_tot_pts_5ago_w\"] = df_player1['p_tot_pts_5ago'] * FF[2]\n",
    "df_player1.loc[((df_player1[\"p_m_day\"] - df_player1[\"p_m_day_5ago\"]) == 3), \"p_tot_pts_5ago_w\"] = df_player1['p_tot_pts_5ago'] * FF[3]\n",
    "df_player1.loc[((df_player1[\"p_m_day\"] - df_player1[\"p_m_day_5ago\"]) == 4), \"p_tot_pts_5ago_w\"] = df_player1['p_tot_pts_5ago'] * FF[4]\n",
    "df_player1.loc[((df_player1[\"p_m_day\"] - df_player1[\"p_m_day_5ago\"]) == 5), \"p_tot_pts_5ago_w\"] = df_player1['p_tot_pts_5ago'] * FF[5]\n",
    "df_player1.loc[((df_player1[\"p_m_day\"] - df_player1[\"p_m_day_5ago\"]) == 6), \"p_tot_pts_5ago_w\"] = df_player1['p_tot_pts_5ago'] * FF[6]\n",
    "df_player1.loc[((df_player1[\"p_m_day\"] - df_player1[\"p_m_day_5ago\"]) == 7), \"p_tot_pts_5ago_w\"] = df_player1['p_tot_pts_5ago'] * FF[7]\n",
    "df_player1.loc[((df_player1[\"p_m_day\"] - df_player1[\"p_m_day_5ago\"]) == 8), \"p_tot_pts_5ago_w\"] = df_player1['p_tot_pts_5ago'] * FF[8]\n",
    "df_player1.loc[((df_player1[\"p_m_day\"] - df_player1[\"p_m_day_5ago\"]) == 9), \"p_tot_pts_5ago_w\"] = df_player1['p_tot_pts_5ago'] * FF[9]\n",
    "df_player1.loc[((df_player1[\"p_m_day\"] - df_player1[\"p_m_day_5ago\"]) == 10), \"p_tot_pts_5ago_w\"] = df_player1['p_tot_pts_5ago'] * FF[10]\n",
    "df_player1.loc[((df_player1[\"p_m_day\"] - df_player1[\"p_m_day_5ago\"]) == 11), \"p_tot_pts_5ago_w\"] = df_player1['p_tot_pts_5ago'] * FF[11]\n",
    "df_player1.loc[((df_player1[\"p_m_day\"] - df_player1[\"p_m_day_5ago\"]) == 12), \"p_tot_pts_5ago_w\"] = df_player1['p_tot_pts_5ago'] * FF[12]\n",
    "df_player1.loc[((df_player1[\"p_m_day\"] - df_player1[\"p_m_day_5ago\"]) == 13), \"p_tot_pts_5ago_w\"] = df_player1['p_tot_pts_5ago'] * FF[13]\n",
    "df_player1.loc[((df_player1[\"p_m_day\"] - df_player1[\"p_m_day_5ago\"]) == 14), \"p_tot_pts_5ago_w\"] = df_player1['p_tot_pts_5ago'] * FF[14]\n",
    "df_player1['p_tot_pts_5ago_w'] = df_player1['p_tot_pts_5ago_w'].fillna(40)\n",
    "\n",
    "\n",
    "df_player1[\"p_tot_pts_6ago\"] = df_player1.groupby(['p_id','tour_wk'])['m_tot_pts'].shift(-6)\n",
    "df_player1['p_tot_pts_6ago'] = df_player1['p_tot_pts_6ago'].fillna(40)\n",
    "\n",
    "df_player1[\"p_m_day_6ago\"] = df_player1.groupby(['p_id','tour_wk'])['tour_day'].shift(-6)\n",
    "df_player1.loc[((df_player1[\"p_m_day\"] - df_player1[\"p_m_day_6ago\"]) == 0), \"p_tot_pts_6ago_w\"] = df_player1['p_tot_pts_6ago'] * FF[0]\n",
    "df_player1.loc[((df_player1[\"p_m_day\"] - df_player1[\"p_m_day_6ago\"]) == 1), \"p_tot_pts_6ago_w\"] = df_player1['p_tot_pts_6ago'] * FF[1]\n",
    "df_player1.loc[((df_player1[\"p_m_day\"] - df_player1[\"p_m_day_6ago\"]) == 2), \"p_tot_pts_6ago_w\"] = df_player1['p_tot_pts_6ago'] * FF[2]\n",
    "df_player1.loc[((df_player1[\"p_m_day\"] - df_player1[\"p_m_day_6ago\"]) == 3), \"p_tot_pts_6ago_w\"] = df_player1['p_tot_pts_6ago'] * FF[3]\n",
    "df_player1.loc[((df_player1[\"p_m_day\"] - df_player1[\"p_m_day_6ago\"]) == 4), \"p_tot_pts_6ago_w\"] = df_player1['p_tot_pts_6ago'] * FF[4]\n",
    "df_player1.loc[((df_player1[\"p_m_day\"] - df_player1[\"p_m_day_6ago\"]) == 5), \"p_tot_pts_6ago_w\"] = df_player1['p_tot_pts_6ago'] * FF[5]\n",
    "df_player1.loc[((df_player1[\"p_m_day\"] - df_player1[\"p_m_day_6ago\"]) == 6), \"p_tot_pts_6ago_w\"] = df_player1['p_tot_pts_6ago'] * FF[6]\n",
    "df_player1.loc[((df_player1[\"p_m_day\"] - df_player1[\"p_m_day_6ago\"]) == 7), \"p_tot_pts_6ago_w\"] = df_player1['p_tot_pts_6ago'] * FF[7]\n",
    "df_player1.loc[((df_player1[\"p_m_day\"] - df_player1[\"p_m_day_6ago\"]) == 8), \"p_tot_pts_6ago_w\"] = df_player1['p_tot_pts_6ago'] * FF[8]\n",
    "df_player1.loc[((df_player1[\"p_m_day\"] - df_player1[\"p_m_day_6ago\"]) == 9), \"p_tot_pts_6ago_w\"] = df_player1['p_tot_pts_6ago'] * FF[9]\n",
    "df_player1.loc[((df_player1[\"p_m_day\"] - df_player1[\"p_m_day_6ago\"]) == 10), \"p_tot_pts_6ago_w\"] = df_player1['p_tot_pts_6ago'] * FF[10]\n",
    "df_player1.loc[((df_player1[\"p_m_day\"] - df_player1[\"p_m_day_6ago\"]) == 11), \"p_tot_pts_6ago_w\"] = df_player1['p_tot_pts_6ago'] * FF[11]\n",
    "df_player1.loc[((df_player1[\"p_m_day\"] - df_player1[\"p_m_day_6ago\"]) == 12), \"p_tot_pts_6ago_w\"] = df_player1['p_tot_pts_6ago'] * FF[12]\n",
    "df_player1.loc[((df_player1[\"p_m_day\"] - df_player1[\"p_m_day_6ago\"]) == 13), \"p_tot_pts_6ago_w\"] = df_player1['p_tot_pts_6ago'] * FF[13]\n",
    "df_player1.loc[((df_player1[\"p_m_day\"] - df_player1[\"p_m_day_6ago\"]) == 14), \"p_tot_pts_6ago_w\"] = df_player1['p_tot_pts_6ago'] * FF[14]\n",
    "df_player1['p_tot_pts_6ago_w'] = df_player1['p_tot_pts_6ago_w'].fillna(40)\n",
    "\n",
    "\n",
    "# Summing latency-weighted total pts across previous matches within the tourny\n",
    "df_player1['p_tot_pts_l6_decay'] = ((df_player1['p_tot_pts_last_w']) + (df_player1['p_tot_pts_2ago_w']) + (df_player1['p_tot_pts_3ago_w']) + (df_player1['p_tot_pts_4ago_w']) + (df_player1['p_tot_pts_5ago_w']) + (df_player1['p_tot_pts_6ago_w']))\n",
    "\n",
    "# Dropping transient columns \n",
    "df_player1 = df_player1.drop(['p_m_day', 'p_m_day_last', 'p_m_day_2ago', 'p_m_day_3ago','p_m_day_4ago', 'p_m_day_5ago', 'p_m_day_6ago','p_tot_pts_last', 'p_tot_pts_last_w', 'p_tot_pts_2ago', 'p_tot_pts_2ago_w','p_tot_pts_3ago', 'p_tot_pts_3ago_w','p_tot_pts_4ago', 'p_tot_pts_4ago_w','p_tot_pts_5ago', 'p_tot_pts_5ago_w', 'p_tot_pts_6ago', 'p_tot_pts_6ago_w'],axis=1)"
   ]
  },
  {
   "cell_type": "code",
   "execution_count": 36,
   "id": "3dec93c2",
   "metadata": {},
   "outputs": [],
   "source": [
    "# Integrates \"stamina\" and \"fatigue\" features into a \"body battery\" feature (decay weighted for match pts variable)\n",
    "# Currently, player matches in denom factored 4th root, based on some prediction quality feedbck from simple (linear) model \n",
    "# This version uses decay-weighted points played as the fatigue input, but time on court could also be used. \n",
    "\n",
    "df_player1[\"p_stamina_adj_fatigue_decay\"] = (df_player1[\"p_tot_pts_l6_decay\"])/(df_player1[\"p_matches_surf\"]**(1/4)).round(2)\n",
    "#df_player1[\"p_stamina_adj_fatigue_decay\"] = (df_player1[\"p_tot_pts_l6_decay\"]/np.sqrt(df_player1[\"p_matches\"])).round(2)\n",
    "#df_player1[\"p_stamina_adj_fatigue\"] = (df_player1[\"p_tot_pts_l6\"]/np.sqrt(df_player1[\"p_matches\"])).round(2)\n",
    "#df_player1[\"p_stamina_adj_fatigue\"] = (df_player1[\"p_tot_pts_l6\"])/(df_player1[\"p_matches\"]**(1/4)).round(2)"
   ]
  },
  {
   "cell_type": "markdown",
   "id": "ce738c5d",
   "metadata": {},
   "source": [
    "#### below is computed a given player's H2H wins versus an opponent prior to a match being predicted on in a surface-specific manner (2012-2019 inclusive)"
   ]
  },
  {
   "cell_type": "code",
   "execution_count": 37,
   "id": "126078ac",
   "metadata": {},
   "outputs": [
    {
     "data": {
      "text/html": [
       "<div>\n",
       "<style scoped>\n",
       "    .dataframe tbody tr th:only-of-type {\n",
       "        vertical-align: middle;\n",
       "    }\n",
       "\n",
       "    .dataframe tbody tr th {\n",
       "        vertical-align: top;\n",
       "    }\n",
       "\n",
       "    .dataframe thead th {\n",
       "        text-align: right;\n",
       "    }\n",
       "</style>\n",
       "<table border=\"1\" class=\"dataframe\">\n",
       "  <thead>\n",
       "    <tr style=\"text-align: right;\">\n",
       "      <th></th>\n",
       "      <th>t_id</th>\n",
       "      <th>t_date</th>\n",
       "      <th>tour_day</th>\n",
       "      <th>tour_wk</th>\n",
       "      <th>t_name</th>\n",
       "      <th>t_country</th>\n",
       "      <th>t_surf</th>\n",
       "      <th>t_indoor</th>\n",
       "      <th>t_alt</th>\n",
       "      <th>t_lvl</th>\n",
       "      <th>...</th>\n",
       "      <th>p_bp_convert%</th>\n",
       "      <th>p_bp_convert%_l60</th>\n",
       "      <th>p_bp_convert%_l10</th>\n",
       "      <th>p_IWP_l60_decay</th>\n",
       "      <th>p_IWP_l10</th>\n",
       "      <th>p_matches_surf</th>\n",
       "      <th>p_tot_time_l6_decay</th>\n",
       "      <th>p_tot_pts_l6_decay</th>\n",
       "      <th>p_stamina_adj_fatigue_decay</th>\n",
       "      <th>p_H2H_w</th>\n",
       "    </tr>\n",
       "  </thead>\n",
       "  <tbody>\n",
       "    <tr>\n",
       "      <th>8932</th>\n",
       "      <td>2019-0439</td>\n",
       "      <td>20190715</td>\n",
       "      <td>1908.0</td>\n",
       "      <td>2019_18</td>\n",
       "      <td>Umag</td>\n",
       "      <td>CRO</td>\n",
       "      <td>Clay</td>\n",
       "      <td>0</td>\n",
       "      <td>0</td>\n",
       "      <td>1</td>\n",
       "      <td>...</td>\n",
       "      <td>33.33</td>\n",
       "      <td>36.19</td>\n",
       "      <td>36.19</td>\n",
       "      <td>40.02</td>\n",
       "      <td>40.02</td>\n",
       "      <td>6.0</td>\n",
       "      <td>178.0</td>\n",
       "      <td>362.0</td>\n",
       "      <td>230.573248</td>\n",
       "      <td>0.0</td>\n",
       "    </tr>\n",
       "    <tr>\n",
       "      <th>133</th>\n",
       "      <td>2019-0439</td>\n",
       "      <td>20190715</td>\n",
       "      <td>1905.0</td>\n",
       "      <td>2019_18</td>\n",
       "      <td>Umag</td>\n",
       "      <td>CRO</td>\n",
       "      <td>Clay</td>\n",
       "      <td>0</td>\n",
       "      <td>0</td>\n",
       "      <td>1</td>\n",
       "      <td>...</td>\n",
       "      <td>66.67</td>\n",
       "      <td>30.09</td>\n",
       "      <td>30.09</td>\n",
       "      <td>38.71</td>\n",
       "      <td>38.71</td>\n",
       "      <td>5.0</td>\n",
       "      <td>90.0</td>\n",
       "      <td>240.0</td>\n",
       "      <td>160.000000</td>\n",
       "      <td>0.0</td>\n",
       "    </tr>\n",
       "    <tr>\n",
       "      <th>9132</th>\n",
       "      <td>2019-7694</td>\n",
       "      <td>20190520</td>\n",
       "      <td>1885.0</td>\n",
       "      <td>2019_16</td>\n",
       "      <td>Lyon</td>\n",
       "      <td>FRA</td>\n",
       "      <td>Clay</td>\n",
       "      <td>0</td>\n",
       "      <td>0</td>\n",
       "      <td>1</td>\n",
       "      <td>...</td>\n",
       "      <td>20.00</td>\n",
       "      <td>32.62</td>\n",
       "      <td>32.62</td>\n",
       "      <td>32.66</td>\n",
       "      <td>32.66</td>\n",
       "      <td>4.0</td>\n",
       "      <td>90.0</td>\n",
       "      <td>240.0</td>\n",
       "      <td>170.212766</td>\n",
       "      <td>0.0</td>\n",
       "    </tr>\n",
       "    <tr>\n",
       "      <th>9165</th>\n",
       "      <td>2019-M009</td>\n",
       "      <td>20190513</td>\n",
       "      <td>1881.0</td>\n",
       "      <td>2019_15</td>\n",
       "      <td>Rome Masters</td>\n",
       "      <td>ITA</td>\n",
       "      <td>Clay</td>\n",
       "      <td>0</td>\n",
       "      <td>0</td>\n",
       "      <td>2</td>\n",
       "      <td>...</td>\n",
       "      <td>33.33</td>\n",
       "      <td>32.38</td>\n",
       "      <td>32.38</td>\n",
       "      <td>38.40</td>\n",
       "      <td>38.40</td>\n",
       "      <td>3.0</td>\n",
       "      <td>186.0</td>\n",
       "      <td>357.0</td>\n",
       "      <td>270.454545</td>\n",
       "      <td>0.0</td>\n",
       "    </tr>\n",
       "    <tr>\n",
       "      <th>369</th>\n",
       "      <td>2019-M009</td>\n",
       "      <td>20190513</td>\n",
       "      <td>1878.0</td>\n",
       "      <td>2019_15</td>\n",
       "      <td>Rome Masters</td>\n",
       "      <td>ITA</td>\n",
       "      <td>Clay</td>\n",
       "      <td>0</td>\n",
       "      <td>0</td>\n",
       "      <td>2</td>\n",
       "      <td>...</td>\n",
       "      <td>57.14</td>\n",
       "      <td>20.00</td>\n",
       "      <td>20.00</td>\n",
       "      <td>35.78</td>\n",
       "      <td>35.78</td>\n",
       "      <td>2.0</td>\n",
       "      <td>90.0</td>\n",
       "      <td>240.0</td>\n",
       "      <td>201.680672</td>\n",
       "      <td>0.0</td>\n",
       "    </tr>\n",
       "    <tr>\n",
       "      <th>...</th>\n",
       "      <td>...</td>\n",
       "      <td>...</td>\n",
       "      <td>...</td>\n",
       "      <td>...</td>\n",
       "      <td>...</td>\n",
       "      <td>...</td>\n",
       "      <td>...</td>\n",
       "      <td>...</td>\n",
       "      <td>...</td>\n",
       "      <td>...</td>\n",
       "      <td>...</td>\n",
       "      <td>...</td>\n",
       "      <td>...</td>\n",
       "      <td>...</td>\n",
       "      <td>...</td>\n",
       "      <td>...</td>\n",
       "      <td>...</td>\n",
       "      <td>...</td>\n",
       "      <td>...</td>\n",
       "      <td>...</td>\n",
       "      <td>...</td>\n",
       "    </tr>\n",
       "    <tr>\n",
       "      <th>4044</th>\n",
       "      <td>2014-414</td>\n",
       "      <td>20140714</td>\n",
       "      <td>657.0</td>\n",
       "      <td>2014_19</td>\n",
       "      <td>Hamburg</td>\n",
       "      <td>GER</td>\n",
       "      <td>Clay</td>\n",
       "      <td>0</td>\n",
       "      <td>0</td>\n",
       "      <td>1</td>\n",
       "      <td>...</td>\n",
       "      <td>36.36</td>\n",
       "      <td>42.46</td>\n",
       "      <td>42.46</td>\n",
       "      <td>24.82</td>\n",
       "      <td>24.82</td>\n",
       "      <td>4.0</td>\n",
       "      <td>133.0</td>\n",
       "      <td>296.0</td>\n",
       "      <td>209.929078</td>\n",
       "      <td>0.0</td>\n",
       "    </tr>\n",
       "    <tr>\n",
       "      <th>4056</th>\n",
       "      <td>2014-414</td>\n",
       "      <td>20140714</td>\n",
       "      <td>656.0</td>\n",
       "      <td>2014_19</td>\n",
       "      <td>Hamburg</td>\n",
       "      <td>GER</td>\n",
       "      <td>Clay</td>\n",
       "      <td>0</td>\n",
       "      <td>0</td>\n",
       "      <td>1</td>\n",
       "      <td>...</td>\n",
       "      <td>55.56</td>\n",
       "      <td>38.10</td>\n",
       "      <td>38.10</td>\n",
       "      <td>20.79</td>\n",
       "      <td>20.79</td>\n",
       "      <td>3.0</td>\n",
       "      <td>90.0</td>\n",
       "      <td>240.0</td>\n",
       "      <td>181.818182</td>\n",
       "      <td>0.0</td>\n",
       "    </tr>\n",
       "    <tr>\n",
       "      <th>12934</th>\n",
       "      <td>2014-321</td>\n",
       "      <td>20140707</td>\n",
       "      <td>650.0</td>\n",
       "      <td>2014_18</td>\n",
       "      <td>Stuttgart</td>\n",
       "      <td>GER</td>\n",
       "      <td>Clay</td>\n",
       "      <td>0</td>\n",
       "      <td>0</td>\n",
       "      <td>1</td>\n",
       "      <td>...</td>\n",
       "      <td>66.67</td>\n",
       "      <td>23.81</td>\n",
       "      <td>23.81</td>\n",
       "      <td>17.05</td>\n",
       "      <td>17.05</td>\n",
       "      <td>2.0</td>\n",
       "      <td>90.0</td>\n",
       "      <td>240.0</td>\n",
       "      <td>201.680672</td>\n",
       "      <td>0.0</td>\n",
       "    </tr>\n",
       "    <tr>\n",
       "      <th>13273</th>\n",
       "      <td>2014-308</td>\n",
       "      <td>20140428</td>\n",
       "      <td>609.0</td>\n",
       "      <td>2014_13</td>\n",
       "      <td>Munich</td>\n",
       "      <td>GER</td>\n",
       "      <td>Clay</td>\n",
       "      <td>0</td>\n",
       "      <td>0</td>\n",
       "      <td>1</td>\n",
       "      <td>...</td>\n",
       "      <td>14.29</td>\n",
       "      <td>33.33</td>\n",
       "      <td>33.33</td>\n",
       "      <td>10.48</td>\n",
       "      <td>10.48</td>\n",
       "      <td>1.0</td>\n",
       "      <td>90.0</td>\n",
       "      <td>240.0</td>\n",
       "      <td>240.000000</td>\n",
       "      <td>0.0</td>\n",
       "    </tr>\n",
       "    <tr>\n",
       "      <th>13699</th>\n",
       "      <td>2013-414</td>\n",
       "      <td>20130715</td>\n",
       "      <td>403.0</td>\n",
       "      <td>2013_19</td>\n",
       "      <td>Hamburg</td>\n",
       "      <td>GER</td>\n",
       "      <td>Clay</td>\n",
       "      <td>0</td>\n",
       "      <td>0</td>\n",
       "      <td>1</td>\n",
       "      <td>...</td>\n",
       "      <td>33.33</td>\n",
       "      <td>NaN</td>\n",
       "      <td>NaN</td>\n",
       "      <td>NaN</td>\n",
       "      <td>NaN</td>\n",
       "      <td>1.0</td>\n",
       "      <td>90.0</td>\n",
       "      <td>240.0</td>\n",
       "      <td>240.000000</td>\n",
       "      <td>0.0</td>\n",
       "    </tr>\n",
       "  </tbody>\n",
       "</table>\n",
       "<p>17658 rows × 72 columns</p>\n",
       "</div>"
      ],
      "text/plain": [
       "            t_id    t_date  tour_day  tour_wk        t_name t_country t_surf  \\\n",
       "8932   2019-0439  20190715    1908.0  2019_18          Umag       CRO   Clay   \n",
       "133    2019-0439  20190715    1905.0  2019_18          Umag       CRO   Clay   \n",
       "9132   2019-7694  20190520    1885.0  2019_16          Lyon       FRA   Clay   \n",
       "9165   2019-M009  20190513    1881.0  2019_15  Rome Masters       ITA   Clay   \n",
       "369    2019-M009  20190513    1878.0  2019_15  Rome Masters       ITA   Clay   \n",
       "...          ...       ...       ...      ...           ...       ...    ...   \n",
       "4044    2014-414  20140714     657.0  2014_19       Hamburg       GER   Clay   \n",
       "4056    2014-414  20140714     656.0  2014_19       Hamburg       GER   Clay   \n",
       "12934   2014-321  20140707     650.0  2014_18     Stuttgart       GER   Clay   \n",
       "13273   2014-308  20140428     609.0  2014_13        Munich       GER   Clay   \n",
       "13699   2013-414  20130715     403.0  2013_19       Hamburg       GER   Clay   \n",
       "\n",
       "       t_indoor  t_alt  t_lvl  ...  p_bp_convert%  p_bp_convert%_l60  \\\n",
       "8932          0      0      1  ...          33.33              36.19   \n",
       "133           0      0      1  ...          66.67              30.09   \n",
       "9132          0      0      1  ...          20.00              32.62   \n",
       "9165          0      0      2  ...          33.33              32.38   \n",
       "369           0      0      2  ...          57.14              20.00   \n",
       "...         ...    ...    ...  ...            ...                ...   \n",
       "4044          0      0      1  ...          36.36              42.46   \n",
       "4056          0      0      1  ...          55.56              38.10   \n",
       "12934         0      0      1  ...          66.67              23.81   \n",
       "13273         0      0      1  ...          14.29              33.33   \n",
       "13699         0      0      1  ...          33.33                NaN   \n",
       "\n",
       "      p_bp_convert%_l10  p_IWP_l60_decay  p_IWP_l10 p_matches_surf  \\\n",
       "8932              36.19            40.02      40.02            6.0   \n",
       "133               30.09            38.71      38.71            5.0   \n",
       "9132              32.62            32.66      32.66            4.0   \n",
       "9165              32.38            38.40      38.40            3.0   \n",
       "369               20.00            35.78      35.78            2.0   \n",
       "...                 ...              ...        ...            ...   \n",
       "4044              42.46            24.82      24.82            4.0   \n",
       "4056              38.10            20.79      20.79            3.0   \n",
       "12934             23.81            17.05      17.05            2.0   \n",
       "13273             33.33            10.48      10.48            1.0   \n",
       "13699               NaN              NaN        NaN            1.0   \n",
       "\n",
       "       p_tot_time_l6_decay  p_tot_pts_l6_decay p_stamina_adj_fatigue_decay  \\\n",
       "8932                 178.0               362.0                  230.573248   \n",
       "133                   90.0               240.0                  160.000000   \n",
       "9132                  90.0               240.0                  170.212766   \n",
       "9165                 186.0               357.0                  270.454545   \n",
       "369                   90.0               240.0                  201.680672   \n",
       "...                    ...                 ...                         ...   \n",
       "4044                 133.0               296.0                  209.929078   \n",
       "4056                  90.0               240.0                  181.818182   \n",
       "12934                 90.0               240.0                  201.680672   \n",
       "13273                 90.0               240.0                  240.000000   \n",
       "13699                 90.0               240.0                  240.000000   \n",
       "\n",
       "       p_H2H_w  \n",
       "8932       0.0  \n",
       "133        0.0  \n",
       "9132       0.0  \n",
       "9165       0.0  \n",
       "369        0.0  \n",
       "...        ...  \n",
       "4044       0.0  \n",
       "4056       0.0  \n",
       "12934      0.0  \n",
       "13273      0.0  \n",
       "13699      0.0  \n",
       "\n",
       "[17658 rows x 72 columns]"
      ]
     },
     "execution_count": 37,
     "metadata": {},
     "output_type": "execute_result"
    }
   ],
   "source": [
    "df_player1 = df_player1.iloc[::-1]\n",
    "df_player1['p_H2H_w'] = df_player1.groupby(['p_id','opp_id','t_surf'])['m_outcome'].transform(lambda x: x.rolling(window=2000, min_periods = 1).sum().shift(1))\n",
    "df_player1 = df_player1.iloc[::-1]\n",
    "df_player1['p_H2H_w'] = df_player1['p_H2H_w'].fillna(0)\n",
    "df_player1"
   ]
  },
  {
   "cell_type": "code",
   "execution_count": 38,
   "id": "f22846cb",
   "metadata": {},
   "outputs": [],
   "source": [
    "# H2H Past Comparison at the level of pts% won\n",
    "df_player1 = df_player1.iloc[::-1]\n",
    "df_player1['p_H2H_pts_won%'] = df_player1.groupby(['p_id','opp_id','t_surf'])['p_pts_won%'].transform(lambda x: x.rolling(window=2000, min_periods = 1).mean().shift(1))\n",
    "df_player1 = df_player1.iloc[::-1]\n",
    "#df_player1['p_H2H_pts_won%'] = df_player1['p_H2H_pts_won%'].fillna(0)\n",
    "#df_player1"
   ]
  },
  {
   "cell_type": "code",
   "execution_count": null,
   "id": "38a8ae7d",
   "metadata": {},
   "outputs": [],
   "source": [
    "#Save current df prior to another transformation back to by-match organization\n",
    "#df_player2.to_csv('../data/df_player2.csv', index=False)"
   ]
  },
  {
   "cell_type": "markdown",
   "id": "69f10029",
   "metadata": {},
   "source": [
    "converting briefly back to by-match organization so that we can obtain the data we need to compute player \"Strength of Schedule\" at the time of each match to be predicted on, across a range of features. The concept is the same as you might seen in football or soccer analytics. At the time of every match to be predicted on, we have a number of (mostly time-decay weighted) assessments of how the player performed over the last stretch of time (60 matches) on the same surface as the match to be played. However, we want to normalize these predictive features by the aggregate strength of the schedule of opponents they faced in the stretch over which those features were generated. For example, winning 60% of your serve points against a schedule of opponents who had historically yielded 65% of opponent serve points (ie, their own return points) is not as impressive as winning 60% of your serve points against a schedule of opponents who had historically yielded 55% of opponent serve points (ie, their own return points)."
   ]
  },
  {
   "cell_type": "code",
   "execution_count": 39,
   "id": "dee7c353",
   "metadata": {},
   "outputs": [],
   "source": [
    "df_winners2 = df_player1[df_player1['m_outcome'] == 1]\n",
    "df_losers2 = df_player1[df_player1['m_outcome'] == 0]\n",
    "df_match2 = df_winners2.merge(df_losers2, on='m_num', how = 'left')"
   ]
  },
  {
   "cell_type": "code",
   "execution_count": null,
   "id": "cf231e47",
   "metadata": {},
   "outputs": [],
   "source": [
    "#Save current df prior to another transformation back to by-match organization\n",
    "df_match2.to_csv('../data/df_match2.csv', index=False)"
   ]
  },
  {
   "cell_type": "code",
   "execution_count": null,
   "id": "2fe71588",
   "metadata": {},
   "outputs": [],
   "source": [
    "df_match2.info()"
   ]
  },
  {
   "cell_type": "code",
   "execution_count": 40,
   "id": "e860eb08",
   "metadata": {},
   "outputs": [],
   "source": [
    "#Back to by-player organization, picking up the reciprocal columns per player needed to make SOS calculations\n",
    "\n",
    "# Dropping other player columns for winners\n",
    "df_winners2 = df_match2.drop([\"p_svpt_x\", \"p_1stWon_x\", \"p_2ndWon_x\", \"p_SvGms_x\", \"p_ace_x\", \"p_bpSaved_x\", \"p_bpFaced_x\", \"opp_svpt_x\", \"opp_ace_x\", \"opp_bpSaved_x\", \"opp_bpFaced_x\", \"m_outcome_x\", \"t_id_y\", \"t_date_y\", \"tour_day_y\", \"tour_wk_y\", \"t_name_y\", \"t_country_y\", \"t_surf_y\", \"t_indoor_y\", \"t_alt_y\", \"t_lvl_y\", \"t_draw_size_y\", \"t_round_y\", \"t_rd_num_y\", \"m_best_of_y\", \"m_score_y\", \"m_time(m)_y\", \"p_id_y\", \"p_name_y\", \"p_rank_y\", \"p_rank_pts_y\", \"p_country_y\", \"p_ent_y\", \"p_hd_y\", \"p_ht_y\", \"p_age_y\", \"p_svpt_y\", \"p_1stWon_y\", \"p_2ndWon_y\", \"p_SvGms_y\", \"p_ace_y\", \"p_bpSaved_y\", \"p_bpFaced_y\", \"opp_id_y\", \"opp_svpt_y\", \"opp_ace_y\", \"opp_bpSaved_y\", \"opp_bpFaced_y\", \"p_AVG_C_IP_NV_y\", \"p_PS_O_IP_NV_y\", \"p_PS_C_IP_NV_y\", \"p_pts_won%_y\", \"p_sv_pts_won%_y\", \"p_ret_pts_won%_y\", \"m_tot_pts_y\", \"m_outcome_y\", \"p_ace%_y\", \"p_aced%_y\", \"p_bp_save%_y\", \"p_bp_convert%_y\", \"p_matches_surf_y\", \"p_tot_time_l6_decay_y\", \"p_tot_pts_l6_decay_y\", \"p_stamina_adj_fatigue_decay_y\", \"p_H2H_w_y\", \"p_H2H_pts_won%_y\"], axis = 1)\n",
    "df_winners2[\"m_outcome\"] = 1"
   ]
  },
  {
   "cell_type": "code",
   "execution_count": null,
   "id": "bc30f56f",
   "metadata": {},
   "outputs": [],
   "source": [
    "df_winners2.info()"
   ]
  },
  {
   "cell_type": "code",
   "execution_count": 41,
   "id": "069b8165",
   "metadata": {},
   "outputs": [],
   "source": [
    "#Renaming columns to remove winner-loser descriptions so we can re-concatenate winners and losers\n",
    "df_winners2 = df_winners2.set_axis([\"t_id\", \"t_date\", \"tour_day\", \"tour_wk\", \"t_name\", \"t_country\", \"t_surf\", \"t_indoor\", \"t_alt\", \"t_lvl\", \"t_draw_size\", \"m_num\", \"t_round\", \"t_rd_num\", \"m_best_of\", \"m_score\",\"m_time(m)\", \"p_id\", \"p_name\",\"p_rank\", \"p_rank_pts\", \"p_country\", \"p_ent\", \"p_hd\", \"p_ht\", \"p_age\", \"opp_id\", \"p_AVG_C_IP_NV\", \"p_PS_O_IP_NV\", \"p_PS_C_IP_NV\", \"p_pts_won%\", \"p_sv_pts_won%\", \"p_ret_pts_won%\", \"m_tot_pts\", \"p_pts_won%_l60_decay\", \"p_pts_won%_l10\", \"p_pts_won%_l60_decay_IO\", \"p_sv_pts_won%_l60_decay\", \"p_sv_pts_won%_l10\", \"p_ret_pts_won%_l60_decay\", \"p_ret_pts_won%_l10\", \"p_ace%\", \"p_ace%_l60_decay\", \"p_ace%_l10\", \"p_aced%\", \"p_aced%_l60_decay\", \"p_aced%_l10\", \"p_bp_save%\", \"p_bp_save%_l60\", \"p_bp_save%_l10\", \"p_bp_convert%\", \"p_bp_convert%_l60\", \"p_bp_convert%_l10\", \"p_IWP_l60_decay\", \"p_IWP_l10\", \"p_matches_surf\", \"p_tot_time_l6_decay\", \"p_tot_pts_l6_decay\", \"p_stamina_adj_fatigue_decay\", \"p_H2H_w\", \"p_H2H_pts_won%\", \"p_opp_pts_won%_l60_decay\", \"p_opp_pts_won%_l10\", \"p_opp_pts_won%_l60_decay_IO\", \"p_opp_sv_pts_won%_l60_decay\", \"p_opp_sv_pts_won%_l10\", \"p_opp_ret_pts_won%_l60_decay\", \"p_opp_ret_pts_won%_l10\", \"p_opp_ace%_l60_decay\", \"p_opp_ace%_l10\", \"p_opp_aced%_l60_decay\", \"p_opp_aced%_l10\", \"p_opp_bp_save%_l60\", \"p_opp_bp_save%_l10\", \"p_opp_bp_convert%_l60\", \"p_opp_bp_convert%_l10\", \"p_opp_IWP_l60_decay\", \"p_opp_IWP_l10\", \"m_outcome\"], axis=1)"
   ]
  },
  {
   "cell_type": "code",
   "execution_count": 42,
   "id": "3313d596",
   "metadata": {},
   "outputs": [],
   "source": [
    "#Dropping other player columns for losers\n",
    "df_losers2 = df_match2.drop([\"p_id_x\", \"p_name_x\", \"p_rank_x\", \"p_rank_pts_x\", \"p_country_x\", \"p_ent_x\", \"p_hd_x\", \"p_ht_x\", \"p_age_x\", \"p_svpt_x\", \"p_1stWon_x\", \"p_2ndWon_x\", \"p_SvGms_x\", \"p_ace_x\", \"p_bpSaved_x\", \"p_bpFaced_x\", \"opp_id_x\", \"opp_svpt_x\", \"opp_ace_x\", \"opp_bpSaved_x\", \"opp_bpFaced_x\", \"p_AVG_C_IP_NV_x\", \"p_PS_O_IP_NV_x\", \"p_PS_C_IP_NV_x\", \"p_pts_won%_x\", \"p_sv_pts_won%_x\", \"p_ret_pts_won%_x\", \"m_outcome_x\", \"p_ace%_x\", \"p_aced%_x\", \"p_bp_save%_x\", \"p_bp_convert%_x\", \"p_matches_surf_x\", \"p_tot_time_l6_decay_x\", \"p_tot_pts_l6_decay_x\", \"p_stamina_adj_fatigue_decay_x\", \"p_H2H_w_x\", \"p_H2H_pts_won%_x\", \"t_id_y\", \"t_date_y\", \"tour_day_y\", \"tour_wk_y\", \"t_name_y\", \"t_country_y\", \"t_surf_y\", \"t_indoor_y\", \"t_alt_y\", \"t_lvl_y\", \"t_draw_size_y\", \"t_round_y\", \"t_rd_num_y\", \"m_best_of_y\", \"m_score_y\", \"m_time(m)_y\", \"p_svpt_y\", \"p_1stWon_y\", \"p_2ndWon_y\", \"p_SvGms_y\", \"p_ace_y\", \"p_bpSaved_y\", \"p_bpFaced_y\", \"opp_svpt_y\", \"opp_ace_y\", \"opp_bpSaved_y\", \"opp_bpFaced_y\", \"m_tot_pts_y\", \"m_outcome_y\"], axis = 1)\n",
    "df_losers2[\"m_outcome\"] = 0"
   ]
  },
  {
   "cell_type": "code",
   "execution_count": null,
   "id": "50e834eb",
   "metadata": {},
   "outputs": [],
   "source": [
    "df_losers2.info()"
   ]
  },
  {
   "cell_type": "code",
   "execution_count": 43,
   "id": "4ddf59f8",
   "metadata": {},
   "outputs": [],
   "source": [
    "#Renaming columns to remove winner-loser descriptions so we can re-concatenate winners and losers\n",
    "df_losers2 = df_losers2.set_axis([\"t_id\", \"t_date\", \"tour_day\", \"tour_wk\", \"t_name\", \"t_country\", \"t_surf\", \"t_indoor\", \"t_alt\", \"t_lvl\", \"t_draw_size\", \"m_num\", \"t_round\", \"t_rd_num\", \"m_best_of\", \"m_score\",\"m_time(m)\", \"m_tot_pts\", \"p_opp_pts_won%_l60_decay\", \"p_opp_pts_won%_l10\", \"p_opp_pts_won%_l60_decay_IO\", \"p_opp_sv_pts_won%_l60_decay\", \"p_opp_sv_pts_won%_l10\", \"p_opp_ret_pts_won%_l60_decay\", \"p_opp_ret_pts_won%_l10\", \"p_opp_ace%_l60_decay\", \"p_opp_ace%_l10\", \"p_opp_aced%_l60_decay\", \"p_opp_aced%_l10\", \"p_opp_bp_save%_l60\", \"p_opp_bp_save%_l10\", \"p_opp_bp_convert%_l60\", \"p_opp_bp_convert%_l10\", \"p_opp_IWP_l60_decay\", \"p_opp_IWP_l10\", \"p_id\", \"p_name\",\"p_rank\", \"p_rank_pts\", \"p_country\", \"p_ent\", \"p_hd\", \"p_ht\", \"p_age\", \"opp_id\", \"p_AVG_C_IP_NV\", \"p_PS_O_IP_NV\", \"p_PS_C_IP_NV\", \"p_pts_won%\", \"p_sv_pts_won%\", \"p_ret_pts_won%\", \"p_pts_won%_l60_decay\", \"p_pts_won%_l10\", \"p_pts_won%_l60_decay_IO\", \"p_sv_pts_won%_l60_decay\", \"p_sv_pts_won%_l10\", \"p_ret_pts_won%_l60_decay\", \"p_ret_pts_won%_l10\", \"p_ace%\", \"p_ace%_l60_decay\", \"p_ace%_l10\", \"p_aced%\", \"p_aced%_l60_decay\", \"p_aced%_l10\", \"p_bp_save%\", \"p_bp_save%_l60\", \"p_bp_save%_l10\", \"p_bp_convert%\", \"p_bp_convert%_l60\", \"p_bp_convert%_l10\", \"p_IWP_l60_decay\", \"p_IWP_l10\", \"p_matches_surf\", \"p_tot_time_l6_decay\", \"p_tot_pts_l6_decay\", \"p_stamina_adj_fatigue_decay\", \"p_H2H_w\", \"p_H2H_pts_won%\", \"m_outcome\"], axis=1)"
   ]
  },
  {
   "cell_type": "code",
   "execution_count": null,
   "id": "0e999580",
   "metadata": {},
   "outputs": [],
   "source": [
    "df_losers2.info()"
   ]
  },
  {
   "cell_type": "code",
   "execution_count": 44,
   "id": "784191fd",
   "metadata": {},
   "outputs": [],
   "source": [
    "#Re-merge data, but now with no separate columns for winners and losers \n",
    "df_player2 = pd.concat([df_winners2, df_losers2], ignore_index=True)"
   ]
  },
  {
   "cell_type": "code",
   "execution_count": null,
   "id": "1605d779",
   "metadata": {},
   "outputs": [],
   "source": [
    "df_player2.info()"
   ]
  },
  {
   "cell_type": "code",
   "execution_count": 45,
   "id": "364dde7c",
   "metadata": {},
   "outputs": [],
   "source": [
    "#Reorder columns and sort in useful way visually \n",
    "df_player2 = df_player2[[\"t_id\", \"t_date\", \"tour_day\", \"tour_wk\", \"t_name\", \"t_country\", \"t_surf\", \"t_indoor\", \"t_alt\", \"t_lvl\", \"t_draw_size\", \"t_round\", \"t_rd_num\", \"m_num\", \"m_best_of\", \"m_outcome\", \"m_score\",\"m_time(m)\", \"m_tot_pts\", \"p_id\", \"p_name\", \"opp_id\", \"p_H2H_w\", \"p_H2H_pts_won%\", \"p_rank\", \"p_rank_pts\", \"p_country\", \"p_ent\", \"p_hd\", \"p_ht\", \"p_age\", \"p_matches_surf\", \"p_pts_won%\", \"p_pts_won%_l60_decay\", \"p_pts_won%_l60_decay_IO\", \"p_pts_won%_l10\", \"p_sv_pts_won%\", \"p_sv_pts_won%_l60_decay\", \"p_sv_pts_won%_l10\", \"p_ret_pts_won%\", \"p_ret_pts_won%_l60_decay\", \"p_ret_pts_won%_l10\", \"p_ace%\", \"p_ace%_l60_decay\", \"p_ace%_l10\", \"p_aced%\", \"p_aced%_l60_decay\", \"p_aced%_l10\", \"p_bp_save%\", \"p_bp_save%_l60\", \"p_bp_save%_l10\", \"p_bp_convert%\", \"p_bp_convert%_l60\", \"p_bp_convert%_l10\", \"p_tot_time_l6_decay\", \"p_tot_pts_l6_decay\", \"p_stamina_adj_fatigue_decay\", \"p_AVG_C_IP_NV\", \"p_PS_O_IP_NV\", \"p_PS_C_IP_NV\", \"p_IWP_l60_decay\", \"p_IWP_l10\", \"p_opp_pts_won%_l60_decay\", \"p_opp_pts_won%_l60_decay_IO\", \"p_opp_pts_won%_l10\", \"p_opp_sv_pts_won%_l60_decay\", \"p_opp_sv_pts_won%_l10\", \"p_opp_ret_pts_won%_l60_decay\", \"p_opp_ret_pts_won%_l10\", \"p_opp_ace%_l60_decay\", \"p_opp_ace%_l10\", \"p_opp_aced%_l60_decay\", \"p_opp_aced%_l10\", \"p_opp_bp_save%_l60\", \"p_opp_bp_save%_l10\", \"p_opp_bp_convert%_l60\", \"p_opp_bp_convert%_l10\", \"p_opp_IWP_l60_decay\", \"p_opp_IWP_l10\"]]\n",
    "df_player2 = df_player2.sort_values(by=['p_id','tour_wk','t_rd_num'], ascending = False)"
   ]
  },
  {
   "cell_type": "code",
   "execution_count": null,
   "id": "a16cc6d1",
   "metadata": {},
   "outputs": [],
   "source": [
    "#df_player2.head(20)"
   ]
  },
  {
   "cell_type": "code",
   "execution_count": null,
   "id": "c08d8f3e",
   "metadata": {},
   "outputs": [],
   "source": [
    "df_player2.info()"
   ]
  },
  {
   "cell_type": "code",
   "execution_count": 46,
   "id": "1681c30f",
   "metadata": {},
   "outputs": [],
   "source": [
    "#Save to review\n",
    "df_player2.to_csv('../data/df_player2.csv', index=False)"
   ]
  },
  {
   "cell_type": "markdown",
   "id": "29d3a5ae",
   "metadata": {},
   "source": [
    "### Strength of Schedule Calculation and Adjustment for Predictive Features"
   ]
  },
  {
   "cell_type": "markdown",
   "id": "87ad96f3",
   "metadata": {},
   "source": [
    "For a given player, time decay-weighted (for most features) performance over their most recent (up to) 60 matches on clay prior  to the match being predicted is adjusted by how much above or below the sample mean performance their roster of opponents during that stretch had THEMSELVES performed over THEIR last 60 matches heading into their match with the player of interest. \n",
    "\n",
    "This Strength of Schedule adjustment is common practice in team sports, but tennis requires much more computation because it's relative to each match in a typically comparatively very large sample per player (in NFL, for example, you only need to re-compute 16 times per season)."
   ]
  },
  {
   "cell_type": "code",
   "execution_count": 47,
   "id": "f3527647",
   "metadata": {},
   "outputs": [],
   "source": [
    "#Calculates % total points won 'Strength of Schedule' for the past 60 opponents of a given player in a given match.\n",
    "#Uses each opponent's decay-weighted last 60 match performance prior to facing the player of interest (surface-specific)\n",
    "#With this, we can obtain the \"expected\" performance over the last 60 matches for the player of interest, then can SOS adjust\n",
    "#that player's performance over their last 60 on the surface to reflect how much above or below an average schedule they faced (see calculations below)\n",
    "\n",
    "df_player2 = df_player2.iloc[::-1]\n",
    "\n",
    "df_player2['p_pts_won%_SOS_1to10'] = df_player2.groupby(['p_id','t_surf'])['p_opp_pts_won%_l60_decay'].transform(lambda x: x.rolling(window=10, min_periods = 1).mean().round(2).shift(1))\n",
    "\n",
    "df_player2['p_pts_won%_SOS_11to20'] = df_player2.groupby(['p_id','t_surf'])['p_opp_pts_won%_l60_decay'].transform(lambda x: x.rolling(window=10, min_periods = 3).mean().round(2).shift(11))\n",
    "df_player2['p_pts_won%_SOS_11to20'] = df_player2['p_pts_won%_SOS_11to20'].fillna(df_player2['p_pts_won%_SOS_1to10'])\n",
    "\n",
    "df_player2['p_pts_won%_SOS_21to30'] = df_player2.groupby(['p_id','t_surf'])['p_opp_pts_won%_l60_decay'].transform(lambda x: x.rolling(window=10, min_periods = 3).mean().round(2).shift(21))\n",
    "df_player2['p_pts_won%_SOS_21to30'] = df_player2['p_pts_won%_SOS_21to30'].fillna(df_player2['p_pts_won%_SOS_11to20'])\n",
    "\n",
    "df_player2['p_pts_won%_SOS_31to40'] = df_player2.groupby(['p_id','t_surf'])['p_opp_pts_won%_l60_decay'].transform(lambda x: x.rolling(window=10, min_periods = 3).mean().round(2).shift(31))\n",
    "df_player2['p_pts_won%_SOS_31to40'] = df_player2['p_pts_won%_SOS_31to40'].fillna(df_player2['p_pts_won%_SOS_21to30'])\n",
    "\n",
    "df_player2['p_pts_won%_SOS_41to50'] = df_player2.groupby(['p_id','t_surf'])['p_opp_pts_won%_l60_decay'].transform(lambda x: x.rolling(window=10, min_periods = 3).mean().round(2).shift(41))\n",
    "df_player2['p_pts_won%_SOS_41to50'] = df_player2['p_pts_won%_SOS_41to50'].fillna(df_player2['p_pts_won%_SOS_31to40'])\n",
    "\n",
    "df_player2['p_pts_won%_SOS_51to60'] = df_player2.groupby(['p_id','t_surf'])['p_opp_pts_won%_l60_decay'].transform(lambda x: x.rolling(window=10, min_periods = 3).mean().round(2).shift(51))\n",
    "df_player2['p_pts_won%_SOS_51to60'] = df_player2['p_pts_won%_SOS_51to60'].fillna(df_player2['p_pts_won%_SOS_41to50'])\n",
    "\n",
    "df_player2['p_pts_won%_SOS_61to70'] = df_player2.groupby(['p_id','t_surf'])['p_opp_pts_won%_l60_decay'].transform(lambda x: x.rolling(window=10, min_periods = 3).mean().round(2).shift(61))\n",
    "df_player2['p_pts_won%_SOS_61to70'] = df_player2['p_pts_won%_SOS_61to70'].fillna(df_player2['p_pts_won%_SOS_51to60'])\n",
    "\n",
    "#df_player2['p_pts_won%_SOS_71to80'] = df_player2.groupby(['p_id','t_surf'])['p_opp_pts_won%_l60_decay'].transform(lambda x: x.rolling(window=10, min_periods = 3).mean().round(2).shift(51))\n",
    "#df_player2['p_pts_won%_SOS_71to80'] = df_player2['p_pts_won%_SOS_71to80'].fillna(df_player2['p_pts_won%_SOS_61to70'])\n",
    "\n",
    "df_player2 = df_player2.iloc[::-1]\n"
   ]
  },
  {
   "cell_type": "code",
   "execution_count": 48,
   "id": "ee7e9fc5",
   "metadata": {},
   "outputs": [],
   "source": [
    "# Decay weights the SOS calculation at each match to be predicted on, and frames as expected points% given up by player opponents over the last 60 surface-specific matches (we will contrast directly to the player's ACTUAL performance over the last 70 prior to that match to be predict\n",
    "# Core version\n",
    "\n",
    "df_player2[\"p_expected_opp_yield_pts%\"] = (100 - (((df_player2['p_pts_won%_SOS_1to10'] * 14) + (df_player2['p_pts_won%_SOS_11to20'] * 8) + (df_player2['p_pts_won%_SOS_21to30'] * 5) \n",
    "+ (df_player2['p_pts_won%_SOS_31to40'] * 3) + (df_player2['p_pts_won%_SOS_41to50'] * 2) + (df_player2['p_pts_won%_SOS_51to60'] * 1))/33)).round(2)\n",
    "\n",
    "# Drops transient columns\n",
    "df_player2.drop([\"p_pts_won%_SOS_11to20\",\"p_pts_won%_SOS_21to30\",\"p_pts_won%_SOS_31to40\",\"p_pts_won%_SOS_41to50\",\"p_pts_won%_SOS_51to60\"],axis=1, inplace=True)"
   ]
  },
  {
   "cell_type": "code",
   "execution_count": 49,
   "id": "07ac37be",
   "metadata": {},
   "outputs": [
    {
     "data": {
      "text/plain": [
       "49.75878188626242"
      ]
     },
     "execution_count": 49,
     "metadata": {},
     "output_type": "execute_result"
    }
   ],
   "source": [
    "# Calculates mean opponent performance per surface. We will use these to factor player l60 performance based on opponent \n",
    "# l60 performance (surface-specific) prior to the match of interest relative to the surface-specific sample mean\n",
    "\n",
    "mean_clay_SOS1 = df_player2.loc[df_player2['t_surf'] == \"Clay\", 'p_opp_pts_won%_l60_decay'].mean()\n",
    "mean_clay_SOS1 = 100 - mean_clay_SOS1 #we want in terms of pct pts the field ALLOWS on average\n",
    "#mean_hard_SOS1 = df_player2.loc[df_player2['t_surf'] == \"Hard\", 'p_opp_pts_won%_l60_decay'].mean()\n",
    "#mean_hard_SOS1 = 100 - mean_hard_SOS1 #we want in terms of pct pts the field ALLOWS on average\n",
    "mean_clay_SOS1"
   ]
  },
  {
   "cell_type": "code",
   "execution_count": 51,
   "id": "3e02649c",
   "metadata": {},
   "outputs": [],
   "source": [
    "# Puts together the above- factors the player's actual performance over the last 60 by schedule of opponents' aggregrate performance over THEIR l60 prior to when they faced the player.\n",
    "# Adjustment proportional to opponents' deviation from field mean performs better than various boosted or blunted versions attempted \n",
    "df_player2.loc[(df_player2[\"t_surf\"] == \"Clay\"), \"p_SOS_adj_pts_won%_l60_decay\"] = ((df_player2[\"p_pts_won%_l60_decay\"])*(mean_clay_SOS1/df_player2[\"p_expected_opp_yield_pts%\"])).round(2)          \n",
    "#df_player2.loc[(df_player2[\"t_surf\"] == \"Hard\"), \"p_SOS_adj_pts_won%_l60_decay\"] = ((df_player2[\"p_pts_won%_l60_decay\"])*(mean_hard_SOS1/df_player2[\"p_expected_opp_yield_pts%\"])).round(2)\n",
    "\n",
    "df_player2.loc[(df_player2[\"p_SOS_adj_pts_won%_l60_decay\"] > 100), \"p_SOS_adj_pts_won%_l60_decay\"] = df_player2[\"p_SOS_adj_pts_won%_l60_decay\"].mean() #deals with a few spuriously high values when there's only one previous match (won't impact modelling at all, as these matches will be filtered out)\n",
    "\n",
    "#df_player2.loc[(df_player2[\"t_surf\"] == \"Clay\"), \"p_SOS_adj_pts_won%_l60_decay\"] = ((df_player2[\"p_pts_won%_l60_decay\"])*(np.cbrt(mean_clay_SOS1/df_player2[\"p_expected_opp_yield_pts%\"]))).round(2)          \n",
    "#df_player2.loc[(df_player2[\"t_surf\"] == \"Hard\"), \"p_SOS_adj_pts_won%_l60_decay\"] = ((df_player2[\"p_pts_won%_l60_decay\"])*(np.cbrt(mean_hard_SOS1/df_player2[\"p_expected_opp_yield_pts%\"]))).round(2)\n",
    "\n",
    "#df_player2.loc[(df_player2[\"p_SOS_adj_pts_won%_l60_decay\"] > df_player2[\"p_pts_won%_l60_decay\"]), \"p_SOS_adj_pts_won%_l60_decay\"] = df_player2[\"p_SOS_adj_pts_won%_l60_decay\"] + 0.25 \n",
    "#df_player2.loc[(df_player2[\"p_SOS_adj_pts_won%_l60_decay\"] < df_player2[\"p_pts_won%_l60_decay\"]), \"p_SOS_adj_pts_won%_l60_decay\"] = df_player2[\"p_SOS_adj_pts_won%_l60_decay\"] - 0.25"
   ]
  },
  {
   "cell_type": "code",
   "execution_count": 52,
   "id": "c54237f6",
   "metadata": {},
   "outputs": [],
   "source": [
    "#Calculates % total points won 'Strength of Schedule' for the past 60 opponents of a given player in a given match\n",
    "#This version respects INDOOR AND OUTDOOR distinction\n",
    "#Uses each opponent's decay-weighted last 60 match performance prior to facing the player of interest (surface-specific)\n",
    "#With this, we can obtain the \"expected\" performance over the last 60 matches for the player of interest, then can SOS adjust\n",
    "#that player's performance over their last 60 on the surface to reflect how much above or below an average schedule they faced (see calculations below)\n",
    "\n",
    "df_player2 = df_player2.iloc[::-1]\n",
    "\n",
    "df_player2['p_pts_won%_SOS_1to10_IO'] = df_player2.groupby(['p_id','t_surf','t_indoor'])['p_opp_pts_won%_l60_decay_IO'].transform(lambda x: x.rolling(window=10, min_periods = 1).mean().round(2).shift(1))\n",
    "\n",
    "df_player2['p_pts_won%_SOS_11to20_IO'] = df_player2.groupby(['p_id','t_surf','t_indoor'])['p_opp_pts_won%_l60_decay_IO'].transform(lambda x: x.rolling(window=10, min_periods = 3).mean().round(2).shift(11))\n",
    "df_player2['p_pts_won%_SOS_11to20_IO'] = df_player2['p_pts_won%_SOS_11to20_IO'].fillna(df_player2['p_pts_won%_SOS_1to10_IO'])\n",
    "\n",
    "df_player2['p_pts_won%_SOS_21to30_IO'] = df_player2.groupby(['p_id','t_surf','t_indoor'])['p_opp_pts_won%_l60_decay_IO'].transform(lambda x: x.rolling(window=10, min_periods = 3).mean().round(2).shift(21))\n",
    "df_player2['p_pts_won%_SOS_21to30_IO'] = df_player2['p_pts_won%_SOS_21to30_IO'].fillna(df_player2['p_pts_won%_SOS_11to20_IO'])\n",
    "\n",
    "df_player2['p_pts_won%_SOS_31to40_IO'] = df_player2.groupby(['p_id','t_surf','t_indoor'])['p_opp_pts_won%_l60_decay_IO'].transform(lambda x: x.rolling(window=10, min_periods = 3).mean().round(2).shift(31))\n",
    "df_player2['p_pts_won%_SOS_31to40_IO'] = df_player2['p_pts_won%_SOS_31to40_IO'].fillna(df_player2['p_pts_won%_SOS_21to30_IO'])\n",
    "\n",
    "df_player2['p_pts_won%_SOS_41to50_IO'] = df_player2.groupby(['p_id','t_surf','t_indoor'])['p_opp_pts_won%_l60_decay_IO'].transform(lambda x: x.rolling(window=10, min_periods = 3).mean().round(2).shift(41))\n",
    "df_player2['p_pts_won%_SOS_41to50_IO'] = df_player2['p_pts_won%_SOS_41to50_IO'].fillna(df_player2['p_pts_won%_SOS_31to40_IO'])\n",
    "\n",
    "df_player2['p_pts_won%_SOS_51to60_IO'] = df_player2.groupby(['p_id','t_surf','t_indoor'])['p_opp_pts_won%_l60_decay_IO'].transform(lambda x: x.rolling(window=10, min_periods = 3).mean().round(2).shift(51))\n",
    "df_player2['p_pts_won%_SOS_51to60_IO'] = df_player2['p_pts_won%_SOS_51to60_IO'].fillna(df_player2['p_pts_won%_SOS_41to50_IO'])\n",
    "\n",
    "#df_player2['p_pts_won%_SOS_61to70_IO'] = df_player2.groupby(['p_id','t_surf','t_indoor'])['p_opp_pts_won%_l60_decay_IO'].transform(lambda x: x.rolling(window=10, min_periods = 3).mean().round(2).shift(61))\n",
    "#df_player2['p_pts_won%_SOS_61to70_IO'] = df_player2['p_pts_won%_SOS_61to70_IO'].fillna(df_player2['p_pts_won%_SOS_51to60_IO'])\n",
    "\n",
    "#df_player2['p_pts_won%_SOS_71to80'] = df_player2.groupby(['p_id','t_surf'])['p_opp_pts_won%_l60_decay'].transform(lambda x: x.rolling(window=10, min_periods = 3).mean().round(2).shift(51))\n",
    "#df_player2['p_pts_won%_SOS_71to80'] = df_player2['p_pts_won%_SOS_71to80'].fillna(df_player2['p_pts_won%_SOS_61to70'])\n",
    "\n",
    "df_player2 = df_player2.iloc[::-1]"
   ]
  },
  {
   "cell_type": "code",
   "execution_count": 53,
   "id": "7e16bb96",
   "metadata": {},
   "outputs": [],
   "source": [
    "# Decay weights the SOS calculation at each match to be predicted on, and frames as expected points% given up by player opponents over the last 60 surface-specific matches (we will contrast directly to the player's ACTUAL performance over the last 60 prior to that match to be predicted on. \n",
    "#This version respects INDOOR AND OUTDOOR distinction\n",
    "\n",
    "df_player2[\"p_expected_opp_yield_pts%_IO\"] = (100 - (((df_player2['p_pts_won%_SOS_1to10_IO'] * 14) + (df_player2['p_pts_won%_SOS_11to20_IO'] * 8) + (df_player2['p_pts_won%_SOS_21to30_IO'] * 5) \n",
    "+ (df_player2['p_pts_won%_SOS_31to40_IO'] * 3) + (df_player2['p_pts_won%_SOS_41to50_IO'] * 2) + (df_player2['p_pts_won%_SOS_51to60_IO'] * 1))/33)).round(2)\n",
    "\n",
    "# Drops transient columns\n",
    "df_player2.drop([\"p_pts_won%_SOS_1to10_IO\", \"p_pts_won%_SOS_11to20_IO\",\"p_pts_won%_SOS_21to30_IO\",\"p_pts_won%_SOS_31to40_IO\",\"p_pts_won%_SOS_41to50_IO\",\"p_pts_won%_SOS_51to60_IO\"],axis=1, inplace=True)"
   ]
  },
  {
   "cell_type": "code",
   "execution_count": 54,
   "id": "f42439a7",
   "metadata": {},
   "outputs": [
    {
     "data": {
      "text/plain": [
       "(49.744519513991136, 48.72746388443018)"
      ]
     },
     "execution_count": 54,
     "metadata": {},
     "output_type": "execute_result"
    }
   ],
   "source": [
    "# Calculates mean opponent performance per surface. We will use these to factor player l60 performance based on opponent \n",
    "# l60 performance (surface-specific) prior to the match of interest relative to the surface-specific sample mean\n",
    "#This version respects INDOOR AND OUTDOOR distinction\n",
    "\n",
    "mean_clay_outdoor_SOS1 = df_player2.loc[(df_player2['t_surf'] == \"Clay\") & (df_player2['t_indoor'] == 0), 'p_opp_pts_won%_l60_decay_IO'].mean()\n",
    "mean_clay_outdoor_SOS1 = 100 - mean_clay_outdoor_SOS1 #we want in terms of pct pts the field ALLOWS on average\n",
    "mean_clay_indoor_SOS1 = df_player2.loc[(df_player2['t_surf'] == \"Clay\") & (df_player2['t_indoor'] == 1), 'p_opp_pts_won%_l60_decay_IO'].mean()\n",
    "mean_clay_indoor_SOS1 = 100 - mean_clay_indoor_SOS1 #we want in terms of pct pts the field ALLOWS on average\n",
    "\n",
    "#mean_hard_outdoor_SOS1 = df_player2.loc[(df_player2['t_surf'] == \"Hard\") & (df_player2['t_indoor'] == 0), 'p_opp_pts_won%_l60_decay_IO'].mean()\n",
    "#mean_hard_outdoor_SOS1 = 100 - mean_hard_outdoor_SOS1 #we want in terms of pct pts the field ALLOWS on average\n",
    "#mean_hard_indoor_SOS1 = df_player2.loc[(df_player2['t_surf'] == \"Hard\") & (df_player2['t_indoor'] == 1), 'p_opp_pts_won%_l60_decay_IO'].mean()\n",
    "#mean_hard_indoor_SOS1 = 100 - mean_hard_indoor_SOS1 #we want in terms of pct pts the field ALLOWS on average\n",
    "\n",
    "mean_clay_outdoor_SOS1, mean_clay_indoor_SOS1"
   ]
  },
  {
   "cell_type": "code",
   "execution_count": 55,
   "id": "990d4d6b",
   "metadata": {},
   "outputs": [],
   "source": [
    "# Puts together the above- factors the player's actual performance over the last 60 by schedule of opponents' aggregrate performance over THEIR l60 prior to when they faced the player.\n",
    "# Adjustment proportional to opponents' deviation from field mean performs better than various boosted or blunted versions attempted \n",
    "#This version respects INDOOR AND OUTDOOR distinction\n",
    "\n",
    "df_player2.loc[(df_player2[\"t_surf\"] == \"Clay\") & (df_player2['t_indoor'] == 0), \"p_SOS_adj_pts_won%_l60_decay_IO\"] = ((df_player2[\"p_pts_won%_l60_decay_IO\"])*(mean_clay_outdoor_SOS1/df_player2[\"p_expected_opp_yield_pts%_IO\"])).round(2)          \n",
    "df_player2.loc[(df_player2[\"t_surf\"] == \"Clay\") & (df_player2['t_indoor'] == 1), \"p_SOS_adj_pts_won%_l60_decay_IO\"] = ((df_player2[\"p_pts_won%_l60_decay_IO\"])*(mean_clay_indoor_SOS1/df_player2[\"p_expected_opp_yield_pts%_IO\"])).round(2)          \n",
    "#df_player2.loc[(df_player2[\"t_surf\"] == \"Hard\") & (df_player2['t_indoor'] == 0), \"p_SOS_adj_pts_won%_l60_decay_IO\"] = ((df_player2[\"p_pts_won%_l60_decay_IO\"])*(mean_hard_outdoor_SOS1/df_player2[\"p_expected_opp_yield_pts%_IO\"])).round(2)          \n",
    "#df_player2.loc[(df_player2[\"t_surf\"] == \"Hard\") & (df_player2['t_indoor'] == 1), \"p_SOS_adj_pts_won%_l60_decay_IO\"] = ((df_player2[\"p_pts_won%_l60_decay_IO\"])*(mean_hard_indoor_SOS1/df_player2[\"p_expected_opp_yield_pts%_IO\"])).round(2)          \n",
    "\n",
    "df_player2.loc[(df_player2[\"p_SOS_adj_pts_won%_l60_decay_IO\"] > 100), \"p_SOS_adj_pts_won%_l60_decay_IO\"] = df_player2[\"p_SOS_adj_pts_won%_l60_decay_IO\"].mean() #deals with a few spuriously high values when there's only one previous match (won't impact modelling at all, as these matches will be filtered out)\n"
   ]
  },
  {
   "cell_type": "code",
   "execution_count": 56,
   "id": "43dcfd5d",
   "metadata": {},
   "outputs": [],
   "source": [
    "# New SOS-adjusted last 60 points won% feature weighting overall surface-specific performance and indoor or outdoor-specific performance\n",
    "\n",
    "df_player2[\"p_SOS_adj_pts_won%_l60_decay_IO_weighted\"] = (((df_player2[\"p_SOS_adj_pts_won%_l60_decay\"]*1) + (df_player2[\"p_SOS_adj_pts_won%_l60_decay_IO\"]*1))/2).round(2)"
   ]
  },
  {
   "cell_type": "code",
   "execution_count": 57,
   "id": "748dc344",
   "metadata": {},
   "outputs": [],
   "source": [
    "# SOS adjustment for total points% for just the last 10 matches (recent performance)\n",
    "\n",
    "df_player2[\"p_expected_opp_yield_pts%_l10\"] = (100 - df_player2['p_pts_won%_SOS_1to10'])\n",
    "\n",
    "# Calculates mean opponent performance per surface. We will use these to factor player l10 performance based on opponent \n",
    "# l10 performance (surface-specific) prior to the match of interest relative to the surface-specific sample mean\n",
    "mean_clay_SOS1 = df_player2.loc[df_player2['t_surf'] == \"Clay\", 'p_opp_pts_won%_l10'].mean()\n",
    "mean_clay_SOS1 = 100 - mean_clay_SOS1 #we want in terms of pct pts the field ALLOWS on average\n",
    "#mean_hard_SOS1 = df_player2.loc[df_player2['t_surf'] == \"Hard\", 'p_opp_pts_won%_l10'].mean()\n",
    "#mean_hard_SOS1 = 100 - mean_hard_SOS1 #we want in terms of pct pts the field ALLOWS on average\n",
    "mean_clay_SOS1\n",
    "\n",
    "# Puts together the above- factors the player's actual performance over the last 10 by schedule of opponents' aggregrate performance over THEIR l10 prior to when they faced the player.\n",
    "# Adjustment proportional to opponents' deviation from field mean performs better than various boosted or blunted versions attempted \n",
    "df_player2.loc[(df_player2[\"t_surf\"] == \"Clay\"), \"p_SOS_adj_pts_won%_l10\"] = ((df_player2[\"p_pts_won%_l10\"])*(mean_clay_SOS1/df_player2[\"p_expected_opp_yield_pts%_l10\"])).round(2)          \n",
    "#df_player2.loc[(df_player2[\"t_surf\"] == \"Hard\"), \"p_SOS_adj_pts_won%_l10\"] = ((df_player2[\"p_pts_won%_l10\"])*(mean_hard_SOS1/df_player2[\"p_expected_opp_yield_pts%_l10\"])).round(2)\n",
    "\n",
    "df_player2.loc[(df_player2[\"p_SOS_adj_pts_won%_l10\"] > 100), \"p_SOS_adj_pts_won%_l10\"] = df_player2[\"p_SOS_adj_pts_won%_l10\"].mean() #deals with a few spuriously high values when there's only one previous match (won't impact modelling at all, as these matches will be filtered out)\n",
    "\n",
    "df_player2.drop([\"p_pts_won%_SOS_1to10\"],axis=1, inplace=True)"
   ]
  },
  {
   "cell_type": "code",
   "execution_count": null,
   "id": "59759bb7",
   "metadata": {},
   "outputs": [],
   "source": [
    "#Save to review\n",
    "#df_player2.to_csv('../data/df_player2b.csv', index=False)"
   ]
  },
  {
   "cell_type": "code",
   "execution_count": 58,
   "id": "a8708a66",
   "metadata": {},
   "outputs": [],
   "source": [
    "#Calculates % SERVE points won 'Strength of Schedule' for the past 60 opponents of a given player in a given match\n",
    "#Uses each opponent's decay-weighted last 60 match performance prior to facing the player of interest (surface-specific)\n",
    "#With this, we can obtain the \"expected\" performance over the last 60 matches for the player of interest, then can SOS adjust\n",
    "#that player's performance over their last 60 on the surface to reflect how much above or below an average schedule they faced (see calculations below)\n",
    "\n",
    "df_player2 = df_player2.iloc[::-1]\n",
    "\n",
    "df_player2['p_sv_pts_won%_SOS_1to10'] = df_player2.groupby(['p_id','t_surf'])['p_opp_sv_pts_won%_l60_decay'].transform(lambda x: x.rolling(window=10, min_periods = 1).mean().round(2).shift(1))\n",
    "\n",
    "df_player2['p_sv_pts_won%_SOS_11to20'] = df_player2.groupby(['p_id','t_surf'])['p_opp_sv_pts_won%_l60_decay'].transform(lambda x: x.rolling(window=10, min_periods = 3).mean().round(2).shift(11))\n",
    "df_player2['p_sv_pts_won%_SOS_11to20'] = df_player2['p_sv_pts_won%_SOS_11to20'].fillna(df_player2['p_sv_pts_won%_SOS_1to10'])\n",
    "\n",
    "df_player2['p_sv_pts_won%_SOS_21to30'] = df_player2.groupby(['p_id','t_surf'])['p_opp_sv_pts_won%_l60_decay'].transform(lambda x: x.rolling(window=10, min_periods = 3).mean().round(2).shift(21))\n",
    "df_player2['p_sv_pts_won%_SOS_21to30'] = df_player2['p_sv_pts_won%_SOS_21to30'].fillna(df_player2['p_sv_pts_won%_SOS_11to20'])\n",
    "\n",
    "df_player2['p_sv_pts_won%_SOS_31to40'] = df_player2.groupby(['p_id','t_surf'])['p_opp_sv_pts_won%_l60_decay'].transform(lambda x: x.rolling(window=10, min_periods = 3).mean().round(2).shift(31))\n",
    "df_player2['p_sv_pts_won%_SOS_31to40'] = df_player2['p_sv_pts_won%_SOS_31to40'].fillna(df_player2['p_sv_pts_won%_SOS_21to30'])\n",
    "\n",
    "df_player2['p_sv_pts_won%_SOS_41to50'] = df_player2.groupby(['p_id','t_surf'])['p_opp_sv_pts_won%_l60_decay'].transform(lambda x: x.rolling(window=10, min_periods = 3).mean().round(2).shift(41))\n",
    "df_player2['p_sv_pts_won%_SOS_41to50'] = df_player2['p_sv_pts_won%_SOS_41to50'].fillna(df_player2['p_sv_pts_won%_SOS_31to40'])\n",
    "\n",
    "df_player2['p_sv_pts_won%_SOS_51to60'] = df_player2.groupby(['p_id','t_surf'])['p_opp_sv_pts_won%_l60_decay'].transform(lambda x: x.rolling(window=10, min_periods = 3).mean().round(2).shift(51))\n",
    "df_player2['p_sv_pts_won%_SOS_51to60'] = df_player2['p_sv_pts_won%_SOS_51to60'].fillna(df_player2['p_sv_pts_won%_SOS_41to50'])\n",
    "\n",
    "#df_player2['p_sv_pts_won%_SOS_61to70'] = df_player2.groupby(['p_id','t_surf'])['p_opp_sv_pts_won%_l60_decay'].transform(lambda x: x.rolling(window=10, min_periods = 3).mean().round(2).shift(61))\n",
    "#df_player2['p_sv_pts_won%_SOS_61to70'] = df_player2['p_sv_pts_won%_SOS_61to70'].fillna(df_player2['p_sv_pts_won%_SOS_51to60'])\n",
    "\n",
    "df_player2 = df_player2.iloc[::-1]\n"
   ]
  },
  {
   "cell_type": "code",
   "execution_count": 59,
   "id": "a9e5e731",
   "metadata": {},
   "outputs": [],
   "source": [
    "# Decay weights the SOS calculation at each match to be predicted on, and frames as expected RETURN PTS YIELD up by player's opponents over the last 60 surface-specific matches (we will contrast directly to the player's ACTUAL performance over the last 60 prior to that match to be predicted on). \n",
    "\n",
    "df_player2[\"p_expected_opp_yield_ret_pts%\"] = (100 - (((df_player2['p_sv_pts_won%_SOS_1to10'] * 14) + (df_player2['p_sv_pts_won%_SOS_11to20'] * 8) + (df_player2['p_sv_pts_won%_SOS_21to30'] * 5) \n",
    "+ (df_player2['p_sv_pts_won%_SOS_31to40'] * 3) + (df_player2['p_sv_pts_won%_SOS_41to50'] * 2) + (df_player2['p_sv_pts_won%_SOS_51to60'] * 1))/33)).round(2)\n",
    "\n",
    "# Drops transient columns\n",
    "df_player2.drop([\"p_sv_pts_won%_SOS_11to20\",\"p_sv_pts_won%_SOS_21to30\",\"p_sv_pts_won%_SOS_31to40\",\"p_sv_pts_won%_SOS_41to50\",\"p_sv_pts_won%_SOS_51to60\"],axis=1, inplace=True)"
   ]
  },
  {
   "cell_type": "code",
   "execution_count": 60,
   "id": "2f7169b1",
   "metadata": {},
   "outputs": [
    {
     "data": {
      "text/plain": [
       "37.99821319915747"
      ]
     },
     "execution_count": 60,
     "metadata": {},
     "output_type": "execute_result"
    }
   ],
   "source": [
    "# Calculates mean opponent performance per surface. We will use these to factor player l60 performance based on opponent \n",
    "# l60 performance (surface-specific) prior to the match of interest relative to the surface-specific sample mean\n",
    "\n",
    "mean_clay_SOS2 = df_player2.loc[df_player2['t_surf'] == \"Clay\", 'p_opp_sv_pts_won%_l60_decay'].mean()\n",
    "mean_clay_SOS2 = 100 - mean_clay_SOS2 #we want in terms of pct RETURN pts the field ALLOWS on average\n",
    "#mean_hard_SOS2 = df_player2.loc[df_player2['t_surf'] == \"Hard\", 'p_opp_sv_pts_won%_l60_decay'].mean()\n",
    "#mean_hard_SOS2 = 100 - mean_hard_SOS2 #we want in terms of pct RETURN pts the field ALLOWS on average\n",
    "mean_clay_SOS2"
   ]
  },
  {
   "cell_type": "code",
   "execution_count": 61,
   "id": "8927290e",
   "metadata": {},
   "outputs": [],
   "source": [
    "# Puts together the above- factors the player's actual performance over the last 60 by schedule of opponents' aggregrate performance over THEIR l60 prior to when they faced the player.\n",
    "\n",
    "df_player2.loc[(df_player2[\"t_surf\"] == \"Clay\"), \"p_SOS_adj_ret_pts_won%_l60_decay\"] = ((df_player2[\"p_ret_pts_won%_l60_decay\"])*(mean_clay_SOS2/df_player2[\"p_expected_opp_yield_ret_pts%\"])).round(2)\n",
    "                \n",
    "#df_player2.loc[(df_player2[\"t_surf\"] == \"Hard\"), \"p_SOS_adj_ret_pts_won%_l60_decay\"] = ((df_player2[\"p_ret_pts_won%_l60_decay\"])*(mean_hard_SOS2/df_player2[\"p_expected_opp_yield_ret_pts%\"])).round(2)\n",
    "\n",
    "df_player2.loc[(df_player2[\"p_SOS_adj_ret_pts_won%_l60_decay\"] > 100), \"p_SOS_adj_ret_pts_won%_l60_decay\"] = df_player2[\"p_SOS_adj_ret_pts_won%_l60_decay\"].mean() #deals with a few spuriously high values when there's only one previous match (won't impact modeling at all, as these matches will be filter"
   ]
  },
  {
   "cell_type": "code",
   "execution_count": 62,
   "id": "7cc8e569",
   "metadata": {},
   "outputs": [],
   "source": [
    "# SOS adjustment for serve points% (OPPONENT RETURN PTS% YIELD) for just the last 10 matches (recent performance)\n",
    "df_player2[\"p_expected_opp_yield_ret_pts%_l10\"] = (100 - df_player2['p_sv_pts_won%_SOS_1to10'])\n",
    "\n",
    "# Calculates mean opponent performance per surface. We will use these to factor player l10 performance based on opponent \n",
    "# l10 performance (surface-specific) prior to the match of interest relative to the surface-specific sample mean\n",
    "mean_clay_SOS2 = df_player2.loc[df_player2['t_surf'] == \"Clay\", 'p_opp_sv_pts_won%_l10'].mean()\n",
    "mean_clay_SOS2 = 100 - mean_clay_SOS2 #we want in terms of pct pts the field ALLOWS on average\n",
    "#mean_hard_SOS2 = df_player2.loc[df_player2['t_surf'] == \"Hard\", 'p_opp_sv_pts_won%_l10'].mean()\n",
    "#mean_hard_SOS2 = 100 - mean_hard_SOS2 #we want in terms of pct pts the field ALLOWS on average\n",
    "mean_clay_SOS2\n",
    "\n",
    "# Puts together the above- factors the player's actual performance over the last 10 by schedule of opponents' aggregrate performance over THEIR l10 prior to when they faced the player.\n",
    "# Adjustment proportional to opponents' deviation from field mean performs better than various boosted or blunted versions attempted \n",
    "df_player2.loc[(df_player2[\"t_surf\"] == \"Clay\"), \"p_SOS_adj_ret_pts_won%_l10\"] = ((df_player2[\"p_ret_pts_won%_l10\"])*(mean_clay_SOS2/df_player2[\"p_expected_opp_yield_ret_pts%_l10\"])).round(2)          \n",
    "#df_player2.loc[(df_player2[\"t_surf\"] == \"Hard\"), \"p_SOS_adj_ret_pts_won%_l10\"] = ((df_player2[\"p_ret_pts_won%_l10\"])*(mean_hard_SOS2/df_player2[\"p_expected_opp_yield_ret_pts%_l10\"])).round(2)\n",
    "\n",
    "df_player2.loc[(df_player2[\"p_SOS_adj_ret_pts_won%_l10\"] > 100), \"p_SOS_adj_ret_pts_won%_l10\"] = df_player2[\"p_SOS_adj_ret_pts_won%_l10\"].mean() #deals with a few spuriously high values when there's only one previous match (won't impact modelling at all, as these matches will be filtered out)\n",
    "\n",
    "df_player2.drop([\"p_sv_pts_won%_SOS_1to10\"],axis=1, inplace=True)"
   ]
  },
  {
   "cell_type": "code",
   "execution_count": 63,
   "id": "5dd20b08",
   "metadata": {},
   "outputs": [],
   "source": [
    "#Calculates % RETURN points won 'Strength of Schedule' for the past 60 opponents of a given player in a given match\n",
    "#Uses each opponent's decay-weighted last 60 match performance prior to facing the player of interest (surface-specific)\n",
    "#With this, we can obtain the \"expected\" performance over the last 60 matches for the player of interest, then can SOS adjust\n",
    "#that player's performance over their last 60 on the surface to reflect how much above or below an average schedule they faced (see calculations below)\n",
    "\n",
    "df_player2 = df_player2.iloc[::-1]\n",
    "\n",
    "df_player2['p_ret_pts_won%_SOS_1to10'] = df_player2.groupby(['p_id','t_surf'])['p_opp_ret_pts_won%_l60_decay'].transform(lambda x: x.rolling(window=10, min_periods = 1).mean().round(2).shift(1))\n",
    "\n",
    "df_player2['p_ret_pts_won%_SOS_11to20'] = df_player2.groupby(['p_id','t_surf'])['p_opp_ret_pts_won%_l60_decay'].transform(lambda x: x.rolling(window=10, min_periods = 3).mean().round(2).shift(11))\n",
    "df_player2['p_ret_pts_won%_SOS_11to20'] = df_player2['p_ret_pts_won%_SOS_11to20'].fillna(df_player2['p_ret_pts_won%_SOS_1to10'])\n",
    "\n",
    "df_player2['p_ret_pts_won%_SOS_21to30'] = df_player2.groupby(['p_id','t_surf'])['p_opp_ret_pts_won%_l60_decay'].transform(lambda x: x.rolling(window=10, min_periods = 3).mean().round(2).shift(21))\n",
    "df_player2['p_ret_pts_won%_SOS_21to30'] = df_player2['p_ret_pts_won%_SOS_21to30'].fillna(df_player2['p_ret_pts_won%_SOS_11to20'])\n",
    "\n",
    "df_player2['p_ret_pts_won%_SOS_31to40'] = df_player2.groupby(['p_id','t_surf'])['p_opp_ret_pts_won%_l60_decay'].transform(lambda x: x.rolling(window=10, min_periods = 3).mean().round(2).shift(31))\n",
    "df_player2['p_ret_pts_won%_SOS_31to40'] = df_player2['p_ret_pts_won%_SOS_31to40'].fillna(df_player2['p_ret_pts_won%_SOS_21to30'])\n",
    "\n",
    "df_player2['p_ret_pts_won%_SOS_41to50'] = df_player2.groupby(['p_id','t_surf'])['p_opp_ret_pts_won%_l60_decay'].transform(lambda x: x.rolling(window=10, min_periods = 3).mean().round(2).shift(41))\n",
    "df_player2['p_ret_pts_won%_SOS_41to50'] = df_player2['p_ret_pts_won%_SOS_41to50'].fillna(df_player2['p_ret_pts_won%_SOS_31to40'])\n",
    "\n",
    "df_player2['p_ret_pts_won%_SOS_51to60'] = df_player2.groupby(['p_id','t_surf'])['p_opp_ret_pts_won%_l60_decay'].transform(lambda x: x.rolling(window=10, min_periods = 3).mean().round(2).shift(51))\n",
    "df_player2['p_ret_pts_won%_SOS_51to60'] = df_player2['p_ret_pts_won%_SOS_51to60'].fillna(df_player2['p_ret_pts_won%_SOS_41to50'])\n",
    "\n",
    "#df_player2['p_ret_pts_won%_SOS_61to70'] = df_player2.groupby(['p_id','t_surf'])['p_opp_ret_pts_won%_l60_decay'].transform(lambda x: x.rolling(window=10, min_periods = 3).mean().round(2).shift(61))\n",
    "#df_player2['p_ret_pts_won%_SOS_61to70'] = df_player2['p_ret_pts_won%_SOS_61to70'].fillna(df_player2['p_ret_pts_won%_SOS_51to60'])\n",
    "\n",
    "df_player2 = df_player2.iloc[::-1]\n"
   ]
  },
  {
   "cell_type": "code",
   "execution_count": 64,
   "id": "7c709b54",
   "metadata": {},
   "outputs": [],
   "source": [
    "# Decay weights the SOS calculation at each match to be predicted on, and frames as expected SERVE PTS YIELD up by player's opponents over the last 70 surface-specific matches (we will contrast directly to the player's ACTUAL performance over the last 70 prior to that match to be predicted on). \n",
    "\n",
    "df_player2[\"p_expected_opp_yield_sv_pts%\"] = (100 - (((df_player2['p_ret_pts_won%_SOS_1to10'] * 14) + (df_player2['p_ret_pts_won%_SOS_11to20'] * 8) + (df_player2['p_ret_pts_won%_SOS_21to30'] * 5) \n",
    "+ (df_player2['p_ret_pts_won%_SOS_31to40'] * 3) + (df_player2['p_ret_pts_won%_SOS_41to50'] * 2) + (df_player2['p_ret_pts_won%_SOS_51to60'] * 1))/33)).round(2)\n",
    "\n",
    "# Drops transient columns\n",
    "df_player2.drop([\"p_ret_pts_won%_SOS_11to20\",\"p_ret_pts_won%_SOS_21to30\",\"p_ret_pts_won%_SOS_31to40\",\"p_ret_pts_won%_SOS_41to50\",\"p_ret_pts_won%_SOS_51to60\"],axis=1, inplace=True)"
   ]
  },
  {
   "cell_type": "code",
   "execution_count": 65,
   "id": "932f610b",
   "metadata": {},
   "outputs": [
    {
     "data": {
      "text/plain": [
       "61.49536449801049"
      ]
     },
     "execution_count": 65,
     "metadata": {},
     "output_type": "execute_result"
    }
   ],
   "source": [
    "# Calculates mean opponent performance per surface. We will use these to factor player l60 performance based on opponent \n",
    "# l60 performance (surface-specific) prior to the match of interest relative to the surface-specific sample mean\n",
    "\n",
    "mean_clay_SOS3 = df_player2.loc[df_player2['t_surf'] == \"Clay\", 'p_opp_ret_pts_won%_l60_decay'].mean()\n",
    "mean_clay_SOS3 = 100 - mean_clay_SOS3 #we want in terms of pct SERVE pts the field ALLOWS on average\n",
    "#mean_hard_SOS3 = df_player2.loc[df_player2['t_surf'] == \"Hard\", 'p_opp_ret_pts_won%_l60_decay'].mean()\n",
    "#mean_hard_SOS3 = 100 - mean_hard_SOS3 #we want in terms of pct SERVE pts the field ALLOWS on average\n",
    "mean_clay_SOS3"
   ]
  },
  {
   "cell_type": "code",
   "execution_count": 67,
   "id": "76cd9bdc",
   "metadata": {},
   "outputs": [],
   "source": [
    "# Puts together the above- factors the player's actual performance over the last 60 by schedule of opponents' aggregrate performance over THEIR l60 prior to when they faced the player.\n",
    "\n",
    "df_player2.loc[(df_player2[\"t_surf\"] == \"Clay\"), \"p_SOS_adj_sv_pts_won%_l60_decay\"] = ((df_player2[\"p_sv_pts_won%_l60_decay\"])*(mean_clay_SOS3/df_player2[\"p_expected_opp_yield_sv_pts%\"])).round(2)\n",
    "                \n",
    "#df_player2.loc[(df_player2[\"t_surf\"] == \"Hard\"), \"p_SOS_adj_sv_pts_won%_l60_decay\"] = ((df_player2[\"p_sv_pts_won%_l60_decay\"])*(mean_hard_SOS3/df_player2[\"p_expected_opp_yield_sv_pts%\"])).round(2)\n",
    "\n",
    "df_player2.loc[(df_player2[\"p_SOS_adj_sv_pts_won%_l60_decay\"] > 100), \"p_SOS_adj_sv_pts_won%_l60_decay\"] = df_player2[\"p_SOS_adj_sv_pts_won%_l60_decay\"].mean() #deals with a few spuriously high values when there's only one previous match (won't impact modeling at all, as these matches will be filter"
   ]
  },
  {
   "cell_type": "code",
   "execution_count": 68,
   "id": "d4c9fe8e",
   "metadata": {},
   "outputs": [],
   "source": [
    "# SOS adjustment for serve points% (OPPONENT SERVE PTS% YIELD) for just the last 10 matches (recent performance)\n",
    "df_player2[\"p_expected_opp_yield_sv_pts%_l10\"] = (100 - df_player2['p_ret_pts_won%_SOS_1to10'])\n",
    "\n",
    "# Calculates mean opponent performance per surface. We will use these to factor player l10 performance based on opponent \n",
    "# l10 performance (surface-specific) prior to the match of interest relative to the surface-specific sample mean\n",
    "mean_clay_SOS3 = df_player2.loc[df_player2['t_surf'] == \"Clay\", 'p_opp_ret_pts_won%_l10'].mean()\n",
    "mean_clay_SOS3 = 100 - mean_clay_SOS3 #we want in terms of pct pts the field ALLOWS on average\n",
    "#mean_hard_SOS3 = df_player2.loc[df_player2['t_surf'] == \"Hard\", 'p_opp_ret_pts_won%_l10'].mean()\n",
    "#mean_hard_SOS3 = 100 - mean_hard_SOS3 #we want in terms of pct pts the field ALLOWS on average\n",
    "mean_clay_SOS3\n",
    "\n",
    "# Puts together the above- factors the player's actual performance over the last 10 by schedule of opponents' aggregrate performance over THEIR l10 prior to when they faced the player.\n",
    "# Adjustment proportional to opponents' deviation from field mean performs better than various boosted or blunted versions attempted \n",
    "df_player2.loc[(df_player2[\"t_surf\"] == \"Clay\"), \"p_SOS_adj_sv_pts_won%_l10\"] = ((df_player2[\"p_sv_pts_won%_l10\"])*(mean_clay_SOS3/df_player2[\"p_expected_opp_yield_sv_pts%_l10\"])).round(2)          \n",
    "#df_player2.loc[(df_player2[\"t_surf\"] == \"Hard\"), \"p_SOS_adj_sv_pts_won%_l10\"] = ((df_player2[\"p_sv_pts_won%_l10\"])*(mean_hard_SOS3/df_player2[\"p_expected_opp_yield_sv_pts%_l10\"])).round(2)\n",
    "\n",
    "df_player2.loc[(df_player2[\"p_SOS_adj_sv_pts_won%_l10\"] > 100), \"p_SOS_adj_sv_pts_won%_l10\"] = df_player2[\"p_SOS_adj_sv_pts_won%_l10\"].mean() #deals with a few spuriously high values when there's only one previous match (won't impact modelling at all, as these matches will be filtered out)\n",
    "\n",
    "df_player2.drop([\"p_ret_pts_won%_SOS_1to10\"],axis=1, inplace=True)"
   ]
  },
  {
   "cell_type": "code",
   "execution_count": null,
   "id": "80c4ab52",
   "metadata": {},
   "outputs": [],
   "source": [
    "#Save to review\n",
    "#df_player2.to_csv('../data/df_player2c.csv', index=False)"
   ]
  },
  {
   "cell_type": "code",
   "execution_count": 69,
   "id": "bcac7ff7",
   "metadata": {},
   "outputs": [],
   "source": [
    "#Calculates ace % 'Strength of Schedule' for the past 60 opponents of a given player in a given match\n",
    "#Uses each opponent's decay-weighted last 60 match performance prior to facing the player of interest (surface-specific)\n",
    "#With this, we can obtain the \"expected\" performance over the last 60 matches for the player of interest, then can SOS adjust\n",
    "#that player's performance over their last 60 on the surface to reflect how much above or below an average schedule they faced (see calculations below)\n",
    "\n",
    "df_player2 = df_player2.iloc[::-1]\n",
    "\n",
    "df_player2['p_ace%_SOS_1to10'] = df_player2.groupby(['p_id','t_surf'])['p_opp_ace%_l60_decay'].transform(lambda x: x.rolling(window=10, min_periods = 1).mean().round(2).shift(1))\n",
    "\n",
    "df_player2['p_ace%_SOS_11to20'] = df_player2.groupby(['p_id','t_surf'])['p_opp_ace%_l60_decay'].transform(lambda x: x.rolling(window=10, min_periods = 3).mean().round(2).shift(11))\n",
    "df_player2['p_ace%_SOS_11to20'] = df_player2['p_ace%_SOS_11to20'].fillna(df_player2['p_ace%_SOS_1to10'])\n",
    "\n",
    "df_player2['p_ace%_SOS_21to30'] = df_player2.groupby(['p_id','t_surf'])['p_opp_ace%_l60_decay'].transform(lambda x: x.rolling(window=10, min_periods = 3).mean().round(2).shift(21))\n",
    "df_player2['p_ace%_SOS_21to30'] = df_player2['p_ace%_SOS_21to30'].fillna(df_player2['p_ace%_SOS_11to20'])\n",
    "\n",
    "df_player2['p_ace%_SOS_31to40'] = df_player2.groupby(['p_id','t_surf'])['p_opp_ace%_l60_decay'].transform(lambda x: x.rolling(window=10, min_periods = 3).mean().round(2).shift(31))\n",
    "df_player2['p_ace%_SOS_31to40'] = df_player2['p_ace%_SOS_31to40'].fillna(df_player2['p_ace%_SOS_21to30'])\n",
    "\n",
    "df_player2['p_ace%_SOS_41to50'] = df_player2.groupby(['p_id','t_surf'])['p_opp_ace%_l60_decay'].transform(lambda x: x.rolling(window=10, min_periods = 3).mean().round(2).shift(41))\n",
    "df_player2['p_ace%_SOS_41to50'] = df_player2['p_ace%_SOS_41to50'].fillna(df_player2['p_ace%_SOS_31to40'])\n",
    "\n",
    "df_player2['p_ace%_SOS_51to60'] = df_player2.groupby(['p_id','t_surf'])['p_opp_ace%_l60_decay'].transform(lambda x: x.rolling(window=10, min_periods = 3).mean().round(2).shift(51))\n",
    "df_player2['p_ace%_SOS_51to60'] = df_player2['p_ace%_SOS_51to60'].fillna(df_player2['p_ace%_SOS_41to50'])\n",
    "\n",
    "#df_player2['p_ace%_SOS_61to70'] = df_player2.groupby(['p_id','t_surf'])['p_opp_ace%_l60_decay'].transform(lambda x: x.rolling(window=10, min_periods = 3).mean().round(2).shift(61))\n",
    "#df_player2['p_ace%_SOS_61to70'] = df_player2['p_ace%_SOS_61to70'].fillna(df_player2['p_ace%_SOS_51to60'])\n",
    "\n",
    "df_player2 = df_player2.iloc[::-1]\n"
   ]
  },
  {
   "cell_type": "code",
   "execution_count": 70,
   "id": "1ab6a807",
   "metadata": {},
   "outputs": [],
   "source": [
    "# Decay weights the SOS calculation at each match to be predicted on, and frames as expected ACED% YIELD by player's opponents over the last 60 surface-specific matches (we will contrast directly to the player's ACTUAL performance over the last 60 prior to that match to be predicted on). \n",
    "\n",
    "df_player2[\"p_expected_opp_yield_aced%\"] = (((df_player2['p_ace%_SOS_1to10'] * 14) + (df_player2['p_ace%_SOS_11to20'] * 8) + (df_player2['p_ace%_SOS_21to30'] * 5) \n",
    "+ (df_player2['p_ace%_SOS_31to40'] * 3) + (df_player2['p_ace%_SOS_41to50'] * 2) + (df_player2['p_ace%_SOS_51to60'] * 1))/33).round(2)\n",
    "\n",
    "# Drops transient columns\n",
    "df_player2.drop([\"p_ace%_SOS_11to20\",\"p_ace%_SOS_21to30\",\"p_ace%_SOS_31to40\",\"p_ace%_SOS_41to50\",\"p_ace%_SOS_51to60\"],axis=1, inplace=True)"
   ]
  },
  {
   "cell_type": "code",
   "execution_count": 71,
   "id": "948502aa",
   "metadata": {},
   "outputs": [
    {
     "data": {
      "text/plain": [
       "5.479813362976831"
      ]
     },
     "execution_count": 71,
     "metadata": {},
     "output_type": "execute_result"
    }
   ],
   "source": [
    "# Calculates mean opponent performance per surface. We will use these to factor player l60 performance based on opponent \n",
    "# l60 performance (surface-specific) prior to the match of interest relative to the surface-specific sample mean\n",
    "\n",
    "mean_clay_SOS4 = df_player2.loc[df_player2['t_surf'] == \"Clay\", 'p_opp_ace%_l60_decay'].mean()\n",
    "mean_clay_SOS4 = mean_clay_SOS4 #we want in terms of pct ACED the field ALLOWS on average\n",
    "#mean_hard_SOS4 = df_player2.loc[df_player2['t_surf'] == \"Hard\", 'p_opp_ace%_l60_decay'].mean()\n",
    "#mean_hard_SOS4 = mean_hard_SOS4 #we want in terms of pct ACED the field ALLOWS on average\n",
    "mean_clay_SOS4"
   ]
  },
  {
   "cell_type": "code",
   "execution_count": 72,
   "id": "43b45715",
   "metadata": {},
   "outputs": [],
   "source": [
    "# Puts together the above- factors the player's actual performance over the last 60 by schedule of opponents' aggregrate performance over THEIR l60 prior to when they faced the player.\n",
    " \n",
    "df_player2.loc[(df_player2[\"t_surf\"] == \"Clay\"), \"p_SOS_adj_aced%_l60_decay\"] = ((df_player2[\"p_aced%_l60_decay\"])*(mean_clay_SOS4/df_player2[\"p_expected_opp_yield_aced%\"])).round(2)\n",
    "                \n",
    "#df_player2.loc[(df_player2[\"t_surf\"] == \"Hard\"), \"p_SOS_adj_aced%_l60_decay\"] = ((df_player2[\"p_aced%_l60_decay\"])*(mean_hard_SOS4/df_player2[\"p_expected_opp_yield_aced%\"])).round(2)\n",
    "\n",
    "df_player2[\"p_SOS_adj_aced%_l60_decay\"].replace(np.inf, np.nan, inplace=True) #deals with a few infs in first handful of matches in sample where there is no SOS (divide by zero errors in the above)\n",
    "df_player2.loc[(df_player2[\"p_SOS_adj_aced%_l60_decay\"] > 100), \"p_SOS_adj_aced%_l60_decay\"] = df_player2[\"p_SOS_adj_aced%_l60_decay\"].mean() #deals with a few spuriously high values when there's only one previous match (won't impact modeling at all, as these matches will be filter\n"
   ]
  },
  {
   "cell_type": "code",
   "execution_count": 73,
   "id": "36b93278",
   "metadata": {},
   "outputs": [],
   "source": [
    "# SOS adjustment for serve points% (OPPONENT ACED% YIELD) for just the last 10 matches (recent performance)\n",
    "df_player2[\"p_expected_opp_yield_aced%_l10\"] = df_player2['p_ace%_SOS_1to10']\n",
    "\n",
    "# Calculates mean opponent performance per surface. We will use these to factor player l10 performance based on opponent \n",
    "# l10 performance (surface-specific) prior to the match of interest relative to the surface-specific sample mean\n",
    "mean_clay_SOS4 = df_player2.loc[df_player2['t_surf'] == \"Clay\", 'p_opp_ace%_l10'].mean()\n",
    "mean_clay_SOS4 = mean_clay_SOS4 #we want in terms of pct pts the field ALLOWS on average\n",
    "#mean_hard_SOS4 = df_player2.loc[df_player2['t_surf'] == \"Hard\", 'p_opp_ace%_l10'].mean()\n",
    "#mean_hard_SOS4 = mean_hard_SOS4 #we want in terms of pct pts the field ALLOWS on average\n",
    "mean_clay_SOS4\n",
    "\n",
    "# Puts together the above- factors the player's actual performance over the last 10 by schedule of opponents' aggregrate performance over THEIR l10 prior to when they faced the player.\n",
    "# Adjustment proportional to opponents' deviation from field mean performs better than various boosted or blunted versions attempted \n",
    "df_player2.loc[(df_player2[\"t_surf\"] == \"Clay\"), \"p_SOS_adj_aced%_l10\"] = ((df_player2[\"p_aced%_l10\"])*(mean_clay_SOS4/df_player2[\"p_expected_opp_yield_aced%_l10\"])).round(2)          \n",
    "#df_player2.loc[(df_player2[\"t_surf\"] == \"Hard\"), \"p_SOS_adj_aced%_l10\"] = ((df_player2[\"p_aced%_l10\"])*(mean_hard_SOS4/df_player2[\"p_expected_opp_yield_aced%_l10\"])).round(2)\n",
    "\n",
    "df_player2[\"p_SOS_adj_aced%_l10\"].replace(np.inf, np.nan, inplace=True) #deals with a few infs in first handful of matches in sample where there is no SOS (divide by zero errors in the above)\n",
    "df_player2.loc[(df_player2[\"p_SOS_adj_aced%_l10\"] > 100), \"p_SOS_adj_aced%_l10\"] = df_player2[\"p_SOS_adj_aced%_l10\"].mean() #deals with a few spuriously high values when there's only one previous match (won't impact modelling at all, as these matches will be filtered out)\n",
    "\n",
    "df_player2.drop([\"p_ace%_SOS_1to10\"],axis=1, inplace=True)"
   ]
  },
  {
   "cell_type": "code",
   "execution_count": null,
   "id": "539854e3",
   "metadata": {},
   "outputs": [],
   "source": [
    "#Save to review\n",
    "#df_player2.to_csv('../data/df_player2d.csv', index=False)"
   ]
  },
  {
   "cell_type": "code",
   "execution_count": 74,
   "id": "6632b5aa",
   "metadata": {},
   "outputs": [],
   "source": [
    "#Calculates aced % 'Strength of Schedule' for the past 60 opponents of a given player in a given match\n",
    "#Uses each opponent's decay-weighted last 60 match performance prior to facing the player of interest (surface-specific)\n",
    "#With this, we can obtain the \"expected\" performance over the last 60 matches for the player of interest, then can SOS adjust\n",
    "#that player's performance over their last 60 on the surface to reflect how much above or below an average schedule they faced (see calculations below)\n",
    "\n",
    "df_player2 = df_player2.iloc[::-1]\n",
    "\n",
    "df_player2['p_aced%_SOS_1to10'] = df_player2.groupby(['p_id','t_surf'])['p_opp_aced%_l60_decay'].transform(lambda x: x.rolling(window=10, min_periods = 1).mean().round(2).shift(1))\n",
    "\n",
    "df_player2['p_aced%_SOS_11to20'] = df_player2.groupby(['p_id','t_surf'])['p_opp_aced%_l60_decay'].transform(lambda x: x.rolling(window=10, min_periods = 3).mean().round(2).shift(11))\n",
    "df_player2['p_aced%_SOS_11to20'] = df_player2['p_aced%_SOS_11to20'].fillna(df_player2['p_aced%_SOS_1to10'])\n",
    "\n",
    "df_player2['p_aced%_SOS_21to30'] = df_player2.groupby(['p_id','t_surf'])['p_opp_aced%_l60_decay'].transform(lambda x: x.rolling(window=10, min_periods = 3).mean().round(2).shift(21))\n",
    "df_player2['p_aced%_SOS_21to30'] = df_player2['p_aced%_SOS_21to30'].fillna(df_player2['p_aced%_SOS_11to20'])\n",
    "\n",
    "df_player2['p_aced%_SOS_31to40'] = df_player2.groupby(['p_id','t_surf'])['p_opp_aced%_l60_decay'].transform(lambda x: x.rolling(window=10, min_periods = 3).mean().round(2).shift(31))\n",
    "df_player2['p_aced%_SOS_31to40'] = df_player2['p_aced%_SOS_31to40'].fillna(df_player2['p_aced%_SOS_21to30'])\n",
    "\n",
    "df_player2['p_aced%_SOS_41to50'] = df_player2.groupby(['p_id','t_surf'])['p_opp_aced%_l60_decay'].transform(lambda x: x.rolling(window=10, min_periods = 3).mean().round(2).shift(41))\n",
    "df_player2['p_aced%_SOS_41to50'] = df_player2['p_aced%_SOS_41to50'].fillna(df_player2['p_aced%_SOS_31to40'])\n",
    "\n",
    "df_player2['p_aced%_SOS_51to60'] = df_player2.groupby(['p_id','t_surf'])['p_opp_aced%_l60_decay'].transform(lambda x: x.rolling(window=10, min_periods = 3).mean().round(2).shift(51))\n",
    "df_player2['p_aced%_SOS_51to60'] = df_player2['p_aced%_SOS_51to60'].fillna(df_player2['p_aced%_SOS_41to50'])\n",
    "\n",
    "#df_player2['p_aced%_SOS_61to70'] = df_player2.groupby(['p_id','t_surf'])['p_opp_aced%_l60_decay'].transform(lambda x: x.rolling(window=10, min_periods = 3).mean().round(2).shift(61))\n",
    "#df_player2['p_aced%_SOS_61to70'] = df_player2['p_aced%_SOS_61to70'].fillna(df_player2['p_aced%_SOS_51to60'])\n",
    "\n",
    "df_player2 = df_player2.iloc[::-1]\n"
   ]
  },
  {
   "cell_type": "code",
   "execution_count": 75,
   "id": "f4382810",
   "metadata": {},
   "outputs": [],
   "source": [
    "# Decay weights the SOS calculation at each match to be predicted on, and frames as expected ACE% YIELD by player's opponents over the last 60 surface-specific matches (we will contrast directly to the player's ACTUAL performance over the last 60 prior to that match to be predicted on). \n",
    "\n",
    "df_player2[\"p_expected_opp_yield_ace%\"] = (((df_player2['p_aced%_SOS_1to10'] * 14) + (df_player2['p_aced%_SOS_11to20'] * 8) + (df_player2['p_aced%_SOS_21to30'] * 5) \n",
    "+ (df_player2['p_aced%_SOS_31to40'] * 3) + (df_player2['p_aced%_SOS_41to50'] * 2) + (df_player2['p_aced%_SOS_51to60'] * 1))/33).round(2)\n",
    "\n",
    "# Drops transient columns\n",
    "df_player2.drop([\"p_aced%_SOS_11to20\",\"p_aced%_SOS_21to30\",\"p_aced%_SOS_31to40\",\"p_aced%_SOS_41to50\",\"p_aced%_SOS_51to60\"],axis=1, inplace=True)"
   ]
  },
  {
   "cell_type": "code",
   "execution_count": 76,
   "id": "6fff3d6d",
   "metadata": {},
   "outputs": [
    {
     "data": {
      "text/plain": [
       "5.2839187924175235"
      ]
     },
     "execution_count": 76,
     "metadata": {},
     "output_type": "execute_result"
    }
   ],
   "source": [
    "# Calculates mean opponent performance per surface. We will use these to factor player l60 performance based on opponent \n",
    "# l60 performance (surface-specific) prior to the match of interest relative to the surface-specific sample mean\n",
    "\n",
    "mean_clay_SOS5 = df_player2.loc[df_player2['t_surf'] == \"Clay\", 'p_opp_aced%_l60_decay'].mean()\n",
    "mean_clay_SOS5 = mean_clay_SOS5 #we want in terms of pct ACES the field ALLOWS on average\n",
    "#mean_hard_SOS5 = df_player2.loc[df_player2['t_surf'] == \"Hard\", 'p_opp_aced%_l60_decay'].mean()\n",
    "#mean_hard_SOS5 = mean_hard_SOS5 #we want in terms of pct ACES the field ALLOWS on average\n",
    "mean_clay_SOS5"
   ]
  },
  {
   "cell_type": "code",
   "execution_count": 77,
   "id": "ddc04c71",
   "metadata": {},
   "outputs": [],
   "source": [
    "# Puts together the above- factors the player's actual performance over the last 60 by schedule of opponents' aggregrate performance over THEIR l60 prior to when they faced the player.\n",
    "# If opponents \n",
    "df_player2.loc[(df_player2[\"t_surf\"] == \"Clay\"), \"p_SOS_adj_ace%_l60_decay\"] = ((df_player2[\"p_ace%_l60_decay\"])*(mean_clay_SOS5/df_player2[\"p_expected_opp_yield_ace%\"])).round(2)\n",
    "                \n",
    "#df_player2.loc[(df_player2[\"t_surf\"] == \"Hard\"), \"p_SOS_adj_ace%_l60_decay\"] = ((df_player2[\"p_ace%_l60_decay\"])*(mean_hard_SOS5/df_player2[\"p_expected_opp_yield_ace%\"])).round(2)\n",
    "\n",
    "df_player2[\"p_SOS_adj_ace%_l60_decay\"].replace(np.inf, np.nan, inplace=True) #deals with a few infs in first handful of matches in sample where there is no SOS (divide by zero errors in the above)\n",
    "df_player2.loc[(df_player2[\"p_SOS_adj_ace%_l60_decay\"] > 100), \"p_SOS_adj_ace%_l60_decay\"] = df_player2[\"p_SOS_adj_ace%_l60_decay\"].mean() #deals with a few spuriously high values when there's only one previous match (won't impact modeling at all, as these matches will be filter"
   ]
  },
  {
   "cell_type": "code",
   "execution_count": 78,
   "id": "87006731",
   "metadata": {},
   "outputs": [],
   "source": [
    "# SOS adjustment for serve points% (OPPONENT ACE% YIELD) for just the last 10 matches (recent performance)\n",
    "df_player2[\"p_expected_opp_yield_ace%_l10\"] = df_player2['p_aced%_SOS_1to10']\n",
    "\n",
    "# Calculates mean opponent performance per surface. We will use these to factor player l10 performance based on opponent \n",
    "# l10 performance (surface-specific) prior to the match of interest relative to the surface-specific sample mean\n",
    "mean_clay_SOS5 = df_player2.loc[df_player2['t_surf'] == \"Clay\", 'p_opp_aced%_l10'].mean()\n",
    "mean_clay_SOS5 = mean_clay_SOS5 #we want in terms of pct pts the field ALLOWS on average\n",
    "#mean_hard_SOS5 = df_player2.loc[df_player2['t_surf'] == \"Hard\", 'p_opp_aced%_l10'].mean()\n",
    "#mean_hard_SOS5 = mean_hard_SOS5 #we want in terms of pct pts the field ALLOWS on average\n",
    "mean_clay_SOS5\n",
    "\n",
    "# Puts together the above- factors the player's actual performance over the last 10 by schedule of opponents' aggregrate performance over THEIR l10 prior to when they faced the player.\n",
    "# Adjustment proportional to opponents' deviation from field mean performs better than various boosted or blunted versions attempted \n",
    "df_player2.loc[(df_player2[\"t_surf\"] == \"Clay\"), \"p_SOS_adj_ace%_l10\"] = ((df_player2[\"p_ace%_l10\"])*(mean_clay_SOS5/df_player2[\"p_expected_opp_yield_ace%_l10\"])).round(2)          \n",
    "#df_player2.loc[(df_player2[\"t_surf\"] == \"Hard\"), \"p_SOS_adj_ace%_l10\"] = ((df_player2[\"p_ace%_l10\"])*(mean_hard_SOS5/df_player2[\"p_expected_opp_yield_ace%_l10\"])).round(2)\n",
    "\n",
    "df_player2[\"p_SOS_adj_ace%_l10\"].replace(np.inf, np.nan, inplace=True) #deals with a few infs in first handful of matches in sample where there is no SOS (divide by zero errors in the above)\n",
    "df_player2.loc[(df_player2[\"p_SOS_adj_ace%_l10\"] > 100), \"p_SOS_adj_ace%_l10\"] = df_player2[\"p_SOS_adj_ace%_l10\"].mean() #deals with a few spuriously high values when there's only one previous match (won't impact modelling at all, as these matches will be filtered out)\n",
    "\n",
    "df_player2.drop([\"p_aced%_SOS_1to10\"],axis=1, inplace=True)"
   ]
  },
  {
   "cell_type": "code",
   "execution_count": null,
   "id": "2b4b14f3",
   "metadata": {},
   "outputs": [],
   "source": [
    "#Save to review\n",
    "#df_player2.to_csv('../data/df_player2e.csv', index=False)"
   ]
  },
  {
   "cell_type": "code",
   "execution_count": 79,
   "id": "bbc5af8c",
   "metadata": {},
   "outputs": [],
   "source": [
    "#Calculates break point saved% 'Strength of Schedule' for the past 60 opponents of a given player in a given match\n",
    "#Uses each opponent's (non decay-weighted) last 60 match performance prior to facing the player of interest (surface-specific)\n",
    "#With this, we can obtain the \"expected\" performance over the last 60 matches for the player of interest, then can SOS adjust\n",
    "#that player's performance over their last 60 on the surface to reflect how much above or below an average schedule they faced (see calculations below)\n",
    "\n",
    "df_player2 = df_player2.iloc[::-1]\n",
    "\n",
    "df_player2['p_bp_save%_SOS_1to10'] = df_player2.groupby(['p_id','t_surf'])['p_opp_bp_save%_l60'].transform(lambda x: x.rolling(window=10, min_periods = 1).mean().round(2).shift(1))\n",
    "\n",
    "df_player2['p_bp_save%_SOS_11to20'] = df_player2.groupby(['p_id','t_surf'])['p_opp_bp_save%_l60'].transform(lambda x: x.rolling(window=10, min_periods = 3).mean().round(2).shift(11))\n",
    "df_player2['p_bp_save%_SOS_11to20'] = df_player2['p_bp_save%_SOS_11to20'].fillna(df_player2['p_bp_save%_SOS_1to10'])\n",
    "\n",
    "df_player2['p_bp_save%_SOS_21to30'] = df_player2.groupby(['p_id','t_surf'])['p_opp_bp_save%_l60'].transform(lambda x: x.rolling(window=10, min_periods = 3).mean().round(2).shift(21))\n",
    "df_player2['p_bp_save%_SOS_21to30'] = df_player2['p_bp_save%_SOS_21to30'].fillna(df_player2['p_bp_save%_SOS_11to20'])\n",
    "\n",
    "df_player2['p_bp_save%_SOS_31to40'] = df_player2.groupby(['p_id','t_surf'])['p_opp_bp_save%_l60'].transform(lambda x: x.rolling(window=10, min_periods = 3).mean().round(2).shift(31))\n",
    "df_player2['p_bp_save%_SOS_31to40'] = df_player2['p_bp_save%_SOS_31to40'].fillna(df_player2['p_bp_save%_SOS_21to30'])\n",
    "\n",
    "df_player2['p_bp_save%_SOS_41to50'] = df_player2.groupby(['p_id','t_surf'])['p_opp_bp_save%_l60'].transform(lambda x: x.rolling(window=10, min_periods = 3).mean().round(2).shift(41))\n",
    "df_player2['p_bp_save%_SOS_41to50'] = df_player2['p_bp_save%_SOS_41to50'].fillna(df_player2['p_bp_save%_SOS_31to40'])\n",
    "\n",
    "df_player2['p_bp_save%_SOS_51to60'] = df_player2.groupby(['p_id','t_surf'])['p_opp_bp_save%_l60'].transform(lambda x: x.rolling(window=10, min_periods = 3).mean().round(2).shift(51))\n",
    "df_player2['p_bp_save%_SOS_51to60'] = df_player2['p_bp_save%_SOS_51to60'].fillna(df_player2['p_bp_save%_SOS_41to50'])\n",
    "\n",
    "#df_player2['p_bp_save%_SOS_61to70'] = df_player2.groupby(['p_id','t_surf'])['p_opp_bp_save%_l60'].transform(lambda x: x.rolling(window=10, min_periods = 3).mean().round(2).shift(61))\n",
    "#df_player2['p_bp_save%_SOS_61to70'] = df_player2['p_bp_save%_SOS_61to70'].fillna(df_player2['p_bp_save%_SOS_51to60'])\n",
    "\n",
    "df_player2 = df_player2.iloc[::-1]"
   ]
  },
  {
   "cell_type": "code",
   "execution_count": 80,
   "id": "30b51a08",
   "metadata": {},
   "outputs": [],
   "source": [
    "# Decay weights the SOS calculation at each match to be predicted on, and frames as expected BP CONVERT% YIELD by player's opponents over the last 60 surface-specific matches (we will contrast directly to the player's ACTUAL performance over the last 60 prior to that match to be predicted on). \n",
    "\n",
    "df_player2[\"p_expected_opp_yield_bp_convert%\"] = (100 - (((df_player2['p_bp_save%_SOS_1to10'] * 14) + (df_player2['p_bp_save%_SOS_11to20'] * 8) + (df_player2['p_bp_save%_SOS_21to30'] * 5) \n",
    "+ (df_player2['p_bp_save%_SOS_31to40'] * 3) + (df_player2['p_bp_save%_SOS_41to50'] * 2) + (df_player2['p_bp_save%_SOS_51to60'] * 1))/33)).round(2)\n",
    "\n",
    "# Drops transient columns\n",
    "df_player2.drop([\"p_bp_save%_SOS_11to20\",\"p_bp_save%_SOS_21to30\",\"p_bp_save%_SOS_31to40\",\"p_bp_save%_SOS_41to50\",\"p_bp_save%_SOS_51to60\"],axis=1, inplace=True)"
   ]
  },
  {
   "cell_type": "code",
   "execution_count": 81,
   "id": "35ffa36d",
   "metadata": {},
   "outputs": [
    {
     "data": {
      "text/plain": [
       "40.96534987128441"
      ]
     },
     "execution_count": 81,
     "metadata": {},
     "output_type": "execute_result"
    }
   ],
   "source": [
    "# Calculates mean opponent performance per surface. We will use these to factor player l60 performance based on opponent \n",
    "# l60 performance (surface-specific) prior to the match of interest relative to the surface-specific sample mean\n",
    "\n",
    "mean_clay_SOS6 = df_player2.loc[df_player2['t_surf'] == \"Clay\", 'p_opp_bp_save%_l60'].mean()\n",
    "mean_clay_SOS6 = 100 - mean_clay_SOS6 #we want in terms of pct BREAK CONVERSIONS the field ALLOWS on average\n",
    "#mean_hard_SOS6 = df_player2.loc[df_player2['t_surf'] == \"Hard\", 'p_opp_bp_save%_l60'].mean()\n",
    "#mean_hard_SOS6 = 100 - mean_hard_SOS6 #we want in terms of pct BREAK CONVERSIONS the field ALLOWS on average\n",
    "mean_clay_SOS6"
   ]
  },
  {
   "cell_type": "code",
   "execution_count": 82,
   "id": "d022eff2",
   "metadata": {},
   "outputs": [],
   "source": [
    "# Puts together the above- factors the player's actual performance over the last 60 by schedule of opponents' aggregrate performance over THEIR l60 prior to when they faced the player.\n",
    "\n",
    "df_player2.loc[(df_player2[\"t_surf\"] == \"Clay\"), \"p_SOS_adj_bp_convert%_l60\"] = ((df_player2[\"p_bp_convert%_l60\"])*(mean_clay_SOS6/df_player2[\"p_expected_opp_yield_bp_convert%\"])).round(2)\n",
    "                \n",
    "#df_player2.loc[(df_player2[\"t_surf\"] == \"Hard\"), \"p_SOS_adj_bp_convert%_l60\"] = ((df_player2[\"p_bp_convert%_l60\"])*(mean_hard_SOS6/df_player2[\"p_expected_opp_yield_bp_convert%\"])).round(2)\n",
    "\n",
    "df_player2[\"p_SOS_adj_bp_convert%_l60\"].replace(np.inf, np.nan, inplace=True) #deals with a few infs in first handful of matches in sample where there is no SOS (divide by zero errors in the above)\n",
    "df_player2.loc[(df_player2[\"p_SOS_adj_bp_convert%_l60\"] > 100), \"p_SOS_adj_bp_convert%_l60\"] = df_player2[\"p_SOS_adj_bp_convert%_l60\"].mean() #deals with a few spuriously high values when there's only one previous match (won't impact modeling at all, as these matches will be filtered)"
   ]
  },
  {
   "cell_type": "code",
   "execution_count": 83,
   "id": "10890dce",
   "metadata": {},
   "outputs": [],
   "source": [
    "# SOS adjustment for serve points% (OPPONENT BP CONVERT% YIELD) for just the last 10 matches (recent performance)\n",
    "df_player2[\"p_expected_opp_yield_bp_convert%_l10\"] = (100 - df_player2['p_bp_save%_SOS_1to10'])\n",
    "\n",
    "# Calculates mean opponent performance per surface. We will use these to factor player l10 performance based on opponent \n",
    "# l10 performance (surface-specific) prior to the match of interest relative to the surface-specific sample mean\n",
    "mean_clay_SOS6 = df_player2.loc[df_player2['t_surf'] == \"Clay\", 'p_opp_bp_save%_l10'].mean()\n",
    "mean_clay_SOS6 = 100 - mean_clay_SOS6 #we want in terms of pct pts the field ALLOWS on average\n",
    "#mean_hard_SOS6 = df_player2.loc[df_player2['t_surf'] == \"Hard\", 'p_opp_bp_save%_l10'].mean()\n",
    "#mean_hard_SOS6 = 100 - mean_hard_SOS6 #we want in terms of pct pts the field ALLOWS on average\n",
    "mean_clay_SOS6\n",
    "\n",
    "# Puts together the above- factors the player's actual performance over the last 10 by schedule of opponents' aggregrate performance over THEIR l10 prior to when they faced the player.\n",
    "# Adjustment proportional to opponents' deviation from field mean performs better than various boosted or blunted versions attempted \n",
    "df_player2.loc[(df_player2[\"t_surf\"] == \"Clay\"), \"p_SOS_adj_bp_convert%_l10\"] = ((df_player2[\"p_bp_convert%_l10\"])*(mean_clay_SOS6/df_player2[\"p_expected_opp_yield_bp_convert%_l10\"])).round(2)          \n",
    "#df_player2.loc[(df_player2[\"t_surf\"] == \"Hard\"), \"p_SOS_adj_bp_convert%_l10\"] = ((df_player2[\"p_bp_convert%_l10\"])*(mean_hard_SOS6/df_player2[\"p_expected_opp_yield_bp_convert%_l10\"])).round(2)\n",
    "\n",
    "df_player2[\"p_SOS_adj_bp_convert%_l10\"].replace(np.inf, np.nan, inplace=True) #deals with a few infs in first handful of matches in sample where there is no SOS (divide by zero errors in the above)\n",
    "df_player2.loc[(df_player2[\"p_SOS_adj_bp_convert%_l10\"] > 100), \"p_SOS_adj_bp_convert%_l10\"] = df_player2[\"p_SOS_adj_bp_convert%_l10\"].mean() #deals with a few spuriously high values when there's only one previous match (won't impact modelling at all, as these matches will be filtered out)\n",
    "\n",
    "df_player2.drop([\"p_bp_save%_SOS_1to10\"],axis=1, inplace=True)"
   ]
  },
  {
   "cell_type": "code",
   "execution_count": null,
   "id": "0e14f02b",
   "metadata": {},
   "outputs": [],
   "source": [
    "#Save to review\n",
    "#df_player2.to_csv('../data/df_player2f.csv', index=False)"
   ]
  },
  {
   "cell_type": "code",
   "execution_count": 84,
   "id": "ca488d6f",
   "metadata": {},
   "outputs": [],
   "source": [
    "#Calculates break point converted% 'Strength of Schedule' for the past 60 opponents of a given player in a given match\n",
    "#Uses each opponent's (non decay-weighted) last 60 match performance prior to facing the player of interest (surface-specific)\n",
    "#With this, we can obtain the \"expected\" performance over the last 60 matches for the player of interest, then can SOS adjust\n",
    "#that player's performance over their last 60 on the surface to reflect how much above or below an average schedule they faced (see calculations below)\n",
    "\n",
    "df_player2 = df_player2.iloc[::-1]\n",
    "\n",
    "df_player2['p_bp_convert%_SOS_1to10'] = df_player2.groupby(['p_id','t_surf'])['p_opp_bp_convert%_l60'].transform(lambda x: x.rolling(window=10, min_periods = 1).mean().round(2).shift(1))\n",
    "\n",
    "df_player2['p_bp_convert%_SOS_11to20'] = df_player2.groupby(['p_id','t_surf'])['p_opp_bp_convert%_l60'].transform(lambda x: x.rolling(window=10, min_periods = 3).mean().round(2).shift(11))\n",
    "df_player2['p_bp_convert%_SOS_11to20'] = df_player2['p_bp_convert%_SOS_11to20'].fillna(df_player2['p_bp_convert%_SOS_1to10'])\n",
    "\n",
    "df_player2['p_bp_convert%_SOS_21to30'] = df_player2.groupby(['p_id','t_surf'])['p_opp_bp_convert%_l60'].transform(lambda x: x.rolling(window=10, min_periods = 3).mean().round(2).shift(21))\n",
    "df_player2['p_bp_convert%_SOS_21to30'] = df_player2['p_bp_convert%_SOS_21to30'].fillna(df_player2['p_bp_convert%_SOS_11to20'])\n",
    "\n",
    "df_player2['p_bp_convert%_SOS_31to40'] = df_player2.groupby(['p_id','t_surf'])['p_opp_bp_convert%_l60'].transform(lambda x: x.rolling(window=10, min_periods = 3).mean().round(2).shift(31))\n",
    "df_player2['p_bp_convert%_SOS_31to40'] = df_player2['p_bp_convert%_SOS_31to40'].fillna(df_player2['p_bp_convert%_SOS_21to30'])\n",
    "\n",
    "df_player2['p_bp_convert%_SOS_41to50'] = df_player2.groupby(['p_id','t_surf'])['p_opp_bp_convert%_l60'].transform(lambda x: x.rolling(window=10, min_periods = 3).mean().round(2).shift(41))\n",
    "df_player2['p_bp_convert%_SOS_41to50'] = df_player2['p_bp_convert%_SOS_41to50'].fillna(df_player2['p_bp_convert%_SOS_31to40'])\n",
    "\n",
    "df_player2['p_bp_convert%_SOS_51to60'] = df_player2.groupby(['p_id','t_surf'])['p_opp_bp_convert%_l60'].transform(lambda x: x.rolling(window=10, min_periods = 3).mean().round(2).shift(51))\n",
    "df_player2['p_bp_convert%_SOS_51to60'] = df_player2['p_bp_convert%_SOS_51to60'].fillna(df_player2['p_bp_convert%_SOS_41to50'])\n",
    "\n",
    "#df_player2['p_bp_convert%_SOS_61to70'] = df_player2.groupby(['p_id','t_surf'])['p_opp_bp_convert%_l60'].transform(lambda x: x.rolling(window=10, min_periods = 3).mean().round(2).shift(61))\n",
    "#df_player2['p_bp_convert%_SOS_61to70'] = df_player2['p_bp_convert%_SOS_61to70'].fillna(df_player2['p_bp_convert%_SOS_51to60'])\n",
    "\n",
    "df_player2 = df_player2.iloc[::-1]"
   ]
  },
  {
   "cell_type": "code",
   "execution_count": 85,
   "id": "5d680a7c",
   "metadata": {},
   "outputs": [],
   "source": [
    "# Decay weights the SOS calculation at each match to be predicted on, and frames as expected BP SAVE% YIELD by player's opponents over the last 60 surface-specific matches (we will contrast directly to the player's ACTUAL performance over the last 60 prior to that match to be predicted on). \n",
    "\n",
    "df_player2[\"p_expected_opp_yield_bp_save%\"] = (100 - (((df_player2['p_bp_convert%_SOS_1to10'] * 14) + (df_player2['p_bp_convert%_SOS_11to20'] * 8) + (df_player2['p_bp_convert%_SOS_21to30'] * 5) \n",
    "+ (df_player2['p_bp_convert%_SOS_31to40'] * 3) + (df_player2['p_bp_convert%_SOS_41to50'] * 2) + (df_player2['p_bp_convert%_SOS_51to60'] * 1))/33)).round(2)\n",
    "\n",
    "# Drops transient columns\n",
    "df_player2.drop([\"p_bp_convert%_SOS_11to20\",\"p_bp_convert%_SOS_21to30\",\"p_bp_convert%_SOS_31to40\",\"p_bp_convert%_SOS_41to50\",\"p_bp_convert%_SOS_51to60\"],axis=1, inplace=True)"
   ]
  },
  {
   "cell_type": "code",
   "execution_count": 86,
   "id": "509e9593",
   "metadata": {},
   "outputs": [
    {
     "data": {
      "text/plain": [
       "58.0961163117247"
      ]
     },
     "execution_count": 86,
     "metadata": {},
     "output_type": "execute_result"
    }
   ],
   "source": [
    "# Calculates mean opponent performance per surface. We will use these to factor player l60 performance based on opponent \n",
    "# l60 performance (surface-specific) prior to the match of interest relative to the surface-specific sample mean\n",
    "\n",
    "mean_clay_SOS7 = df_player2.loc[df_player2['t_surf'] == \"Clay\", 'p_opp_bp_convert%_l60'].mean()\n",
    "mean_clay_SOS7 = 100 - mean_clay_SOS7 #we want in terms of pct BREAK PTS SAVED the field ALLOWS on average\n",
    "#mean_hard_SOS7 = df_player2.loc[df_player2['t_surf'] == \"Hard\", 'p_opp_bp_convert%_l60'].mean()\n",
    "#mean_hard_SOS7 = 100 - mean_hard_SOS7 #we want in terms of pct BREAK PTS SAVED the field ALLOWS on average\n",
    "mean_clay_SOS7"
   ]
  },
  {
   "cell_type": "code",
   "execution_count": 87,
   "id": "d03edad5",
   "metadata": {},
   "outputs": [],
   "source": [
    "# Puts together the above- factors the player's actual performance over the last 60 by schedule of opponents' aggregrate performance over THEIR l60 prior to when they faced the player.\n",
    "\n",
    "df_player2.loc[(df_player2[\"t_surf\"] == \"Clay\"), \"p_SOS_adj_bp_save%_l60\"] = ((df_player2[\"p_bp_save%_l60\"])*(mean_clay_SOS7/df_player2[\"p_expected_opp_yield_bp_save%\"])).round(2)\n",
    "                \n",
    "#df_player2.loc[(df_player2[\"t_surf\"] == \"Hard\"), \"p_SOS_adj_bp_save%_l60\"] = ((df_player2[\"p_bp_save%_l60\"])*(mean_hard_SOS7/df_player2[\"p_expected_opp_yield_bp_save%\"])).round(2)\n",
    "\n",
    "df_player2[\"p_SOS_adj_bp_save%_l60\"].replace(np.inf, np.nan, inplace=True) #deals with a few infs in first handful of matches in sample where there is no SOS (divide by zero errors in the above)\n",
    "df_player2.loc[(df_player2[\"p_SOS_adj_bp_save%_l60\"] > 100), \"p_SOS_adj_bp_save%_l60\"] = df_player2[\"p_SOS_adj_bp_save%_l60\"].mean() #deals with a few spuriously high values when there's only one previous match (won't impact modeling at all, as these matches will be filtered)"
   ]
  },
  {
   "cell_type": "code",
   "execution_count": 88,
   "id": "04a71ce7",
   "metadata": {},
   "outputs": [],
   "source": [
    "# SOS adjustment for serve points% (OPPONENT BP SAVE% YIELD) for just the last 10 matches (recent performance)\n",
    "df_player2[\"p_expected_opp_yield_bp_save%_l10\"] = (100 - df_player2['p_bp_convert%_SOS_1to10'])\n",
    "\n",
    "# Calculates mean opponent performance per surface. We will use these to factor player l10 performance based on opponent \n",
    "# l10 performance (surface-specific) prior to the match of interest relative to the surface-specific sample mean\n",
    "mean_clay_SOS7 = df_player2.loc[df_player2['t_surf'] == \"Clay\", 'p_opp_bp_convert%_l10'].mean()\n",
    "mean_clay_SOS7 = 100 - mean_clay_SOS7 #we want in terms of pct pts the field ALLOWS on average\n",
    "#mean_hard_SOS7 = df_player2.loc[df_player2['t_surf'] == \"Hard\", 'p_opp_bp_convert%_l10'].mean()\n",
    "#mean_hard_SOS7 = 100 - mean_hard_SOS7 #we want in terms of pct pts the field ALLOWS on average\n",
    "mean_clay_SOS7\n",
    "\n",
    "# Puts together the above- factors the player's actual performance over the last 10 by schedule of opponents' aggregrate performance over THEIR l10 prior to when they faced the player.\n",
    "# Adjustment proportional to opponents' deviation from field mean performs better than various boosted or blunted versions attempted \n",
    "df_player2.loc[(df_player2[\"t_surf\"] == \"Clay\"), \"p_SOS_adj_bp_save%_l10\"] = ((df_player2[\"p_bp_save%_l10\"])*(mean_clay_SOS7/df_player2[\"p_expected_opp_yield_bp_save%_l10\"])).round(2)          \n",
    "#df_player2.loc[(df_player2[\"t_surf\"] == \"Hard\"), \"p_SOS_adj_bp_save%_l10\"] = ((df_player2[\"p_bp_save%_l10\"])*(mean_hard_SOS7/df_player2[\"p_expected_opp_yield_bp_save%_l10\"])).round(2)\n",
    "\n",
    "df_player2[\"p_SOS_adj_bp_save%_l10\"].replace(np.inf, np.nan, inplace=True) #deals with a few infs in first handful of matches in sample where there is no SOS (divide by zero errors in the above)\n",
    "df_player2.loc[(df_player2[\"p_SOS_adj_bp_save%_l10\"] > 100), \"p_SOS_adj_bp_save%_l10\"] = df_player2[\"p_SOS_adj_bp_save%_l10\"].mean() #deals with a few spuriously high values when there's only one previous match (won't impact modelling at all, as these matches will be filtered out)\n",
    "\n",
    "df_player2.drop([\"p_bp_convert%_SOS_1to10\"],axis=1, inplace=True)"
   ]
  },
  {
   "cell_type": "code",
   "execution_count": 89,
   "id": "abcd2a4d",
   "metadata": {},
   "outputs": [],
   "source": [
    "#Calculates Implied Win Probability (derived from average across a number of books) 'Strength of Schedule' for the past 60 opponents of a given player in a given match.\n",
    "#Uses each opponent's decay-weighted last 60 match performance prior to facing the player of interest (surface-specific)\n",
    "#With this, we can obtain the \"expected\" performance over the last 60 matches for the player of interest, then can SOS adjust\n",
    "#that player's performance over their last 60 on the surface to reflect how much above or below an average schedule they faced (see calculations below)\n",
    "\n",
    "df_player2 = df_player2.iloc[::-1]\n",
    "\n",
    "df_player2['p_IWP_SOS_1to10'] = df_player2.groupby(['p_id','t_surf'])['p_opp_IWP_l60_decay'].transform(lambda x: x.rolling(window=10, min_periods = 1).mean().round(2).shift(1))\n",
    "\n",
    "df_player2['p_IWP_SOS_11to20'] = df_player2.groupby(['p_id','t_surf'])['p_opp_IWP_l60_decay'].transform(lambda x: x.rolling(window=10, min_periods = 3).mean().round(2).shift(11))\n",
    "df_player2['p_IWP_SOS_11to20'] = df_player2['p_IWP_SOS_11to20'].fillna(df_player2['p_IWP_SOS_1to10'])\n",
    "\n",
    "df_player2['p_IWP_SOS_21to30'] = df_player2.groupby(['p_id','t_surf'])['p_opp_IWP_l60_decay'].transform(lambda x: x.rolling(window=10, min_periods = 3).mean().round(2).shift(21))\n",
    "df_player2['p_IWP_SOS_21to30'] = df_player2['p_IWP_SOS_21to30'].fillna(df_player2['p_IWP_SOS_11to20'])\n",
    "\n",
    "df_player2['p_IWP_SOS_31to40'] = df_player2.groupby(['p_id','t_surf'])['p_opp_IWP_l60_decay'].transform(lambda x: x.rolling(window=10, min_periods = 3).mean().round(2).shift(31))\n",
    "df_player2['p_IWP_SOS_31to40'] = df_player2['p_IWP_SOS_31to40'].fillna(df_player2['p_IWP_SOS_21to30'])\n",
    "\n",
    "df_player2['p_IWP_SOS_41to50'] = df_player2.groupby(['p_id','t_surf'])['p_opp_IWP_l60_decay'].transform(lambda x: x.rolling(window=10, min_periods = 3).mean().round(2).shift(41))\n",
    "df_player2['p_IWP_SOS_41to50'] = df_player2['p_IWP_SOS_41to50'].fillna(df_player2['p_IWP_SOS_31to40'])\n",
    "\n",
    "df_player2['p_IWP_SOS_51to60'] = df_player2.groupby(['p_id','t_surf'])['p_opp_IWP_l60_decay'].transform(lambda x: x.rolling(window=10, min_periods = 3).mean().round(2).shift(51))\n",
    "df_player2['p_IWP_SOS_51to60'] = df_player2['p_IWP_SOS_51to60'].fillna(df_player2['p_IWP_SOS_41to50'])\n",
    "\n",
    "df_player2['p_IWP_SOS_61to70'] = df_player2.groupby(['p_id','t_surf'])['p_opp_IWP_l60_decay'].transform(lambda x: x.rolling(window=10, min_periods = 3).mean().round(2).shift(61))\n",
    "df_player2['p_IWP_SOS_61to70'] = df_player2['p_IWP_SOS_61to70'].fillna(df_player2['p_IWP_SOS_51to60'])\n",
    "\n",
    "#df_player2['p_pts_won%_SOS_71to80'] = df_player2.groupby(['p_id','t_surf'])['p_opp_pts_won%_l60_decay'].transform(lambda x: x.rolling(window=10, min_periods = 3).mean().round(2).shift(51))\n",
    "#df_player2['p_pts_won%_SOS_71to80'] = df_player2['p_pts_won%_SOS_71to80'].fillna(df_player2['p_pts_won%_SOS_61to70'])\n",
    "\n",
    "df_player2 = df_player2.iloc[::-1]"
   ]
  },
  {
   "cell_type": "code",
   "execution_count": null,
   "id": "4d47bd7d",
   "metadata": {},
   "outputs": [],
   "source": []
  },
  {
   "cell_type": "code",
   "execution_count": null,
   "id": "b3784b05",
   "metadata": {},
   "outputs": [],
   "source": []
  },
  {
   "cell_type": "code",
   "execution_count": null,
   "id": "88cafe15",
   "metadata": {},
   "outputs": [],
   "source": []
  },
  {
   "cell_type": "code",
   "execution_count": null,
   "id": "31dc2432",
   "metadata": {},
   "outputs": [],
   "source": [
    "#Save to review\n",
    "df_player2.to_csv('../data/df_player2g.csv', index=False)"
   ]
  },
  {
   "cell_type": "code",
   "execution_count": null,
   "id": "751073ab",
   "metadata": {},
   "outputs": [],
   "source": [
    "df_player2.info()"
   ]
  },
  {
   "cell_type": "code",
   "execution_count": null,
   "id": "c9b72ac7",
   "metadata": {},
   "outputs": [],
   "source": [
    "#Tidy up latest by-player iteration before converting back to by-match for calculation of within-match to be predicted on player differentials\n",
    "df_player3 = df_player2[[\"t_id\", \"t_date\", \"tour_wk\", \"t_name\", \"t_country\", \"t_surf\", \"t_indoor\", \"t_alt\", \"t_lvl\", \"t_draw_size\", \"t_rd_num\", \"m_num\", \"m_best_of\", \"m_outcome\", \"m_time(m)\", \"m_tot_pts\", \"p_id\", \"p_name\", \"p_H2H_w\", \"p_H2H_pts_won%\", \"p_rank\", \"p_rank_pts\", \"p_country\", \"p_ent\", \"p_hd\", \"p_ht\", \"p_age\", \"p_matches\", \"p_matches_surf\", \"p_pts_won%\", \"p_pts_won%_l60_decay\", \"p_pts_won%_l60_decay_IO\", \"p_pts_won%_l10\", \"p_SOS_adj_pts_won%_l60_decay\", \"p_SOS_adj_pts_won%_l60_decay_IO\", \"p_SOS_adj_pts_won%_l60_decay_IO_weighted\", \"p_SOS_adj_pts_won%_l10\", \"p_sv_pts_won%\", \"p_sv_pts_won%_l60_decay\", \"p_sv_pts_won%_l10\", \"p_SOS_adj_sv_pts_won%_l60_decay\", \"p_SOS_adj_sv_pts_won%_l10\", \"p_ret_pts_won%\", \"p_ret_pts_won%_l60_decay\", \"p_ret_pts_won%_l10\", \"p_SOS_adj_ret_pts_won%_l60_decay\", \"p_SOS_adj_ret_pts_won%_l10\", \"p_ace%\", \"p_ace%_l60_decay\", \"p_ace%_l10\", \"p_SOS_adj_ace%_l60_decay\", \"p_SOS_adj_ace%_l10\", \"p_aced%\", \"p_aced%_l60_decay\", \"p_aced%_l10\", \"p_SOS_adj_aced%_l60_decay\", \"p_SOS_adj_aced%_l10\", \"p_bp_save%\", \"p_bp_save%_l60\", \"p_bp_save%_l10\", \"p_SOS_adj_bp_save%_l60\", \"p_SOS_adj_bp_save%_l10\", \"p_bp_convert%\", \"p_bp_convert%_l60\", \"p_bp_convert%_l10\", \"p_SOS_adj_bp_convert%_l60\", \"p_SOS_adj_bp_convert%_l10\", \"p_pts_won%_std_l60_decay\", \"p_sv_pts_won%_std_l60_decay\", \"p_ret_pts_won%_std_l60_decay\", \"p_m_time_last\", \"p_tot_time_l6\", \"p_tot_time_l6_decay\", \"p_tot_pts_last\", \"p_tot_pts_l6\", \"p_tot_pts_l6_decay\", \"p_stamina_adj_fatigue_decay\", \"p_stamina_adj_fatigue\", \"p_IP_NV\"]]"
   ]
  },
  {
   "cell_type": "code",
   "execution_count": null,
   "id": "7d37265a",
   "metadata": {},
   "outputs": [],
   "source": [
    "df_player3.info()"
   ]
  },
  {
   "cell_type": "code",
   "execution_count": null,
   "id": "2349802b",
   "metadata": {},
   "outputs": [],
   "source": [
    "#Save prior to conversion back to by-match format for computation of player differential features per match.\n",
    "df_player3.to_csv('../data/df_player3.csv', index=False)"
   ]
  },
  {
   "cell_type": "markdown",
   "id": "bb986aeb",
   "metadata": {},
   "source": [
    "### Player vs Player Differentials in Predictive Features By Match"
   ]
  },
  {
   "cell_type": "markdown",
   "id": "abf1087f",
   "metadata": {},
   "source": [
    "Now will convert dataframe back to by-match format to compute player differentials for predictive features aligned to each match to predict on. A few additional by-player features will be computed in the process as well. After these features are computed, the dataframe will be converted back to a by-player format for output to EDA."
   ]
  },
  {
   "cell_type": "code",
   "execution_count": null,
   "id": "5fe6f2d6",
   "metadata": {},
   "outputs": [],
   "source": [
    "df_winners3 = df_player3[df_player3['m_outcome'] == 1]\n",
    "df_losers3 = df_player3[df_player3['m_outcome'] == 0]\n",
    "df_match3 = df_winners3.merge(df_losers3, on='m_num', how = 'left')"
   ]
  },
  {
   "cell_type": "code",
   "execution_count": null,
   "id": "8524c238",
   "metadata": {},
   "outputs": [],
   "source": [
    "df_match3 = df_match3.drop([\"t_id_y\", \"t_date_y\", \"tour_wk_y\", \"t_name_y\", \"t_country_y\", \"t_surf_y\", \"t_indoor_y\", \"t_alt_y\", \"t_lvl_y\", \"t_draw_size_y\", \"t_rd_num_y\", \"m_best_of_y\", \"m_time(m)_y\", \"m_tot_pts_y\"], axis=1)\n",
    "df_match3.rename(columns = {'t_id_x':'t_id', 't_date_x':'t_date', 'tour_wk_x':'tour_wk', 't_name_x':'t_name','t_country_x':'t_country','t_surf_x':'t_surf','t_indoor_x':'t_indoor', 't_alt_x':'t_alt','t_lvl_x':'t_lvl','t_draw_size_x':'t_draw_size', 't_rd_num_x':'t_rd_num', 'm_best_of_x':'m_best_of', 'm_time(m)_x':'m_time(m)','m_tot_pts_x':'m_tot_pts'}, inplace=True)"
   ]
  },
  {
   "cell_type": "code",
   "execution_count": null,
   "id": "4b0d69c7",
   "metadata": {},
   "outputs": [],
   "source": [
    "#df_match3.to_csv('../data/df_match3.csv', index=False)"
   ]
  },
  {
   "cell_type": "markdown",
   "id": "8315112b",
   "metadata": {},
   "source": [
    "#### Rankings and Entry Type-Related Player Differential Predictive Features By Match"
   ]
  },
  {
   "cell_type": "code",
   "execution_count": null,
   "id": "52b61ba0",
   "metadata": {},
   "outputs": [],
   "source": [
    "# ATP ranking differential between winner (_x) vs loser (_y) (and loser vs winner) (to be consistent with points diff, positive number = better ranking than opp)\n",
    "max_winners = df_match3['p_rank_x'].max()\n",
    "max_losers = df_match3['p_rank_y'].max()\n",
    "max_sample = max(max_winners, max_losers)\n",
    "#max_sample\n",
    "\n",
    "df_match3['p_rank_x'] = df_match3['p_rank_x'].fillna(max_sample + 1) # if player has no ranking, assign sample max + 1\n",
    "df_match3['p_rank_y'] = df_match3['p_rank_y'].fillna(max_sample + 1) # if player has no ranking, assign sample max + 1\n",
    "df_match3[\"p_rank_diff_x\"] = -(df_match3[\"p_rank_x\"] - df_match3[\"p_rank_y\"])\n",
    "df_match3[\"p_rank_diff_y\"] = -df_match3[\"p_rank_diff_x\"]"
   ]
  },
  {
   "cell_type": "code",
   "execution_count": null,
   "id": "9c10b10e",
   "metadata": {},
   "outputs": [],
   "source": [
    "# Generate log of ranking for both players and then calculate the difference (assumption that one ranking place separates players more as you get closer to the top of the rankings)\n",
    "df_match3[\"p_log_rank_x\"] = np.log(df_match3[\"p_rank_x\"]).round(2)\n",
    "df_match3[\"p_log_rank_y\"] = np.log(df_match3[\"p_rank_y\"]).round(2)\n",
    "df_match3[\"p_log_rank_diff_x\"] = -(df_match3[\"p_log_rank_x\"] - df_match3[\"p_log_rank_y\"])\n",
    "df_match3[\"p_log_rank_diff_y\"] = -(df_match3[\"p_log_rank_diff_x\"])"
   ]
  },
  {
   "cell_type": "code",
   "execution_count": null,
   "id": "fc144f1d",
   "metadata": {},
   "outputs": [],
   "source": [
    "# ATP ranking points differential between winner (_x) and loser (_y) (and loser vs winner)\n",
    "df_match3['p_rank_pts_x'] = df_match3['p_rank_pts_x'].fillna(0) # if player has no pts, assign 0\n",
    "df_match3['p_rank_pts_y'] = df_match3['p_rank_pts_y'].fillna(0) # if player has no pts, assign 0\n",
    "df_match3[\"p_rank_pts_diff_x\"] = df_match3[\"p_rank_pts_x\"] - df_match3[\"p_rank_pts_y\"]\n",
    "df_match3[\"p_rank_pts_diff_y\"] = -df_match3[\"p_rank_pts_diff_x\"]"
   ]
  },
  {
   "cell_type": "code",
   "execution_count": null,
   "id": "a9b87b42",
   "metadata": {},
   "outputs": [],
   "source": [
    "# Entry Type Differential (entry type was encoded in first stage as 3=Ranking-based entry; 2=Qualifier; 1.5=Lucky Loser; 1=Special Entry/non-rankings based entry)\n",
    "df_match3[\"p_ent_diff_x\"] = df_match3[\"p_ent_x\"] - df_match3[\"p_ent_y\"]\n",
    "df_match3[\"p_ent_diff_y\"] = -df_match3[\"p_ent_diff_x\"]"
   ]
  },
  {
   "cell_type": "markdown",
   "id": "4a770854",
   "metadata": {},
   "source": [
    "#### Basic Player Characteristics Differential Predictive Features By Match"
   ]
  },
  {
   "cell_type": "code",
   "execution_count": null,
   "id": "63325aec",
   "metadata": {},
   "outputs": [],
   "source": [
    "# Height differential between winner (_x) vs loser (_y) (in cm) (and loser vs winner)\n",
    "df_match3[\"p_ht_diff_x\"] = (df_match3[\"p_ht_x\"] - df_match3[\"p_ht_y\"])\n",
    "df_match3[\"p_ht_diff_y\"] = -df_match3[\"p_ht_diff_x\"]"
   ]
  },
  {
   "cell_type": "code",
   "execution_count": null,
   "id": "04487f41",
   "metadata": {},
   "outputs": [],
   "source": [
    "# Age differential between winner (_x) vs loser (_y) (yrs) (and loser vs winner)\n",
    "df_match3[\"p_age_diff_x\"] = (df_match3[\"p_age_x\"] - df_match3[\"p_age_y\"])\n",
    "df_match3[\"p_age_diff_y\"] = -df_match3[\"p_age_diff_x\"]"
   ]
  },
  {
   "cell_type": "code",
   "execution_count": null,
   "id": "22452049",
   "metadata": {},
   "outputs": [],
   "source": [
    "# Marker column for if winner was Left-Handed and loser was Right-Handed (and vice versa) (1=T, 0=F)\n",
    "df_match3['p_L_opp_R_x'] = np.where((df_match3['p_hd_x'] == 'L') & (df_match3['p_hd_y'] == 'R'), 1, 0)\n",
    "df_match3['p_L_opp_R_y'] = np.where((df_match3['p_hd_x'] == 'R') & (df_match3['p_hd_y'] == 'L'), 1, 0)\n",
    "\n",
    "# a small number of low-match # players in the sample are unknown (U) for handed, even after investigation on ATP site."
   ]
  },
  {
   "cell_type": "code",
   "execution_count": null,
   "id": "d2d4d70a",
   "metadata": {},
   "outputs": [],
   "source": [
    "# Convert player handedness itself to numeric encoding\n",
    "df_match3.loc[(df_match3[\"p_hd_x\"] == \"L\"), \"p_hd_x\"] = 2 #Lefties converts to 2\n",
    "df_match3.loc[(df_match3[\"p_hd_y\"] == \"L\"), \"p_hd_y\"] = 2 #Lefties converts to 2\n",
    "df_match3.loc[(df_match3[\"p_hd_x\"] == \"R\"), \"p_hd_x\"] = 1 #Righties converts to 1\n",
    "df_match3.loc[(df_match3[\"p_hd_y\"] == \"R\"), \"p_hd_y\"] = 1 #Righties converts to 1\n",
    "df_match3.loc[(df_match3[\"p_hd_x\"] == \"U\"), \"p_hd_x\"] = 1 #Unknowns convert to 0\n",
    "df_match3.loc[(df_match3[\"p_hd_y\"] == \"U\"), \"p_hd_y\"] = 1 #Unknowns convert to 0\n",
    "\n",
    "df_match3[\"p_hd_x\"] = pd.to_numeric(df_match3[\"p_hd_x\"])\n",
    "df_match3[\"p_hd_y\"] = pd.to_numeric(df_match3[\"p_hd_y\"])"
   ]
  },
  {
   "cell_type": "code",
   "execution_count": null,
   "id": "7a00a1fd",
   "metadata": {},
   "outputs": [],
   "source": [
    "# Marker column for if winner was from the country where the tourney was held, and opponent was not (and vice versa) (1=T, 0=F)\n",
    "df_match3['p_HCA_opp_N_x'] = np.where((df_match3['t_country'] == df_match3['p_country_x']) & (df_match3['t_country'] != df_match3['p_country_y']), 1, 0)\n",
    "df_match3['p_HCA_opp_N_y'] = np.where((df_match3['t_country'] != df_match3['p_country_x']) & (df_match3['t_country'] == df_match3['p_country_y']), 1, 0)"
   ]
  },
  {
   "cell_type": "markdown",
   "id": "34c7caee",
   "metadata": {},
   "source": [
    "#### Retrospective Player Performance Differential Predictive Features By Match"
   ]
  },
  {
   "cell_type": "code",
   "execution_count": null,
   "id": "54fd06c6",
   "metadata": {},
   "outputs": [],
   "source": [
    "# % total points won in previous 60 matches (surface-specific; decay-weighted) differential between winner (_x) and loser (_y)\n",
    "#This is the NON-Strength of Schedule Adjusted Version\n",
    "\n",
    "df_match3[\"p_pts_won%_l60_decay_diff_x\"] = df_match3[\"p_pts_won%_l60_decay_x\"] - df_match3[\"p_pts_won%_l60_decay_y\"]\n",
    "df_match3[\"p_pts_won%_l60_decay_diff_y\"] = -(df_match3[\"p_pts_won%_l60_decay_diff_x\"])"
   ]
  },
  {
   "cell_type": "code",
   "execution_count": null,
   "id": "f84bbd24",
   "metadata": {},
   "outputs": [],
   "source": [
    "# % total points won in previous 60 matches (surface-specific; decay-weighted) differential between winner (_x) and loser (_y)\n",
    "#This is the NON-Strength of Schedule Adjusted Version\n",
    "# This version respects INDOOR vs OUTDOOR SEPARATION\n",
    "\n",
    "df_match3[\"p_pts_won%_l60_decay_IO_diff_x\"] = df_match3[\"p_pts_won%_l60_decay_IO_x\"] - df_match3[\"p_pts_won%_l60_decay_IO_y\"]\n",
    "df_match3[\"p_pts_won%_l60_decay_IO_diff_y\"] = -(df_match3[\"p_pts_won%_l60_decay_IO_diff_x\"])"
   ]
  },
  {
   "cell_type": "code",
   "execution_count": null,
   "id": "4794c30b",
   "metadata": {},
   "outputs": [],
   "source": [
    "# % total points won in previous 60 matches (surface-specific; decay-weighted) differential between winner (_x) and loser (_y)\n",
    "#This is the Strength of Schedule Adjusted Version\n",
    "\n",
    "df_match3[\"p_SOS_adj_pts_won%_l60_decay_diff_x\"] = df_match3[\"p_SOS_adj_pts_won%_l60_decay_x\"] - df_match3[\"p_SOS_adj_pts_won%_l60_decay_y\"]\n",
    "df_match3[\"p_SOS_adj_pts_won%_l60_decay_diff_y\"] = -(df_match3[\"p_SOS_adj_pts_won%_l60_decay_diff_x\"])"
   ]
  },
  {
   "cell_type": "code",
   "execution_count": null,
   "id": "0b304079",
   "metadata": {},
   "outputs": [],
   "source": [
    "# % total points won in previous 60 matches (surface-specific; decay-weighted) differential between winner (_x) and loser (_y)\n",
    "#This is the Strength of Schedule Adjusted Version\n",
    "# This version respects INDOOR vs OUTDOOR SEPARATION\n",
    "\n",
    "df_match3[\"p_SOS_adj_pts_won%_l60_decay_IO_diff_x\"] = df_match3[\"p_SOS_adj_pts_won%_l60_decay_IO_x\"] - df_match3[\"p_SOS_adj_pts_won%_l60_decay_IO_y\"]\n",
    "df_match3[\"p_SOS_adj_pts_won%_l60_decay_IO_diff_y\"] = -(df_match3[\"p_SOS_adj_pts_won%_l60_decay_IO_diff_x\"])"
   ]
  },
  {
   "cell_type": "code",
   "execution_count": null,
   "id": "b5c38f85",
   "metadata": {},
   "outputs": [],
   "source": [
    "# % total points won in previous 60 matches (surface-specific; decay-weighted) differential between winner (_x) and loser (_y)\n",
    "#This is a version of the standard SOS-Adjusted l60 WEIGHTED BY INDOOR/OUTDOOR DISTINCTION\n",
    "\n",
    "df_match3[\"p_SOS_adj_pts_won%_l60_decay_IO_weighted_diff_x\"] = df_match3[\"p_SOS_adj_pts_won%_l60_decay_IO_weighted_x\"] - df_match3[\"p_SOS_adj_pts_won%_l60_decay_IO_weighted_y\"]\n",
    "df_match3[\"p_SOS_adj_pts_won%_l60_decay_IO_weighted_diff_y\"] = -(df_match3[\"p_SOS_adj_pts_won%_l60_decay_IO_weighted_diff_x\"])"
   ]
  },
  {
   "cell_type": "code",
   "execution_count": null,
   "id": "514d0588",
   "metadata": {},
   "outputs": [],
   "source": [
    "# % total points won in previous 10 matches (surface-specific; NON-decay-weighted) differential between winner (_x) and loser (_y)\n",
    "#This is the NON-Strength of Schedule Adjusted Version\n",
    "\n",
    "df_match3[\"p_pts_won%_l10_diff_x\"] = df_match3[\"p_pts_won%_l10_x\"] - df_match3[\"p_pts_won%_l10_y\"]\n",
    "df_match3[\"p_pts_won%_l10_diff_y\"] = -(df_match3[\"p_pts_won%_l10_diff_x\"])"
   ]
  },
  {
   "cell_type": "code",
   "execution_count": null,
   "id": "c1d532e1",
   "metadata": {},
   "outputs": [],
   "source": [
    "# % total points won in previous 10 matches (surface-specific; NON-decay-weighted) differential between winner (_x) and loser (_y)\n",
    "#This is the Strength of Schedule Adjusted Version\n",
    "df_match3[\"p_SOS_adj_pts_won%_l10_diff_x\"] = \"\"\n",
    "df_match3[\"p_SOS_adj_pts_won%_l10_diff_y\"] = \"\"\n",
    "\n",
    "df_match3[\"p_SOS_adj_pts_won%_l10_diff_x\"] = df_match3[\"p_SOS_adj_pts_won%_l10_x\"] - df_match3[\"p_SOS_adj_pts_won%_l10_y\"]\n",
    "df_match3[\"p_SOS_adj_pts_won%_l10_diff_y\"] = -(df_match3[\"p_SOS_adj_pts_won%_l10_diff_x\"])"
   ]
  },
  {
   "cell_type": "code",
   "execution_count": null,
   "id": "960e6327",
   "metadata": {},
   "outputs": [],
   "source": [
    "# \"OFFENSE VS OFFENSE\": % SERVE points won in previous 60 matches (surface-specific; decay-weighted) differential between winner (_x) and loser (_y)\n",
    "#This is the NON-Strength of Schedule Adjusted Version\n",
    "\n",
    "df_match3[\"p_sv_pts_won%_l60_decay_diff_x\"] = df_match3[\"p_sv_pts_won%_l60_decay_x\"] - df_match3[\"p_sv_pts_won%_l60_decay_y\"]\n",
    "df_match3[\"p_sv_pts_won%_l60_decay_diff_y\"] = -(df_match3[\"p_sv_pts_won%_l60_decay_diff_x\"])"
   ]
  },
  {
   "cell_type": "code",
   "execution_count": null,
   "id": "d0ed2735",
   "metadata": {},
   "outputs": [],
   "source": [
    "# \"OFFENSE VS OFFENSE\": % SERVE points won in previous 60 matches (surface-specific; decay-weighted) differential between winner (_x) and loser (_y)\n",
    "#This is the Strength of Schedule Adjusted Version\n",
    "\n",
    "df_match3[\"p_SOS_adj_sv_pts_won%_l60_decay_diff_x\"] = df_match3[\"p_SOS_adj_sv_pts_won%_l60_decay_x\"] - df_match3[\"p_SOS_adj_sv_pts_won%_l60_decay_y\"]\n",
    "df_match3[\"p_SOS_adj_sv_pts_won%_l60_decay_diff_y\"] = -(df_match3[\"p_SOS_adj_sv_pts_won%_l60_decay_diff_x\"])"
   ]
  },
  {
   "cell_type": "code",
   "execution_count": null,
   "id": "2ba4fcce",
   "metadata": {},
   "outputs": [],
   "source": [
    "# \"OFFENSE VS OFFENSE\": % SERVE points won in previous 10 matches (surface-specific; NON-decay-weighted) differential between winner (_x) and loser (_y)\n",
    "#This is the NON-Strength of Schedule Adjusted Version\n",
    "\n",
    "df_match3[\"p_sv_pts_won%_l10_diff_x\"] = df_match3[\"p_sv_pts_won%_l10_x\"] - df_match3[\"p_sv_pts_won%_l10_y\"]\n",
    "df_match3[\"p_sv_pts_won%_l10_diff_y\"] = -(df_match3[\"p_sv_pts_won%_l10_diff_x\"])"
   ]
  },
  {
   "cell_type": "code",
   "execution_count": null,
   "id": "e659baa1",
   "metadata": {},
   "outputs": [],
   "source": [
    "# \"OFFENSE VS OFFENSE\": % SERVE points won in previous 10 matches (surface-specific; NON-decay-weighted) differential between winner (_x) and loser (_y)\n",
    "#This is the Strength of Schedule Adjusted Version\n",
    "\n",
    "df_match3[\"p_SOS_adj_sv_pts_won%_l10_diff_x\"] = df_match3[\"p_SOS_adj_sv_pts_won%_l10_x\"] - df_match3[\"p_SOS_adj_sv_pts_won%_l10_y\"]\n",
    "df_match3[\"p_SOS_adj_sv_pts_won%_l10_diff_y\"] = -(df_match3[\"p_SOS_adj_sv_pts_won%_l10_diff_x\"])"
   ]
  },
  {
   "cell_type": "code",
   "execution_count": null,
   "id": "ff1796c6",
   "metadata": {},
   "outputs": [],
   "source": [
    "# \"DEFENSE VS DEFENSE\": % RETURN points won in previous 60 matches (surface-specific; decay-weighted) differential between winner (_x) and loser (_y)\n",
    "#This is the NON-Strength of Schedule Adjusted Version\n",
    "\n",
    "df_match3[\"p_ret_pts_won%_l60_decay_diff_x\"] = df_match3[\"p_ret_pts_won%_l60_decay_x\"] - df_match3[\"p_ret_pts_won%_l60_decay_y\"]\n",
    "df_match3[\"p_ret_pts_won%_l60_decay_diff_y\"] = -(df_match3[\"p_ret_pts_won%_l60_decay_diff_x\"])"
   ]
  },
  {
   "cell_type": "code",
   "execution_count": null,
   "id": "d0c79da5",
   "metadata": {},
   "outputs": [],
   "source": [
    "# \"DEFENSE VS DEFENSE\": % RETURN points won in previous 60 matches (surface-specific; decay-weighted) differential between winner (_x) and loser (_y)\n",
    "#This is the Strength of Schedule Adjusted Version\n",
    "\n",
    "df_match3[\"p_SOS_adj_ret_pts_won%_l60_decay_diff_x\"] = df_match3[\"p_SOS_adj_ret_pts_won%_l60_decay_x\"] - df_match3[\"p_SOS_adj_ret_pts_won%_l60_decay_y\"]\n",
    "df_match3[\"p_SOS_adj_ret_pts_won%_l60_decay_diff_y\"] = -(df_match3[\"p_SOS_adj_ret_pts_won%_l60_decay_diff_x\"])"
   ]
  },
  {
   "cell_type": "code",
   "execution_count": null,
   "id": "5e7c2661",
   "metadata": {},
   "outputs": [],
   "source": [
    "# \"DEFENSE VS DEFENSE\": % RETURN points won in previous 10 matches (surface-specific; NON-decay-weighted) differential between winner (_x) and loser (_y)\n",
    "#This is the NON-Strength of Schedule Adjusted Version\n",
    "\n",
    "df_match3[\"p_ret_pts_won%_l10_diff_x\"] = df_match3[\"p_ret_pts_won%_l10_x\"] - df_match3[\"p_ret_pts_won%_l10_y\"]\n",
    "df_match3[\"p_ret_pts_won%_l10_diff_y\"] = -(df_match3[\"p_ret_pts_won%_l10_diff_x\"])"
   ]
  },
  {
   "cell_type": "code",
   "execution_count": null,
   "id": "99f445ce",
   "metadata": {},
   "outputs": [],
   "source": [
    "# \"DEFENSE VS DEFENSE\": % RETURN points won in previous 10 matches (surface-specific; NON-decay-weighted) differential between winner (_x) and loser (_y)\n",
    "#This is the Strength of Schedule Adjusted Version\n",
    "\n",
    "df_match3[\"p_SOS_adj_ret_pts_won%_l10_diff_x\"] = df_match3[\"p_SOS_adj_ret_pts_won%_l10_x\"] - df_match3[\"p_SOS_adj_ret_pts_won%_l10_y\"]\n",
    "df_match3[\"p_SOS_adj_ret_pts_won%_l10_diff_y\"] = -(df_match3[\"p_SOS_adj_ret_pts_won%_l10_diff_x\"])"
   ]
  },
  {
   "cell_type": "code",
   "execution_count": null,
   "id": "3122dab8",
   "metadata": {},
   "outputs": [],
   "source": [
    "# \"OFFENSE VS DEFENSE\": % SERVE points won VS OPPONENT % RETURN points won in previous 60 matches (surface-specific; decay-weighted) differential between winner (_x) and loser (_y)\n",
    "#This is the NON-Strength of Schedule Adjusted Version\n",
    "\n",
    "df_match3[\"p_sv_opp_ret_pts_won%_l60_decay_diff_x\"] = df_match3[\"p_sv_pts_won%_l60_decay_x\"] - df_match3[\"p_ret_pts_won%_l60_decay_y\"]\n",
    "df_match3[\"p_sv_opp_ret_pts_won%_l60_decay_diff_y\"] = df_match3[\"p_sv_pts_won%_l60_decay_y\"] - df_match3[\"p_ret_pts_won%_l60_decay_x\"]"
   ]
  },
  {
   "cell_type": "code",
   "execution_count": null,
   "id": "18fe0e2e",
   "metadata": {},
   "outputs": [],
   "source": [
    "# \"OFFENSE VS DEFENSE\": % SERVE points won VS OPPONENT % RETURN points won in previous 60 matches (surface-specific; decay-weighted) differential between winner (_x) and loser (_y)\n",
    "#This is the Strength of Schedule Adjusted Version\n",
    "\n",
    "df_match3[\"p_SOS_adj_sv_opp_ret_pts_won%_l60_decay_diff_x\"] = df_match3[\"p_SOS_adj_sv_pts_won%_l60_decay_x\"] - df_match3[\"p_SOS_adj_ret_pts_won%_l60_decay_y\"]\n",
    "df_match3[\"p_SOS_adj_sv_opp_ret_pts_won%_l60_decay_diff_y\"] = df_match3[\"p_SOS_adj_sv_pts_won%_l60_decay_y\"] - df_match3[\"p_SOS_adj_ret_pts_won%_l60_decay_x\"]"
   ]
  },
  {
   "cell_type": "code",
   "execution_count": null,
   "id": "5e33e4d2",
   "metadata": {},
   "outputs": [],
   "source": [
    "# \"OFFENSE VS DEFENSE\": % SERVE points won VS OPPONENT % RETURN points won in previous 10 matches (surface-specific; NON-decay-weighted) differential between winner (_x) and loser (_y)\n",
    "#This is the NON-Strength of Schedule Adjusted Version\n",
    "\n",
    "df_match3[\"p_sv_opp_ret_pts_won%_l10_diff_x\"] = df_match3[\"p_sv_pts_won%_l10_x\"] - df_match3[\"p_ret_pts_won%_l10_y\"]\n",
    "df_match3[\"p_sv_opp_ret_pts_won%_l10_diff_y\"] = df_match3[\"p_sv_pts_won%_l10_y\"] - df_match3[\"p_ret_pts_won%_l10_x\"]"
   ]
  },
  {
   "cell_type": "code",
   "execution_count": null,
   "id": "eb190d2a",
   "metadata": {},
   "outputs": [],
   "source": [
    "# \"OFFENSE VS DEFENSE\": % SERVE points won VS OPPONENT % RETURN points won in previous 10 matches (surface-specific; NON-decay-weighted) differential between winner (_x) and loser (_y)\n",
    "#This is the Strength of Schedule Adjusted Version\n",
    "\n",
    "df_match3[\"p_SOS_adj_sv_opp_ret_pts_won%_l10_diff_x\"] = df_match3[\"p_SOS_adj_sv_pts_won%_l10_x\"] - df_match3[\"p_SOS_adj_ret_pts_won%_l10_y\"]\n",
    "df_match3[\"p_SOS_adj_sv_opp_ret_pts_won%_l10_diff_y\"] = df_match3[\"p_SOS_adj_sv_pts_won%_l10_y\"] - df_match3[\"p_SOS_adj_ret_pts_won%_l10_x\"]"
   ]
  },
  {
   "cell_type": "code",
   "execution_count": null,
   "id": "b7d9b056",
   "metadata": {},
   "outputs": [],
   "source": [
    "# \"DEFENSE VS OFFENSE\": % RETURN points won VS OPPONENT % SERVE points won in previous 60 matches (surface-specific; decay-weighted) differential between winner (_x) and loser (_y)\n",
    "#This is the NON-Strength of Schedule Adjusted Version\n",
    "\n",
    "df_match3[\"p_ret_opp_sv_pts_won%_l60_decay_diff_x\"] = df_match3[\"p_ret_pts_won%_l60_decay_x\"] - df_match3[\"p_sv_pts_won%_l60_decay_y\"]\n",
    "df_match3[\"p_ret_opp_sv_pts_won%_l60_decay_diff_y\"] = df_match3[\"p_ret_pts_won%_l60_decay_y\"] - df_match3[\"p_sv_pts_won%_l60_decay_x\"]"
   ]
  },
  {
   "cell_type": "code",
   "execution_count": null,
   "id": "dc3e8d66",
   "metadata": {},
   "outputs": [],
   "source": [
    "# \"DEFENSE VS OFFENSE\": % RETURN points won VS OPPONENT % SERVE points won in previous 60 matches (surface-specific; decay-weighted) differential between winner (_x) and loser (_y)\n",
    "#This is the Strength of Schedule Adjusted Version\n",
    "\n",
    "df_match3[\"p_SOS_adj_ret_opp_sv_pts_won%_l60_decay_diff_x\"] = df_match3[\"p_SOS_adj_ret_pts_won%_l60_decay_x\"] - df_match3[\"p_SOS_adj_sv_pts_won%_l60_decay_y\"]\n",
    "df_match3[\"p_SOS_adj_ret_opp_sv_pts_won%_l60_decay_diff_y\"] = df_match3[\"p_SOS_adj_ret_pts_won%_l60_decay_y\"] - df_match3[\"p_SOS_adj_sv_pts_won%_l60_decay_x\"]"
   ]
  },
  {
   "cell_type": "code",
   "execution_count": null,
   "id": "87019121",
   "metadata": {},
   "outputs": [],
   "source": [
    "# \"DEFENSE VS OFFENSE\": % RETURN points won VS OPPONENT % SERVE points won in previous 10 matches (surface-specific; NON-decay-weighted) differential between winner (_x) and loser (_y)\n",
    "#This is the NON-Strength of Schedule Adjusted Version\n",
    "\n",
    "df_match3[\"p_ret_opp_sv_pts_won%_l10_diff_x\"] = df_match3[\"p_ret_pts_won%_l10_x\"] - df_match3[\"p_sv_pts_won%_l10_y\"]\n",
    "df_match3[\"p_ret_opp_sv_pts_won%_l10_diff_y\"] = df_match3[\"p_ret_pts_won%_l10_y\"] - df_match3[\"p_sv_pts_won%_l10_x\"]"
   ]
  },
  {
   "cell_type": "code",
   "execution_count": null,
   "id": "e2f32afe",
   "metadata": {},
   "outputs": [],
   "source": [
    "# \"DEFENSE VS OFFENSE\": % RETURN points won VS OPPONENT % SERVE points won in previous 10 matches (surface-specific; NON-decay-weighted) differential between winner (_x) and loser (_y)\n",
    "#This is the Strength of Schedule Adjusted Version\n",
    "\n",
    "df_match3[\"p_SOS_adj_ret_opp_sv_pts_won%_l10_diff_x\"] = df_match3[\"p_SOS_adj_ret_pts_won%_l10_x\"] - df_match3[\"p_SOS_adj_sv_pts_won%_l10_y\"]\n",
    "df_match3[\"p_SOS_adj_ret_opp_sv_pts_won%_l10_diff_y\"] = df_match3[\"p_SOS_adj_ret_pts_won%_l10_y\"] - df_match3[\"p_SOS_adj_sv_pts_won%_l10_x\"]"
   ]
  },
  {
   "cell_type": "code",
   "execution_count": null,
   "id": "d71e9042",
   "metadata": {},
   "outputs": [],
   "source": [
    "# \"OFFENSE VS OFFENSE\": player ace% VS OPPONENT ace% in previous 60 matches (surface-specific; decay-weighted) differential between winner (_x) and loser (_y)\n",
    "#This is the NON-Strength of Schedule Adjusted Version\n",
    "\n",
    "df_match3[\"p_ace%_l60_decay_diff_x\"] = df_match3[\"p_ace%_l60_decay_x\"] - df_match3[\"p_ace%_l60_decay_y\"]\n",
    "df_match3[\"p_ace%_l60_decay_diff_y\"] = -(df_match3[\"p_ace%_l60_decay_diff_x\"]) "
   ]
  },
  {
   "cell_type": "code",
   "execution_count": null,
   "id": "0fc050a5",
   "metadata": {},
   "outputs": [],
   "source": [
    "# \"OFFENSE VS OFFENSE\": player ace% VS OPPONENT ace% in previous 60 matches (surface-specific; decay-weighted) differential between winner (_x) and loser (_y)\n",
    "#This is the Strength of Schedule Adjusted Version\n",
    "\n",
    "df_match3[\"p_SOS_adj_ace%_l60_decay_diff_x\"] = df_match3[\"p_SOS_adj_ace%_l60_decay_x\"] - df_match3[\"p_SOS_adj_ace%_l60_decay_y\"]\n",
    "df_match3[\"p_SOS_adj_ace%_l60_decay_diff_y\"] = -(df_match3[\"p_SOS_adj_ace%_l60_decay_diff_x\"]) "
   ]
  },
  {
   "cell_type": "code",
   "execution_count": null,
   "id": "8a62e308",
   "metadata": {},
   "outputs": [],
   "source": [
    "# \"OFFENSE VS OFFENSE\": player ace% VS OPPONENT ace% in previous 10 matches (surface-specific; NON-decay-weighted) differential between winner (_x) and loser (_y)\n",
    "#This is the NON-Strength of Schedule Adjusted Version\n",
    "\n",
    "df_match3[\"p_ace%_l10_diff_x\"] = df_match3[\"p_ace%_l10_x\"] - df_match3[\"p_ace%_l10_y\"]\n",
    "df_match3[\"p_ace%_l10_diff_y\"] = -(df_match3[\"p_ace%_l10_diff_x\"]) "
   ]
  },
  {
   "cell_type": "code",
   "execution_count": null,
   "id": "d2a58ab5",
   "metadata": {},
   "outputs": [],
   "source": [
    "# \"OFFENSE VS OFFENSE\": player ace% VS OPPONENT ace% in previous 60 matches (surface-specific; decay-weighted) differential between winner (_x) and loser (_y)\n",
    "#This is the Strength of Schedule Adjusted Version\n",
    "\n",
    "df_match3[\"p_SOS_adj_ace%_l10_diff_x\"] = df_match3[\"p_SOS_adj_ace%_l10_x\"] - df_match3[\"p_SOS_adj_ace%_l10_y\"]\n",
    "df_match3[\"p_SOS_adj_ace%_l10_diff_y\"] = -(df_match3[\"p_SOS_adj_ace%_l10_diff_x\"]) "
   ]
  },
  {
   "cell_type": "code",
   "execution_count": null,
   "id": "e1c87517",
   "metadata": {},
   "outputs": [],
   "source": [
    "# \"DEFENSE VS DEFENSE\": player aced% VS OPPONENT aced% in previous 60 matches (surface-specific; decay-weighted) differential between winner (_x) and loser (_y)\n",
    "#This is the NON-Strength of Schedule Adjusted Version\n",
    "\n",
    "df_match3[\"p_aced%_l60_decay_diff_x\"] = df_match3[\"p_aced%_l60_decay_x\"] - df_match3[\"p_aced%_l60_decay_y\"]\n",
    "df_match3[\"p_aced%_l60_decay_diff_y\"] = -(df_match3[\"p_aced%_l60_decay_diff_x\"]) "
   ]
  },
  {
   "cell_type": "code",
   "execution_count": null,
   "id": "f03502e2",
   "metadata": {},
   "outputs": [],
   "source": [
    "# \"DEFENSE VS DEFENSE\": player aced% VS OPPONENT aced% in previous 60 matches (surface-specific; decay-weighted) differential between winner (_x) and loser (_y)\n",
    "#This is the Strength of Schedule Adjusted Version\n",
    "\n",
    "df_match3[\"p_SOS_adj_aced%_l60_decay_diff_x\"] = df_match3[\"p_SOS_adj_aced%_l60_decay_x\"] - df_match3[\"p_SOS_adj_aced%_l60_decay_y\"]\n",
    "df_match3[\"p_SOS_adj_aced%_l60_decay_diff_y\"] = -(df_match3[\"p_SOS_adj_aced%_l60_decay_diff_x\"])"
   ]
  },
  {
   "cell_type": "code",
   "execution_count": null,
   "id": "b737c836",
   "metadata": {},
   "outputs": [],
   "source": [
    "# \"DEFENSE VS DEFENSE\": player aced% VS OPPONENT aced% in previous 10 matches (surface-specific; NON-decay-weighted) differential between winner (_x) and loser (_y)\n",
    "#This is the NON-Strength of Schedule Adjusted Version\n",
    "\n",
    "df_match3[\"p_aced%_l10_diff_x\"] = df_match3[\"p_aced%_l10_x\"] - df_match3[\"p_aced%_l10_y\"]\n",
    "df_match3[\"p_aced%_l10_diff_y\"] = -(df_match3[\"p_aced%_l10_diff_x\"]) "
   ]
  },
  {
   "cell_type": "code",
   "execution_count": null,
   "id": "0e98b104",
   "metadata": {},
   "outputs": [],
   "source": [
    "# \"DEFENSE VS DEFENSE\": player aced% VS OPPONENT aced% in previous 10 matches (surface-specific; NON-decay-weighted) differential between winner (_x) and loser (_y)\n",
    "#This is the NON-Strength of Schedule Adjusted Version\n",
    "\n",
    "df_match3[\"p_SOS_adj_aced%_l10_diff_x\"] = df_match3[\"p_SOS_adj_aced%_l10_x\"] - df_match3[\"p_SOS_adj_aced%_l10_y\"]\n",
    "df_match3[\"p_SOS_adj_aced%_l10_diff_y\"] = -(df_match3[\"p_SOS_adj_aced%_l10_diff_x\"]) "
   ]
  },
  {
   "cell_type": "code",
   "execution_count": null,
   "id": "15bf726c",
   "metadata": {},
   "outputs": [],
   "source": [
    "# \"OFFENSE VS DEFENSE\": player ace% VS OPPONENT aced% in previous 60 matches (surface-specific; decay-weighted) differential between winner (_x) and loser (_y)\n",
    "#This is the NON-Strength of Schedule Adjusted Version\n",
    "\n",
    "df_match3[\"p_ace%_opp_aced%_l60_decay_diff_x\"] = df_match3[\"p_ace%_l60_decay_x\"] - df_match3[\"p_aced%_l60_decay_y\"]\n",
    "df_match3[\"p_ace%_opp_aced%_l60_decay_diff_y\"] = df_match3[\"p_ace%_l60_decay_y\"] - df_match3[\"p_aced%_l60_decay_x\"]"
   ]
  },
  {
   "cell_type": "code",
   "execution_count": null,
   "id": "ae3ba21f",
   "metadata": {},
   "outputs": [],
   "source": [
    "# \"OFFENSE VS DEFENSE\": player ace% VS OPPONENT aced% in previous 60 matches (surface-specific;decay-weighted) differential between winner (_x) and loser (_y)\n",
    "#This is the Strength of Schedule Adjusted Version\n",
    "\n",
    "df_match3[\"p_SOS_adj_ace%_opp_aced%_l60_decay_diff_x\"] = df_match3[\"p_SOS_adj_ace%_l60_decay_x\"] - df_match3[\"p_SOS_adj_aced%_l60_decay_y\"]\n",
    "df_match3[\"p_SOS_adj_ace%_opp_aced%_l60_decay_diff_y\"] = df_match3[\"p_SOS_adj_ace%_l60_decay_y\"] - df_match3[\"p_SOS_adj_aced%_l60_decay_x\"]"
   ]
  },
  {
   "cell_type": "code",
   "execution_count": null,
   "id": "3291e927",
   "metadata": {},
   "outputs": [],
   "source": [
    "# \"OFFENSE VS DEFENSE\": player ace% VS OPPONENT aced% in previous 10 matches (surface-specific; NON-decay-weighted) differential between winner (_x) and loser (_y)\n",
    "#This is the NON-Strength of Schedule Adjusted Version\n",
    "\n",
    "df_match3[\"p_ace%_opp_aced%_l10_diff_x\"] = df_match3[\"p_ace%_l10_x\"] - df_match3[\"p_aced%_l10_y\"]\n",
    "df_match3[\"p_ace%_opp_aced%_l10_diff_y\"] = df_match3[\"p_ace%_l10_y\"] - df_match3[\"p_aced%_l10_x\"]"
   ]
  },
  {
   "cell_type": "code",
   "execution_count": null,
   "id": "a32d630e",
   "metadata": {},
   "outputs": [],
   "source": [
    "# \"OFFENSE VS DEFENSE\": player ace% VS OPPONENT aced% in previous 10 matches (surface-specific; NON-decay-weighted) differential between winner (_x) and loser (_y)\n",
    "#This is the Strength of Schedule Adjusted Version\n",
    "\n",
    "df_match3[\"p_SOS_adj_ace%_opp_aced%_l10_diff_x\"] = df_match3[\"p_SOS_adj_ace%_l10_x\"] - df_match3[\"p_SOS_adj_aced%_l10_y\"]\n",
    "df_match3[\"p_SOS_adj_ace%_opp_aced%_l10_diff_y\"] = df_match3[\"p_SOS_adj_ace%_l10_y\"] - df_match3[\"p_SOS_adj_aced%_l10_x\"]"
   ]
  },
  {
   "cell_type": "code",
   "execution_count": null,
   "id": "21a3a1ea",
   "metadata": {},
   "outputs": [],
   "source": [
    "# \"DEFENSE VS OFFENSE\": player aced% VS OPPONENT ace% in previous 60 matches (surface-specific; decay-weighted) differential between winner (_x) and loser (_y)\n",
    "#This is the Non-Strength of Schedule Adjusted Version\n",
    "\n",
    "df_match3[\"p_aced%_opp_ace%_l60_decay_diff_x\"] = df_match3[\"p_aced%_l60_decay_x\"] - df_match3[\"p_ace%_l60_decay_y\"]\n",
    "df_match3[\"p_aced%_opp_ace%_l60_decay_diff_y\"] = df_match3[\"p_aced%_l60_decay_y\"] - df_match3[\"p_ace%_l60_decay_x\"]"
   ]
  },
  {
   "cell_type": "code",
   "execution_count": null,
   "id": "72bddd41",
   "metadata": {},
   "outputs": [],
   "source": [
    "# \"DEFENSE VS OFFENSE\": player aced% VS OPPONENT ace% in previous 6o matches (surface-specific; decay-weighted) differential between winner (_x) and loser (_y)\n",
    "#This is the Strength of Schedule Adjusted Version\n",
    "\n",
    "df_match3[\"p_SOS_adj_aced%_opp_ace%_l60_decay_diff_x\"] = df_match3[\"p_SOS_adj_aced%_l60_decay_x\"] - df_match3[\"p_SOS_adj_ace%_l60_decay_y\"]\n",
    "df_match3[\"p_SOS_adj_aced%_opp_ace%_l60_decay_diff_y\"] = df_match3[\"p_SOS_adj_aced%_l60_decay_y\"] - df_match3[\"p_SOS_adj_ace%_l60_decay_x\"]"
   ]
  },
  {
   "cell_type": "code",
   "execution_count": null,
   "id": "fc6e0415",
   "metadata": {},
   "outputs": [],
   "source": [
    "# \"DEFENSE VS OFFENSE\": player aced% VS OPPONENT ace% in previous 10 matches (surface-specific; NON-decay-weighted) differential between winner (_x) and loser (_y)\n",
    "#This is the Non-Strength of Schedule Adjusted Version\n",
    "\n",
    "df_match3[\"p_aced%_opp_ace%_l10_diff_x\"] = df_match3[\"p_aced%_l10_x\"] - df_match3[\"p_ace%_l10_y\"]\n",
    "df_match3[\"p_aced%_opp_ace%_l10_diff_y\"] = df_match3[\"p_aced%_l10_y\"] - df_match3[\"p_ace%_l10_x\"]"
   ]
  },
  {
   "cell_type": "code",
   "execution_count": null,
   "id": "a0593de7",
   "metadata": {},
   "outputs": [],
   "source": [
    "# \"DEFENSE VS OFFENSE\": player aced% VS OPPONENT ace% in previous 10 matches (surface-specific; NON-decay-weighted) differential between winner (_x) and loser (_y)\n",
    "#This is the Strength of Schedule Adjusted Version\n",
    "\n",
    "df_match3[\"p_SOS_adj_aced%_opp_ace%_l10_diff_x\"] = df_match3[\"p_SOS_adj_aced%_l10_x\"] - df_match3[\"p_SOS_adj_ace%_l10_y\"]\n",
    "df_match3[\"p_SOS_adj_aced%_opp_ace%_l10_diff_y\"] = df_match3[\"p_SOS_adj_aced%_l10_y\"] - df_match3[\"p_SOS_adj_ace%_l10_x\"]"
   ]
  },
  {
   "cell_type": "code",
   "execution_count": null,
   "id": "3dc72422",
   "metadata": {},
   "outputs": [],
   "source": [
    "# \"DEFENSE VS DEFENSE\": player bp saved% VS OPPONENT bp saved % in previous 60 matches (surface-specific; non-decay weighted) differential between winner (_x) and loser (_y)\n",
    "#This is the NON-Strength of Schedule Adjusted Version\n",
    "\n",
    "df_match3[\"p_bp_save%_l60_diff_x\"] = df_match3[\"p_bp_save%_l60_x\"] - df_match3[\"p_bp_save%_l60_y\"]\n",
    "df_match3[\"p_bp_save%_l60_diff_y\"] = -(df_match3[\"p_bp_save%_l60_diff_x\"]) "
   ]
  },
  {
   "cell_type": "code",
   "execution_count": null,
   "id": "ae8e3bcb",
   "metadata": {},
   "outputs": [],
   "source": [
    "# \"DEFENSE VS DEFENSE\": player bp saved% VS OPPONENT bp saved % in previous 60 matches (surface-specific; non-decay weighted) differential between winner (_x) and loser (_y)\n",
    "#This is the Strength of Schedule Adjusted Version\n",
    "\n",
    "df_match3[\"p_SOS_adj_bp_save%_l60_diff_x\"] = df_match3[\"p_SOS_adj_bp_save%_l60_x\"] - df_match3[\"p_SOS_adj_bp_save%_l60_y\"]\n",
    "df_match3[\"p_SOS_adj_bp_save%_l60_diff_y\"] = -(df_match3[\"p_SOS_adj_bp_save%_l60_diff_x\"]) "
   ]
  },
  {
   "cell_type": "code",
   "execution_count": null,
   "id": "9d6e8669",
   "metadata": {},
   "outputs": [],
   "source": [
    "# \"DEFENSE VS DEFENSE\": player bp saved% VS OPPONENT bp saved % in previous 10 matches (surface-specific; NON-decay weighted) differential between winner (_x) and loser (_y)\n",
    "#This is the NON-Strength of Schedule Adjusted Version\n",
    "\n",
    "df_match3[\"p_bp_save%_l10_diff_x\"] = df_match3[\"p_bp_save%_l10_x\"] - df_match3[\"p_bp_save%_l10_y\"]\n",
    "df_match3[\"p_bp_save%_l10_diff_y\"] = -(df_match3[\"p_bp_save%_l10_diff_x\"])"
   ]
  },
  {
   "cell_type": "code",
   "execution_count": null,
   "id": "43616bf5",
   "metadata": {},
   "outputs": [],
   "source": [
    "# \"DEFENSE VS DEFENSE\": player bp saved% VS OPPONENT bp saved % in previous 10 matches (surface-specific; NON-decay weighted) differential between winner (_x) and loser (_y)\n",
    "#This is the Strength of Schedule Adjusted Version\n",
    "\n",
    "df_match3[\"p_SOS_adj_bp_save%_l10_diff_x\"] = df_match3[\"p_SOS_adj_bp_save%_l10_x\"] - df_match3[\"p_SOS_adj_bp_save%_l10_y\"]\n",
    "df_match3[\"p_SOS_adj_bp_save%_l10_diff_y\"] = -(df_match3[\"p_SOS_adj_bp_save%_l10_diff_x\"])"
   ]
  },
  {
   "cell_type": "code",
   "execution_count": null,
   "id": "05dc742e",
   "metadata": {},
   "outputs": [],
   "source": [
    "# \"OFFENSE VS OFFENSE\": player bp convert% VS OPPONENT bp convert% in previous 60 matches (surface-specific; NON-decay weighted) differential between winner (_x) and loser (_y)\n",
    "#This is the NON-Strength of Schedule Adjusted Version\n",
    "\n",
    "df_match3[\"p_bp_convert%_l60_diff_x\"] = df_match3[\"p_bp_convert%_l60_x\"] - df_match3[\"p_bp_convert%_l60_y\"]\n",
    "df_match3[\"p_bp_convert%_l60_diff_y\"] = -(df_match3[\"p_bp_convert%_l60_diff_x\"]) "
   ]
  },
  {
   "cell_type": "code",
   "execution_count": null,
   "id": "def3e019",
   "metadata": {},
   "outputs": [],
   "source": [
    "# \"OFFENSE VS OFFENSE\": player bp convert% VS OPPONENT bp convert% in previous 60 matches (surface-specific; NON-decay weighted) differential between winner (_x) and loser (_y)\n",
    "#This is the Strength of Schedule Adjusted Version\n",
    "\n",
    "df_match3[\"p_SOS_adj_bp_convert%_l60_diff_x\"] = df_match3[\"p_SOS_adj_bp_convert%_l60_x\"] - df_match3[\"p_SOS_adj_bp_convert%_l60_y\"]\n",
    "df_match3[\"p_SOS_adj_bp_convert%_l60_diff_y\"] = -(df_match3[\"p_SOS_adj_bp_convert%_l60_diff_x\"]) "
   ]
  },
  {
   "cell_type": "code",
   "execution_count": null,
   "id": "f4eeae4e",
   "metadata": {},
   "outputs": [],
   "source": [
    "# \"OFFENSE VS OFFENSE\": player bp convert% VS OPPONENT bp convert% in previous 10 matches (surface-specific; NON-decay weighted) differential between winner (_x) and loser (_y)\n",
    "#This is the NON-Strength of Schedule Adjusted Version\n",
    "\n",
    "df_match3[\"p_bp_convert%_l10_diff_x\"] = df_match3[\"p_bp_convert%_l10_x\"] - df_match3[\"p_bp_convert%_l10_y\"]\n",
    "df_match3[\"p_bp_convert%_l10_diff_y\"] = -(df_match3[\"p_bp_convert%_l10_diff_x\"]) "
   ]
  },
  {
   "cell_type": "code",
   "execution_count": null,
   "id": "6868cc8e",
   "metadata": {},
   "outputs": [],
   "source": [
    "# \"OFFENSE VS OFFENSE\": player bp convert% VS OPPONENT bp convert% in previous 10 matches (surface-specific; NON-decay weighted) differential between winner (_x) and loser (_y)\n",
    "#This is the Strength of Schedule Adjusted Version\n",
    "\n",
    "df_match3[\"p_SOS_adj_bp_convert%_l10_diff_x\"] = df_match3[\"p_SOS_adj_bp_convert%_l10_x\"] - df_match3[\"p_SOS_adj_bp_convert%_l10_y\"]\n",
    "df_match3[\"p_SOS_adj_bp_convert%_l10_diff_y\"] = -(df_match3[\"p_SOS_adj_bp_convert%_l10_diff_x\"]) "
   ]
  },
  {
   "cell_type": "code",
   "execution_count": null,
   "id": "82abd891",
   "metadata": {},
   "outputs": [],
   "source": [
    "# \"OFFENSE VS DEFENSE\": player bp convert% VS OPPONENT bp save% in previous 60 matches (surface-specific; NON-decay weighted) differential between winner (_x) and loser (_y)\n",
    "#This is the NON-Strength of Schedule Adjusted Version\n",
    "\n",
    "df_match3[\"p_bp_convert%_opp_bp_save%_l60_diff_x\"] = df_match3[\"p_bp_convert%_l60_x\"] - df_match3[\"p_bp_save%_l60_y\"]\n",
    "df_match3[\"p_bp_convert%_opp_bp_save%_l60_diff_y\"] = df_match3[\"p_bp_convert%_l60_y\"] - df_match3[\"p_bp_save%_l60_x\"]"
   ]
  },
  {
   "cell_type": "code",
   "execution_count": null,
   "id": "5816cd2c",
   "metadata": {},
   "outputs": [],
   "source": [
    "# \"OFFENSE VS DEFENSE\": player bp convert% VS OPPONENT bp save% in previous 60 matches (surface-specific; NON-decay weighted) differential between winner (_x) and loser (_y)\n",
    "#This is the Strength of Schedule Adjusted Version\n",
    "\n",
    "df_match3[\"p_SOS_adj_bp_convert%_opp_bp_save%_l60_diff_x\"] = df_match3[\"p_bp_convert%_l60_x\"] - df_match3[\"p_bp_save%_l60_y\"]\n",
    "df_match3[\"p_SOS_adj_bp_convert%_opp_bp_save%_l60_diff_y\"] = df_match3[\"p_bp_convert%_l60_y\"] - df_match3[\"p_bp_save%_l60_x\"]"
   ]
  },
  {
   "cell_type": "code",
   "execution_count": null,
   "id": "75ed2ccd",
   "metadata": {},
   "outputs": [],
   "source": [
    "# \"OFFENSE VS DEFENSE\": player bp convert% VS OPPONENT bp save% in previous 10 matches (surface-specific; NON-decay weighted) differential between winner (_x) and loser (_y)\n",
    "#This is the NON-Strength of Schedule Adjusted Version\n",
    "\n",
    "df_match3[\"p_bp_convert%_opp_bp_save%_l10_diff_x\"] = df_match3[\"p_bp_convert%_l10_x\"] - df_match3[\"p_bp_save%_l10_y\"]\n",
    "df_match3[\"p_bp_convert%_opp_bp_save%_l10_diff_y\"] = df_match3[\"p_bp_convert%_l10_y\"] - df_match3[\"p_bp_save%_l10_x\"]"
   ]
  },
  {
   "cell_type": "code",
   "execution_count": null,
   "id": "dd106bd0",
   "metadata": {},
   "outputs": [],
   "source": [
    "# \"OFFENSE VS DEFENSE\": player bp convert% VS OPPONENT bp save% in previous 10 matches (surface-specific; NON-decay weighted) differential between winner (_x) and loser (_y)\n",
    "#This is the Strength of Schedule Adjusted Version\n",
    "\n",
    "df_match3[\"p_SOS_adj_bp_convert%_opp_bp_save%_l10_diff_x\"] = df_match3[\"p_bp_convert%_l10_x\"] - df_match3[\"p_bp_save%_l10_y\"]\n",
    "df_match3[\"p_SOS_adj_bp_convert%_opp_bp_save%_l10_diff_y\"] = df_match3[\"p_bp_convert%_l10_y\"] - df_match3[\"p_bp_save%_l10_x\"]"
   ]
  },
  {
   "cell_type": "code",
   "execution_count": null,
   "id": "d823e71d",
   "metadata": {},
   "outputs": [],
   "source": [
    "# \"DEFENSE VS OFFENSE\": player bp save% VS OPPONENT bp convert% in previous 60 matches (surface-specific; non-decay weighted) differential between winner (_x) and loser (_y)\n",
    "#This is the NON-Strength of Schedule Adjusted Version\n",
    "\n",
    "df_match3[\"p_bp_save%_opp_bp_convert%_l60_diff_x\"] = df_match3[\"p_bp_save%_l60_x\"] - df_match3[\"p_bp_convert%_l60_y\"]\n",
    "df_match3[\"p_bp_save%_opp_bp_convert%_l60_diff_y\"] = df_match3[\"p_bp_save%_l60_y\"] - df_match3[\"p_bp_convert%_l60_x\"]"
   ]
  },
  {
   "cell_type": "code",
   "execution_count": null,
   "id": "07cdb0b2",
   "metadata": {},
   "outputs": [],
   "source": [
    "# \"DEFENSE VS OFFENSE\": player bp save% VS OPPONENT bp convert% in previous 60 matches (surface-specific; non-decay weighted) differential between winner (_x) and loser (_y)\n",
    "#This is the Strength of Schedule Adjusted Version\n",
    "\n",
    "df_match3[\"p_SOS_adj_bp_save%_opp_bp_convert%_l60_diff_x\"] = df_match3[\"p_SOS_adj_bp_save%_l60_x\"] - df_match3[\"p_SOS_adj_bp_convert%_l60_y\"]\n",
    "df_match3[\"p_SOS_adj_bp_save%_opp_bp_convert%_l60_diff_y\"] = df_match3[\"p_SOS_adj_bp_save%_l60_y\"] - df_match3[\"p_SOS_adj_bp_convert%_l60_x\"]"
   ]
  },
  {
   "cell_type": "code",
   "execution_count": null,
   "id": "76a7eaa0",
   "metadata": {},
   "outputs": [],
   "source": [
    "# \"DEFENSE VS OFFENSE\": player bp save% VS OPPONENT bp convert% in previous 10 matches (surface-specific; non-decay weighted) differential between winner (_x) and loser (_y)\n",
    "#This is the NON-Strength of Schedule Adjusted Version\n",
    "\n",
    "df_match3[\"p_bp_save%_opp_bp_convert%_l10_diff_x\"] = df_match3[\"p_bp_save%_l10_x\"] - df_match3[\"p_bp_convert%_l10_y\"]\n",
    "df_match3[\"p_bp_save%_opp_bp_convert%_l10_diff_y\"] = df_match3[\"p_bp_save%_l10_y\"] - df_match3[\"p_bp_convert%_l10_x\"]"
   ]
  },
  {
   "cell_type": "code",
   "execution_count": null,
   "id": "661e3985",
   "metadata": {},
   "outputs": [],
   "source": [
    "# \"DEFENSE VS OFFENSE\": player bp save% VS OPPONENT bp convert% in previous 10 matches (surface-specific; non-decay weighted) differential between winner (_x) and loser (_y)\n",
    "#This is the Strength of Schedule Adjusted Version\n",
    "\n",
    "df_match3[\"p_SOS_adj_bp_save%_opp_bp_convert%_l10_diff_x\"] = df_match3[\"p_SOS_adj_bp_save%_l10_x\"] - df_match3[\"p_SOS_adj_bp_convert%_l10_y\"]\n",
    "df_match3[\"p_SOS_adj_bp_save%_opp_bp_convert%_l10_diff_y\"] = df_match3[\"p_SOS_adj_bp_save%_l10_y\"] - df_match3[\"p_SOS_adj_bp_convert%_l10_x\"]"
   ]
  },
  {
   "cell_type": "code",
   "execution_count": null,
   "id": "67c2e0b1",
   "metadata": {},
   "outputs": [],
   "source": [
    "# Diff in std for % total points won in previous 60 matches (surface-specific; decay-weighted) differential between winner (_x) and loser (_y)\n",
    "#This is the NON-Strength of Schedule Adjusted Version\n",
    "\n",
    "df_match3[\"p_pts_won%_std_l60_decay_diff_x\"] = df_match3[\"p_pts_won%_std_l60_decay_x\"] - df_match3[\"p_pts_won%_std_l60_decay_y\"]\n",
    "df_match3[\"p_pts_won%_std_l60_decay_diff_y\"] = -(df_match3[\"p_pts_won%_std_l60_decay_diff_x\"])"
   ]
  },
  {
   "cell_type": "code",
   "execution_count": null,
   "id": "1838a778",
   "metadata": {},
   "outputs": [],
   "source": [
    "# Diff in std for % serve points won in previous 60 matches (surface-specific; decay-weighted) differential between winner (_x) and loser (_y)\n",
    "#This is the NON-Strength of Schedule Adjusted Version\n",
    "\n",
    "df_match3[\"p_sv_pts_won%_std_l60_decay_diff_x\"] = df_match3[\"p_sv_pts_won%_std_l60_decay_x\"] - df_match3[\"p_sv_pts_won%_std_l60_decay_y\"]\n",
    "df_match3[\"p_sv_pts_won%_std_l60_decay_diff_y\"] = -(df_match3[\"p_sv_pts_won%_std_l60_decay_diff_x\"])"
   ]
  },
  {
   "cell_type": "code",
   "execution_count": null,
   "id": "1e7bd8d4",
   "metadata": {},
   "outputs": [],
   "source": [
    "# Diff in std for % return points won in previous 60 matches (surface-specific; decay-weighted) differential between winner (_x) and loser (_y)\n",
    "#This is the NON-Strength of Schedule Adjusted Version\n",
    "\n",
    "df_match3[\"p_ret_pts_won%_std_l60_decay_diff_x\"] = df_match3[\"p_ret_pts_won%_std_l60_decay_x\"] - df_match3[\"p_ret_pts_won%_std_l60_decay_y\"]\n",
    "df_match3[\"p_ret_pts_won%_std_l60_decay_diff_y\"] = -(df_match3[\"p_ret_pts_won%_std_l60_decay_diff_x\"])"
   ]
  },
  {
   "cell_type": "markdown",
   "id": "d5a184f1",
   "metadata": {},
   "source": [
    "#### Retrospective Stamina and Fatigue Player Performance Differential Predictive Features By Match"
   ]
  },
  {
   "cell_type": "code",
   "execution_count": null,
   "id": "a5da175f",
   "metadata": {},
   "outputs": [],
   "source": [
    "# Diff in number of minutes played in the immediate previous (within tournament) match between winner (_x) and loser (_y)\n",
    "\n",
    "df_match3[\"p_m_time_last_diff_x\"] = df_match3[\"p_m_time_last_x\"] - df_match3[\"p_m_time_last_y\"]\n",
    "df_match3[\"p_m_time_last_diff_y\"] = -(df_match3[\"p_m_time_last_diff_x\"])"
   ]
  },
  {
   "cell_type": "code",
   "execution_count": null,
   "id": "01bcbe80",
   "metadata": {},
   "outputs": [],
   "source": [
    "# NON-decay-adjusted number of minutes played over up to the last 6 (within tournament) matches between winner (_x) and loser (_y)\n",
    "\n",
    "df_match3[\"p_tot_time_l6_diff_x\"] = df_match3[\"p_tot_time_l6_x\"] - df_match3[\"p_tot_time_l6_y\"]\n",
    "df_match3[\"p_tot_time_l6_diff_y\"] = -(df_match3[\"p_tot_time_l6_diff_x\"])"
   ]
  },
  {
   "cell_type": "code",
   "execution_count": null,
   "id": "ee79a586",
   "metadata": {},
   "outputs": [],
   "source": [
    "# Decay-adjusted number of minutes played over up to the last 6 (within tournament) matches between winner (_x) and loser (_y)\n",
    "\n",
    "df_match3[\"p_tot_time_l6_decay_diff_x\"] = df_match3[\"p_tot_time_l6_decay_x\"] - df_match3[\"p_tot_time_l6_decay_y\"]\n",
    "df_match3[\"p_tot_time_l6_decay_diff_y\"] = -(df_match3[\"p_tot_time_l6_decay_diff_x\"]) "
   ]
  },
  {
   "cell_type": "code",
   "execution_count": null,
   "id": "0ef3191d",
   "metadata": {},
   "outputs": [],
   "source": [
    "# Diff in number of points played in the immediate previous (within tournament) match between winner (_x) and loser (_y)\n",
    "\n",
    "df_match3[\"p_tot_pts_last_diff_x\"] = df_match3[\"p_tot_pts_last_x\"] - df_match3[\"p_tot_pts_last_y\"]\n",
    "df_match3[\"p_tot_pts_last_diff_y\"] = -(df_match3[\"p_tot_pts_last_diff_x\"])"
   ]
  },
  {
   "cell_type": "code",
   "execution_count": null,
   "id": "043916a7",
   "metadata": {},
   "outputs": [],
   "source": [
    "# NON-decay-adjusted total number of points played over up to the last 6 (within tournament) matches between winner (_x) and loser (_y)\n",
    "\n",
    "df_match3[\"p_tot_pts_l6_diff_x\"] = df_match3[\"p_tot_pts_l6_x\"] - df_match3[\"p_tot_pts_l6_y\"]\n",
    "df_match3[\"p_tot_pts_l6_diff_y\"] = -(df_match3[\"p_tot_pts_l6_diff_x\"]) "
   ]
  },
  {
   "cell_type": "code",
   "execution_count": null,
   "id": "68448352",
   "metadata": {},
   "outputs": [],
   "source": [
    "# Decay-adjusted total number of points played over up to the last 6 (within tournament) matches between winner (_x) and loser (_y)\n",
    "\n",
    "df_match3[\"p_tot_pts_l6_decay_diff_x\"] = df_match3[\"p_tot_pts_l6_decay_x\"] - df_match3[\"p_tot_pts_l6_decay_y\"]\n",
    "df_match3[\"p_tot_pts_l6_decay_diff_y\"] = -(df_match3[\"p_tot_pts_l6_decay_diff_x\"]) "
   ]
  },
  {
   "cell_type": "code",
   "execution_count": null,
   "id": "9b030ee7",
   "metadata": {},
   "outputs": [],
   "source": [
    "# Difference in total matches played in the entire sample (non-surface specific) between winner (_x) and loser (_y)\n",
    "\n",
    "df_match3[\"p_matches_diff_x\"] = df_match3[\"p_matches_x\"] - df_match3[\"p_matches_y\"]\n",
    "df_match3[\"p_matches_diff_y\"] = -(df_match3[\"p_matches_diff_x\"]) "
   ]
  },
  {
   "cell_type": "code",
   "execution_count": null,
   "id": "da4c73bf",
   "metadata": {},
   "outputs": [],
   "source": [
    "# Difference in total matches played in the entire sample (SURFACE-SPECIFIC) between winner (_x) and loser (_y)\n",
    "\n",
    "df_match3[\"p_matches_surf_diff_x\"] = df_match3[\"p_matches_surf_x\"] - df_match3[\"p_matches_surf_y\"]\n",
    "df_match3[\"p_matches_surf_diff_y\"] = -(df_match3[\"p_matches_surf_diff_x\"]) "
   ]
  },
  {
   "cell_type": "code",
   "execution_count": null,
   "id": "1810e8cd",
   "metadata": {},
   "outputs": [],
   "source": [
    "# Difference in stamina-adjusted fatigue (decay weighted total time played last 6 component) between winner (_x) and loser (_y)\n",
    "\n",
    "df_match3[\"p_stamina_adj_fatigue_decay_diff_x\"] = df_match3[\"p_stamina_adj_fatigue_decay_x\"] - df_match3[\"p_stamina_adj_fatigue_decay_y\"]\n",
    "df_match3[\"p_stamina_adj_fatigue_decay_diff_y\"] = -(df_match3[\"p_stamina_adj_fatigue_decay_diff_x\"]) "
   ]
  },
  {
   "cell_type": "code",
   "execution_count": null,
   "id": "509b147c",
   "metadata": {},
   "outputs": [],
   "source": [
    "# Difference in stamina-adjusted fatigue (NON-decay weighted total time played last 6 component) between winner (_x) and loser (_y)\n",
    "\n",
    "df_match3[\"p_stamina_adj_fatigue_diff_x\"] = df_match3[\"p_stamina_adj_fatigue_x\"] - df_match3[\"p_stamina_adj_fatigue_y\"]\n",
    "df_match3[\"p_stamina_adj_fatigue_diff_y\"] = -(df_match3[\"p_stamina_adj_fatigue_diff_x\"]) "
   ]
  },
  {
   "cell_type": "code",
   "execution_count": null,
   "id": "327d3241",
   "metadata": {},
   "outputs": [],
   "source": [
    "# Head-to-Head Matchup Past Differential (surface-specific, but no time constraints) between winner (_x) and loser (_y)\n",
    "\n",
    "df_match3[\"p_H2H_diff_x\"] = df_match3[\"p_H2H_w_x\"] - df_match3[\"p_H2H_w_y\"]\n",
    "df_match3[\"p_H2H_diff_y\"] = -(df_match3[\"p_H2H_diff_x\"])"
   ]
  },
  {
   "cell_type": "code",
   "execution_count": null,
   "id": "7e3efd55",
   "metadata": {},
   "outputs": [],
   "source": [
    "# Head-to-Head Matchup Past Points Won % Differential (surface-specific, but no time constraints) between winner (_x) and loser (_y)\n",
    "\n",
    "df_match3[\"p_H2H_pts_won%_diff_x\"] = df_match3[\"p_H2H_pts_won%_x\"] - df_match3[\"p_H2H_pts_won%_y\"]\n",
    "df_match3[\"p_H2H_pts_won%_diff_y\"] = -(df_match3[\"p_H2H_pts_won%_diff_x\"])"
   ]
  },
  {
   "cell_type": "markdown",
   "id": "42964194",
   "metadata": {},
   "source": [
    "now back to by-player organization one final time.  A few additional features will be computed in relation to court speed prediction and then data will be prepped for the next stage (exploratory data analysis)"
   ]
  },
  {
   "cell_type": "code",
   "execution_count": null,
   "id": "5df9599f",
   "metadata": {},
   "outputs": [],
   "source": [
    "df_match3.to_csv('../data/df_match3.csv', index=False)"
   ]
  },
  {
   "cell_type": "code",
   "execution_count": null,
   "id": "67a326b7",
   "metadata": {},
   "outputs": [],
   "source": [
    "#df_match3.info()"
   ]
  },
  {
   "cell_type": "code",
   "execution_count": null,
   "id": "b82f95cc",
   "metadata": {},
   "outputs": [],
   "source": [
    "#Dropping loser (_y) columns for remerge by player\n",
    "df_winners4 = df_match3.drop([\"m_outcome_x\", \"m_outcome_y\", \"p_id_y\", \"p_name_y\", \"p_H2H_w_y\", \"p_H2H_pts_won%_y\", \"p_rank_y\", \"p_rank_pts_y\", \"p_country_y\", \"p_ent_y\", \"p_hd_y\", \"p_ht_y\", \"p_age_y\", \"p_matches_y\", \"p_matches_surf_y\", \"p_pts_won%_y\", \"p_pts_won%_l60_decay_y\", \"p_pts_won%_l60_decay_IO_y\", \"p_pts_won%_l10_y\", \"p_SOS_adj_pts_won%_l60_decay_y\", \"p_SOS_adj_pts_won%_l60_decay_IO_y\", \"p_SOS_adj_pts_won%_l60_decay_IO_weighted_y\",\"p_SOS_adj_pts_won%_l10_y\", \"p_sv_pts_won%_y\", \"p_sv_pts_won%_l60_decay_y\", \"p_sv_pts_won%_l10_y\", \"p_SOS_adj_sv_pts_won%_l60_decay_y\", \"p_SOS_adj_sv_pts_won%_l10_y\", \"p_ret_pts_won%_y\", \"p_ret_pts_won%_l60_decay_y\", \"p_ret_pts_won%_l10_y\", \"p_SOS_adj_ret_pts_won%_l60_decay_y\", \"p_SOS_adj_ret_pts_won%_l10_y\", \"p_ace%_y\", \"p_ace%_l60_decay_y\", \"p_ace%_l10_y\", \"p_SOS_adj_ace%_l60_decay_y\", \"p_SOS_adj_ace%_l10_y\", \"p_aced%_y\", \"p_aced%_l60_decay_y\", \"p_aced%_l10_y\", \"p_SOS_adj_aced%_l60_decay_y\", \"p_SOS_adj_aced%_l10_y\", \"p_bp_save%_y\", \"p_bp_save%_l60_y\", \"p_bp_save%_l10_y\", \"p_SOS_adj_bp_save%_l60_y\", \"p_SOS_adj_bp_save%_l10_y\", \"p_bp_convert%_y\", \"p_bp_convert%_l60_y\", \"p_bp_convert%_l10_y\", \"p_SOS_adj_bp_convert%_l60_y\", \"p_SOS_adj_bp_convert%_l10_y\", \"p_pts_won%_std_l60_decay_y\", \"p_sv_pts_won%_std_l60_decay_y\", \"p_ret_pts_won%_std_l60_decay_y\", \"p_m_time_last_y\", \"p_tot_time_l6_y\", \"p_tot_time_l6_decay_y\", \"p_tot_pts_last_y\",  \"p_tot_pts_l6_y\", \"p_tot_pts_l6_decay_y\", \"p_stamina_adj_fatigue_decay_y\", \"p_stamina_adj_fatigue_y\", \"p_IP_NV_y\", \"p_rank_diff_y\", \"p_log_rank_y\", \"p_log_rank_diff_y\", \"p_rank_pts_diff_y\", \"p_ent_diff_y\", \"p_ht_diff_y\", \"p_age_diff_y\", \"p_L_opp_R_y\", \"p_HCA_opp_N_y\", \"p_pts_won%_l60_decay_diff_y\", \"p_pts_won%_l60_decay_IO_diff_y\", \"p_SOS_adj_pts_won%_l60_decay_diff_y\", \"p_SOS_adj_pts_won%_l60_decay_IO_diff_y\", \"p_SOS_adj_pts_won%_l60_decay_IO_weighted_diff_y\", \"p_pts_won%_l10_diff_y\", \"p_SOS_adj_pts_won%_l10_diff_y\", \"p_sv_pts_won%_l60_decay_diff_y\", \"p_SOS_adj_sv_pts_won%_l60_decay_diff_y\", \"p_sv_pts_won%_l10_diff_y\", \"p_SOS_adj_sv_pts_won%_l10_diff_y\", \"p_ret_pts_won%_l60_decay_diff_y\", \"p_SOS_adj_ret_pts_won%_l60_decay_diff_y\", \"p_ret_pts_won%_l10_diff_y\", \"p_SOS_adj_ret_pts_won%_l10_diff_y\", \"p_sv_opp_ret_pts_won%_l60_decay_diff_y\", \"p_SOS_adj_sv_opp_ret_pts_won%_l60_decay_diff_y\", \"p_sv_opp_ret_pts_won%_l10_diff_y\", \"p_SOS_adj_sv_opp_ret_pts_won%_l10_diff_y\", \"p_ret_opp_sv_pts_won%_l60_decay_diff_y\", \"p_SOS_adj_ret_opp_sv_pts_won%_l60_decay_diff_y\", \"p_ret_opp_sv_pts_won%_l10_diff_y\", \"p_SOS_adj_ret_opp_sv_pts_won%_l10_diff_y\", \"p_ace%_l60_decay_diff_y\", \"p_SOS_adj_ace%_l60_decay_diff_y\", \"p_ace%_l10_diff_y\", \"p_SOS_adj_ace%_l10_diff_y\", \"p_aced%_l60_decay_diff_y\", \"p_SOS_adj_aced%_l60_decay_diff_y\", \"p_aced%_l10_diff_y\", \"p_SOS_adj_aced%_l10_diff_y\", \"p_ace%_opp_aced%_l60_decay_diff_y\", \"p_SOS_adj_ace%_opp_aced%_l60_decay_diff_y\", \"p_ace%_opp_aced%_l10_diff_y\", \"p_SOS_adj_ace%_opp_aced%_l10_diff_y\", \"p_aced%_opp_ace%_l60_decay_diff_y\", \"p_SOS_adj_aced%_opp_ace%_l60_decay_diff_y\", \"p_aced%_opp_ace%_l10_diff_y\", \"p_SOS_adj_aced%_opp_ace%_l10_diff_y\", \"p_bp_save%_l60_diff_y\", \"p_SOS_adj_bp_save%_l60_diff_y\", \"p_bp_save%_l10_diff_y\", \"p_SOS_adj_bp_save%_l10_diff_y\", \"p_bp_convert%_l60_diff_y\", \"p_SOS_adj_bp_convert%_l60_diff_y\", \"p_bp_convert%_l10_diff_y\", \"p_SOS_adj_bp_convert%_l10_diff_y\", \"p_bp_convert%_opp_bp_save%_l60_diff_y\", \"p_SOS_adj_bp_convert%_opp_bp_save%_l60_diff_y\", \"p_bp_convert%_opp_bp_save%_l10_diff_y\", \"p_SOS_adj_bp_convert%_opp_bp_save%_l10_diff_y\", \"p_bp_save%_opp_bp_convert%_l60_diff_y\", \"p_SOS_adj_bp_save%_opp_bp_convert%_l60_diff_y\", \"p_bp_save%_opp_bp_convert%_l10_diff_y\", \"p_SOS_adj_bp_save%_opp_bp_convert%_l10_diff_y\", \"p_pts_won%_std_l60_decay_diff_y\", \"p_sv_pts_won%_std_l60_decay_diff_y\", \"p_ret_pts_won%_std_l60_decay_diff_y\", \"p_m_time_last_diff_y\", \"p_tot_time_l6_diff_y\", \"p_tot_time_l6_decay_diff_y\", \"p_tot_pts_last_diff_y\", \"p_tot_pts_l6_diff_y\", \"p_tot_pts_l6_decay_diff_y\", \"p_matches_diff_y\", \"p_matches_surf_diff_y\", \"p_stamina_adj_fatigue_decay_diff_y\", \"p_stamina_adj_fatigue_diff_y\", \"p_H2H_diff_y\", \"p_H2H_pts_won%_diff_y\"], axis=1)\n",
    "df_winners4[\"m_outcome\"] = 1"
   ]
  },
  {
   "cell_type": "code",
   "execution_count": null,
   "id": "f95b11c9",
   "metadata": {},
   "outputs": [],
   "source": [
    "df_winners4.to_csv('../data/df_winners4.csv', index=False)"
   ]
  },
  {
   "cell_type": "code",
   "execution_count": null,
   "id": "46324340",
   "metadata": {},
   "outputs": [],
   "source": [
    "#Renaming columns to remove winner-loser descriptions so we can re-concatenate winners and losers\n",
    "df_winners4 = df_winners4.set_axis([\"t_id\", \"t_date\", \"tour_wk\", \"t_name\", \"t_country\", \"t_surf\", \"t_indoor\", \"t_alt\", \"t_lvl\", \"t_draw_size\", \"t_rd_num\", \"m_num\", \"m_best_of\", \"m_time(m)\", \"m_tot_pts\", \"p_id\", \"p_name\", \"p_H2H_w\", \"p_H2H_pts_won%\", \"p_rank\", \"p_rank_pts\", \"p_country\", \"p_ent\", \"p_hd\", \"p_ht\", \"p_age\", \"p_matches\", \"p_matches_surf\", \"p_pts_won%\", \"p_pts_won%_l60_decay\", \"p_pts_won%_l60_decay_IO\", \"p_pts_won%_l10\", \"p_SOS_adj_pts_won%_l60_decay\", \"p_SOS_adj_pts_won%_l60_decay_IO\", \"p_SOS_adj_pts_won%_l60_decay_IO_weighted\", \"p_SOS_adj_pts_won%_l10\", \"p_sv_pts_won%\", \"p_sv_pts_won%_l60_decay\", \"p_sv_pts_won%_l10\", \"p_SOS_adj_sv_pts_won%_l60_decay\", \"p_SOS_adj_sv_pts_won%_l10\", \"p_ret_pts_won%\", \"p_ret_pts_won%_l60_decay\", \"p_ret_pts_won%_l10\", \"p_SOS_adj_ret_pts_won%_l60_decay\", \"p_SOS_adj_ret_pts_won%_l10\", \"p_ace%\", \"p_ace%_l60_decay\", \"p_ace%_l10\", \"p_SOS_adj_ace%_l60_decay\", \"p_SOS_adj_ace%_l10\", \"p_aced%\", \"p_aced%_l60_decay\", \"p_aced%_l10\", \"p_SOS_adj_aced%_l60_decay\", \"p_SOS_adj_aced%_l10\", \"p_bp_save%\", \"p_bp_save%_l60\", \"p_bp_save%_l10\", \"p_SOS_adj_bp_save%_l60\", \"p_SOS_adj_bp_save%_l10\", \"p_bp_convert%\", \"p_bp_convert%_l60\", \"p_bp_convert%_l10\", \"p_SOS_adj_bp_convert%_l60\", \"p_SOS_adj_bp_convert%_l10\", \"p_pts_won%_std_l60_decay\",'p_sv_pts_won%_std_l60_decay','p_ret_pts_won%_std_l60_decay', \"p_m_time_last\", \"p_tot_time_l6\", \"p_tot_time_l6_decay\", \"p_tot_pts_last\", \"p_tot_pts_l6\", \"p_tot_pts_l6_decay\", \"p_stamina_adj_fatigue_decay\", \"p_stamina_adj_fatigue\", \"p_IP_NV\", \"p_opp_rank_diff\", \"p_log_rank\", \"p_opp_log_rank_diff\", \"p_opp_rank_pts_diff\", \"p_ent_diff\", \"p_opp_ht_diff\",\"p_opp_age_diff\",\"p_L_opp_R\",\"p_HCA_opp_N\", \"p_pts_won%_l60_decay_diff\", \"p_pts_won%_l60_decay_IO_diff\", \"p_SOS_adj_pts_won%_l60_decay_diff\", \"p_SOS_adj_pts_won%_l60_decay_IO_diff\", \"p_SOS_adj_pts_won%_l60_decay_IO_weighted_diff\", \"p_pts_won%_l10_diff\", \"p_SOS_adj_pts_won%_l10_diff\", \"p_sv_pts_won%_l60_decay_diff\", \"p_SOS_adj_sv_pts_won%_l60_decay_diff\", \"p_sv_pts_won%_l10_diff\", \"p_SOS_adj_sv_pts_won%_l10_diff\", \"p_ret_pts_won%_l60_decay_diff\", \"p_SOS_adj_ret_pts_won%_l60_decay_diff\", \"p_ret_pts_won%_l10_diff\", \"p_SOS_adj_ret_pts_won%_l10_diff\", \"p_sv_opp_ret_pts_won%_l60_decay_diff\", \"p_SOS_adj_sv_opp_ret_pts_won%_l60_decay_diff\", \"p_sv_opp_ret_pts_won%_l10_diff\", \"p_SOS_adj_sv_opp_ret_pts_won%_l10_diff\", \"p_ret_opp_sv_pts_won%_l60_decay_diff\", \"p_SOS_adj_ret_opp_sv_pts_won%_l60_decay_diff\", \"p_ret_opp_sv_pts_won%_l10_diff\", \"p_SOS_adj_ret_opp_sv_pts_won%_l10_diff\", \"p_ace%_l60_decay_diff\", \"p_SOS_adj_ace%_l60_decay_diff\", \"p_ace%_l10_diff\", \"p_SOS_adj_ace%_l10_diff\", \"p_aced%_l60_decay_diff\", \"p_SOS_adj_aced%_l60_decay_diff\", \"p_aced%_l10_diff\", \"p_SOS_adj_aced%_l10_diff\", \"p_ace%_opp_aced%_l60_decay_diff\", \"p_SOS_adj_ace%_opp_aced%_l60_decay_diff\", \"p_ace%_opp_aced%_l10_diff\", \"p_SOS_adj_ace%_opp_aced%_l10_diff\", \"p_aced%_opp_ace%_l60_decay_diff\", \"p_SOS_adj_aced%_opp_ace%_l60_decay_diff\", \"p_aced%_opp_ace%_l10_diff\", \"p_SOS_adj_aced%_opp_ace%_l10_diff\", \"p_bp_save%_l60_diff\", \"p_SOS_adj_bp_save%_l60_diff\", \"p_bp_save%_l10_diff\", \"p_SOS_adj_bp_save%_l10_diff\", \"p_bp_convert%_l60_diff\", \"p_SOS_adj_bp_convert%_l60_diff\", \"p_bp_convert%_l10_diff\", \"p_SOS_adj_bp_convert%_l10_diff\", \"p_bp_convert%_opp_bp_save%_l60_diff\", \"p_SOS_adj_bp_convert%_opp_bp_save%_l60_diff\", \"p_bp_convert%_opp_bp_save%_l10_diff\", \"p_SOS_adj_bp_convert%_opp_bp_save%_l10_diff\", \"p_bp_save%_opp_bp_convert%_l60_diff\", \"p_SOS_adj_bp_save%_opp_bp_convert%_l60_diff\", \"p_bp_save%_opp_bp_convert%_l10_diff\", \"p_SOS_adj_bp_save%_opp_bp_convert%_l10_diff\", \"p_pts_won%_std_l60_decay_diff\", \"p_sv_pts_won%_std_l60_decay_diff\", \"p_ret_pts_won%_std_l60_decay_diff\", \"p_m_time_last_diff\", \"p_tot_time_l6_diff\", \"p_tot_time_l6_decay_diff\", \"p_tot_pts_last_diff\", \"p_tot_pts_l6_diff\", \"p_tot_pts_l6_decay_diff\", \"p_matches_diff\", \"p_matches_surf_diff\", \"p_stam_adj_fatigue_decay_diff\", \"p_stam_adj_fatigue_diff\", \"p_H2H_diff\", \"p_H2H_pts_won%_diff\", \"m_outcome\"], axis=1)"
   ]
  },
  {
   "cell_type": "code",
   "execution_count": null,
   "id": "49eeeb3f",
   "metadata": {},
   "outputs": [],
   "source": [
    "#Dropping winner (_x) columns for remerge by player\n",
    "df_losers4 = df_match3.drop([\"m_outcome_x\", \"m_outcome_y\", \"p_id_x\", \"p_name_x\", \"p_H2H_w_x\", \"p_H2H_pts_won%_x\", \"p_rank_x\", \"p_rank_pts_x\", \"p_country_x\", \"p_ent_x\", \"p_hd_x\", \"p_ht_x\", \"p_age_x\", \"p_matches_x\", \"p_matches_surf_x\", \"p_pts_won%_x\", \"p_pts_won%_l60_decay_x\", \"p_pts_won%_l60_decay_IO_x\", \"p_pts_won%_l10_x\", \"p_SOS_adj_pts_won%_l60_decay_x\", \"p_SOS_adj_pts_won%_l60_decay_IO_x\", \"p_SOS_adj_pts_won%_l60_decay_IO_weighted_x\", \"p_SOS_adj_pts_won%_l10_x\", \"p_sv_pts_won%_x\", \"p_sv_pts_won%_l60_decay_x\", \"p_sv_pts_won%_l10_x\", \"p_SOS_adj_sv_pts_won%_l60_decay_x\", \"p_SOS_adj_sv_pts_won%_l10_x\", \"p_ret_pts_won%_x\", \"p_ret_pts_won%_l60_decay_x\", \"p_ret_pts_won%_l10_x\", \"p_SOS_adj_ret_pts_won%_l60_decay_x\", \"p_SOS_adj_ret_pts_won%_l10_x\", \"p_ace%_x\", \"p_ace%_l60_decay_x\", \"p_ace%_l10_x\", \"p_SOS_adj_ace%_l60_decay_x\", \"p_SOS_adj_ace%_l10_x\", \"p_aced%_x\", \"p_aced%_l60_decay_x\", \"p_aced%_l10_x\", \"p_SOS_adj_aced%_l60_decay_x\", \"p_SOS_adj_aced%_l10_x\", \"p_bp_save%_x\", \"p_bp_save%_l60_x\", \"p_bp_save%_l10_x\", \"p_SOS_adj_bp_save%_l60_x\", \"p_SOS_adj_bp_save%_l10_x\", \"p_bp_convert%_x\", \"p_bp_convert%_l60_x\", \"p_bp_convert%_l10_x\", \"p_SOS_adj_bp_convert%_l60_x\", \"p_SOS_adj_bp_convert%_l10_x\", \"p_pts_won%_std_l60_decay_x\", \"p_sv_pts_won%_std_l60_decay_x\", \"p_ret_pts_won%_std_l60_decay_x\", \"p_m_time_last_x\", \"p_tot_time_l6_x\", \"p_tot_time_l6_decay_x\", \"p_tot_pts_last_x\", \"p_tot_pts_l6_x\", \"p_tot_pts_l6_decay_x\", \"p_stamina_adj_fatigue_decay_x\", \"p_stamina_adj_fatigue_x\",\"p_IP_NV_x\", \"p_rank_diff_x\", \"p_log_rank_x\", \"p_log_rank_diff_x\", \"p_rank_pts_diff_x\", \"p_ent_diff_x\", \"p_ht_diff_x\", \"p_age_diff_x\", \"p_L_opp_R_x\", \"p_HCA_opp_N_x\", \"p_pts_won%_l60_decay_diff_x\", \"p_pts_won%_l60_decay_IO_diff_x\", \"p_SOS_adj_pts_won%_l60_decay_diff_x\", \"p_SOS_adj_pts_won%_l60_decay_IO_diff_x\", \"p_SOS_adj_pts_won%_l60_decay_IO_weighted_diff_x\", \"p_pts_won%_l10_diff_x\", \"p_SOS_adj_pts_won%_l10_diff_x\", \"p_sv_pts_won%_l60_decay_diff_x\", \"p_SOS_adj_sv_pts_won%_l60_decay_diff_x\", \"p_sv_pts_won%_l10_diff_x\", \"p_SOS_adj_sv_pts_won%_l10_diff_x\", \"p_ret_pts_won%_l60_decay_diff_x\", \"p_SOS_adj_ret_pts_won%_l60_decay_diff_x\", \"p_ret_pts_won%_l10_diff_x\", \"p_SOS_adj_ret_pts_won%_l10_diff_x\", \"p_sv_opp_ret_pts_won%_l60_decay_diff_x\", \"p_SOS_adj_sv_opp_ret_pts_won%_l60_decay_diff_x\", \"p_sv_opp_ret_pts_won%_l10_diff_x\", \"p_SOS_adj_sv_opp_ret_pts_won%_l10_diff_x\", \"p_ret_opp_sv_pts_won%_l60_decay_diff_x\", \"p_SOS_adj_ret_opp_sv_pts_won%_l60_decay_diff_x\", \"p_ret_opp_sv_pts_won%_l10_diff_x\", \"p_SOS_adj_ret_opp_sv_pts_won%_l10_diff_x\", \"p_ace%_l60_decay_diff_x\", \"p_SOS_adj_ace%_l60_decay_diff_x\", \"p_ace%_l10_diff_x\", \"p_SOS_adj_ace%_l10_diff_x\", \"p_aced%_l60_decay_diff_x\", \"p_SOS_adj_aced%_l60_decay_diff_x\", \"p_aced%_l10_diff_x\", \"p_SOS_adj_aced%_l10_diff_x\", \"p_ace%_opp_aced%_l60_decay_diff_x\", \"p_SOS_adj_ace%_opp_aced%_l60_decay_diff_x\", \"p_ace%_opp_aced%_l10_diff_x\", \"p_SOS_adj_ace%_opp_aced%_l10_diff_x\", \"p_aced%_opp_ace%_l60_decay_diff_x\", \"p_SOS_adj_aced%_opp_ace%_l60_decay_diff_x\", \"p_aced%_opp_ace%_l10_diff_x\", \"p_SOS_adj_aced%_opp_ace%_l10_diff_x\", \"p_bp_save%_l60_diff_x\", \"p_SOS_adj_bp_save%_l60_diff_x\", \"p_bp_save%_l10_diff_x\", \"p_SOS_adj_bp_save%_l10_diff_x\", \"p_bp_convert%_l60_diff_x\", \"p_SOS_adj_bp_convert%_l60_diff_x\", \"p_bp_convert%_l10_diff_x\", \"p_SOS_adj_bp_convert%_l10_diff_x\", \"p_bp_convert%_opp_bp_save%_l60_diff_x\", \"p_SOS_adj_bp_convert%_opp_bp_save%_l60_diff_x\", \"p_bp_convert%_opp_bp_save%_l10_diff_x\", \"p_SOS_adj_bp_convert%_opp_bp_save%_l10_diff_x\", \"p_bp_save%_opp_bp_convert%_l60_diff_x\", \"p_SOS_adj_bp_save%_opp_bp_convert%_l60_diff_x\", \"p_bp_save%_opp_bp_convert%_l10_diff_x\", \"p_SOS_adj_bp_save%_opp_bp_convert%_l10_diff_x\", \"p_pts_won%_std_l60_decay_diff_x\", \"p_sv_pts_won%_std_l60_decay_diff_x\", \"p_ret_pts_won%_std_l60_decay_diff_x\", \"p_m_time_last_diff_x\", \"p_tot_time_l6_diff_x\", \"p_tot_time_l6_decay_diff_x\", \"p_tot_pts_last_diff_x\", \"p_tot_pts_l6_diff_x\", \"p_tot_pts_l6_decay_diff_x\", \"p_matches_diff_x\", \"p_matches_surf_diff_x\", \"p_stamina_adj_fatigue_decay_diff_x\", \"p_stamina_adj_fatigue_diff_x\", \"p_H2H_diff_x\", \"p_H2H_pts_won%_diff_x\"], axis=1)\n",
    "df_losers4[\"m_outcome\"] = 0"
   ]
  },
  {
   "cell_type": "code",
   "execution_count": null,
   "id": "1b2d6c7b",
   "metadata": {},
   "outputs": [],
   "source": [
    "df_losers4.to_csv('../data/df_losers4.csv', index=False)"
   ]
  },
  {
   "cell_type": "code",
   "execution_count": null,
   "id": "6bc23b14",
   "metadata": {},
   "outputs": [],
   "source": [
    "#Renaming columns to remove winner-loser descriptions so we can re-concatenate winners and losers\n",
    "df_losers4 = df_losers4.set_axis([\"t_id\", \"t_date\", \"tour_wk\", \"t_name\", \"t_country\", \"t_surf\", \"t_indoor\", \"t_alt\", \"t_lvl\", \"t_draw_size\", \"t_rd_num\", \"m_num\", \"m_best_of\", \"m_time(m)\", \"m_tot_pts\", \"p_id\", \"p_name\", \"p_H2H_w\", \"p_H2H_pts_won%\", \"p_rank\", \"p_rank_pts\", \"p_country\", \"p_ent\", \"p_hd\", \"p_ht\", \"p_age\", \"p_matches\", \"p_matches_surf\", \"p_pts_won%\", \"p_pts_won%_l60_decay\", \"p_pts_won%_l60_decay_IO\", \"p_pts_won%_l10\", \"p_SOS_adj_pts_won%_l60_decay\", \"p_SOS_adj_pts_won%_l60_decay_IO\", \"p_SOS_adj_pts_won%_l60_decay_IO_weighted\", \"p_SOS_adj_pts_won%_l10\", \"p_sv_pts_won%\", \"p_sv_pts_won%_l60_decay\", \"p_sv_pts_won%_l10\", \"p_SOS_adj_sv_pts_won%_l60_decay\", \"p_SOS_adj_sv_pts_won%_l10\", \"p_ret_pts_won%\", \"p_ret_pts_won%_l60_decay\", \"p_ret_pts_won%_l10\", \"p_SOS_adj_ret_pts_won%_l60_decay\", \"p_SOS_adj_ret_pts_won%_l10\", \"p_ace%\", \"p_ace%_l60_decay\", \"p_ace%_l10\", \"p_SOS_adj_ace%_l60_decay\", \"p_SOS_adj_ace%_l10\", \"p_aced%\", \"p_aced%_l60_decay\", \"p_aced%_l10\", \"p_SOS_adj_aced%_l60_decay\", \"p_SOS_adj_aced%_l10\", \"p_bp_save%\", \"p_bp_save%_l60\", \"p_bp_save%_l10\", \"p_SOS_adj_bp_save%_l60\", \"p_SOS_adj_bp_save%_l10\", \"p_bp_convert%\", \"p_bp_convert%_l60\", \"p_bp_convert%_l10\", \"p_SOS_adj_bp_convert%_l60\", \"p_SOS_adj_bp_convert%_l10\", \"p_pts_won%_std_l60_decay\",'p_sv_pts_won%_std_l60_decay','p_ret_pts_won%_std_l60_decay', \"p_m_time_last\", \"p_tot_time_l6\", \"p_tot_time_l6_decay\", \"p_tot_pts_last\", \"p_tot_pts_l6\", \"p_tot_pts_l6_decay\", \"p_stamina_adj_fatigue_decay\", \"p_stamina_adj_fatigue\", \"p_IP_NV\", \"p_opp_rank_diff\", \"p_log_rank\", \"p_opp_log_rank_diff\", \"p_opp_rank_pts_diff\", \"p_ent_diff\", \"p_opp_ht_diff\",\"p_opp_age_diff\",\"p_L_opp_R\",\"p_HCA_opp_N\", \"p_pts_won%_l60_decay_diff\", \"p_pts_won%_l60_decay_IO_diff\", \"p_SOS_adj_pts_won%_l60_decay_diff\", \"p_SOS_adj_pts_won%_l60_decay_IO_diff\", \"p_SOS_adj_pts_won%_l60_decay_IO_weighted_diff\", \"p_pts_won%_l10_diff\", \"p_SOS_adj_pts_won%_l10_diff\", \"p_sv_pts_won%_l60_decay_diff\", \"p_SOS_adj_sv_pts_won%_l60_decay_diff\", \"p_sv_pts_won%_l10_diff\", \"p_SOS_adj_sv_pts_won%_l10_diff\", \"p_ret_pts_won%_l60_decay_diff\", \"p_SOS_adj_ret_pts_won%_l60_decay_diff\", \"p_ret_pts_won%_l10_diff\", \"p_SOS_adj_ret_pts_won%_l10_diff\", \"p_sv_opp_ret_pts_won%_l60_decay_diff\", \"p_SOS_adj_sv_opp_ret_pts_won%_l60_decay_diff\", \"p_sv_opp_ret_pts_won%_l10_diff\", \"p_SOS_adj_sv_opp_ret_pts_won%_l10_diff\", \"p_ret_opp_sv_pts_won%_l60_decay_diff\", \"p_SOS_adj_ret_opp_sv_pts_won%_l60_decay_diff\", \"p_ret_opp_sv_pts_won%_l10_diff\", \"p_SOS_adj_ret_opp_sv_pts_won%_l10_diff\", \"p_ace%_l60_decay_diff\", \"p_SOS_adj_ace%_l60_decay_diff\", \"p_ace%_l10_diff\", \"p_SOS_adj_ace%_l10_diff\", \"p_aced%_l60_decay_diff\", \"p_SOS_adj_aced%_l60_decay_diff\", \"p_aced%_l10_diff\", \"p_SOS_adj_aced%_l10_diff\", \"p_ace%_opp_aced%_l60_decay_diff\", \"p_SOS_adj_ace%_opp_aced%_l60_decay_diff\", \"p_ace%_opp_aced%_l10_diff\", \"p_SOS_adj_ace%_opp_aced%_l10_diff\", \"p_aced%_opp_ace%_l60_decay_diff\", \"p_SOS_adj_aced%_opp_ace%_l60_decay_diff\", \"p_aced%_opp_ace%_l10_diff\", \"p_SOS_adj_aced%_opp_ace%_l10_diff\", \"p_bp_save%_l60_diff\", \"p_SOS_adj_bp_save%_l60_diff\", \"p_bp_save%_l10_diff\", \"p_SOS_adj_bp_save%_l10_diff\", \"p_bp_convert%_l60_diff\", \"p_SOS_adj_bp_convert%_l60_diff\", \"p_bp_convert%_l10_diff\", \"p_SOS_adj_bp_convert%_l10_diff\", \"p_bp_convert%_opp_bp_save%_l60_diff\", \"p_SOS_adj_bp_convert%_opp_bp_save%_l60_diff\", \"p_bp_convert%_opp_bp_save%_l10_diff\",  \"p_SOS_adj_bp_convert%_opp_bp_save%_l10_diff\", \"p_bp_save%_opp_bp_convert%_l60_diff\", \"p_SOS_adj_bp_save%_opp_bp_convert%_l60_diff\", \"p_bp_save%_opp_bp_convert%_l10_diff\", \"p_SOS_adj_bp_save%_opp_bp_convert%_l10_diff\", \"p_pts_won%_std_l60_decay_diff\", \"p_sv_pts_won%_std_l60_decay_diff\", \"p_ret_pts_won%_std_l60_decay_diff\", \"p_m_time_last_diff\", \"p_tot_time_l6_diff\", \"p_tot_time_l6_decay_diff\", \"p_tot_pts_last_diff\", \"p_tot_pts_l6_diff\", \"p_tot_pts_l6_decay_diff\", \"p_matches_diff\", \"p_matches_surf_diff\", \"p_stam_adj_fatigue_decay_diff\", \"p_stam_adj_fatigue_diff\", \"p_H2H_diff\", \"p_H2H_pts_won%_diff\", \"m_outcome\"], axis=1)"
   ]
  },
  {
   "cell_type": "code",
   "execution_count": null,
   "id": "1537de93",
   "metadata": {},
   "outputs": [],
   "source": [
    "#Re-merge data, but now with no separate columns for winners and losers \n",
    "df_player4 = pd.concat([df_winners4, df_losers4], ignore_index=True)\n",
    "#df_player4.info()"
   ]
  },
  {
   "cell_type": "code",
   "execution_count": null,
   "id": "858276c3",
   "metadata": {},
   "outputs": [],
   "source": [
    "#df_player4.head(30)"
   ]
  },
  {
   "cell_type": "code",
   "execution_count": null,
   "id": "1bad60b4",
   "metadata": {},
   "outputs": [],
   "source": [
    "df_player5 = df_player4[[\"t_id\", \"t_date\", \"tour_wk\", \"t_name\", \"t_country\", \"t_surf\",\"t_indoor\", \"t_alt\", \"t_lvl\", \"t_draw_size\", \"t_rd_num\", \"m_num\", \"m_best_of\", \"m_time(m)\", \"m_tot_pts\", \"p_id\", \"p_name\", \"p_rank\", \"p_log_rank\", \"p_rank_pts\", \"p_country\", \"p_ent\", \"p_hd\", \"p_ht\", \"p_age\", \"p_matches\", \"p_matches_surf\", \"p_H2H_w\", \"p_H2H_pts_won%\", \"p_pts_won%\", \"p_pts_won%_l60_decay\", \"p_pts_won%_l60_decay_IO\", \"p_pts_won%_l10\", \"p_SOS_adj_pts_won%_l60_decay\", \"p_SOS_adj_pts_won%_l60_decay_IO\", \"p_SOS_adj_pts_won%_l60_decay_IO_weighted\", \"p_SOS_adj_pts_won%_l10\", \"p_sv_pts_won%\", \"p_sv_pts_won%_l60_decay\", \"p_sv_pts_won%_l10\", \"p_SOS_adj_sv_pts_won%_l60_decay\", \"p_SOS_adj_sv_pts_won%_l10\", \"p_ret_pts_won%\", \"p_ret_pts_won%_l60_decay\", \"p_ret_pts_won%_l10\", \"p_SOS_adj_ret_pts_won%_l60_decay\", \"p_SOS_adj_ret_pts_won%_l10\", \"p_ace%\", \"p_ace%_l60_decay\", \"p_ace%_l10\", \"p_SOS_adj_ace%_l60_decay\", \"p_SOS_adj_ace%_l10\", \"p_aced%\", \"p_aced%_l60_decay\", \"p_aced%_l10\", \"p_SOS_adj_aced%_l60_decay\", \"p_SOS_adj_aced%_l10\", \"p_bp_save%\", \"p_bp_save%_l60\", \"p_bp_save%_l10\", \"p_SOS_adj_bp_save%_l60\", \"p_SOS_adj_bp_save%_l10\", \"p_bp_convert%\", \"p_bp_convert%_l60\", \"p_bp_convert%_l10\", \"p_SOS_adj_bp_convert%_l60\", \"p_SOS_adj_bp_convert%_l10\", \"p_pts_won%_std_l60_decay\",'p_sv_pts_won%_std_l60_decay','p_ret_pts_won%_std_l60_decay', \"p_m_time_last\", \"p_tot_time_l6\", \"p_tot_time_l6_decay\", \"p_tot_pts_last\", \"p_tot_pts_l6\", \"p_tot_pts_l6_decay\", \"p_stamina_adj_fatigue\", \"p_stamina_adj_fatigue_decay\", \"p_opp_rank_diff\", \"p_opp_log_rank_diff\", \"p_opp_rank_pts_diff\", \"p_ent_diff\", \"p_opp_ht_diff\", \"p_opp_age_diff\", \"p_L_opp_R\", \"p_HCA_opp_N\", \"p_pts_won%_l60_decay_diff\", \"p_pts_won%_l60_decay_IO_diff\", \"p_SOS_adj_pts_won%_l60_decay_diff\", \"p_SOS_adj_pts_won%_l60_decay_IO_diff\", \"p_SOS_adj_pts_won%_l60_decay_IO_weighted_diff\", \"p_pts_won%_l10_diff\", \"p_SOS_adj_pts_won%_l10_diff\", \"p_sv_pts_won%_l60_decay_diff\", \"p_SOS_adj_sv_pts_won%_l60_decay_diff\", \"p_sv_pts_won%_l10_diff\", \"p_SOS_adj_sv_pts_won%_l10_diff\", \"p_ret_pts_won%_l60_decay_diff\", \"p_SOS_adj_ret_pts_won%_l60_decay_diff\", \"p_ret_pts_won%_l10_diff\", \"p_SOS_adj_ret_pts_won%_l10_diff\", \"p_sv_opp_ret_pts_won%_l60_decay_diff\", \"p_SOS_adj_sv_opp_ret_pts_won%_l60_decay_diff\", \"p_sv_opp_ret_pts_won%_l10_diff\", \"p_SOS_adj_sv_opp_ret_pts_won%_l10_diff\", \"p_ret_opp_sv_pts_won%_l60_decay_diff\", \"p_SOS_adj_ret_opp_sv_pts_won%_l60_decay_diff\", \"p_ret_opp_sv_pts_won%_l10_diff\", \"p_SOS_adj_ret_opp_sv_pts_won%_l10_diff\", \"p_ace%_l60_decay_diff\", \"p_SOS_adj_ace%_l60_decay_diff\", \"p_ace%_l10_diff\", \"p_SOS_adj_ace%_l10_diff\", \"p_aced%_l60_decay_diff\", \"p_SOS_adj_aced%_l60_decay_diff\", \"p_aced%_l10_diff\", \"p_SOS_adj_aced%_l10_diff\", \"p_ace%_opp_aced%_l60_decay_diff\", \"p_SOS_adj_ace%_opp_aced%_l60_decay_diff\", \"p_ace%_opp_aced%_l10_diff\", \"p_SOS_adj_ace%_opp_aced%_l10_diff\", \"p_aced%_opp_ace%_l60_decay_diff\", \"p_SOS_adj_aced%_opp_ace%_l60_decay_diff\", \"p_aced%_opp_ace%_l10_diff\", \"p_SOS_adj_aced%_opp_ace%_l10_diff\", \"p_bp_save%_l60_diff\", \"p_SOS_adj_bp_save%_l60_diff\", \"p_bp_save%_l10_diff\", \"p_SOS_adj_bp_save%_l10_diff\", \"p_bp_convert%_l60_diff\", \"p_SOS_adj_bp_convert%_l60_diff\", \"p_bp_convert%_l10_diff\", \"p_SOS_adj_bp_convert%_l10_diff\", \"p_bp_convert%_opp_bp_save%_l60_diff\", \"p_SOS_adj_bp_convert%_opp_bp_save%_l60_diff\", \"p_bp_convert%_opp_bp_save%_l10_diff\", \"p_SOS_adj_bp_convert%_opp_bp_save%_l10_diff\", \"p_bp_save%_opp_bp_convert%_l60_diff\", \"p_SOS_adj_bp_save%_opp_bp_convert%_l60_diff\", \"p_bp_save%_opp_bp_convert%_l10_diff\", \"p_SOS_adj_bp_save%_opp_bp_convert%_l10_diff\", \"p_pts_won%_std_l60_decay_diff\", \"p_sv_pts_won%_std_l60_decay_diff\", \"p_ret_pts_won%_std_l60_decay_diff\", \"p_m_time_last_diff\", \"p_tot_time_l6_diff\", \"p_tot_time_l6_decay_diff\", \"p_tot_pts_last_diff\", \"p_tot_pts_l6_diff\", \"p_tot_pts_l6_decay_diff\", \"p_matches_diff\", \"p_matches_surf_diff\", \"p_stam_adj_fatigue_diff\", \"p_stam_adj_fatigue_decay_diff\",  \"p_H2H_diff\", \"p_H2H_pts_won%_diff\", \"p_IP_NV\", \"m_outcome\"]]"
   ]
  },
  {
   "cell_type": "code",
   "execution_count": null,
   "id": "47e9cd74",
   "metadata": {},
   "outputs": [],
   "source": [
    "#Sorting as such helps visually verify the complicated, backward-looking stat accrual calculations we will make below\n",
    "df_player5 = df_player5.sort_values(by=['p_id','tour_wk','t_rd_num'], ascending = False)"
   ]
  },
  {
   "cell_type": "code",
   "execution_count": null,
   "id": "fd9b33a0",
   "metadata": {},
   "outputs": [],
   "source": [
    "#df_player5.info()"
   ]
  },
  {
   "cell_type": "code",
   "execution_count": null,
   "id": "c90885ea",
   "metadata": {},
   "outputs": [],
   "source": [
    "#df_player5.to_csv('../data/df_player5.csv', index=False)"
   ]
  },
  {
   "cell_type": "markdown",
   "id": "8852a906",
   "metadata": {},
   "source": [
    "Ideally, as close to real time a model of conditions before a given match we want to predict can be generated. Once a sufficient number of matches have been played in a given tournament, priors on court speed can be updated as well. \n",
    "\n",
    "For now, we will use ace% per given tournament from the previous year (when available) as a proxy for court speed. Conditions, of course, are dictated by a number of factors, including the balls, altitude, watering frequency (clay) and sand incorporation in the mix for hard courts. Also, indoor conditions tend to be faster than outdoor. This is challenging to model because all conditions variables are seldom the same from year to year at a given venue. Plus, even the weather at the time of a match will make a considerable difference in court conditions, possibly even greater than the underlying \"weather neutral\" conditions. "
   ]
  },
  {
   "cell_type": "code",
   "execution_count": null,
   "id": "a340aaf3",
   "metadata": {},
   "outputs": [],
   "source": [
    "# First, generate by-tournament ace%\n",
    "t_ace_perc = df_player5[[\"p_name\",\"t_name\",\"t_id\",\"p_ace%\"]]\n",
    "t_ace_perc.head()"
   ]
  },
  {
   "cell_type": "code",
   "execution_count": null,
   "id": "41ca4dc6",
   "metadata": {},
   "outputs": [],
   "source": [
    "# Before computing by-tourny, by-year means, removing data from the three largest ace outliers in tennis history (apologies to Andy Roddick and Milos Raonic).\n",
    "# Their absense or presence, esecially if they go very deep in the tourny, really does make a big difference at the individual tourny level as far as ace stats.\n",
    "t_ace_perc = t_ace_perc[~t_ace_perc['p_name'].str.contains(\"Karlovic\")]\n",
    "t_ace_perc = t_ace_perc[~t_ace_perc['p_name'].str.contains(\"Isner\")]\n",
    "t_ace_perc = t_ace_perc[~t_ace_perc['p_name'].str.contains(\"Opelka\")]\n",
    "t_ace_perc.info()"
   ]
  },
  {
   "cell_type": "code",
   "execution_count": null,
   "id": "a9aebdae",
   "metadata": {},
   "outputs": [],
   "source": [
    "# computes mean ace % per tourny per year (minus the 6'7\" and above outliers removed above)\n",
    "t_ace_perc = t_ace_perc.groupby(['t_id','t_name']).mean().round(2)\n",
    "t_ace_perc.head(20)"
   ]
  },
  {
   "cell_type": "code",
   "execution_count": null,
   "id": "d4a6de44",
   "metadata": {},
   "outputs": [],
   "source": [
    "t_ace_perc = t_ace_perc.sort_values(by=['t_name','t_id'], ascending = False)\n",
    "t_ace_perc"
   ]
  },
  {
   "cell_type": "code",
   "execution_count": null,
   "id": "3ccdf655",
   "metadata": {},
   "outputs": [],
   "source": [
    "t_ace_perc.rename(columns = {'p_ace%':'t_ace%'}, inplace=True)"
   ]
  },
  {
   "cell_type": "code",
   "execution_count": null,
   "id": "15dca176",
   "metadata": {},
   "outputs": [],
   "source": [
    "#t_ace_perc.info()"
   ]
  },
  {
   "cell_type": "code",
   "execution_count": null,
   "id": "18871119",
   "metadata": {},
   "outputs": [],
   "source": [
    "#t_ace_perc.to_csv('../data/t_ace_perc.csv', index=True)"
   ]
  },
  {
   "cell_type": "code",
   "execution_count": null,
   "id": "b1554d11",
   "metadata": {},
   "outputs": [],
   "source": [
    "# For each tourny in the sample, applies the previous year's ace% from the same tourney (where available) as the speed conditions proxy\n",
    "t_ace_perc[\"t_ace%_last\"] = t_ace_perc.groupby('t_name')['t_ace%'].shift(-1)\n",
    "t_ace_perc"
   ]
  },
  {
   "cell_type": "code",
   "execution_count": null,
   "id": "f7e2b910",
   "metadata": {},
   "outputs": [],
   "source": [
    "# Now we can just do a left join with the main dataframe on t_id to fill in the proper last year's value for each player/match\n",
    "df_player6 = df_player5.merge(t_ace_perc['t_ace%_last'], on='t_id', how = 'left')"
   ]
  },
  {
   "cell_type": "code",
   "execution_count": null,
   "id": "b2789cf0",
   "metadata": {},
   "outputs": [],
   "source": [
    "#df_player6.info()"
   ]
  },
  {
   "cell_type": "markdown",
   "id": "8c30e545",
   "metadata": {},
   "source": [
    "For tournaments without a prior year to assess conditions from (mostly tournies from the first year of the sample (2012) that we won't actually make predictions on, we will just use the overall sample mean for its' surface (hard or clay) and indoor or outdoor status. "
   ]
  },
  {
   "cell_type": "code",
   "execution_count": null,
   "id": "70fedfb4",
   "metadata": {},
   "outputs": [],
   "source": [
    "surface_ace_perc_means = df_player5[[\"p_name\", \"t_name\",\"t_id\",\"t_surf\",\"t_indoor\",\"t_alt\",\"p_ace%\"]]\n",
    "surface_ace_perc_means.info()"
   ]
  },
  {
   "cell_type": "code",
   "execution_count": null,
   "id": "557d5a39",
   "metadata": {},
   "outputs": [],
   "source": [
    "# as with the by-tourny means above, removing the extreme ace outliers before computing the by surface averages for filling in the NaNs\n",
    "surface_ace_perc_means = surface_ace_perc_means[~surface_ace_perc_means['p_name'].str.contains(\"Karlovic\")]\n",
    "surface_ace_perc_means = surface_ace_perc_means[~surface_ace_perc_means['p_name'].str.contains(\"Isner\")]\n",
    "surface_ace_perc_means = surface_ace_perc_means[~surface_ace_perc_means['p_name'].str.contains(\"Opelka\")]\n",
    "surface_ace_perc_means.info()"
   ]
  },
  {
   "cell_type": "code",
   "execution_count": null,
   "id": "726ccc2e",
   "metadata": {},
   "outputs": [],
   "source": [
    "# computes mean across all matches played on one surface in the sample (clay or hard court). Used to fill in NaNs with surface=specificity\n",
    "surface_ace_perc_means = surface_ace_perc_means.groupby(['t_surf','t_indoor']).mean().round(2)\n",
    "surface_ace_perc_means.rename(columns = {'p_ace%':'t_ace%'}, inplace=True)\n",
    "surface_ace_perc_means"
   ]
  },
  {
   "cell_type": "code",
   "execution_count": null,
   "id": "c21bd599",
   "metadata": {},
   "outputs": [],
   "source": [
    "surface_ace_perc_means[\"t_ace%\"][0], surface_ace_perc_means[\"t_ace%\"][1] "
   ]
  },
  {
   "cell_type": "code",
   "execution_count": null,
   "id": "01cf8b29",
   "metadata": {},
   "outputs": [],
   "source": [
    "# Assigns overall sample means per surface, per indoor-outdoor status to matches with no previous year value\n",
    "# Additionally, a few tournaments (Quito and Gstaad on outdoor clay, Bogota on outdoor hard) at extreme altitude \n",
    "# get a little boost (1.5%) over the above mean given known effects above around 3,000 ft\n",
    "\n",
    "df_player6.loc[(df_player6[\"t_ace%_last\"].isnull()) & (df_player6[\"t_surf\"] == \"Clay\") & (df_player6[\"t_indoor\"] == 0) & (df_player6[\"t_alt\"] == 0), \"t_ace%_last\"] = surface_ace_perc_means[\"t_ace%\"][0] \n",
    "df_player6.loc[(df_player6[\"t_ace%_last\"].isnull()) & (df_player6[\"t_surf\"] == \"Clay\") & (df_player6[\"t_indoor\"] == 0) & (df_player6[\"t_alt\"] == 1), \"t_ace%_last\"] = (surface_ace_perc_means[\"t_ace%\"][0]) + 1.5 \n",
    "\n",
    "df_player6.loc[(df_player6[\"t_ace%_last\"].isnull()) & (df_player6[\"t_surf\"] == \"Clay\") & (df_player6[\"t_indoor\"] == 1), \"t_ace%_last\"] = surface_ace_perc_means[\"t_ace%\"][1] \n",
    "\n",
    "#df_player6.loc[(df_player6[\"t_ace%_last\"].isnull()) & (df_player6[\"t_surf\"] == \"Hard\") & (df_player6[\"t_indoor\"] == 0) & (df_player6[\"t_alt\"] == 0), \"t_ace%_last\"] = surface_ace_perc_means[\"t_ace%\"][0]\n",
    "#df_player6.loc[(df_player6[\"t_ace%_last\"].isnull()) & (df_player6[\"t_surf\"] == \"Hard\") & (df_player6[\"t_indoor\"] == 0) & (df_player6[\"t_alt\"] == 1), \"t_ace%_last\"] = (surface_ace_perc_means[\"t_ace%\"][0]) + 1.5\n",
    "\n",
    "#df_player6.loc[(df_player6[\"t_ace%_last\"].isnull()) & (df_player6[\"t_surf\"] == \"Hard\") & (df_player6[\"t_indoor\"] == 1), \"t_ace%_last\"] = surface_ace_perc_means[\"t_ace%\"][1]"
   ]
  },
  {
   "cell_type": "markdown",
   "id": "4abfd0c3",
   "metadata": {},
   "source": [
    "This historic court speed proxy data is potentially useful to put player characteristics in context of the court speed at the tournment in which the match being predicted on is played. To this end, below are created two marker columns per player per match to be predicted on. The first column indicates whether the tournament at hand has an ace rate > 1 std higher than the surface average AND the PLAYER also has an ace rate > 1 std than the surface average. The second column indicates whether the tournament at hand has an ace rate > 1 std higher than the surface average AND the PLAYER also has an ACED rate > 1 std above the surface average ace rate.  "
   ]
  },
  {
   "cell_type": "code",
   "execution_count": null,
   "id": "3b4a9fe1",
   "metadata": {},
   "outputs": [],
   "source": [
    "# Surface ace rate per tourney, per surface (collapsed across indoor and outdoor per surface; ace outliers still removed)\n",
    "surface_ace_perc_means2 = df_player5[[\"p_name\", \"t_name\",\"t_id\",\"t_surf\",\"p_ace%\"]]\n",
    "surface_ace_perc_means2 = surface_ace_perc_means2[~surface_ace_perc_means2['p_name'].str.contains(\"Karlovic\")]\n",
    "surface_ace_perc_means2 = surface_ace_perc_means2[~surface_ace_perc_means2['p_name'].str.contains(\"Isner\")]\n",
    "surface_ace_perc_means2 = surface_ace_perc_means2[~surface_ace_perc_means2['p_name'].str.contains(\"Opelka\")]\n",
    "surface_ace_perc_means2 = surface_ace_perc_means2.groupby(['t_surf','t_id']).mean().round(2)\n",
    "#surface_ace_perc_means2.rename(columns = {'p_ace%':'t_ace%'}, inplace=True)\n",
    "surface_ace_perc_means2"
   ]
  },
  {
   "cell_type": "code",
   "execution_count": null,
   "id": "714d2c2c",
   "metadata": {},
   "outputs": [],
   "source": [
    "#surface_ace_perc_means2.to_csv('../data/surface_ace_perc_means2.csv', index=True)"
   ]
  },
  {
   "cell_type": "code",
   "execution_count": null,
   "id": "4bc196ba",
   "metadata": {},
   "outputs": [],
   "source": [
    "# Mean ace rate per surface (using means at BY TOURNAMENT LEVEL generated above)\n",
    "surface_ace_perc_means3 = surface_ace_perc_means2.groupby(['t_surf']).mean().round(2)\n",
    "surface_ace_perc_means3.rename(columns = {'p_ace%':'t_ace%'}, inplace=True)\n",
    "#surface_ace_perc_means3\n",
    "\n",
    "# Ace rate stdev (using stdev at BY TOURNAMENT LEVEL generated above)\n",
    "surface_ace_perc_std = surface_ace_perc_means2.groupby(['t_surf']).std().round(2)\n",
    "surface_ace_perc_std.rename(columns = {'p_ace%':'t_ace%'}, inplace=True)\n",
    "#surface_ace_perc_std"
   ]
  },
  {
   "cell_type": "code",
   "execution_count": null,
   "id": "2347dd7d",
   "metadata": {},
   "outputs": [],
   "source": [
    "surface_ace_perc_means3[\"t_ace%\"][0]"
   ]
  },
  {
   "cell_type": "code",
   "execution_count": null,
   "id": "20470468",
   "metadata": {},
   "outputs": [],
   "source": [
    "surface_ace_perc_std[\"t_ace%\"][0]"
   ]
  },
  {
   "cell_type": "code",
   "execution_count": null,
   "id": "3353c9cc",
   "metadata": {},
   "outputs": [],
   "source": [
    "# Now we want to assess mean and std for SOS_adjusted ace and aced% over the last l60, on a surface-specific basis "
   ]
  },
  {
   "cell_type": "code",
   "execution_count": null,
   "id": "4239609a",
   "metadata": {},
   "outputs": [],
   "source": [
    "player_ace_l60_perc_means = df_player5[[\"p_name\", \"t_surf\",\"p_SOS_adj_ace%_l60_decay\"]]\n",
    "player_ace_l60_perc_means = player_ace_l60_perc_means[~player_ace_l60_perc_means['p_name'].str.contains(\"Karlovic\")]\n",
    "player_ace_l60_perc_means = player_ace_l60_perc_means[~player_ace_l60_perc_means['p_name'].str.contains(\"Isner\")]\n",
    "player_ace_l60_perc_means = player_ace_l60_perc_means[~player_ace_l60_perc_means['p_name'].str.contains(\"Opelka\")]\n",
    "player_ace_l60_perc_means = player_ace_l60_perc_means.groupby(['t_surf']).mean().round(2)\n",
    "player_ace_l60_perc_means"
   ]
  },
  {
   "cell_type": "code",
   "execution_count": null,
   "id": "f72baaad",
   "metadata": {},
   "outputs": [],
   "source": [
    "player_ace_l60_perc_means[\"p_SOS_adj_ace%_l60_decay\"][0]"
   ]
  },
  {
   "cell_type": "code",
   "execution_count": null,
   "id": "5cfbefc2",
   "metadata": {},
   "outputs": [],
   "source": [
    "player_ace_l60_perc_std = df_player5[[\"p_name\", \"t_surf\",\"p_SOS_adj_ace%_l60_decay\"]]\n",
    "player_ace_l60_perc_std = player_ace_l60_perc_std[~player_ace_l60_perc_std['p_name'].str.contains(\"Karlovic\")]\n",
    "player_ace_l60_perc_std = player_ace_l60_perc_std[~player_ace_l60_perc_std['p_name'].str.contains(\"Isner\")]\n",
    "player_ace_l60_perc_std = player_ace_l60_perc_std[~player_ace_l60_perc_std['p_name'].str.contains(\"Opelka\")]\n",
    "player_ace_l60_perc_std = player_ace_l60_perc_std.groupby(['t_surf']).std().round(2)\n",
    "player_ace_l60_perc_std"
   ]
  },
  {
   "cell_type": "code",
   "execution_count": null,
   "id": "45f12f94",
   "metadata": {},
   "outputs": [],
   "source": [
    "player_ace_l60_perc_std[\"p_SOS_adj_ace%_l60_decay\"][0]"
   ]
  },
  {
   "cell_type": "code",
   "execution_count": null,
   "id": "c77ed0ee",
   "metadata": {},
   "outputs": [],
   "source": [
    "# Marker column for tournament high court speed proxy AND player high ace rate\n",
    "# Plus or minus fractional standard deviation thresholds for tourney and player calibrated in univariate linear modeling\n",
    "df_player6[\"high_t_ace_p_ace\"] = \"\"\n",
    "df_player6.loc[(df_player6[\"t_surf\"] == \"Clay\") & (df_player6[\"t_ace%_last\"] > (surface_ace_perc_means3[\"t_ace%\"][0] + (0.35*surface_ace_perc_std[\"t_ace%\"][0]))) & (df_player6[\"p_SOS_adj_ace%_l60_decay\"] > (player_ace_l60_perc_means[\"p_SOS_adj_ace%_l60_decay\"][0] + (0.4*player_ace_l60_perc_std[\"p_SOS_adj_ace%_l60_decay\"][0]))), \"high_t_ace_p_ace\"] = 1\n",
    "#df_player6.loc[(df_player6[\"t_surf\"] == \"Hard\") & (df_player6[\"t_ace%_last\"] > (surface_ace_perc_means3[\"t_ace%\"][0] + (0.35*surface_ace_perc_std[\"t_ace%\"][0]))) & (df_player6[\"p_SOS_adj_ace%_l60_decay\"] > (player_ace_l60_perc_means[\"p_SOS_adj_ace%_l60_decay\"][0] + (0.4*player_ace_l60_perc_std[\"p_SOS_adj_ace%_l60_decay\"][0]))), \"high_t_ace_p_ace\"] = 1\n",
    "df_player6.loc[(df_player6[\"high_t_ace_p_ace\"] != 1), \"high_t_ace_p_ace\"] = 0"
   ]
  },
  {
   "cell_type": "code",
   "execution_count": null,
   "id": "fe87c26b",
   "metadata": {},
   "outputs": [],
   "source": [
    "df_player6[\"high_t_ace_p_ace\"].value_counts()"
   ]
  },
  {
   "cell_type": "code",
   "execution_count": null,
   "id": "2b8be9e1",
   "metadata": {},
   "outputs": [],
   "source": [
    "# Marker column for tournament high court speed proxy AND player high ACED rate\n",
    "# Plus or minus fractional standard deviation thresholds for tourney and player calibrated in univariate linear modeling\n",
    "df_player6[\"high_t_ace_p_aced\"] = \"\"\n",
    "df_player6.loc[(df_player6[\"t_surf\"] == \"Clay\") & (df_player6[\"t_ace%_last\"] > (surface_ace_perc_means3[\"t_ace%\"][0] + (0.3*surface_ace_perc_std[\"t_ace%\"][0]))) & (df_player6[\"p_SOS_adj_aced%_l60_decay\"] > (player_ace_l60_perc_means[\"p_SOS_adj_ace%_l60_decay\"][0] + (0.3*player_ace_l60_perc_std[\"p_SOS_adj_ace%_l60_decay\"][0]))), \"high_t_ace_p_aced\"] = 1\n",
    "#df_player6.loc[(df_player6[\"t_surf\"] == \"Hard\") & (df_player6[\"t_ace%_last\"] > (surface_ace_perc_means3[\"t_ace%\"][0] + (0.3*surface_ace_perc_std[\"t_ace%\"][0]))) & (df_player6[\"p_SOS_adj_aced%_l60_decay\"] > (player_ace_l60_perc_means[\"p_SOS_adj_ace%_l60_decay\"][0] + (0.3*player_ace_l60_perc_std[\"p_SOS_adj_ace%_l60_decay\"][0]))), \"high_t_ace_p_aced\"] = 1\n",
    "df_player6.loc[(df_player6[\"high_t_ace_p_aced\"] != 1), \"high_t_ace_p_aced\"] = 0"
   ]
  },
  {
   "cell_type": "code",
   "execution_count": null,
   "id": "46714dbc",
   "metadata": {},
   "outputs": [],
   "source": [
    "df_player6[\"high_t_ace_p_aced\"].value_counts()"
   ]
  },
  {
   "cell_type": "code",
   "execution_count": null,
   "id": "ff510e2d",
   "metadata": {},
   "outputs": [],
   "source": [
    "#df_player6.to_csv('../data/df_player6.csv', index=False)"
   ]
  },
  {
   "cell_type": "code",
   "execution_count": null,
   "id": "2608c030",
   "metadata": {},
   "outputs": [],
   "source": [
    "# Numerically encode surface (and handedness, which should have been converted earlier) moving forward\n",
    "df_player6.loc[(df_player6[\"t_surf\"] == \"Hard\"), \"t_surf\"] = 2 #Hard Court\n",
    "df_player6.loc[(df_player6[\"t_surf\"] == \"Clay\"), \"t_surf\"] = 1 #Clay Court\n",
    "df_player6.loc[(df_player6[\"t_surf\"] == \"Carpet\"), \"t_surf\"] = 2 #Hard Court\n",
    "\n",
    "df_player6[\"t_surf\"] = pd.to_numeric(df_player6[\"t_surf\"])"
   ]
  },
  {
   "cell_type": "code",
   "execution_count": null,
   "id": "b782517d",
   "metadata": {},
   "outputs": [],
   "source": [
    "# Now just drop player ace% per match column so we don't accidentally include in predictions\n",
    "#df_player6 = df_player6.drop([\"p_ace%\"], axis=1)"
   ]
  },
  {
   "cell_type": "code",
   "execution_count": null,
   "id": "8d54fdf2",
   "metadata": {},
   "outputs": [],
   "source": [
    "#df_player6.info()"
   ]
  },
  {
   "cell_type": "code",
   "execution_count": null,
   "id": "ca7aed2e",
   "metadata": {},
   "outputs": [],
   "source": [
    "# One last thing to sneak in-let's make a Differential version of the implied odds derived from the average closing wagering line (vig-removed)\n",
    "df_player6[\"p_IP_NV_opp\"] = \"\"\n",
    "df_player6[\"p_IP_NV_opp\"] = 100 - df_player6[\"p_IP_NV\"]\n",
    "\n",
    "df_player6[\"p_IP_NV_diff\"] = \"\"\n",
    "df_player6[\"p_IP_NV_diff\"] = df_player6[\"p_IP_NV\"] - df_player6[\"p_IP_NV_opp\"]"
   ]
  },
  {
   "cell_type": "markdown",
   "id": "191769e6",
   "metadata": {},
   "source": [
    "### Save Data for EDA Stage"
   ]
  },
  {
   "cell_type": "code",
   "execution_count": null,
   "id": "a76ed0c2",
   "metadata": {},
   "outputs": [],
   "source": [
    "# Creates a dataframe containing ranking-related features (and target feature) for dummy and benchmrk model testing.\n",
    "# also contains features necessary for thresholding minimum number of matches played by a player prior to match being predicted on, and \n",
    "# for restricting modeling to 2012 and onward (2009-2012 used to accrue retrospective stats/features)\n",
    "df_player_benchmark = df_player6[[\"p_pts_won%\", \"p_rank\", \"p_log_rank\", \"p_rank_pts\", \"p_opp_rank_diff\", \"p_opp_log_rank_diff\",\"p_opp_rank_pts_diff\", \"p_matches_surf\", \"t_indoor\", \"m_num\", \"tour_wk\"]]"
   ]
  },
  {
   "cell_type": "code",
   "execution_count": null,
   "id": "9cafdb93",
   "metadata": {},
   "outputs": [],
   "source": [
    "# Saves ranking-related player features (for dummy and benchmark model testing)\n",
    "df_player_benchmark.to_csv('../data/df_player_benchmark_clay.csv', index=False)"
   ]
  },
  {
   "cell_type": "code",
   "execution_count": null,
   "id": "4d07ece6",
   "metadata": {},
   "outputs": [],
   "source": [
    "# Creates dataframe with all predictive features (and target, plus more granular targets might use later)\n",
    "df_player_all = df_player6[[\"p_pts_won%\", \"p_sv_pts_won%\", \"p_ret_pts_won%\", \"p_ace%\", \"p_aced%\", \"p_bp_save%\", \"p_bp_convert%\", \"t_id\", \"t_date\", \"tour_wk\", \"t_name\", \"t_country\", \"t_indoor\", \"t_alt\", \"t_ace%_last\", \"t_lvl\", \"t_draw_size\", \"t_rd_num\", \"m_num\", \"m_best_of\", \"m_time(m)\", \"m_tot_pts\", \"p_id\", \"p_name\", \"p_rank\", \"p_log_rank\", \"p_rank_pts\", \"p_country\", \"p_ent\", \"p_hd\", \"p_ht\", \"p_age\", \"p_matches_surf\", \"p_H2H_w\", \"p_H2H_pts_won%\", \"p_pts_won%_l60_decay\", \"p_pts_won%_l60_decay_IO\", \"p_pts_won%_l10\", \"p_SOS_adj_pts_won%_l60_decay\", \"p_SOS_adj_pts_won%_l60_decay_IO\", \"p_SOS_adj_pts_won%_l60_decay_IO_weighted\", \"p_SOS_adj_pts_won%_l10\", \"p_sv_pts_won%_l60_decay\", \"p_sv_pts_won%_l10\", \"p_SOS_adj_sv_pts_won%_l60_decay\", \"p_SOS_adj_sv_pts_won%_l10\", \"p_ret_pts_won%_l60_decay\", \"p_ret_pts_won%_l10\", \"p_SOS_adj_ret_pts_won%_l60_decay\", \"p_SOS_adj_ret_pts_won%_l10\", \"p_ace%_l60_decay\", \"p_ace%_l10\", \"p_SOS_adj_ace%_l60_decay\", \"p_SOS_adj_ace%_l10\", \"p_aced%_l60_decay\", \"p_aced%_l10\", \"p_SOS_adj_aced%_l60_decay\", \"p_SOS_adj_aced%_l10\", \"p_bp_save%_l60\", \"p_bp_save%_l10\", \"p_SOS_adj_bp_save%_l60\", \"p_SOS_adj_bp_save%_l10\", \"p_bp_convert%_l60\", \"p_bp_convert%_l10\", \"p_SOS_adj_bp_convert%_l60\", \"p_SOS_adj_bp_convert%_l10\", \"p_pts_won%_std_l60_decay\",'p_sv_pts_won%_std_l60_decay','p_ret_pts_won%_std_l60_decay', \"p_m_time_last\", \"p_tot_time_l6\", \"p_tot_time_l6_decay\", \"p_tot_pts_last\", \"p_tot_pts_l6\", \"p_tot_pts_l6_decay\", \"p_stamina_adj_fatigue\", \"p_stamina_adj_fatigue_decay\", \"high_t_ace_p_ace\", \"high_t_ace_p_aced\", \"p_opp_rank_diff\", \"p_opp_log_rank_diff\", \"p_opp_rank_pts_diff\", \"p_ent_diff\", \"p_opp_ht_diff\", \"p_opp_age_diff\", \"p_L_opp_R\", \"p_HCA_opp_N\", \"p_pts_won%_l60_decay_diff\", \"p_pts_won%_l60_decay_IO_diff\", \"p_SOS_adj_pts_won%_l60_decay_diff\", \"p_SOS_adj_pts_won%_l60_decay_IO_diff\", \"p_SOS_adj_pts_won%_l60_decay_IO_weighted_diff\", \"p_pts_won%_l10_diff\", \"p_SOS_adj_pts_won%_l10_diff\", \"p_sv_pts_won%_l60_decay_diff\", \"p_SOS_adj_sv_pts_won%_l60_decay_diff\", \"p_sv_pts_won%_l10_diff\", \"p_SOS_adj_sv_pts_won%_l10_diff\", \"p_ret_pts_won%_l60_decay_diff\", \"p_SOS_adj_ret_pts_won%_l60_decay_diff\", \"p_ret_pts_won%_l10_diff\", \"p_SOS_adj_ret_pts_won%_l10_diff\", \"p_sv_opp_ret_pts_won%_l60_decay_diff\", \"p_SOS_adj_sv_opp_ret_pts_won%_l60_decay_diff\", \"p_sv_opp_ret_pts_won%_l10_diff\", \"p_SOS_adj_sv_opp_ret_pts_won%_l10_diff\", \"p_ret_opp_sv_pts_won%_l60_decay_diff\", \"p_SOS_adj_ret_opp_sv_pts_won%_l60_decay_diff\", \"p_ret_opp_sv_pts_won%_l10_diff\", \"p_SOS_adj_ret_opp_sv_pts_won%_l10_diff\", \"p_ace%_l60_decay_diff\", \"p_SOS_adj_ace%_l60_decay_diff\", \"p_ace%_l10_diff\", \"p_SOS_adj_ace%_l10_diff\", \"p_aced%_l60_decay_diff\", \"p_SOS_adj_aced%_l60_decay_diff\", \"p_aced%_l10_diff\", \"p_SOS_adj_aced%_l10_diff\", \"p_ace%_opp_aced%_l60_decay_diff\", \"p_SOS_adj_ace%_opp_aced%_l60_decay_diff\", \"p_ace%_opp_aced%_l10_diff\", \"p_SOS_adj_ace%_opp_aced%_l10_diff\", \"p_aced%_opp_ace%_l60_decay_diff\", \"p_SOS_adj_aced%_opp_ace%_l60_decay_diff\", \"p_aced%_opp_ace%_l10_diff\", \"p_SOS_adj_aced%_opp_ace%_l10_diff\", \"p_bp_save%_l60_diff\", \"p_SOS_adj_bp_save%_l60_diff\", \"p_bp_save%_l10_diff\", \"p_SOS_adj_bp_save%_l10_diff\", \"p_bp_convert%_l60_diff\", \"p_SOS_adj_bp_convert%_l60_diff\", \"p_bp_convert%_l10_diff\", \"p_SOS_adj_bp_convert%_l10_diff\", \"p_bp_convert%_opp_bp_save%_l60_diff\", \"p_SOS_adj_bp_convert%_opp_bp_save%_l60_diff\", \"p_bp_convert%_opp_bp_save%_l10_diff\", \"p_SOS_adj_bp_convert%_opp_bp_save%_l10_diff\", \"p_bp_save%_opp_bp_convert%_l60_diff\", \"p_SOS_adj_bp_save%_opp_bp_convert%_l60_diff\", \"p_bp_save%_opp_bp_convert%_l10_diff\", \"p_SOS_adj_bp_save%_opp_bp_convert%_l10_diff\", \"p_pts_won%_std_l60_decay_diff\", \"p_sv_pts_won%_std_l60_decay_diff\", \"p_ret_pts_won%_std_l60_decay_diff\", \"p_m_time_last_diff\", \"p_tot_time_l6_diff\", \"p_tot_time_l6_decay_diff\", \"p_tot_pts_last_diff\", \"p_tot_pts_l6_diff\", \"p_tot_pts_l6_decay_diff\", \"p_matches_surf_diff\", \"p_stam_adj_fatigue_diff\", \"p_stam_adj_fatigue_decay_diff\",  \"p_H2H_diff\", \"p_H2H_pts_won%_diff\", \"p_IP_NV\", \"p_IP_NV_diff\", \"m_outcome\"]]"
   ]
  },
  {
   "cell_type": "code",
   "execution_count": null,
   "id": "acda3e77",
   "metadata": {},
   "outputs": [],
   "source": [
    "# Saves dataframe with all predictive features - clay court time range\n",
    "df_player_all.to_csv('../data/df_player_all_clay.csv', index=False)"
   ]
  },
  {
   "cell_type": "code",
   "execution_count": null,
   "id": "dbad5910",
   "metadata": {},
   "outputs": [],
   "source": []
  }
 ],
 "metadata": {
  "kernelspec": {
   "display_name": "Python 3",
   "language": "python",
   "name": "python3"
  },
  "language_info": {
   "codemirror_mode": {
    "name": "ipython",
    "version": 3
   },
   "file_extension": ".py",
   "mimetype": "text/x-python",
   "name": "python",
   "nbconvert_exporter": "python",
   "pygments_lexer": "ipython3",
   "version": "3.8.8"
  }
 },
 "nbformat": 4,
 "nbformat_minor": 5
}
