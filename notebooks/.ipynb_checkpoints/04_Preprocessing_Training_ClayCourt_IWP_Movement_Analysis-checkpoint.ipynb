{
 "cells": [
  {
   "cell_type": "markdown",
   "id": "1dcb9885",
   "metadata": {},
   "source": [
    "### Introduction to Preprocessing and Training Stage (Clay Court Version - IWP Movement Analysis)"
   ]
  },
  {
   "cell_type": "markdown",
   "id": "afbf4c49",
   "metadata": {},
   "source": [
    "*Clay court (2012-2019) benchmark models for different IWP (Pinnacle) Opening to Closing movement thresholds"
   ]
  },
  {
   "cell_type": "markdown",
   "id": "a8fc727e",
   "metadata": {},
   "source": [
    "## Preprocessing and Training"
   ]
  },
  {
   "cell_type": "code",
   "execution_count": 1,
   "id": "e179e73d",
   "metadata": {},
   "outputs": [],
   "source": [
    "import pandas as pd\n",
    "import numpy as np\n",
    "import os\n",
    "import pickle\n",
    "import matplotlib.pyplot as plt\n",
    "import seaborn as sns\n",
    "from sklearn import __version__ as sklearn_version\n",
    "from sklearn.preprocessing import scale\n",
    "from sklearn.model_selection import train_test_split, cross_validate, GridSearchCV, learning_curve\n",
    "from sklearn.preprocessing import StandardScaler, MinMaxScaler\n",
    "from sklearn.dummy import DummyRegressor\n",
    "from sklearn.linear_model import LinearRegression\n",
    "from sklearn.metrics import r2_score, mean_squared_error, mean_absolute_error\n",
    "from sklearn.pipeline import make_pipeline\n",
    "from sklearn.impute import SimpleImputer\n",
    "from sklearn.feature_selection import SelectKBest, f_regression\n",
    "import datetime\n",
    "from library.sb_utils import save_file"
   ]
  },
  {
   "cell_type": "markdown",
   "id": "5e352c49",
   "metadata": {},
   "source": [
    "### Load Data"
   ]
  },
  {
   "cell_type": "code",
   "execution_count": 2,
   "id": "9cc5018d",
   "metadata": {},
   "outputs": [
    {
     "data": {
      "text/html": [
       "<div>\n",
       "<style scoped>\n",
       "    .dataframe tbody tr th:only-of-type {\n",
       "        vertical-align: middle;\n",
       "    }\n",
       "\n",
       "    .dataframe tbody tr th {\n",
       "        vertical-align: top;\n",
       "    }\n",
       "\n",
       "    .dataframe thead th {\n",
       "        text-align: right;\n",
       "    }\n",
       "</style>\n",
       "<table border=\"1\" class=\"dataframe\">\n",
       "  <thead>\n",
       "    <tr style=\"text-align: right;\">\n",
       "      <th></th>\n",
       "      <th>t_id</th>\n",
       "      <th>t_ident</th>\n",
       "      <th>t_nm</th>\n",
       "      <th>t_co</th>\n",
       "      <th>t_GMT_diff</th>\n",
       "      <th>t_surf</th>\n",
       "      <th>t_ind</th>\n",
       "      <th>t_alt</th>\n",
       "      <th>t_draw_sz</th>\n",
       "      <th>t_lvl</th>\n",
       "      <th>...</th>\n",
       "      <th>p_df_SvPtsWon%_ratio_l60_tw_ss_IO_diff</th>\n",
       "      <th>p_df_SvPtsWon%_ratio_l10_tw_ss_IO_diff</th>\n",
       "      <th>p_df_SvPtsWon%_ratio_l60_tw_ss_SOS_adj_diff</th>\n",
       "      <th>p_df_SvPtsWon%_ratio_l10_tw_ss_SOS_adj_diff</th>\n",
       "      <th>p_df_SvPtsWon%_ratio_l60_tw_ss_IO_SOS_adj_diff</th>\n",
       "      <th>p_df_SvPtsWon%_ratio_l10_tw_ss_IO_SOS_adj_diff</th>\n",
       "      <th>p_df_SvPtsWon%_ratio_l60_tw_ss_SOS_adj_csp_diff</th>\n",
       "      <th>p_df_SvPtsWon%_ratio_l10_tw_ss_SOS_adj_csp_diff</th>\n",
       "      <th>p_df_SvPtsWon%_ratio_l60_tw_ss_IO_SOS_adj_csp_diff</th>\n",
       "      <th>p_df_SvPtsWon%_ratio_l10_tw_ss_IO_SOS_adj_csp_diff</th>\n",
       "    </tr>\n",
       "  </thead>\n",
       "  <tbody>\n",
       "    <tr>\n",
       "      <th>0</th>\n",
       "      <td>20190605</td>\n",
       "      <td>91</td>\n",
       "      <td>Tour Finals</td>\n",
       "      <td>GBR</td>\n",
       "      <td>1</td>\n",
       "      <td>2</td>\n",
       "      <td>1</td>\n",
       "      <td>0</td>\n",
       "      <td>8</td>\n",
       "      <td>3</td>\n",
       "      <td>...</td>\n",
       "      <td>-0.02</td>\n",
       "      <td>-0.01</td>\n",
       "      <td>-0.01</td>\n",
       "      <td>-0.01</td>\n",
       "      <td>-0.02</td>\n",
       "      <td>-0.01</td>\n",
       "      <td>-0.02</td>\n",
       "      <td>0.00</td>\n",
       "      <td>-0.02</td>\n",
       "      <td>0.00</td>\n",
       "    </tr>\n",
       "    <tr>\n",
       "      <th>1</th>\n",
       "      <td>20190605</td>\n",
       "      <td>91</td>\n",
       "      <td>Tour Finals</td>\n",
       "      <td>GBR</td>\n",
       "      <td>1</td>\n",
       "      <td>2</td>\n",
       "      <td>1</td>\n",
       "      <td>0</td>\n",
       "      <td>8</td>\n",
       "      <td>3</td>\n",
       "      <td>...</td>\n",
       "      <td>0.02</td>\n",
       "      <td>0.01</td>\n",
       "      <td>0.01</td>\n",
       "      <td>0.01</td>\n",
       "      <td>0.02</td>\n",
       "      <td>0.01</td>\n",
       "      <td>0.02</td>\n",
       "      <td>0.00</td>\n",
       "      <td>0.02</td>\n",
       "      <td>0.00</td>\n",
       "    </tr>\n",
       "    <tr>\n",
       "      <th>2</th>\n",
       "      <td>20190605</td>\n",
       "      <td>91</td>\n",
       "      <td>Tour Finals</td>\n",
       "      <td>GBR</td>\n",
       "      <td>1</td>\n",
       "      <td>2</td>\n",
       "      <td>1</td>\n",
       "      <td>0</td>\n",
       "      <td>8</td>\n",
       "      <td>3</td>\n",
       "      <td>...</td>\n",
       "      <td>-0.01</td>\n",
       "      <td>0.01</td>\n",
       "      <td>0.00</td>\n",
       "      <td>0.01</td>\n",
       "      <td>-0.01</td>\n",
       "      <td>0.01</td>\n",
       "      <td>0.00</td>\n",
       "      <td>0.01</td>\n",
       "      <td>-0.01</td>\n",
       "      <td>0.00</td>\n",
       "    </tr>\n",
       "    <tr>\n",
       "      <th>3</th>\n",
       "      <td>20190605</td>\n",
       "      <td>91</td>\n",
       "      <td>Tour Finals</td>\n",
       "      <td>GBR</td>\n",
       "      <td>1</td>\n",
       "      <td>2</td>\n",
       "      <td>1</td>\n",
       "      <td>0</td>\n",
       "      <td>8</td>\n",
       "      <td>3</td>\n",
       "      <td>...</td>\n",
       "      <td>0.01</td>\n",
       "      <td>-0.01</td>\n",
       "      <td>0.00</td>\n",
       "      <td>-0.01</td>\n",
       "      <td>0.01</td>\n",
       "      <td>-0.01</td>\n",
       "      <td>0.00</td>\n",
       "      <td>-0.01</td>\n",
       "      <td>0.01</td>\n",
       "      <td>0.00</td>\n",
       "    </tr>\n",
       "    <tr>\n",
       "      <th>4</th>\n",
       "      <td>20190605</td>\n",
       "      <td>91</td>\n",
       "      <td>Tour Finals</td>\n",
       "      <td>GBR</td>\n",
       "      <td>1</td>\n",
       "      <td>2</td>\n",
       "      <td>1</td>\n",
       "      <td>0</td>\n",
       "      <td>8</td>\n",
       "      <td>3</td>\n",
       "      <td>...</td>\n",
       "      <td>-0.03</td>\n",
       "      <td>-0.02</td>\n",
       "      <td>-0.05</td>\n",
       "      <td>-0.03</td>\n",
       "      <td>-0.03</td>\n",
       "      <td>-0.02</td>\n",
       "      <td>-0.05</td>\n",
       "      <td>-0.03</td>\n",
       "      <td>-0.04</td>\n",
       "      <td>-0.03</td>\n",
       "    </tr>\n",
       "  </tbody>\n",
       "</table>\n",
       "<p>5 rows × 689 columns</p>\n",
       "</div>"
      ],
      "text/plain": [
       "       t_id  t_ident         t_nm t_co  t_GMT_diff  t_surf  t_ind  t_alt  \\\n",
       "0  20190605       91  Tour Finals  GBR           1       2      1      0   \n",
       "1  20190605       91  Tour Finals  GBR           1       2      1      0   \n",
       "2  20190605       91  Tour Finals  GBR           1       2      1      0   \n",
       "3  20190605       91  Tour Finals  GBR           1       2      1      0   \n",
       "4  20190605       91  Tour Finals  GBR           1       2      1      0   \n",
       "\n",
       "   t_draw_sz  t_lvl  ...  p_df_SvPtsWon%_ratio_l60_tw_ss_IO_diff  \\\n",
       "0          8      3  ...                                   -0.02   \n",
       "1          8      3  ...                                    0.02   \n",
       "2          8      3  ...                                   -0.01   \n",
       "3          8      3  ...                                    0.01   \n",
       "4          8      3  ...                                   -0.03   \n",
       "\n",
       "   p_df_SvPtsWon%_ratio_l10_tw_ss_IO_diff  \\\n",
       "0                                   -0.01   \n",
       "1                                    0.01   \n",
       "2                                    0.01   \n",
       "3                                   -0.01   \n",
       "4                                   -0.02   \n",
       "\n",
       "  p_df_SvPtsWon%_ratio_l60_tw_ss_SOS_adj_diff  \\\n",
       "0                                       -0.01   \n",
       "1                                        0.01   \n",
       "2                                        0.00   \n",
       "3                                        0.00   \n",
       "4                                       -0.05   \n",
       "\n",
       "   p_df_SvPtsWon%_ratio_l10_tw_ss_SOS_adj_diff  \\\n",
       "0                                        -0.01   \n",
       "1                                         0.01   \n",
       "2                                         0.01   \n",
       "3                                        -0.01   \n",
       "4                                        -0.03   \n",
       "\n",
       "   p_df_SvPtsWon%_ratio_l60_tw_ss_IO_SOS_adj_diff  \\\n",
       "0                                           -0.02   \n",
       "1                                            0.02   \n",
       "2                                           -0.01   \n",
       "3                                            0.01   \n",
       "4                                           -0.03   \n",
       "\n",
       "   p_df_SvPtsWon%_ratio_l10_tw_ss_IO_SOS_adj_diff  \\\n",
       "0                                           -0.01   \n",
       "1                                            0.01   \n",
       "2                                            0.01   \n",
       "3                                           -0.01   \n",
       "4                                           -0.02   \n",
       "\n",
       "   p_df_SvPtsWon%_ratio_l60_tw_ss_SOS_adj_csp_diff  \\\n",
       "0                                            -0.02   \n",
       "1                                             0.02   \n",
       "2                                             0.00   \n",
       "3                                             0.00   \n",
       "4                                            -0.05   \n",
       "\n",
       "   p_df_SvPtsWon%_ratio_l10_tw_ss_SOS_adj_csp_diff  \\\n",
       "0                                             0.00   \n",
       "1                                             0.00   \n",
       "2                                             0.01   \n",
       "3                                            -0.01   \n",
       "4                                            -0.03   \n",
       "\n",
       "   p_df_SvPtsWon%_ratio_l60_tw_ss_IO_SOS_adj_csp_diff  \\\n",
       "0                                              -0.02    \n",
       "1                                               0.02    \n",
       "2                                              -0.01    \n",
       "3                                               0.01    \n",
       "4                                              -0.04    \n",
       "\n",
       "  p_df_SvPtsWon%_ratio_l10_tw_ss_IO_SOS_adj_csp_diff  \n",
       "0                                               0.00  \n",
       "1                                               0.00  \n",
       "2                                               0.00  \n",
       "3                                               0.00  \n",
       "4                                              -0.03  \n",
       "\n",
       "[5 rows x 689 columns]"
      ]
     },
     "execution_count": 2,
     "metadata": {},
     "output_type": "execute_result"
    }
   ],
   "source": [
    "df = pd.read_csv('../data/df_player_all_for_EDA.csv')\n",
    "df.head()"
   ]
  },
  {
   "cell_type": "code",
   "execution_count": null,
   "id": "95327794",
   "metadata": {},
   "outputs": [],
   "source": [
    "df.info()"
   ]
  },
  {
   "cell_type": "markdown",
   "id": "8fa480d1",
   "metadata": {},
   "source": [
    "### Filter Data"
   ]
  },
  {
   "cell_type": "markdown",
   "id": "708676d0",
   "metadata": {},
   "source": [
    "See notebook Intro for details and justification. "
   ]
  },
  {
   "cell_type": "code",
   "execution_count": 67,
   "id": "b8081934",
   "metadata": {},
   "outputs": [],
   "source": [
    "# Select Clay Court Surface matches only \n",
    "df_filter = df.loc[(df[\"t_surf\"] == 1)]"
   ]
  },
  {
   "cell_type": "code",
   "execution_count": 68,
   "id": "0b24cf9b",
   "metadata": {},
   "outputs": [],
   "source": [
    "# Select match year inclusion\n",
    "df_filter = df_filter.loc[(df_filter[\"m_yr\"] == 2019) | (df_filter[\"m_yr\"] == 2018) | (df_filter[\"m_yr\"] == 2017) | (df_filter[\"m_yr\"] == 2016) | (df_filter[\"m_yr\"] == 2015) | (df_filter[\"m_yr\"] == 2014) | (df_filter[\"m_yr\"] == 2013) | (df_filter[\"m_yr\"] == 2012)]"
   ]
  },
  {
   "cell_type": "code",
   "execution_count": 69,
   "id": "b299f363",
   "metadata": {},
   "outputs": [],
   "source": [
    "# Now also will remove BOTH players from individual matches remaining in the surface-specific sample already filtered by year range\n",
    "# where one or both players has played N or fewer matches prior to the one to be predicted. \n",
    "df_low_pass = df_filter.loc[df_filter['p_matches_ss'] <= 20, 'm_num']\n",
    "df_filter = df_filter[~df_filter['m_num'].isin(df_low_pass)]"
   ]
  },
  {
   "cell_type": "code",
   "execution_count": 70,
   "id": "788975db",
   "metadata": {},
   "outputs": [
    {
     "data": {
      "text/plain": [
       "31.470000000000006"
      ]
     },
     "execution_count": 70,
     "metadata": {},
     "output_type": "execute_result"
    }
   ],
   "source": [
    "# Create column with absolute IWP movement for each player, from Opening to Closing (Pinnacle Sports Lines)\n",
    "df_filter[\"IWP_change\"] = abs(df_filter[\"p_PS_C_IP\"] - df_filter[\"p_PS_O_IP\"])\n",
    "df_filter[\"IWP_change\"].max()"
   ]
  },
  {
   "cell_type": "code",
   "execution_count": 71,
   "id": "aafd6f4a",
   "metadata": {},
   "outputs": [],
   "source": [
    "# Filter out matches with n% or greater movement from Opening to Closing\n",
    "df_filter = df_filter.loc[(df_filter[\"IWP_change\"] < 1.25)] #filter out (both players in a given match with) O to P change >n%"
   ]
  },
  {
   "cell_type": "code",
   "execution_count": null,
   "id": "de0b65fd",
   "metadata": {},
   "outputs": [],
   "source": [
    "df_filter.info()"
   ]
  },
  {
   "cell_type": "markdown",
   "id": "b6164441",
   "metadata": {},
   "source": [
    "Creating df variants with only the columns we will need to generate the benchmark models "
   ]
  },
  {
   "cell_type": "code",
   "execution_count": null,
   "id": "a027a7e8",
   "metadata": {},
   "outputs": [],
   "source": [
    "df_model1 = df_filter[[\"p_tot_pts_won%\", \"p_rk_diff\", \"p_rk_pts_diff\", \"p_log_rk_diff\"]]"
   ]
  },
  {
   "cell_type": "code",
   "execution_count": 72,
   "id": "6310feff",
   "metadata": {},
   "outputs": [],
   "source": [
    "df_model2 = df_filter[[\"p_tot_pts_won%\", \"p_AVG_C_IP\"]]"
   ]
  },
  {
   "cell_type": "code",
   "execution_count": null,
   "id": "deb65e6c",
   "metadata": {},
   "outputs": [],
   "source": [
    "df_model3 = df_filter[[\"p_tot_pts_won%\", \"p_PS_C_IP\"]]"
   ]
  },
  {
   "cell_type": "code",
   "execution_count": null,
   "id": "cab929fb",
   "metadata": {},
   "outputs": [],
   "source": [
    "df_model4 = df_filter[[\"p_tot_pts_won%\", \"p_PS_O_IP\"]]"
   ]
  },
  {
   "cell_type": "code",
   "execution_count": null,
   "id": "55f787a2",
   "metadata": {},
   "outputs": [],
   "source": [
    "df_model1.info()"
   ]
  },
  {
   "cell_type": "markdown",
   "id": "6f76d820",
   "metadata": {},
   "source": [
    "### Train Test Split"
   ]
  },
  {
   "cell_type": "code",
   "execution_count": 9,
   "id": "37dfcba4",
   "metadata": {},
   "outputs": [
    {
     "ename": "NameError",
     "evalue": "name 'df_model1' is not defined",
     "output_type": "error",
     "traceback": [
      "\u001b[1;31m---------------------------------------------------------------------------\u001b[0m",
      "\u001b[1;31mNameError\u001b[0m                                 Traceback (most recent call last)",
      "\u001b[1;32m<ipython-input-9-25de68dbe25e>\u001b[0m in \u001b[0;36m<module>\u001b[1;34m\u001b[0m\n\u001b[1;32m----> 1\u001b[1;33m \u001b[0mlen\u001b[0m\u001b[1;33m(\u001b[0m\u001b[0mdf_model1\u001b[0m\u001b[1;33m)\u001b[0m \u001b[1;33m*\u001b[0m \u001b[1;36m.75\u001b[0m\u001b[1;33m,\u001b[0m \u001b[0mlen\u001b[0m\u001b[1;33m(\u001b[0m\u001b[0mdf_model1\u001b[0m\u001b[1;33m)\u001b[0m \u001b[1;33m*\u001b[0m \u001b[1;36m.25\u001b[0m\u001b[1;33m\u001b[0m\u001b[1;33m\u001b[0m\u001b[0m\n\u001b[0m",
      "\u001b[1;31mNameError\u001b[0m: name 'df_model1' is not defined"
     ]
    }
   ],
   "source": [
    "len(df_model1) * .75, len(df_model1) * .25"
   ]
  },
  {
   "cell_type": "code",
   "execution_count": 10,
   "id": "41207c43",
   "metadata": {},
   "outputs": [
    {
     "ename": "NameError",
     "evalue": "name 'df_model1' is not defined",
     "output_type": "error",
     "traceback": [
      "\u001b[1;31m---------------------------------------------------------------------------\u001b[0m",
      "\u001b[1;31mNameError\u001b[0m                                 Traceback (most recent call last)",
      "\u001b[1;32m<ipython-input-10-3881aba297f7>\u001b[0m in \u001b[0;36m<module>\u001b[1;34m\u001b[0m\n\u001b[1;32m----> 1\u001b[1;33m X_train, X_test, y_train, y_test = train_test_split(df_model1.drop(columns='p_tot_pts_won%'), \n\u001b[0m\u001b[0;32m      2\u001b[0m                                                     \u001b[0mdf_model1\u001b[0m\u001b[1;33m[\u001b[0m\u001b[1;34m\"p_tot_pts_won%\"\u001b[0m\u001b[1;33m]\u001b[0m\u001b[1;33m,\u001b[0m \u001b[0mtest_size\u001b[0m\u001b[1;33m=\u001b[0m\u001b[1;36m0.25\u001b[0m\u001b[1;33m,\u001b[0m\u001b[1;33m\u001b[0m\u001b[1;33m\u001b[0m\u001b[0m\n\u001b[0;32m      3\u001b[0m                                                     random_state=47)\n",
      "\u001b[1;31mNameError\u001b[0m: name 'df_model1' is not defined"
     ]
    }
   ],
   "source": [
    "X_train, X_test, y_train, y_test = train_test_split(df_model1.drop(columns='p_tot_pts_won%'), \n",
    "                                                    df_model1[\"p_tot_pts_won%\"], test_size=0.25, \n",
    "                                                    random_state=47)"
   ]
  },
  {
   "cell_type": "code",
   "execution_count": null,
   "id": "9aadc9a5",
   "metadata": {},
   "outputs": [],
   "source": [
    "y_train.shape, y_test.shape"
   ]
  },
  {
   "cell_type": "code",
   "execution_count": null,
   "id": "7b3da5c6",
   "metadata": {},
   "outputs": [],
   "source": [
    "y_train"
   ]
  },
  {
   "cell_type": "code",
   "execution_count": null,
   "id": "3944cffa",
   "metadata": {},
   "outputs": [],
   "source": [
    "X_train.shape, X_test.shape"
   ]
  },
  {
   "cell_type": "markdown",
   "id": "2b9eb379",
   "metadata": {},
   "source": [
    "### Pre-Modeling: Mean Points Won% by a Given Player in Given Match as Predictor (aka \"Dummy Model\")"
   ]
  },
  {
   "cell_type": "code",
   "execution_count": null,
   "id": "a9e3929c",
   "metadata": {},
   "outputs": [],
   "source": [
    "#Target feature (p_tot_pts_won%) training set mean\n",
    "train_mean = y_train.mean()\n",
    "train_mean"
   ]
  },
  {
   "cell_type": "code",
   "execution_count": null,
   "id": "ef94f8da",
   "metadata": {},
   "outputs": [],
   "source": [
    "#Fitting dummy regressor to training data (from sklearn). Outputs the training set mean.\n",
    "dumb_reg = DummyRegressor(strategy='mean')\n",
    "dumb_reg.fit(X_train, y_train)\n",
    "dumb_reg.constant_"
   ]
  },
  {
   "cell_type": "code",
   "execution_count": null,
   "id": "f20954f3",
   "metadata": {},
   "outputs": [],
   "source": [
    "y_tr_pred = dumb_reg.predict(X_train)\n",
    "y_tr_pred[:5]"
   ]
  },
  {
   "cell_type": "code",
   "execution_count": null,
   "id": "682d3306",
   "metadata": {},
   "outputs": [],
   "source": [
    "y_te_pred = train_mean * np.ones(len(y_test))"
   ]
  },
  {
   "cell_type": "markdown",
   "id": "69f9a10a",
   "metadata": {},
   "source": [
    "#### R-Squared (COD)"
   ]
  },
  {
   "cell_type": "code",
   "execution_count": null,
   "id": "a5db87e4",
   "metadata": {},
   "outputs": [],
   "source": [
    "#Compute R-squared for target mean on training set (will be zero, since we are calculating mean on training set), and on test set (should be slightly different from zero)\n",
    "r2_score(y_train, y_tr_pred), r2_score(y_test, y_te_pred)"
   ]
  },
  {
   "cell_type": "markdown",
   "id": "68d65bdb",
   "metadata": {},
   "source": [
    "proportion of the variance for a dependent variable that's explained by our features. It's close to zero for the dummy model as expected."
   ]
  },
  {
   "cell_type": "markdown",
   "id": "13b2e460",
   "metadata": {},
   "source": [
    "#### Mean Absolute Error (MAE)"
   ]
  },
  {
   "cell_type": "code",
   "execution_count": null,
   "id": "6eac49b9",
   "metadata": {},
   "outputs": [],
   "source": [
    "MAEs_dummy = mean_absolute_error(y_train, y_tr_pred), mean_absolute_error(y_test, y_te_pred)\n",
    "MAEs_dummy"
   ]
  },
  {
   "cell_type": "markdown",
   "id": "6e77ae7a",
   "metadata": {},
   "source": [
    "On average, we might expect to be off by around 5.05% on training set data and 4.95% on test data if you guessed a given player's percentage of points won in a given match based simply on an average of known values."
   ]
  },
  {
   "cell_type": "markdown",
   "id": "3d8d0a0c",
   "metadata": {},
   "source": [
    "#### Mean Squared Error (MSE)"
   ]
  },
  {
   "cell_type": "code",
   "execution_count": null,
   "id": "ce641104",
   "metadata": {},
   "outputs": [],
   "source": [
    "#Calculate the Mean Squared Error (average of the square of the errors)\n",
    "MSEs_dummy = mean_squared_error(y_train, y_tr_pred), mean_squared_error(y_test, y_te_pred)\n",
    "MSEs_dummy"
   ]
  },
  {
   "cell_type": "markdown",
   "id": "6bf480c4",
   "metadata": {},
   "source": [
    "#### Root Mean Squared Error (RMSE)"
   ]
  },
  {
   "cell_type": "code",
   "execution_count": null,
   "id": "9d96b979",
   "metadata": {},
   "outputs": [],
   "source": [
    "RMSEs_dummy = np.sqrt(mean_squared_error(y_train, y_tr_pred)), np.sqrt(mean_squared_error(y_test, y_te_pred))\n",
    "RMSEs_dummy"
   ]
  },
  {
   "cell_type": "markdown",
   "id": "2d7bd21b",
   "metadata": {},
   "source": [
    "The Dummy Model above is the ultimate straw man (we sure hope we can beat guessing with the average with all of the great data we have!). A slightly more fair comparison to our ultimate feature-rich model is a Linear Model based simply on the past match data provided by the ATP, namely player ranking and player ranking points. The ATP uses this data to decide on tournament entry status and seedings, so there is assuredly trust in these metrics by the governing body of tennis as far as evaluating players on tour. "
   ]
  },
  {
   "cell_type": "markdown",
   "id": "a297aad7",
   "metadata": {},
   "source": [
    "## Benchmark Linear Model Based on Player Ranking Data-Derived Features "
   ]
  },
  {
   "cell_type": "code",
   "execution_count": null,
   "id": "2dffb29e",
   "metadata": {},
   "outputs": [],
   "source": [
    "X_train.info()"
   ]
  },
  {
   "cell_type": "code",
   "execution_count": null,
   "id": "557cae51",
   "metadata": {},
   "outputs": [],
   "source": [
    "#Filter existing train-test split down to just the ranking columns (train)\n",
    "#X_train_ranking = X_train[[\"p_rank\", \"p_rank_pts\", \"p_log_rank\", \"p_opp_rank_diff\", \"p_opp_rank_pts_diff\", \"p_opp_log_rank_diff\"]]"
   ]
  },
  {
   "cell_type": "code",
   "execution_count": null,
   "id": "a15bf91a",
   "metadata": {},
   "outputs": [],
   "source": [
    "#Filter existing train-test split down to just the ranking columns (test)\n",
    "#X_test_ranking = X_test[[\"p_rank\", \"p_rank_pts\", \"p_log_rank\", \"p_opp_rank_diff\", \"p_opp_rank_pts_diff\", \"p_opp_log_rank_diff\"]]"
   ]
  },
  {
   "cell_type": "code",
   "execution_count": null,
   "id": "3f05e589",
   "metadata": {},
   "outputs": [],
   "source": [
    "lr_pipe = make_pipeline(\n",
    "    SimpleImputer(strategy='median'), \n",
    "    StandardScaler(),\n",
    "    SelectKBest(f_regression),\n",
    "    LinearRegression()\n",
    ")"
   ]
  },
  {
   "cell_type": "code",
   "execution_count": null,
   "id": "3b6274eb",
   "metadata": {},
   "outputs": [],
   "source": [
    "#Dict of available parameters for linear regression pipe\n",
    "lr_pipe.get_params().keys()"
   ]
  },
  {
   "cell_type": "code",
   "execution_count": null,
   "id": "8d45a3c7",
   "metadata": {},
   "outputs": [],
   "source": [
    "#Define search grid parameters\n",
    "k = [k+1 for k in range(len(X_train.columns))]\n",
    "\n",
    "grid_params = {\n",
    "    'standardscaler': [StandardScaler(), None],\n",
    "    'simpleimputer__strategy': ['mean', 'median'],\n",
    "    'selectkbest__k': k\n",
    "}"
   ]
  },
  {
   "cell_type": "code",
   "execution_count": null,
   "id": "03fa5d78",
   "metadata": {},
   "outputs": [],
   "source": [
    "#Call `GridSearchCV` with linear regression pipeline, passing in the above `grid_params`\n",
    "#dict for parameters to evaluate with 5-fold cross-validation\n",
    "lr_grid_cv = GridSearchCV(lr_pipe, param_grid=grid_params, cv=5)"
   ]
  },
  {
   "cell_type": "code",
   "execution_count": null,
   "id": "c1947d57",
   "metadata": {},
   "outputs": [],
   "source": [
    "#Conduct grid search for this ranking-restricted model. \n",
    "lr_grid_cv.fit(X_train, y_train)"
   ]
  },
  {
   "cell_type": "code",
   "execution_count": null,
   "id": "a1106123",
   "metadata": {},
   "outputs": [],
   "source": [
    "#Best params from grid search for this ranking-restricted model\n",
    "lr_grid_cv.best_params_"
   ]
  },
  {
   "cell_type": "markdown",
   "id": "eaaa954d",
   "metadata": {},
   "source": [
    "#### K Best Features Visualization"
   ]
  },
  {
   "cell_type": "code",
   "execution_count": null,
   "id": "cb3d0008",
   "metadata": {},
   "outputs": [],
   "source": [
    "score_mean = lr_grid_cv.cv_results_['mean_test_score']\n",
    "score_std = lr_grid_cv.cv_results_['std_test_score']\n",
    "cv_k = [k for k in lr_grid_cv.cv_results_['param_selectkbest__k']]\n",
    "\n",
    "best_k = lr_grid_cv.best_params_['selectkbest__k']\n",
    "plt.subplots(figsize=(10, 5))\n",
    "plt.errorbar(cv_k, score_mean, yerr=score_std)\n",
    "plt.axvline(x=best_k, c='r', ls='--', alpha=.5)\n",
    "plt.xlabel('k')\n",
    "plt.ylabel('CV score (r-squared)')\n",
    "plt.title('Pipeline mean CV score (error bars +/- 1sd)');"
   ]
  },
  {
   "cell_type": "markdown",
   "id": "95754b7d",
   "metadata": {},
   "source": [
    "### Linear Model From Player Ranking-Derived Features Metrics"
   ]
  },
  {
   "cell_type": "markdown",
   "id": "7b934d9b",
   "metadata": {},
   "source": [
    "#### R-squared (COD)"
   ]
  },
  {
   "cell_type": "code",
   "execution_count": null,
   "id": "9fe2be9c",
   "metadata": {},
   "outputs": [],
   "source": [
    "#Cross-validation defaults to R^2 metric for scoring regression\n",
    "lr_best_cv_results = cross_validate(lr_grid_cv.best_estimator_, X_train, y_train, cv=5)\n",
    "lr_best_scores = lr_best_cv_results['test_score']\n",
    "lr_best_scores"
   ]
  },
  {
   "cell_type": "code",
   "execution_count": null,
   "id": "ff3d458a",
   "metadata": {},
   "outputs": [],
   "source": [
    "#Training set CV mean and std\n",
    "np.mean(lr_best_scores), np.std(lr_best_scores)"
   ]
  },
  {
   "cell_type": "markdown",
   "id": "eb63283c",
   "metadata": {},
   "source": [
    "#### Mean Absolute Error (MAE)"
   ]
  },
  {
   "cell_type": "code",
   "execution_count": null,
   "id": "73d54fe8",
   "metadata": {},
   "outputs": [],
   "source": [
    "lr_neg_mae = cross_validate(lr_grid_cv.best_estimator_, X_train, y_train, \n",
    "                            scoring='neg_mean_absolute_error', cv=5, n_jobs=-1)"
   ]
  },
  {
   "cell_type": "code",
   "execution_count": null,
   "id": "6ed58255",
   "metadata": {},
   "outputs": [],
   "source": [
    "# Training set MAE and STD \n",
    "lr_mae_mean = np.mean(-1 * lr_neg_mae['test_score'])\n",
    "lr_mae_std = np.std(-1 * lr_neg_mae['test_score'])\n",
    "MAE_LR_train = lr_mae_mean, lr_mae_std\n",
    "MAE_LR_train"
   ]
  },
  {
   "cell_type": "code",
   "execution_count": null,
   "id": "3142ce5e",
   "metadata": {},
   "outputs": [],
   "source": [
    "# Test set mean\n",
    "MAE_LR_test = mean_absolute_error(y_test, lr_grid_cv.best_estimator_.predict(X_test))\n",
    "MAE_LR_test"
   ]
  },
  {
   "cell_type": "markdown",
   "id": "2bd96b16",
   "metadata": {},
   "source": [
    "#### Mean Squared Error (MSE)"
   ]
  },
  {
   "cell_type": "code",
   "execution_count": null,
   "id": "d7bb4408",
   "metadata": {},
   "outputs": [],
   "source": [
    "lr_neg_mse = cross_validate(lr_grid_cv.best_estimator_, X_train, y_train, \n",
    "                            scoring='neg_mean_squared_error', cv=5)"
   ]
  },
  {
   "cell_type": "code",
   "execution_count": null,
   "id": "590c02f0",
   "metadata": {},
   "outputs": [],
   "source": [
    "#Training set CV mean and std\n",
    "lr_mse_mean = np.mean(-1 * lr_neg_mse['test_score'])\n",
    "lr_mse_std = np.std(-1 * lr_neg_mse['test_score'])\n",
    "MSE_LR_train = lr_mse_mean, lr_mse_std\n",
    "MSE_LR_train"
   ]
  },
  {
   "cell_type": "code",
   "execution_count": null,
   "id": "ec4b5820",
   "metadata": {},
   "outputs": [],
   "source": [
    "# Test set mean\n",
    "MSE_LR_test = mean_squared_error(y_test, lr_grid_cv.best_estimator_.predict(X_test))\n",
    "MSE_LR_test"
   ]
  },
  {
   "cell_type": "markdown",
   "id": "e903f84c",
   "metadata": {},
   "source": [
    "#### Root Mean Square Error (RMSE)"
   ]
  },
  {
   "cell_type": "code",
   "execution_count": null,
   "id": "3400ccba",
   "metadata": {},
   "outputs": [],
   "source": [
    "lr_neg_rmse = cross_validate(lr_grid_cv.best_estimator_, X_train, y_train, \n",
    "                            scoring='neg_root_mean_squared_error', cv=5)"
   ]
  },
  {
   "cell_type": "code",
   "execution_count": null,
   "id": "feef3271",
   "metadata": {},
   "outputs": [],
   "source": [
    "#Training set CV mean and std\n",
    "lr_rmse_mean = np.mean(-1 * lr_neg_rmse['test_score'])\n",
    "lr_rmse_std = np.std(-1 * lr_neg_rmse['test_score'])\n",
    "RMSE_LR_train = lr_rmse_mean, lr_rmse_std\n",
    "RMSE_LR_train"
   ]
  },
  {
   "cell_type": "code",
   "execution_count": null,
   "id": "ecd941f3",
   "metadata": {},
   "outputs": [],
   "source": [
    "# Test set mean\n",
    "RMSE_LR_test = np.sqrt(mean_squared_error(y_test, lr_grid_cv.best_estimator_.predict(X_test)))\n",
    "RMSE_LR_test"
   ]
  },
  {
   "cell_type": "markdown",
   "id": "74ab8c1c",
   "metadata": {},
   "source": [
    "### Best Linear Model Feature Importance"
   ]
  },
  {
   "cell_type": "code",
   "execution_count": null,
   "id": "c45afdff",
   "metadata": {},
   "outputs": [],
   "source": [
    "#Plots a barplot of the linear regressor feature importances,\n",
    "#assigning the `feature_importances_` attribute of \n",
    "#`lv_grid_cv.best_estimator_.named_steps.linearregression` to the name `imps` to then\n",
    "#create a pandas Series object of the feature importances, with the index given by the\n",
    "#training data column names, sorting the values in descending order\n",
    "selected = lr_grid_cv.best_estimator_.named_steps.selectkbest.get_support()\n",
    "plt.subplots(figsize=(10, 5))\n",
    "imps = lr_grid_cv.best_estimator_.named_steps.linearregression.coef_\n",
    "lr_feat_imps = pd.Series(imps, index=X_train.columns[selected]).sort_values(ascending=False)\n",
    "lr_feat_imps.plot(kind='bar')\n",
    "plt.xlabel('features')\n",
    "plt.ylabel('importance')\n",
    "plt.title('Best ranking differential features only linear regressor feature importances');"
   ]
  },
  {
   "cell_type": "markdown",
   "id": "8691d024",
   "metadata": {},
   "source": [
    "### Save Best Linear Model Object From Pipeline"
   ]
  },
  {
   "cell_type": "code",
   "execution_count": null,
   "id": "4531d3e9",
   "metadata": {},
   "outputs": [],
   "source": [
    "# save the best linear model\n",
    "# best_model = lr_grid_cv.best_estimator_\n",
    "# best_model.version = '1.0'\n",
    "# best_model.pandas_version = pd.__version__\n",
    "# best_model.numpy_version = np.__version__\n",
    "# best_model.sklearn_version = sklearn_version\n",
    "# best_model.X_columns = [col for col in X_train.columns]\n",
    "# best_model.build_datetime = datetime.datetime.now()\n",
    "\n",
    "# modelpath = '../models'\n",
    "# save_file(best_model, 'ranking_linearmodel_hard.pkl', modelpath)"
   ]
  },
  {
   "cell_type": "markdown",
   "id": "6b4d7a4a",
   "metadata": {},
   "source": [
    "### Save Prediction Metrics from Dummy and Ranking Data-Derived Linear Regression Models"
   ]
  },
  {
   "cell_type": "code",
   "execution_count": null,
   "id": "add1b519",
   "metadata": {},
   "outputs": [],
   "source": [
    "# # save other data for model comparisons in machine learning model stage\n",
    "# comp_data_from4_ranking_hard = (MAEs_dummy, MSEs_dummy, RMSEs_dummy, MAE_LR_train, MAE_LR_test, MSE_LR_train, MSE_LR_test, RMSE_LR_train, RMSE_LR_test)\n",
    "# with open('../data/comp_data_from4_ranking_hard.pickle', 'wb') as f:\n",
    "#     pickle.dump(comp_data_from4_ranking_hard, f)"
   ]
  },
  {
   "cell_type": "markdown",
   "id": "7d0717b2",
   "metadata": {},
   "source": [
    "## Benchmark Linear Model Based on Aggregate Closing Line Data"
   ]
  },
  {
   "cell_type": "markdown",
   "id": "b486b178",
   "metadata": {},
   "source": [
    "### Train Test Split"
   ]
  },
  {
   "cell_type": "code",
   "execution_count": 73,
   "id": "987f833f",
   "metadata": {},
   "outputs": [
    {
     "data": {
      "text/plain": [
       "(1369.5, 456.5)"
      ]
     },
     "execution_count": 73,
     "metadata": {},
     "output_type": "execute_result"
    }
   ],
   "source": [
    "len(df_model2) * .75, len(df_model2) * .25"
   ]
  },
  {
   "cell_type": "code",
   "execution_count": 74,
   "id": "a670806a",
   "metadata": {},
   "outputs": [],
   "source": [
    "X_train, X_test, y_train, y_test = train_test_split(df_model2.drop(columns='p_tot_pts_won%'), \n",
    "                                                    df_model2[\"p_tot_pts_won%\"], test_size=0.25, \n",
    "                                                    random_state=47)"
   ]
  },
  {
   "cell_type": "code",
   "execution_count": 75,
   "id": "d3c5be55",
   "metadata": {},
   "outputs": [
    {
     "data": {
      "text/plain": [
       "((1369,), (457,))"
      ]
     },
     "execution_count": 75,
     "metadata": {},
     "output_type": "execute_result"
    }
   ],
   "source": [
    "y_train.shape, y_test.shape"
   ]
  },
  {
   "cell_type": "code",
   "execution_count": 76,
   "id": "6e24259c",
   "metadata": {},
   "outputs": [
    {
     "data": {
      "text/plain": [
       "14018    54.42\n",
       "12266    48.28\n",
       "39643    43.97\n",
       "11993    41.67\n",
       "38747    36.96\n",
       "         ...  \n",
       "14995    43.75\n",
       "13566    55.47\n",
       "28790    50.55\n",
       "8537     49.77\n",
       "24829    41.18\n",
       "Name: p_tot_pts_won%, Length: 1369, dtype: float64"
      ]
     },
     "execution_count": 76,
     "metadata": {},
     "output_type": "execute_result"
    }
   ],
   "source": [
    "y_train"
   ]
  },
  {
   "cell_type": "code",
   "execution_count": 77,
   "id": "97008c67",
   "metadata": {},
   "outputs": [
    {
     "data": {
      "text/plain": [
       "((1369, 1), (457, 1))"
      ]
     },
     "execution_count": 77,
     "metadata": {},
     "output_type": "execute_result"
    }
   ],
   "source": [
    "X_train.shape, X_test.shape"
   ]
  },
  {
   "cell_type": "code",
   "execution_count": 78,
   "id": "c28b3003",
   "metadata": {},
   "outputs": [
    {
     "name": "stdout",
     "output_type": "stream",
     "text": [
      "<class 'pandas.core.frame.DataFrame'>\n",
      "Int64Index: 1369 entries, 14018 to 24829\n",
      "Data columns (total 1 columns):\n",
      " #   Column      Non-Null Count  Dtype  \n",
      "---  ------      --------------  -----  \n",
      " 0   p_AVG_C_IP  1369 non-null   float64\n",
      "dtypes: float64(1)\n",
      "memory usage: 21.4 KB\n"
     ]
    }
   ],
   "source": [
    "X_train.info()"
   ]
  },
  {
   "cell_type": "code",
   "execution_count": 79,
   "id": "f456258b",
   "metadata": {},
   "outputs": [],
   "source": [
    "lr_pipe = make_pipeline(\n",
    "    SimpleImputer(strategy='median'), \n",
    "    StandardScaler(),\n",
    "    SelectKBest(f_regression),\n",
    "    LinearRegression()\n",
    ")"
   ]
  },
  {
   "cell_type": "code",
   "execution_count": 80,
   "id": "8ba73615",
   "metadata": {},
   "outputs": [
    {
     "data": {
      "text/plain": [
       "dict_keys(['memory', 'steps', 'verbose', 'simpleimputer', 'standardscaler', 'selectkbest', 'linearregression', 'simpleimputer__add_indicator', 'simpleimputer__copy', 'simpleimputer__fill_value', 'simpleimputer__missing_values', 'simpleimputer__strategy', 'simpleimputer__verbose', 'standardscaler__copy', 'standardscaler__with_mean', 'standardscaler__with_std', 'selectkbest__k', 'selectkbest__score_func', 'linearregression__copy_X', 'linearregression__fit_intercept', 'linearregression__n_jobs', 'linearregression__normalize', 'linearregression__positive'])"
      ]
     },
     "execution_count": 80,
     "metadata": {},
     "output_type": "execute_result"
    }
   ],
   "source": [
    "#Dict of available parameters for linear regression pipe\n",
    "lr_pipe.get_params().keys()"
   ]
  },
  {
   "cell_type": "code",
   "execution_count": 81,
   "id": "8a5e652b",
   "metadata": {},
   "outputs": [],
   "source": [
    "#Define search grid parameters\n",
    "k = [k+1 for k in range(len(X_train.columns))]\n",
    "\n",
    "grid_params = {\n",
    "    'standardscaler': [StandardScaler(), None],\n",
    "    'simpleimputer__strategy': ['mean', 'median'],\n",
    "    'selectkbest__k': k\n",
    "}"
   ]
  },
  {
   "cell_type": "code",
   "execution_count": 82,
   "id": "cab4c3bb",
   "metadata": {},
   "outputs": [],
   "source": [
    "#Call `GridSearchCV` with linear regression pipeline, passing in the above `grid_params`\n",
    "#dict for parameters to evaluate with 5-fold cross-validation\n",
    "lr_grid_cv = GridSearchCV(lr_pipe, param_grid=grid_params, cv=5)"
   ]
  },
  {
   "cell_type": "code",
   "execution_count": 83,
   "id": "194654e8",
   "metadata": {},
   "outputs": [
    {
     "data": {
      "text/plain": [
       "GridSearchCV(cv=5,\n",
       "             estimator=Pipeline(steps=[('simpleimputer',\n",
       "                                        SimpleImputer(strategy='median')),\n",
       "                                       ('standardscaler', StandardScaler()),\n",
       "                                       ('selectkbest',\n",
       "                                        SelectKBest(score_func=<function f_regression at 0x000001FBC7780310>)),\n",
       "                                       ('linearregression',\n",
       "                                        LinearRegression())]),\n",
       "             param_grid={'selectkbest__k': [1],\n",
       "                         'simpleimputer__strategy': ['mean', 'median'],\n",
       "                         'standardscaler': [StandardScaler(), None]})"
      ]
     },
     "execution_count": 83,
     "metadata": {},
     "output_type": "execute_result"
    }
   ],
   "source": [
    "#Conduct grid search for this IWP-restricted model. \n",
    "lr_grid_cv.fit(X_train, y_train)"
   ]
  },
  {
   "cell_type": "code",
   "execution_count": 84,
   "id": "ee9b8a23",
   "metadata": {},
   "outputs": [
    {
     "data": {
      "text/plain": [
       "{'selectkbest__k': 1,\n",
       " 'simpleimputer__strategy': 'mean',\n",
       " 'standardscaler': StandardScaler()}"
      ]
     },
     "execution_count": 84,
     "metadata": {},
     "output_type": "execute_result"
    }
   ],
   "source": [
    "#Best params from grid search for this IWP-restricted model\n",
    "lr_grid_cv.best_params_"
   ]
  },
  {
   "cell_type": "code",
   "execution_count": 85,
   "id": "5da7ca42",
   "metadata": {},
   "outputs": [
    {
     "data": {
      "image/png": "[encoded data removed]",
      "text/plain": [
       "<Figure size 720x360 with 1 Axes>"
      ]
     },
     "metadata": {
      "needs_background": "light"
     },
     "output_type": "display_data"
    }
   ],
   "source": [
    "score_mean = lr_grid_cv.cv_results_['mean_test_score']\n",
    "score_std = lr_grid_cv.cv_results_['std_test_score']\n",
    "cv_k = [k for k in lr_grid_cv.cv_results_['param_selectkbest__k']]\n",
    "\n",
    "best_k = lr_grid_cv.best_params_['selectkbest__k']\n",
    "plt.subplots(figsize=(10, 5))\n",
    "plt.errorbar(cv_k, score_mean, yerr=score_std)\n",
    "plt.axvline(x=best_k, c='r', ls='--', alpha=.5)\n",
    "plt.xlabel('k')\n",
    "plt.ylabel('CV score (r-squared)')\n",
    "plt.title('Pipeline mean CV score (error bars +/- 1sd)');"
   ]
  },
  {
   "cell_type": "markdown",
   "id": "626ea936",
   "metadata": {},
   "source": [
    "### Linear Model From IWP (Closing) Features Performance Metrics"
   ]
  },
  {
   "cell_type": "markdown",
   "id": "d56db5c0",
   "metadata": {},
   "source": [
    "#### R-squared (COD)"
   ]
  },
  {
   "cell_type": "code",
   "execution_count": 86,
   "id": "66607aa8",
   "metadata": {},
   "outputs": [
    {
     "data": {
      "text/plain": [
       "array([0.37344867, 0.33154718, 0.29701296, 0.33886631, 0.41162788])"
      ]
     },
     "execution_count": 86,
     "metadata": {},
     "output_type": "execute_result"
    }
   ],
   "source": [
    "#Cross-validation defaults to R^2 metric for scoring regression\n",
    "lr_best_cv_results = cross_validate(lr_grid_cv.best_estimator_, X_train, y_train, cv=5)\n",
    "lr_best_scores = lr_best_cv_results['test_score']\n",
    "lr_best_scores"
   ]
  },
  {
   "cell_type": "code",
   "execution_count": 87,
   "id": "d6db42d0",
   "metadata": {},
   "outputs": [
    {
     "data": {
      "text/plain": [
       "(0.3505005978749002, 0.0390350479851509)"
      ]
     },
     "execution_count": 87,
     "metadata": {},
     "output_type": "execute_result"
    }
   ],
   "source": [
    "#Training set CV mean and std\n",
    "np.mean(lr_best_scores), np.std(lr_best_scores)"
   ]
  },
  {
   "cell_type": "markdown",
   "id": "dd7b5fdf",
   "metadata": {},
   "source": [
    "#### Mean Absolute Error (MAE)"
   ]
  },
  {
   "cell_type": "code",
   "execution_count": 88,
   "id": "6a0d8f08",
   "metadata": {},
   "outputs": [],
   "source": [
    "lr_neg_mae = cross_validate(lr_grid_cv.best_estimator_, X_train, y_train, \n",
    "                            scoring='neg_mean_absolute_error', cv=5, n_jobs=-1)"
   ]
  },
  {
   "cell_type": "code",
   "execution_count": 89,
   "id": "ac04ce1a",
   "metadata": {},
   "outputs": [
    {
     "data": {
      "text/plain": [
       "(4.406631524871192, 0.22060700046039583)"
      ]
     },
     "execution_count": 89,
     "metadata": {},
     "output_type": "execute_result"
    }
   ],
   "source": [
    "# Training set MAE and STD \n",
    "lr_mae_mean = np.mean(-1 * lr_neg_mae['test_score'])\n",
    "lr_mae_std = np.std(-1 * lr_neg_mae['test_score'])\n",
    "MAE_LR_train = lr_mae_mean, lr_mae_std\n",
    "MAE_LR_train"
   ]
  },
  {
   "cell_type": "code",
   "execution_count": 90,
   "id": "5cb1deb0",
   "metadata": {},
   "outputs": [
    {
     "data": {
      "text/plain": [
       "4.21949729982642"
      ]
     },
     "execution_count": 90,
     "metadata": {},
     "output_type": "execute_result"
    }
   ],
   "source": [
    "# Test set mean\n",
    "MAE_LR_test = mean_absolute_error(y_test, lr_grid_cv.best_estimator_.predict(X_test))\n",
    "MAE_LR_test"
   ]
  },
  {
   "cell_type": "markdown",
   "id": "1b181670",
   "metadata": {},
   "source": [
    "#### Mean Squared Error (MSE)"
   ]
  },
  {
   "cell_type": "code",
   "execution_count": 91,
   "id": "25693c9d",
   "metadata": {},
   "outputs": [],
   "source": [
    "lr_neg_mse = cross_validate(lr_grid_cv.best_estimator_, X_train, y_train, \n",
    "                            scoring='neg_mean_squared_error', cv=5)"
   ]
  },
  {
   "cell_type": "code",
   "execution_count": 92,
   "id": "14f82c2a",
   "metadata": {},
   "outputs": [
    {
     "data": {
      "text/plain": [
       "(31.735602780103882, 3.8799743072166115)"
      ]
     },
     "execution_count": 92,
     "metadata": {},
     "output_type": "execute_result"
    }
   ],
   "source": [
    "#Training set CV mean and std\n",
    "lr_mse_mean = np.mean(-1 * lr_neg_mse['test_score'])\n",
    "lr_mse_std = np.std(-1 * lr_neg_mse['test_score'])\n",
    "MSE_LR_train = lr_mse_mean, lr_mse_std\n",
    "MSE_LR_train"
   ]
  },
  {
   "cell_type": "code",
   "execution_count": 93,
   "id": "61a70806",
   "metadata": {},
   "outputs": [
    {
     "data": {
      "text/plain": [
       "30.970395982149572"
      ]
     },
     "execution_count": 93,
     "metadata": {},
     "output_type": "execute_result"
    }
   ],
   "source": [
    "# Test set mean\n",
    "MSE_LR_test = mean_squared_error(y_test, lr_grid_cv.best_estimator_.predict(X_test))\n",
    "MSE_LR_test"
   ]
  },
  {
   "cell_type": "markdown",
   "id": "9494de91",
   "metadata": {},
   "source": [
    "#### Root Mean Square Error (RMSE)"
   ]
  },
  {
   "cell_type": "code",
   "execution_count": 94,
   "id": "ee32b9c8",
   "metadata": {},
   "outputs": [],
   "source": [
    "lr_neg_rmse = cross_validate(lr_grid_cv.best_estimator_, X_train, y_train, \n",
    "                            scoring='neg_root_mean_squared_error', cv=5)"
   ]
  },
  {
   "cell_type": "code",
   "execution_count": 95,
   "id": "d1f8a103",
   "metadata": {},
   "outputs": [
    {
     "data": {
      "text/plain": [
       "(5.622299466832015, 0.3540501170234507)"
      ]
     },
     "execution_count": 95,
     "metadata": {},
     "output_type": "execute_result"
    }
   ],
   "source": [
    "#Training set CV mean and std\n",
    "lr_rmse_mean = np.mean(-1 * lr_neg_rmse['test_score'])\n",
    "lr_rmse_std = np.std(-1 * lr_neg_rmse['test_score'])\n",
    "RMSE_LR_train = lr_rmse_mean, lr_rmse_std\n",
    "RMSE_LR_train"
   ]
  },
  {
   "cell_type": "code",
   "execution_count": 96,
   "id": "b5e946fc",
   "metadata": {},
   "outputs": [
    {
     "data": {
      "text/plain": [
       "5.565105208542743"
      ]
     },
     "execution_count": 96,
     "metadata": {},
     "output_type": "execute_result"
    }
   ],
   "source": [
    "# Test set mean\n",
    "RMSE_LR_test = np.sqrt(mean_squared_error(y_test, lr_grid_cv.best_estimator_.predict(X_test)))\n",
    "RMSE_LR_test"
   ]
  },
  {
   "cell_type": "markdown",
   "id": "71ebba62",
   "metadata": {},
   "source": [
    "### Best Linear Model Feature Importance"
   ]
  },
  {
   "cell_type": "code",
   "execution_count": 97,
   "id": "2ca58e5b",
   "metadata": {},
   "outputs": [
    {
     "data": {
      "image/png": "[encoded data removed]",
      "text/plain": [
       "<Figure size 720x360 with 1 Axes>"
      ]
     },
     "metadata": {
      "needs_background": "light"
     },
     "output_type": "display_data"
    }
   ],
   "source": [
    "#Plots a barplot of the linear regressor feature importances,\n",
    "#assigning the `feature_importances_` attribute of \n",
    "#`lv_grid_cv.best_estimator_.named_steps.linearregression` to the name `imps` to then\n",
    "#create a pandas Series object of the feature importances, with the index given by the\n",
    "#training data column names, sorting the values in descending order\n",
    "selected = lr_grid_cv.best_estimator_.named_steps.selectkbest.get_support()\n",
    "plt.subplots(figsize=(10, 5))\n",
    "imps = lr_grid_cv.best_estimator_.named_steps.linearregression.coef_\n",
    "lr_feat_imps = pd.Series(imps, index=X_train.columns[selected]).sort_values(ascending=False)\n",
    "lr_feat_imps.plot(kind='bar')\n",
    "plt.xlabel('features')\n",
    "plt.ylabel('importance')\n",
    "plt.title('Best ranking differential features only linear regressor feature importances');"
   ]
  },
  {
   "cell_type": "markdown",
   "id": "bd62b1f4",
   "metadata": {},
   "source": [
    "### Save Best Linear Model Object From Pipeline"
   ]
  },
  {
   "cell_type": "code",
   "execution_count": null,
   "id": "50ff1c18",
   "metadata": {},
   "outputs": [],
   "source": [
    "# save the best linear model\n",
    "# best_model = lr_grid_cv.best_estimator_\n",
    "# best_model.version = '1.0'\n",
    "# best_model.pandas_version = pd.__version__\n",
    "# best_model.numpy_version = np.__version__\n",
    "# best_model.sklearn_version = sklearn_version\n",
    "# best_model.X_columns = [col for col in X_train.columns]\n",
    "# best_model.build_datetime = datetime.datetime.now()\n",
    "\n",
    "# modelpath = '../models'\n",
    "# save_file(best_model, 'IWP_C_linearmodel_hard.pkl', modelpath)"
   ]
  },
  {
   "cell_type": "markdown",
   "id": "895beec2",
   "metadata": {},
   "source": [
    "### Save Prediction Metrics from IWP (Closing) Linear Regression Models"
   ]
  },
  {
   "cell_type": "code",
   "execution_count": null,
   "id": "14299194",
   "metadata": {},
   "outputs": [],
   "source": [
    "# save other data for model comparisons in machine learning model stage\n",
    "# comp_data_from4_IWP_C = (MAE_LR_train, MAE_LR_test, MSE_LR_train, MSE_LR_test, RMSE_LR_train, RMSE_LR_test)\n",
    "# with open('../data/comp_data_from4_IWP_C_hard.pickle', 'wb') as f:\n",
    "#     pickle.dump(comp_data_from4_IWP_C, f)"
   ]
  },
  {
   "cell_type": "markdown",
   "id": "9eac7ad0",
   "metadata": {},
   "source": [
    "## Benchmark Linear Model Based on Closing Line Data (Pinnacle Sports Only)"
   ]
  },
  {
   "cell_type": "code",
   "execution_count": null,
   "id": "9f5135b9",
   "metadata": {},
   "outputs": [],
   "source": [
    "len(df_model3) * .75, len(df_model3) * .25"
   ]
  },
  {
   "cell_type": "code",
   "execution_count": null,
   "id": "7345ff04",
   "metadata": {},
   "outputs": [],
   "source": [
    "X_train, X_test, y_train, y_test = train_test_split(df_model3.drop(columns='p_tot_pts_won%'), \n",
    "                                                    df_model3[\"p_tot_pts_won%\"], test_size=0.25, \n",
    "                                                    random_state=47)"
   ]
  },
  {
   "cell_type": "code",
   "execution_count": null,
   "id": "7619f7e5",
   "metadata": {},
   "outputs": [],
   "source": [
    "y_train.shape, y_test.shape"
   ]
  },
  {
   "cell_type": "code",
   "execution_count": null,
   "id": "f87b0274",
   "metadata": {},
   "outputs": [],
   "source": [
    "y_train"
   ]
  },
  {
   "cell_type": "code",
   "execution_count": null,
   "id": "a3702907",
   "metadata": {},
   "outputs": [],
   "source": [
    "X_train.shape, X_test.shape"
   ]
  },
  {
   "cell_type": "code",
   "execution_count": null,
   "id": "311dd61d",
   "metadata": {},
   "outputs": [],
   "source": [
    "y_train"
   ]
  },
  {
   "cell_type": "code",
   "execution_count": null,
   "id": "2c5defbc",
   "metadata": {},
   "outputs": [],
   "source": [
    "X_train.shape, X_test.shape"
   ]
  },
  {
   "cell_type": "code",
   "execution_count": null,
   "id": "a2374f84",
   "metadata": {},
   "outputs": [],
   "source": [
    "X_train.info()"
   ]
  },
  {
   "cell_type": "code",
   "execution_count": null,
   "id": "1977f508",
   "metadata": {},
   "outputs": [],
   "source": [
    "lr_pipe = make_pipeline(\n",
    "    SimpleImputer(strategy='median'), \n",
    "    StandardScaler(),\n",
    "    SelectKBest(f_regression),\n",
    "    LinearRegression()\n",
    ")"
   ]
  },
  {
   "cell_type": "code",
   "execution_count": null,
   "id": "d27cdbea",
   "metadata": {},
   "outputs": [],
   "source": [
    "#Dict of available parameters for linear regression pipe\n",
    "lr_pipe.get_params().keys()"
   ]
  },
  {
   "cell_type": "code",
   "execution_count": null,
   "id": "552a9ec2",
   "metadata": {},
   "outputs": [],
   "source": [
    "#Define search grid parameters\n",
    "k = [k+1 for k in range(len(X_train.columns))]\n",
    "\n",
    "grid_params = {\n",
    "    'standardscaler': [StandardScaler(), None],\n",
    "    'simpleimputer__strategy': ['mean', 'median'],\n",
    "    'selectkbest__k': k\n",
    "}"
   ]
  },
  {
   "cell_type": "code",
   "execution_count": null,
   "id": "a978e8d2",
   "metadata": {},
   "outputs": [],
   "source": [
    "#Call `GridSearchCV` with linear regression pipeline, passing in the above `grid_params`\n",
    "#dict for parameters to evaluate with 5-fold cross-validation\n",
    "lr_grid_cv = GridSearchCV(lr_pipe, param_grid=grid_params, cv=5)"
   ]
  },
  {
   "cell_type": "code",
   "execution_count": null,
   "id": "93b25711",
   "metadata": {},
   "outputs": [],
   "source": [
    "#Conduct grid search for this IWP-restricted (Pinnacle only closing lines) model. \n",
    "lr_grid_cv.fit(X_train, y_train)"
   ]
  },
  {
   "cell_type": "code",
   "execution_count": null,
   "id": "c9a5f375",
   "metadata": {},
   "outputs": [],
   "source": [
    "#Best params from grid search for this IWP-restricted (Pinnacle only closing lines) model. \n",
    "lr_grid_cv.best_params_"
   ]
  },
  {
   "cell_type": "code",
   "execution_count": null,
   "id": "4df701e6",
   "metadata": {},
   "outputs": [],
   "source": [
    "score_mean = lr_grid_cv.cv_results_['mean_test_score']\n",
    "score_std = lr_grid_cv.cv_results_['std_test_score']\n",
    "cv_k = [k for k in lr_grid_cv.cv_results_['param_selectkbest__k']]\n",
    "\n",
    "best_k = lr_grid_cv.best_params_['selectkbest__k']\n",
    "plt.subplots(figsize=(10, 5))\n",
    "plt.errorbar(cv_k, score_mean, yerr=score_std)\n",
    "plt.axvline(x=best_k, c='r', ls='--', alpha=.5)\n",
    "plt.xlabel('k')\n",
    "plt.ylabel('CV score (r-squared)')\n",
    "plt.title('Pipeline mean CV score (error bars +/- 1sd)');"
   ]
  },
  {
   "cell_type": "markdown",
   "id": "1476cdb2",
   "metadata": {},
   "source": [
    "### Linear Model From IWP (Pinnacle Closing Lines) Features Performance Metrics"
   ]
  },
  {
   "cell_type": "markdown",
   "id": "7bd7fe6a",
   "metadata": {},
   "source": [
    "#### R-squared (COD)"
   ]
  },
  {
   "cell_type": "code",
   "execution_count": null,
   "id": "10f32d55",
   "metadata": {},
   "outputs": [],
   "source": [
    "#Cross-validation defaults to R^2 metric for scoring regression\n",
    "lr_best_cv_results = cross_validate(lr_grid_cv.best_estimator_, X_train, y_train, cv=5)\n",
    "lr_best_scores = lr_best_cv_results['test_score']\n",
    "lr_best_scores"
   ]
  },
  {
   "cell_type": "code",
   "execution_count": null,
   "id": "4c44c2df",
   "metadata": {},
   "outputs": [],
   "source": [
    "#Training set CV mean and std\n",
    "np.mean(lr_best_scores), np.std(lr_best_scores)"
   ]
  },
  {
   "cell_type": "markdown",
   "id": "92a26ae4",
   "metadata": {},
   "source": [
    "#### Mean Absolute Error (MAE)"
   ]
  },
  {
   "cell_type": "code",
   "execution_count": null,
   "id": "d0e4d275",
   "metadata": {},
   "outputs": [],
   "source": [
    "lr_neg_mae = cross_validate(lr_grid_cv.best_estimator_, X_train, y_train, \n",
    "                            scoring='neg_mean_absolute_error', cv=5, n_jobs=-1)"
   ]
  },
  {
   "cell_type": "code",
   "execution_count": null,
   "id": "51a4f9d8",
   "metadata": {},
   "outputs": [],
   "source": [
    "# Training set MAE and STD \n",
    "lr_mae_mean = np.mean(-1 * lr_neg_mae['test_score'])\n",
    "lr_mae_std = np.std(-1 * lr_neg_mae['test_score'])\n",
    "MAE_LR_train = lr_mae_mean, lr_mae_std\n",
    "MAE_LR_train"
   ]
  },
  {
   "cell_type": "code",
   "execution_count": null,
   "id": "1b70765c",
   "metadata": {},
   "outputs": [],
   "source": [
    "# Test set mean\n",
    "MAE_LR_test = mean_absolute_error(y_test, lr_grid_cv.best_estimator_.predict(X_test))\n",
    "MAE_LR_test"
   ]
  },
  {
   "cell_type": "markdown",
   "id": "4bfdc218",
   "metadata": {},
   "source": [
    "#### Mean Squared Error (MSE)"
   ]
  },
  {
   "cell_type": "code",
   "execution_count": null,
   "id": "eda6e23f",
   "metadata": {},
   "outputs": [],
   "source": [
    "lr_neg_mse = cross_validate(lr_grid_cv.best_estimator_, X_train, y_train, \n",
    "                            scoring='neg_mean_squared_error', cv=5)"
   ]
  },
  {
   "cell_type": "code",
   "execution_count": null,
   "id": "12ac5260",
   "metadata": {},
   "outputs": [],
   "source": [
    "# Training set MAE and STD \n",
    "lr_mae_mean = np.mean(-1 * lr_neg_mae['test_score'])\n",
    "lr_mae_std = np.std(-1 * lr_neg_mae['test_score'])\n",
    "MAE_LR_train = lr_mae_mean, lr_mae_std\n",
    "MAE_LR_train"
   ]
  },
  {
   "cell_type": "code",
   "execution_count": null,
   "id": "94a27d76",
   "metadata": {},
   "outputs": [],
   "source": [
    "# Test set mean\n",
    "MSE_LR_test = mean_squared_error(y_test, lr_grid_cv.best_estimator_.predict(X_test))\n",
    "MSE_LR_test"
   ]
  },
  {
   "cell_type": "markdown",
   "id": "094049c0",
   "metadata": {},
   "source": [
    "#### Root Mean Square Error (RMSE)"
   ]
  },
  {
   "cell_type": "code",
   "execution_count": null,
   "id": "d42ced03",
   "metadata": {},
   "outputs": [],
   "source": [
    "lr_neg_rmse = cross_validate(lr_grid_cv.best_estimator_, X_train, y_train, \n",
    "                            scoring='neg_root_mean_squared_error', cv=5)"
   ]
  },
  {
   "cell_type": "code",
   "execution_count": null,
   "id": "80fc3b92",
   "metadata": {},
   "outputs": [],
   "source": [
    "#Training set CV mean and std\n",
    "lr_rmse_mean = np.mean(-1 * lr_neg_rmse['test_score'])\n",
    "lr_rmse_std = np.std(-1 * lr_neg_rmse['test_score'])\n",
    "RMSE_LR_train = lr_rmse_mean, lr_rmse_std\n",
    "RMSE_LR_train"
   ]
  },
  {
   "cell_type": "code",
   "execution_count": null,
   "id": "5c223215",
   "metadata": {},
   "outputs": [],
   "source": [
    "# Test set mean\n",
    "RMSE_LR_test = np.sqrt(mean_squared_error(y_test, lr_grid_cv.best_estimator_.predict(X_test)))\n",
    "RMSE_LR_test"
   ]
  },
  {
   "cell_type": "markdown",
   "id": "9f689802",
   "metadata": {},
   "source": [
    "### Best Linear Model Feature Importance"
   ]
  },
  {
   "cell_type": "code",
   "execution_count": null,
   "id": "7f111c7e",
   "metadata": {},
   "outputs": [],
   "source": [
    "#Plots a barplot of the linear regressor feature importances,\n",
    "#assigning the `feature_importances_` attribute of \n",
    "#`lv_grid_cv.best_estimator_.named_steps.linearregression` to the name `imps` to then\n",
    "#create a pandas Series object of the feature importances, with the index given by the\n",
    "#training data column names, sorting the values in descending order\n",
    "selected = lr_grid_cv.best_estimator_.named_steps.selectkbest.get_support()\n",
    "plt.subplots(figsize=(10, 5))\n",
    "imps = lr_grid_cv.best_estimator_.named_steps.linearregression.coef_\n",
    "lr_feat_imps = pd.Series(imps, index=X_train.columns[selected]).sort_values(ascending=False)\n",
    "lr_feat_imps.plot(kind='bar')\n",
    "plt.xlabel('features')\n",
    "plt.ylabel('importance')\n",
    "plt.title('Best ranking differential features only linear regressor feature importances');"
   ]
  },
  {
   "cell_type": "markdown",
   "id": "07252c1d",
   "metadata": {},
   "source": [
    "### Save Best Linear Model Object From Pipeline"
   ]
  },
  {
   "cell_type": "code",
   "execution_count": null,
   "id": "122b4c2f",
   "metadata": {},
   "outputs": [],
   "source": [
    "# save the best linear model\n",
    "# best_model = lr_grid_cv.best_estimator_\n",
    "# best_model.version = '1.0'\n",
    "# best_model.pandas_version = pd.__version__\n",
    "# best_model.numpy_version = np.__version__\n",
    "# best_model.sklearn_version = sklearn_version\n",
    "# best_model.X_columns = [col for col in X_train.columns]\n",
    "# best_model.build_datetime = datetime.datetime.now()\n",
    "\n",
    "# modelpath = '../models'\n",
    "# save_file(best_model, 'IWP_PINNY_C_linearmodel_hard.pkl', modelpath)"
   ]
  },
  {
   "cell_type": "code",
   "execution_count": null,
   "id": "3dce349c",
   "metadata": {},
   "outputs": [],
   "source": [
    "# save other data for model comparisons in machine learning model stage\n",
    "# comp_data_from4_IWP_PINNY_C = (MAE_LR_train, MAE_LR_test, MSE_LR_train, MSE_LR_test, RMSE_LR_train, RMSE_LR_test)\n",
    "# with open('../data/comp_data_from4_IWP_PINNY_C_hard.pickle', 'wb') as f:\n",
    "#     pickle.dump(comp_data_from4_IWP_PINNY_C, f)"
   ]
  },
  {
   "cell_type": "markdown",
   "id": "a9d71b8b",
   "metadata": {},
   "source": [
    "## Benchmark Linear Model Based on Opening Line Data (Pinnacle Sports Only)"
   ]
  },
  {
   "cell_type": "markdown",
   "id": "01ff75fd",
   "metadata": {},
   "source": [
    "### Train Test Split"
   ]
  },
  {
   "cell_type": "code",
   "execution_count": null,
   "id": "4a27150a",
   "metadata": {},
   "outputs": [],
   "source": [
    "len(df_model4) * .75, len(df_model4) * .25"
   ]
  },
  {
   "cell_type": "code",
   "execution_count": null,
   "id": "9a2285c0",
   "metadata": {},
   "outputs": [],
   "source": [
    "X_train, X_test, y_train, y_test = train_test_split(df_model4.drop(columns='p_tot_pts_won%'), \n",
    "                                                    df_model4[\"p_tot_pts_won%\"], test_size=0.25, \n",
    "                                                    random_state=47)"
   ]
  },
  {
   "cell_type": "code",
   "execution_count": null,
   "id": "b9c335a4",
   "metadata": {},
   "outputs": [],
   "source": [
    "y_train.shape, y_test.shape"
   ]
  },
  {
   "cell_type": "code",
   "execution_count": null,
   "id": "92a21e94",
   "metadata": {},
   "outputs": [],
   "source": [
    "y_train"
   ]
  },
  {
   "cell_type": "code",
   "execution_count": null,
   "id": "80798275",
   "metadata": {},
   "outputs": [],
   "source": [
    "X_train.shape, X_test.shape"
   ]
  },
  {
   "cell_type": "code",
   "execution_count": null,
   "id": "97845de9",
   "metadata": {},
   "outputs": [],
   "source": [
    "X_train.info()"
   ]
  },
  {
   "cell_type": "code",
   "execution_count": null,
   "id": "d46a196e",
   "metadata": {},
   "outputs": [],
   "source": [
    "lr_pipe = make_pipeline(\n",
    "    SimpleImputer(strategy='median'), \n",
    "    StandardScaler(),\n",
    "    SelectKBest(f_regression),\n",
    "    LinearRegression()\n",
    ")"
   ]
  },
  {
   "cell_type": "code",
   "execution_count": null,
   "id": "62bd07b7",
   "metadata": {},
   "outputs": [],
   "source": [
    "#Dict of available parameters for linear regression pipe\n",
    "lr_pipe.get_params().keys()"
   ]
  },
  {
   "cell_type": "code",
   "execution_count": null,
   "id": "a4af8708",
   "metadata": {},
   "outputs": [],
   "source": [
    "#Define search grid parameters\n",
    "k = [k+1 for k in range(len(X_train.columns))]\n",
    "\n",
    "grid_params = {\n",
    "    'standardscaler': [StandardScaler(), None],\n",
    "    'simpleimputer__strategy': ['mean', 'median'],\n",
    "    'selectkbest__k': k\n",
    "}"
   ]
  },
  {
   "cell_type": "code",
   "execution_count": null,
   "id": "bea7a4a4",
   "metadata": {},
   "outputs": [],
   "source": [
    "#Call `GridSearchCV` with linear regression pipeline, passing in the above `grid_params`\n",
    "#dict for parameters to evaluate with 5-fold cross-validation\n",
    "lr_grid_cv = GridSearchCV(lr_pipe, param_grid=grid_params, cv=5)"
   ]
  },
  {
   "cell_type": "code",
   "execution_count": null,
   "id": "11876838",
   "metadata": {},
   "outputs": [],
   "source": [
    "#Conduct grid search for this IWP-restricted (opening lines) model. \n",
    "lr_grid_cv.fit(X_train, y_train)"
   ]
  },
  {
   "cell_type": "code",
   "execution_count": null,
   "id": "6c53e0f4",
   "metadata": {},
   "outputs": [],
   "source": [
    "#Best params from grid search for this IWP-restricted model\n",
    "lr_grid_cv.best_params_"
   ]
  },
  {
   "cell_type": "code",
   "execution_count": null,
   "id": "9e4b28c9",
   "metadata": {},
   "outputs": [],
   "source": [
    "score_mean = lr_grid_cv.cv_results_['mean_test_score']\n",
    "score_std = lr_grid_cv.cv_results_['std_test_score']\n",
    "cv_k = [k for k in lr_grid_cv.cv_results_['param_selectkbest__k']]\n",
    "\n",
    "best_k = lr_grid_cv.best_params_['selectkbest__k']\n",
    "plt.subplots(figsize=(10, 5))\n",
    "plt.errorbar(cv_k, score_mean, yerr=score_std)\n",
    "plt.axvline(x=best_k, c='r', ls='--', alpha=.5)\n",
    "plt.xlabel('k')\n",
    "plt.ylabel('CV score (r-squared)')\n",
    "plt.title('Pipeline mean CV score (error bars +/- 1sd)');"
   ]
  },
  {
   "cell_type": "markdown",
   "id": "b7a298f9",
   "metadata": {},
   "source": [
    "### Linear Model From IWP (Pinnacle Opening Lines) Features Performance Metrics"
   ]
  },
  {
   "cell_type": "markdown",
   "id": "6f1fe533",
   "metadata": {},
   "source": [
    "#### R-squared (COD)"
   ]
  },
  {
   "cell_type": "code",
   "execution_count": null,
   "id": "ed7c03c0",
   "metadata": {},
   "outputs": [],
   "source": [
    "#Cross-validation defaults to R^2 metric for scoring regression\n",
    "lr_best_cv_results = cross_validate(lr_grid_cv.best_estimator_, X_train, y_train, cv=5)\n",
    "lr_best_scores = lr_best_cv_results['test_score']\n",
    "lr_best_scores"
   ]
  },
  {
   "cell_type": "code",
   "execution_count": null,
   "id": "4f2a1f06",
   "metadata": {},
   "outputs": [],
   "source": [
    "#Training set CV mean and std\n",
    "np.mean(lr_best_scores), np.std(lr_best_scores)"
   ]
  },
  {
   "cell_type": "markdown",
   "id": "c92972d2",
   "metadata": {},
   "source": [
    "#### Mean Absolute Error (MAE)"
   ]
  },
  {
   "cell_type": "code",
   "execution_count": null,
   "id": "546f6581",
   "metadata": {},
   "outputs": [],
   "source": [
    "lr_neg_mae = cross_validate(lr_grid_cv.best_estimator_, X_train, y_train, \n",
    "                            scoring='neg_mean_absolute_error', cv=5, n_jobs=-1)"
   ]
  },
  {
   "cell_type": "code",
   "execution_count": null,
   "id": "1748542b",
   "metadata": {},
   "outputs": [],
   "source": [
    "# Training set MAE and STD \n",
    "lr_mae_mean = np.mean(-1 * lr_neg_mae['test_score'])\n",
    "lr_mae_std = np.std(-1 * lr_neg_mae['test_score'])\n",
    "MAE_LR_train = lr_mae_mean, lr_mae_std\n",
    "MAE_LR_train"
   ]
  },
  {
   "cell_type": "code",
   "execution_count": null,
   "id": "f86b688e",
   "metadata": {},
   "outputs": [],
   "source": [
    "# Test set mean\n",
    "MAE_LR_test = mean_absolute_error(y_test, lr_grid_cv.best_estimator_.predict(X_test))\n",
    "MAE_LR_test"
   ]
  },
  {
   "cell_type": "markdown",
   "id": "bffb7657",
   "metadata": {},
   "source": [
    "#### Mean Squared Error (MSE)"
   ]
  },
  {
   "cell_type": "code",
   "execution_count": null,
   "id": "118e7b48",
   "metadata": {},
   "outputs": [],
   "source": [
    "lr_neg_mse = cross_validate(lr_grid_cv.best_estimator_, X_train, y_train, \n",
    "                            scoring='neg_mean_squared_error', cv=5)"
   ]
  },
  {
   "cell_type": "code",
   "execution_count": null,
   "id": "b2efad51",
   "metadata": {},
   "outputs": [],
   "source": [
    "#Training set CV mean and std\n",
    "lr_mse_mean = np.mean(-1 * lr_neg_mse['test_score'])\n",
    "lr_mse_std = np.std(-1 * lr_neg_mse['test_score'])\n",
    "MSE_LR_train = lr_mse_mean, lr_mse_std\n",
    "MSE_LR_train"
   ]
  },
  {
   "cell_type": "code",
   "execution_count": null,
   "id": "5def1437",
   "metadata": {},
   "outputs": [],
   "source": [
    "# Test set mean\n",
    "MSE_LR_test = mean_squared_error(y_test, lr_grid_cv.best_estimator_.predict(X_test))\n",
    "MSE_LR_test"
   ]
  },
  {
   "cell_type": "markdown",
   "id": "70753b1e",
   "metadata": {},
   "source": [
    "#### Root Mean Square Error (RMSE)"
   ]
  },
  {
   "cell_type": "code",
   "execution_count": null,
   "id": "3dc760e0",
   "metadata": {},
   "outputs": [],
   "source": [
    "lr_neg_rmse = cross_validate(lr_grid_cv.best_estimator_, X_train, y_train, \n",
    "                            scoring='neg_root_mean_squared_error', cv=5)"
   ]
  },
  {
   "cell_type": "code",
   "execution_count": null,
   "id": "5958ccf7",
   "metadata": {},
   "outputs": [],
   "source": [
    "#Training set CV mean and std\n",
    "lr_rmse_mean = np.mean(-1 * lr_neg_rmse['test_score'])\n",
    "lr_rmse_std = np.std(-1 * lr_neg_rmse['test_score'])\n",
    "RMSE_LR_train = lr_rmse_mean, lr_rmse_std\n",
    "RMSE_LR_train"
   ]
  },
  {
   "cell_type": "code",
   "execution_count": null,
   "id": "409c5024",
   "metadata": {},
   "outputs": [],
   "source": [
    "# Test set mean\n",
    "RMSE_LR_test = np.sqrt(mean_squared_error(y_test, lr_grid_cv.best_estimator_.predict(X_test)))\n",
    "RMSE_LR_test"
   ]
  },
  {
   "cell_type": "markdown",
   "id": "0ac5e149",
   "metadata": {},
   "source": [
    "### Best Linear Model Feature Importance"
   ]
  },
  {
   "cell_type": "code",
   "execution_count": null,
   "id": "40f05778",
   "metadata": {},
   "outputs": [],
   "source": [
    "#Plots a barplot of the linear regressor feature importances,\n",
    "#assigning the `feature_importances_` attribute of \n",
    "#`lv_grid_cv.best_estimator_.named_steps.linearregression` to the name `imps` to then\n",
    "#create a pandas Series object of the feature importances, with the index given by the\n",
    "#training data column names, sorting the values in descending order\n",
    "selected = lr_grid_cv.best_estimator_.named_steps.selectkbest.get_support()\n",
    "plt.subplots(figsize=(10, 5))\n",
    "imps = lr_grid_cv.best_estimator_.named_steps.linearregression.coef_\n",
    "lr_feat_imps = pd.Series(imps, index=X_train.columns[selected]).sort_values(ascending=False)\n",
    "lr_feat_imps.plot(kind='bar')\n",
    "plt.xlabel('features')\n",
    "plt.ylabel('importance')\n",
    "plt.title('Best ranking differential features only linear regressor feature importances');"
   ]
  },
  {
   "cell_type": "markdown",
   "id": "ed1265fa",
   "metadata": {},
   "source": [
    "### Save Best Linear Model Object From Pipeline"
   ]
  },
  {
   "cell_type": "code",
   "execution_count": null,
   "id": "8bced21a",
   "metadata": {},
   "outputs": [],
   "source": [
    "# save the best linear model\n",
    "# best_model = lr_grid_cv.best_estimator_\n",
    "# best_model.version = '1.0'\n",
    "# best_model.pandas_version = pd.__version__\n",
    "# best_model.numpy_version = np.__version__\n",
    "# best_model.sklearn_version = sklearn_version\n",
    "# best_model.X_columns = [col for col in X_train.columns]\n",
    "# best_model.build_datetime = datetime.datetime.now()\n",
    "\n",
    "# modelpath = '../models'\n",
    "# save_file(best_model, 'IWP_PINNY_O_linearmodel_hard.pkl', modelpath)"
   ]
  },
  {
   "cell_type": "code",
   "execution_count": null,
   "id": "63d738ae",
   "metadata": {},
   "outputs": [],
   "source": [
    "# save other data for model comparisons in machine learning model stage\n",
    "# comp_data_from4_IWP_PINNY_O = (MAE_LR_train, MAE_LR_test, MSE_LR_train, MSE_LR_test, RMSE_LR_train, RMSE_LR_test)\n",
    "# with open('../data/comp_data_from4_IWP_PINNY_O_hard.pickle', 'wb') as f:\n",
    "#     pickle.dump(comp_data_from4_IWP_PINNY_O, f)"
   ]
  },
  {
   "cell_type": "markdown",
   "id": "e8cd2562",
   "metadata": {},
   "source": [
    "### Conclusions\n",
    "\n",
    "Aggregate Closing Line Only\n",
    "\n",
    "All Matches\n",
    "* Linear Model Using IWPs from Aggregate Closing Lines: 5.72% (.09%) Train; 5.66% Test\n",
    "\n",
    "10% Threshold\n",
    "* Linear Model Using IWPs from Aggregate Closing Lines: 5.61% (.11%) Train; 5.89% Test\n",
    "\n",
    "7.5% Threshold\n",
    "* Linear Model Using IWPs from Aggregate Closing Lines: 5.65% (.14%) Train; 5.66% Test\n",
    "\n",
    "5% Threshold\n",
    "* Linear Model Using IWPs from Aggregate Closing Lines: 5.68% (.14%) Train; 5.52% Test\n",
    "\n",
    "2.5% Threshold\n",
    "* Linear Model Using IWPs from Aggregate Closing Lines: 5.65% (.22%) Train; 5.61% Test\n",
    "\n",
    "1.25% Threshold\n",
    "* Linear Model Using IWPs from Aggregate Closing Lines: 5.62% (.35%) Train; 5.56% Test"
   ]
  },
  {
   "cell_type": "code",
   "execution_count": null,
   "id": "42db6fa9",
   "metadata": {},
   "outputs": [],
   "source": []
  }
 ],
 "metadata": {
  "kernelspec": {
   "display_name": "Python 3",
   "language": "python",
   "name": "python3"
  },
  "language_info": {
   "codemirror_mode": {
    "name": "ipython",
    "version": 3
   },
   "file_extension": ".py",
   "mimetype": "text/x-python",
   "name": "python",
   "nbconvert_exporter": "python",
   "pygments_lexer": "ipython3",
   "version": "3.8.8"
  }
 },
 "nbformat": 4,
 "nbformat_minor": 5
}
